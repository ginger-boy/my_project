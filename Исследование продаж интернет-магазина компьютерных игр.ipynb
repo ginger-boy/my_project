{
 "cells": [
  {
   "cell_type": "markdown",
   "metadata": {
    "toc": true
   },
   "source": [
    "<h1>СОДЕРЖАНИЕ<span class=\"tocSkip\"></span></h1>\n",
    "<div class=\"toc\"><ul class=\"toc-item\"><li><span><a href=\"#ОПИСАНИЕ-ПРОЕКТА\" data-toc-modified-id=\"ОПИСАНИЕ-ПРОЕКТА-1\"><span class=\"toc-item-num\">1&nbsp;&nbsp;</span>ОПИСАНИЕ ПРОЕКТА</a></span></li><li><span><a href=\"#ОБЩАЯ-ИНФОРМАЦИЯ\" data-toc-modified-id=\"ОБЩАЯ-ИНФОРМАЦИЯ-2\"><span class=\"toc-item-num\">2&nbsp;&nbsp;</span>ОБЩАЯ ИНФОРМАЦИЯ</a></span></li><li><span><a href=\"#ПОДГОТОВКА-ДАННЫХ\" data-toc-modified-id=\"ПОДГОТОВКА-ДАННЫХ-3\"><span class=\"toc-item-num\">3&nbsp;&nbsp;</span>ПОДГОТОВКА ДАННЫХ</a></span><ul class=\"toc-item\"><li><span><a href=\"#РЕГИСТР-И-ТИПЫ-ДАННЫХ\" data-toc-modified-id=\"РЕГИСТР-И-ТИПЫ-ДАННЫХ-3.1\"><span class=\"toc-item-num\">3.1&nbsp;&nbsp;</span>РЕГИСТР И ТИПЫ ДАННЫХ</a></span></li><li><span><a href=\"#ПРОПУСКИ\" data-toc-modified-id=\"ПРОПУСКИ-3.2\"><span class=\"toc-item-num\">3.2&nbsp;&nbsp;</span>ПРОПУСКИ</a></span></li><li><span><a href=\"#ДУБЛИКАТЫ\" data-toc-modified-id=\"ДУБЛИКАТЫ-3.3\"><span class=\"toc-item-num\">3.3&nbsp;&nbsp;</span>ДУБЛИКАТЫ</a></span></li><li><span><a href=\"#ВЫВОД\" data-toc-modified-id=\"ВЫВОД-3.4\"><span class=\"toc-item-num\">3.4&nbsp;&nbsp;</span>ВЫВОД</a></span></li></ul></li><li><span><a href=\"#АНАЛИЗ-ДАННЫХ\" data-toc-modified-id=\"АНАЛИЗ-ДАННЫХ-4\"><span class=\"toc-item-num\">4&nbsp;&nbsp;</span>АНАЛИЗ ДАННЫХ</a></span><ul class=\"toc-item\"><li><span><a href=\"#РАСПРЕДЕЛЕНИЕ-ПРОДАЖ-ПО-ГОДАМ\" data-toc-modified-id=\"РАСПРЕДЕЛЕНИЕ-ПРОДАЖ-ПО-ГОДАМ-4.1\"><span class=\"toc-item-num\">4.1&nbsp;&nbsp;</span>РАСПРЕДЕЛЕНИЕ ПРОДАЖ ПО ГОДАМ</a></span></li><li><span><a href=\"#РАСПРЕДЕЛЕНИЕ-ПРОДАЖ-ПО-ПЛАТФОРМАМ\" data-toc-modified-id=\"РАСПРЕДЕЛЕНИЕ-ПРОДАЖ-ПО-ПЛАТФОРМАМ-4.2\"><span class=\"toc-item-num\">4.2&nbsp;&nbsp;</span>РАСПРЕДЕЛЕНИЕ ПРОДАЖ ПО ПЛАТФОРМАМ</a></span></li><li><span><a href=\"#РАСПРЕДЕЛЕНИЕ-ПРОДАЖ-ТОП-10-ПЛАТФОРМ-ПО-ГОДАМ\" data-toc-modified-id=\"РАСПРЕДЕЛЕНИЕ-ПРОДАЖ-ТОП-10-ПЛАТФОРМ-ПО-ГОДАМ-4.3\"><span class=\"toc-item-num\">4.3&nbsp;&nbsp;</span>РАСПРЕДЕЛЕНИЕ ПРОДАЖ ТОП-10 ПЛАТФОРМ ПО ГОДАМ</a></span></li><li><span><a href=\"#ТОП-ПРОДАЖ,-РАСТУЩИЕ-ПРОДАЖИ,-ПАДАЮЩИЕ-ПРОДАЖИ\" data-toc-modified-id=\"ТОП-ПРОДАЖ,-РАСТУЩИЕ-ПРОДАЖИ,-ПАДАЮЩИЕ-ПРОДАЖИ-4.4\"><span class=\"toc-item-num\">4.4&nbsp;&nbsp;</span>ТОП ПРОДАЖ, РАСТУЩИЕ ПРОДАЖИ, ПАДАЮЩИЕ ПРОДАЖИ</a></span></li><li><span><a href=\"#КОРЕЛЛЯЦИЯ\" data-toc-modified-id=\"КОРЕЛЛЯЦИЯ-4.5\"><span class=\"toc-item-num\">4.5&nbsp;&nbsp;</span>КОРЕЛЛЯЦИЯ</a></span><ul class=\"toc-item\"><li><span><a href=\"#PS\" data-toc-modified-id=\"PS-4.5.1\"><span class=\"toc-item-num\">4.5.1&nbsp;&nbsp;</span>PS</a></span></li><li><span><a href=\"#X360\" data-toc-modified-id=\"X360-4.5.2\"><span class=\"toc-item-num\">4.5.2&nbsp;&nbsp;</span>X360</a></span></li><li><span><a href=\"#DS\" data-toc-modified-id=\"DS-4.5.3\"><span class=\"toc-item-num\">4.5.3&nbsp;&nbsp;</span>DS</a></span></li></ul></li><li><span><a href=\"#РАСПРЕДЕЛЕНИЕ-ПРОДАЖ-ПО-ЖАНРАМ\" data-toc-modified-id=\"РАСПРЕДЕЛЕНИЕ-ПРОДАЖ-ПО-ЖАНРАМ-4.6\"><span class=\"toc-item-num\">4.6&nbsp;&nbsp;</span>РАСПРЕДЕЛЕНИЕ ПРОДАЖ ПО ЖАНРАМ</a></span></li><li><span><a href=\"#ВЫВОД\" data-toc-modified-id=\"ВЫВОД-4.7\"><span class=\"toc-item-num\">4.7&nbsp;&nbsp;</span>ВЫВОД</a></span></li></ul></li><li><span><a href=\"#ПОРТРЕТ-ПОЛЬЗОВАТЕЛЯ-ПО-РЕГИОНАМ\" data-toc-modified-id=\"ПОРТРЕТ-ПОЛЬЗОВАТЕЛЯ-ПО-РЕГИОНАМ-5\"><span class=\"toc-item-num\">5&nbsp;&nbsp;</span>ПОРТРЕТ ПОЛЬЗОВАТЕЛЯ ПО РЕГИОНАМ</a></span><ul class=\"toc-item\"><li><span><a href=\"#ТОП-5-ПЛАТФОРМ-ПО-РЕГИОНАМ-NA/EU/JP\" data-toc-modified-id=\"ТОП-5-ПЛАТФОРМ-ПО-РЕГИОНАМ-NA/EU/JP-5.1\"><span class=\"toc-item-num\">5.1&nbsp;&nbsp;</span>ТОП 5 ПЛАТФОРМ ПО РЕГИОНАМ NA/EU/JP</a></span></li><li><span><a href=\"#ТОП-5-ЖАНРОВ-ПО-РЕГИОНАМ-NA/EU/JP\" data-toc-modified-id=\"ТОП-5-ЖАНРОВ-ПО-РЕГИОНАМ-NA/EU/JP-5.2\"><span class=\"toc-item-num\">5.2&nbsp;&nbsp;</span>ТОП 5 ЖАНРОВ ПО РЕГИОНАМ NA/EU/JP</a></span></li><li><span><a href=\"#Рейтинг-ESRB\" data-toc-modified-id=\"Рейтинг-ESRB-5.3\"><span class=\"toc-item-num\">5.3&nbsp;&nbsp;</span>Рейтинг ESRB</a></span></li><li><span><a href=\"#ВЫВОД\" data-toc-modified-id=\"ВЫВОД-5.4\"><span class=\"toc-item-num\">5.4&nbsp;&nbsp;</span>ВЫВОД</a></span></li></ul></li><li><span><a href=\"#ПРОВЕРКА-ГИПОТЕЗ\" data-toc-modified-id=\"ПРОВЕРКА-ГИПОТЕЗ-6\"><span class=\"toc-item-num\">6&nbsp;&nbsp;</span>ПРОВЕРКА ГИПОТЕЗ</a></span><ul class=\"toc-item\"><li><span><a href=\"#Xbox-One-и-PC\" data-toc-modified-id=\"Xbox-One-и-PC-6.1\"><span class=\"toc-item-num\">6.1&nbsp;&nbsp;</span>Xbox One и PC</a></span></li><li><span><a href=\"#Action-и-Sports\" data-toc-modified-id=\"Action-и-Sports-6.2\"><span class=\"toc-item-num\">6.2&nbsp;&nbsp;</span>Action и Sports</a></span></li><li><span><a href=\"#ВЫВОД\" data-toc-modified-id=\"ВЫВОД-6.3\"><span class=\"toc-item-num\">6.3&nbsp;&nbsp;</span>ВЫВОД</a></span></li></ul></li><li><span><a href=\"#ВЫВОД\" data-toc-modified-id=\"ВЫВОД-7\"><span class=\"toc-item-num\">7&nbsp;&nbsp;</span>ВЫВОД</a></span></li></ul></div>"
   ]
  },
  {
   "cell_type": "markdown",
   "metadata": {},
   "source": [
    "## ОПИСАНИЕ ПРОЕКТА\n",
    "\n",
    "Вы работаете в интернет-магазине «Стримчик», который продаёт по всему миру компьютерные игры. Из открытых источников доступны исторические данные о продажах игр, оценки пользователей и экспертов, жанры и платформы (например, Xbox или PlayStation). **Вам нужно выявить определяющие успешность игры закономерности.** Это позволит сделать ставку на потенциально популярный продукт и спланировать рекламные кампании.\n",
    "\n",
    "Перед вами данные до 2016 года. \n",
    "Представим, что сейчас декабрь 2016 г., и вы планируете кампанию на 2017-й. \n",
    "Нужно отработать принцип работы с данными. Неважно, прогнозируете ли вы продажи на 2017 год по данным 2016-го или же 2027-й — по данным 2026 года.\n",
    "\n",
    "В наборе данных попадается аббревиатура ESRB (Entertainment Software Rating Board) — это ассоциация, определяющая возрастной рейтинг компьютерных игр. \n",
    "ESRB оценивает игровой контент и присваивает ему подходящую возрастную категорию, например, «Для взрослых», «Для детей младшего возраста» или «Для подростков»."
   ]
  },
  {
   "cell_type": "markdown",
   "metadata": {},
   "source": [
    "----"
   ]
  },
  {
   "cell_type": "markdown",
   "metadata": {},
   "source": [
    "## ОБЩАЯ ИНФОРМАЦИЯ"
   ]
  },
  {
   "cell_type": "code",
   "execution_count": 1,
   "metadata": {},
   "outputs": [],
   "source": [
    "#импортируем словари для работы над проектом\n",
    "import pandas as pd\n",
    "import numpy as np \n",
    "import random\n",
    "from matplotlib import pyplot as plt\n",
    "from math import factorial\n",
    "from scipy import stats as st\n",
    "import math as mt\n",
    "import seaborn as sns"
   ]
  },
  {
   "cell_type": "code",
   "execution_count": 2,
   "metadata": {
    "scrolled": true
   },
   "outputs": [
    {
     "data": {
      "text/html": [
       "<div>\n",
       "<style scoped>\n",
       "    .dataframe tbody tr th:only-of-type {\n",
       "        vertical-align: middle;\n",
       "    }\n",
       "\n",
       "    .dataframe tbody tr th {\n",
       "        vertical-align: top;\n",
       "    }\n",
       "\n",
       "    .dataframe thead th {\n",
       "        text-align: right;\n",
       "    }\n",
       "</style>\n",
       "<table border=\"1\" class=\"dataframe\">\n",
       "  <thead>\n",
       "    <tr style=\"text-align: right;\">\n",
       "      <th></th>\n",
       "      <th>Name</th>\n",
       "      <th>Platform</th>\n",
       "      <th>Year_of_Release</th>\n",
       "      <th>Genre</th>\n",
       "      <th>NA_sales</th>\n",
       "      <th>EU_sales</th>\n",
       "      <th>JP_sales</th>\n",
       "      <th>Other_sales</th>\n",
       "      <th>Critic_Score</th>\n",
       "      <th>User_Score</th>\n",
       "      <th>Rating</th>\n",
       "    </tr>\n",
       "  </thead>\n",
       "  <tbody>\n",
       "    <tr>\n",
       "      <td>0</td>\n",
       "      <td>Wii Sports</td>\n",
       "      <td>Wii</td>\n",
       "      <td>2006.0</td>\n",
       "      <td>Sports</td>\n",
       "      <td>41.36</td>\n",
       "      <td>28.96</td>\n",
       "      <td>3.77</td>\n",
       "      <td>8.45</td>\n",
       "      <td>76.0</td>\n",
       "      <td>8</td>\n",
       "      <td>E</td>\n",
       "    </tr>\n",
       "    <tr>\n",
       "      <td>1</td>\n",
       "      <td>Super Mario Bros.</td>\n",
       "      <td>NES</td>\n",
       "      <td>1985.0</td>\n",
       "      <td>Platform</td>\n",
       "      <td>29.08</td>\n",
       "      <td>3.58</td>\n",
       "      <td>6.81</td>\n",
       "      <td>0.77</td>\n",
       "      <td>NaN</td>\n",
       "      <td>NaN</td>\n",
       "      <td>NaN</td>\n",
       "    </tr>\n",
       "    <tr>\n",
       "      <td>2</td>\n",
       "      <td>Mario Kart Wii</td>\n",
       "      <td>Wii</td>\n",
       "      <td>2008.0</td>\n",
       "      <td>Racing</td>\n",
       "      <td>15.68</td>\n",
       "      <td>12.76</td>\n",
       "      <td>3.79</td>\n",
       "      <td>3.29</td>\n",
       "      <td>82.0</td>\n",
       "      <td>8.3</td>\n",
       "      <td>E</td>\n",
       "    </tr>\n",
       "    <tr>\n",
       "      <td>3</td>\n",
       "      <td>Wii Sports Resort</td>\n",
       "      <td>Wii</td>\n",
       "      <td>2009.0</td>\n",
       "      <td>Sports</td>\n",
       "      <td>15.61</td>\n",
       "      <td>10.93</td>\n",
       "      <td>3.28</td>\n",
       "      <td>2.95</td>\n",
       "      <td>80.0</td>\n",
       "      <td>8</td>\n",
       "      <td>E</td>\n",
       "    </tr>\n",
       "    <tr>\n",
       "      <td>4</td>\n",
       "      <td>Pokemon Red/Pokemon Blue</td>\n",
       "      <td>GB</td>\n",
       "      <td>1996.0</td>\n",
       "      <td>Role-Playing</td>\n",
       "      <td>11.27</td>\n",
       "      <td>8.89</td>\n",
       "      <td>10.22</td>\n",
       "      <td>1.00</td>\n",
       "      <td>NaN</td>\n",
       "      <td>NaN</td>\n",
       "      <td>NaN</td>\n",
       "    </tr>\n",
       "  </tbody>\n",
       "</table>\n",
       "</div>"
      ],
      "text/plain": [
       "                       Name Platform  Year_of_Release         Genre  NA_sales  \\\n",
       "0                Wii Sports      Wii           2006.0        Sports     41.36   \n",
       "1         Super Mario Bros.      NES           1985.0      Platform     29.08   \n",
       "2            Mario Kart Wii      Wii           2008.0        Racing     15.68   \n",
       "3         Wii Sports Resort      Wii           2009.0        Sports     15.61   \n",
       "4  Pokemon Red/Pokemon Blue       GB           1996.0  Role-Playing     11.27   \n",
       "\n",
       "   EU_sales  JP_sales  Other_sales  Critic_Score User_Score Rating  \n",
       "0     28.96      3.77         8.45          76.0          8      E  \n",
       "1      3.58      6.81         0.77           NaN        NaN    NaN  \n",
       "2     12.76      3.79         3.29          82.0        8.3      E  \n",
       "3     10.93      3.28         2.95          80.0          8      E  \n",
       "4      8.89     10.22         1.00           NaN        NaN    NaN  "
      ]
     },
     "execution_count": 2,
     "metadata": {},
     "output_type": "execute_result"
    }
   ],
   "source": [
    "#импортируем таблицу с данными\n",
    "data = pd.read_csv('/datasets/games.csv')\n",
    "data.head()"
   ]
  },
  {
   "cell_type": "code",
   "execution_count": 3,
   "metadata": {},
   "outputs": [
    {
     "name": "stdout",
     "output_type": "stream",
     "text": [
      "<class 'pandas.core.frame.DataFrame'>\n",
      "RangeIndex: 16715 entries, 0 to 16714\n",
      "Data columns (total 11 columns):\n",
      "Name               16713 non-null object\n",
      "Platform           16715 non-null object\n",
      "Year_of_Release    16446 non-null float64\n",
      "Genre              16713 non-null object\n",
      "NA_sales           16715 non-null float64\n",
      "EU_sales           16715 non-null float64\n",
      "JP_sales           16715 non-null float64\n",
      "Other_sales        16715 non-null float64\n",
      "Critic_Score       8137 non-null float64\n",
      "User_Score         10014 non-null object\n",
      "Rating             9949 non-null object\n",
      "dtypes: float64(6), object(5)\n",
      "memory usage: 1.4+ MB\n"
     ]
    }
   ],
   "source": [
    "#общая информация о данных\n",
    "data.info()"
   ]
  },
  {
   "cell_type": "code",
   "execution_count": 4,
   "metadata": {},
   "outputs": [
    {
     "data": {
      "text/html": [
       "<style  type=\"text/css\" >\n",
       "    #T_31e7266c_bbe7_11eb_a1fc_02420a392271row0_col0 {\n",
       "            background-color:  #3b4cc0;\n",
       "            color:  #f1f1f1;\n",
       "        }    #T_31e7266c_bbe7_11eb_a1fc_02420a392271row1_col0 {\n",
       "            background-color:  #3b4cc0;\n",
       "            color:  #f1f1f1;\n",
       "        }    #T_31e7266c_bbe7_11eb_a1fc_02420a392271row2_col0 {\n",
       "            background-color:  #445acc;\n",
       "            color:  #f1f1f1;\n",
       "        }    #T_31e7266c_bbe7_11eb_a1fc_02420a392271row3_col0 {\n",
       "            background-color:  #3b4cc0;\n",
       "            color:  #f1f1f1;\n",
       "        }    #T_31e7266c_bbe7_11eb_a1fc_02420a392271row4_col0 {\n",
       "            background-color:  #3b4cc0;\n",
       "            color:  #f1f1f1;\n",
       "        }    #T_31e7266c_bbe7_11eb_a1fc_02420a392271row5_col0 {\n",
       "            background-color:  #3b4cc0;\n",
       "            color:  #f1f1f1;\n",
       "        }    #T_31e7266c_bbe7_11eb_a1fc_02420a392271row6_col0 {\n",
       "            background-color:  #3b4cc0;\n",
       "            color:  #f1f1f1;\n",
       "        }    #T_31e7266c_bbe7_11eb_a1fc_02420a392271row7_col0 {\n",
       "            background-color:  #3b4cc0;\n",
       "            color:  #f1f1f1;\n",
       "        }    #T_31e7266c_bbe7_11eb_a1fc_02420a392271row8_col0 {\n",
       "            background-color:  #b40426;\n",
       "            color:  #f1f1f1;\n",
       "        }    #T_31e7266c_bbe7_11eb_a1fc_02420a392271row9_col0 {\n",
       "            background-color:  #f18d6f;\n",
       "            color:  #000000;\n",
       "        }    #T_31e7266c_bbe7_11eb_a1fc_02420a392271row10_col0 {\n",
       "            background-color:  #f08a6c;\n",
       "            color:  #000000;\n",
       "        }</style><table id=\"T_31e7266c_bbe7_11eb_a1fc_02420a392271\" ><thead>    <tr>        <th class=\"blank level0\" ></th>        <th class=\"col_heading level0 col0\" >0</th>    </tr></thead><tbody>\n",
       "                <tr>\n",
       "                        <th id=\"T_31e7266c_bbe7_11eb_a1fc_02420a392271level0_row0\" class=\"row_heading level0 row0\" >Name</th>\n",
       "                        <td id=\"T_31e7266c_bbe7_11eb_a1fc_02420a392271row0_col0\" class=\"data row0 col0\" >0.01</td>\n",
       "            </tr>\n",
       "            <tr>\n",
       "                        <th id=\"T_31e7266c_bbe7_11eb_a1fc_02420a392271level0_row1\" class=\"row_heading level0 row1\" >Platform</th>\n",
       "                        <td id=\"T_31e7266c_bbe7_11eb_a1fc_02420a392271row1_col0\" class=\"data row1 col0\" >0</td>\n",
       "            </tr>\n",
       "            <tr>\n",
       "                        <th id=\"T_31e7266c_bbe7_11eb_a1fc_02420a392271level0_row2\" class=\"row_heading level0 row2\" >Year_of_Release</th>\n",
       "                        <td id=\"T_31e7266c_bbe7_11eb_a1fc_02420a392271row2_col0\" class=\"data row2 col0\" >1.61</td>\n",
       "            </tr>\n",
       "            <tr>\n",
       "                        <th id=\"T_31e7266c_bbe7_11eb_a1fc_02420a392271level0_row3\" class=\"row_heading level0 row3\" >Genre</th>\n",
       "                        <td id=\"T_31e7266c_bbe7_11eb_a1fc_02420a392271row3_col0\" class=\"data row3 col0\" >0.01</td>\n",
       "            </tr>\n",
       "            <tr>\n",
       "                        <th id=\"T_31e7266c_bbe7_11eb_a1fc_02420a392271level0_row4\" class=\"row_heading level0 row4\" >NA_sales</th>\n",
       "                        <td id=\"T_31e7266c_bbe7_11eb_a1fc_02420a392271row4_col0\" class=\"data row4 col0\" >0</td>\n",
       "            </tr>\n",
       "            <tr>\n",
       "                        <th id=\"T_31e7266c_bbe7_11eb_a1fc_02420a392271level0_row5\" class=\"row_heading level0 row5\" >EU_sales</th>\n",
       "                        <td id=\"T_31e7266c_bbe7_11eb_a1fc_02420a392271row5_col0\" class=\"data row5 col0\" >0</td>\n",
       "            </tr>\n",
       "            <tr>\n",
       "                        <th id=\"T_31e7266c_bbe7_11eb_a1fc_02420a392271level0_row6\" class=\"row_heading level0 row6\" >JP_sales</th>\n",
       "                        <td id=\"T_31e7266c_bbe7_11eb_a1fc_02420a392271row6_col0\" class=\"data row6 col0\" >0</td>\n",
       "            </tr>\n",
       "            <tr>\n",
       "                        <th id=\"T_31e7266c_bbe7_11eb_a1fc_02420a392271level0_row7\" class=\"row_heading level0 row7\" >Other_sales</th>\n",
       "                        <td id=\"T_31e7266c_bbe7_11eb_a1fc_02420a392271row7_col0\" class=\"data row7 col0\" >0</td>\n",
       "            </tr>\n",
       "            <tr>\n",
       "                        <th id=\"T_31e7266c_bbe7_11eb_a1fc_02420a392271level0_row8\" class=\"row_heading level0 row8\" >Critic_Score</th>\n",
       "                        <td id=\"T_31e7266c_bbe7_11eb_a1fc_02420a392271row8_col0\" class=\"data row8 col0\" >51.32</td>\n",
       "            </tr>\n",
       "            <tr>\n",
       "                        <th id=\"T_31e7266c_bbe7_11eb_a1fc_02420a392271level0_row9\" class=\"row_heading level0 row9\" >User_Score</th>\n",
       "                        <td id=\"T_31e7266c_bbe7_11eb_a1fc_02420a392271row9_col0\" class=\"data row9 col0\" >40.09</td>\n",
       "            </tr>\n",
       "            <tr>\n",
       "                        <th id=\"T_31e7266c_bbe7_11eb_a1fc_02420a392271level0_row10\" class=\"row_heading level0 row10\" >Rating</th>\n",
       "                        <td id=\"T_31e7266c_bbe7_11eb_a1fc_02420a392271row10_col0\" class=\"data row10 col0\" >40.48</td>\n",
       "            </tr>\n",
       "    </tbody></table>"
      ],
      "text/plain": [
       "<pandas.io.formats.style.Styler at 0x7fd877353f50>"
      ]
     },
     "execution_count": 4,
     "metadata": {},
     "output_type": "execute_result"
    }
   ],
   "source": [
    "#посмотрим на количество пропусков в данных\n",
    "pd.DataFrame(round((data.isna().mean()*100),2)).style.background_gradient('coolwarm')"
   ]
  },
  {
   "cell_type": "markdown",
   "metadata": {},
   "source": [
    "Пропуски в **Name, Year_of_Release, Genre** составляю незначительную долю от общего количества данных, их удаление критически не повлияет на результат исследования."
   ]
  },
  {
   "cell_type": "markdown",
   "metadata": {},
   "source": [
    "Пропуски в **Critic_Score, User_Score и Rating** - это половина всех данных датафрейма. С ними необходимо разобраться более тщательно и установить их причины и методы устранения. "
   ]
  },
  {
   "cell_type": "markdown",
   "metadata": {},
   "source": [
    "**ВЫВОД**\n",
    "\n",
    "Мы ознакомились с данными для исследования: \n",
    "\n",
    "- посмотрели общие сведения о датафрейме\n",
    "- проверили количество пропусков в данных"
   ]
  },
  {
   "cell_type": "markdown",
   "metadata": {},
   "source": [
    "----"
   ]
  },
  {
   "cell_type": "markdown",
   "metadata": {},
   "source": [
    "## ПОДГОТОВКА ДАННЫХ"
   ]
  },
  {
   "cell_type": "markdown",
   "metadata": {},
   "source": [
    "### РЕГИСТР И ТИПЫ ДАННЫХ"
   ]
  },
  {
   "cell_type": "code",
   "execution_count": 5,
   "metadata": {},
   "outputs": [],
   "source": [
    "#приведём имена столбцов к нижнему регистру\n",
    "data.columns = map(str.lower, data.columns)"
   ]
  },
  {
   "cell_type": "code",
   "execution_count": 6,
   "metadata": {},
   "outputs": [
    {
     "data": {
      "text/plain": [
       "Index(['name', 'platform', 'year_of_release', 'genre', 'na_sales', 'eu_sales',\n",
       "       'jp_sales', 'other_sales', 'critic_score', 'user_score', 'rating'],\n",
       "      dtype='object')"
      ]
     },
     "execution_count": 6,
     "metadata": {},
     "output_type": "execute_result"
    }
   ],
   "source": [
    "#проверим результат\n",
    "data.columns"
   ]
  },
  {
   "cell_type": "markdown",
   "metadata": {},
   "source": [
    "Прежде чем переходить к работе над типами данных, уберём мелкие пропуски:"
   ]
  },
  {
   "cell_type": "code",
   "execution_count": 7,
   "metadata": {},
   "outputs": [],
   "source": [
    "#избавимся от незначительных пропусков\n",
    "data.dropna(subset=['name', 'year_of_release', 'genre'], inplace=True)"
   ]
  },
  {
   "cell_type": "code",
   "execution_count": 8,
   "metadata": {},
   "outputs": [
    {
     "data": {
      "text/html": [
       "<style  type=\"text/css\" >\n",
       "    #T_31f62c34_bbe7_11eb_a1fc_02420a392271row0_col0 {\n",
       "            background-color:  #3b4cc0;\n",
       "            color:  #f1f1f1;\n",
       "        }    #T_31f62c34_bbe7_11eb_a1fc_02420a392271row1_col0 {\n",
       "            background-color:  #3b4cc0;\n",
       "            color:  #f1f1f1;\n",
       "        }    #T_31f62c34_bbe7_11eb_a1fc_02420a392271row2_col0 {\n",
       "            background-color:  #3b4cc0;\n",
       "            color:  #f1f1f1;\n",
       "        }    #T_31f62c34_bbe7_11eb_a1fc_02420a392271row3_col0 {\n",
       "            background-color:  #3b4cc0;\n",
       "            color:  #f1f1f1;\n",
       "        }    #T_31f62c34_bbe7_11eb_a1fc_02420a392271row4_col0 {\n",
       "            background-color:  #3b4cc0;\n",
       "            color:  #f1f1f1;\n",
       "        }    #T_31f62c34_bbe7_11eb_a1fc_02420a392271row5_col0 {\n",
       "            background-color:  #3b4cc0;\n",
       "            color:  #f1f1f1;\n",
       "        }    #T_31f62c34_bbe7_11eb_a1fc_02420a392271row6_col0 {\n",
       "            background-color:  #3b4cc0;\n",
       "            color:  #f1f1f1;\n",
       "        }    #T_31f62c34_bbe7_11eb_a1fc_02420a392271row7_col0 {\n",
       "            background-color:  #3b4cc0;\n",
       "            color:  #f1f1f1;\n",
       "        }    #T_31f62c34_bbe7_11eb_a1fc_02420a392271row8_col0 {\n",
       "            background-color:  #b40426;\n",
       "            color:  #f1f1f1;\n",
       "        }    #T_31f62c34_bbe7_11eb_a1fc_02420a392271row9_col0 {\n",
       "            background-color:  #f18d6f;\n",
       "            color:  #000000;\n",
       "        }    #T_31f62c34_bbe7_11eb_a1fc_02420a392271row10_col0 {\n",
       "            background-color:  #ef886b;\n",
       "            color:  #000000;\n",
       "        }</style><table id=\"T_31f62c34_bbe7_11eb_a1fc_02420a392271\" ><thead>    <tr>        <th class=\"blank level0\" ></th>        <th class=\"col_heading level0 col0\" >0</th>    </tr></thead><tbody>\n",
       "                <tr>\n",
       "                        <th id=\"T_31f62c34_bbe7_11eb_a1fc_02420a392271level0_row0\" class=\"row_heading level0 row0\" >name</th>\n",
       "                        <td id=\"T_31f62c34_bbe7_11eb_a1fc_02420a392271row0_col0\" class=\"data row0 col0\" >0</td>\n",
       "            </tr>\n",
       "            <tr>\n",
       "                        <th id=\"T_31f62c34_bbe7_11eb_a1fc_02420a392271level0_row1\" class=\"row_heading level0 row1\" >platform</th>\n",
       "                        <td id=\"T_31f62c34_bbe7_11eb_a1fc_02420a392271row1_col0\" class=\"data row1 col0\" >0</td>\n",
       "            </tr>\n",
       "            <tr>\n",
       "                        <th id=\"T_31f62c34_bbe7_11eb_a1fc_02420a392271level0_row2\" class=\"row_heading level0 row2\" >year_of_release</th>\n",
       "                        <td id=\"T_31f62c34_bbe7_11eb_a1fc_02420a392271row2_col0\" class=\"data row2 col0\" >0</td>\n",
       "            </tr>\n",
       "            <tr>\n",
       "                        <th id=\"T_31f62c34_bbe7_11eb_a1fc_02420a392271level0_row3\" class=\"row_heading level0 row3\" >genre</th>\n",
       "                        <td id=\"T_31f62c34_bbe7_11eb_a1fc_02420a392271row3_col0\" class=\"data row3 col0\" >0</td>\n",
       "            </tr>\n",
       "            <tr>\n",
       "                        <th id=\"T_31f62c34_bbe7_11eb_a1fc_02420a392271level0_row4\" class=\"row_heading level0 row4\" >na_sales</th>\n",
       "                        <td id=\"T_31f62c34_bbe7_11eb_a1fc_02420a392271row4_col0\" class=\"data row4 col0\" >0</td>\n",
       "            </tr>\n",
       "            <tr>\n",
       "                        <th id=\"T_31f62c34_bbe7_11eb_a1fc_02420a392271level0_row5\" class=\"row_heading level0 row5\" >eu_sales</th>\n",
       "                        <td id=\"T_31f62c34_bbe7_11eb_a1fc_02420a392271row5_col0\" class=\"data row5 col0\" >0</td>\n",
       "            </tr>\n",
       "            <tr>\n",
       "                        <th id=\"T_31f62c34_bbe7_11eb_a1fc_02420a392271level0_row6\" class=\"row_heading level0 row6\" >jp_sales</th>\n",
       "                        <td id=\"T_31f62c34_bbe7_11eb_a1fc_02420a392271row6_col0\" class=\"data row6 col0\" >0</td>\n",
       "            </tr>\n",
       "            <tr>\n",
       "                        <th id=\"T_31f62c34_bbe7_11eb_a1fc_02420a392271level0_row7\" class=\"row_heading level0 row7\" >other_sales</th>\n",
       "                        <td id=\"T_31f62c34_bbe7_11eb_a1fc_02420a392271row7_col0\" class=\"data row7 col0\" >0</td>\n",
       "            </tr>\n",
       "            <tr>\n",
       "                        <th id=\"T_31f62c34_bbe7_11eb_a1fc_02420a392271level0_row8\" class=\"row_heading level0 row8\" >critic_score</th>\n",
       "                        <td id=\"T_31f62c34_bbe7_11eb_a1fc_02420a392271row8_col0\" class=\"data row8 col0\" >51.45</td>\n",
       "            </tr>\n",
       "            <tr>\n",
       "                        <th id=\"T_31f62c34_bbe7_11eb_a1fc_02420a392271level0_row9\" class=\"row_heading level0 row9\" >user_score</th>\n",
       "                        <td id=\"T_31f62c34_bbe7_11eb_a1fc_02420a392271row9_col0\" class=\"data row9 col0\" >40.17</td>\n",
       "            </tr>\n",
       "            <tr>\n",
       "                        <th id=\"T_31f62c34_bbe7_11eb_a1fc_02420a392271level0_row10\" class=\"row_heading level0 row10\" >rating</th>\n",
       "                        <td id=\"T_31f62c34_bbe7_11eb_a1fc_02420a392271row10_col0\" class=\"data row10 col0\" >40.6</td>\n",
       "            </tr>\n",
       "    </tbody></table>"
      ],
      "text/plain": [
       "<pandas.io.formats.style.Styler at 0x7fd7f3aef890>"
      ]
     },
     "execution_count": 8,
     "metadata": {},
     "output_type": "execute_result"
    }
   ],
   "source": [
    "pd.DataFrame(round((data.isna().mean()*100),2)).style.background_gradient('coolwarm')"
   ]
  },
  {
   "cell_type": "markdown",
   "metadata": {},
   "source": [
    "Еще раз посмотрим на имеющиеся типы данных:"
   ]
  },
  {
   "cell_type": "code",
   "execution_count": 9,
   "metadata": {},
   "outputs": [
    {
     "name": "stdout",
     "output_type": "stream",
     "text": [
      "<class 'pandas.core.frame.DataFrame'>\n",
      "Int64Index: 16444 entries, 0 to 16714\n",
      "Data columns (total 11 columns):\n",
      "name               16444 non-null object\n",
      "platform           16444 non-null object\n",
      "year_of_release    16444 non-null float64\n",
      "genre              16444 non-null object\n",
      "na_sales           16444 non-null float64\n",
      "eu_sales           16444 non-null float64\n",
      "jp_sales           16444 non-null float64\n",
      "other_sales        16444 non-null float64\n",
      "critic_score       7983 non-null float64\n",
      "user_score         9839 non-null object\n",
      "rating             9768 non-null object\n",
      "dtypes: float64(6), object(5)\n",
      "memory usage: 1.5+ MB\n"
     ]
    }
   ],
   "source": [
    "data.info()"
   ]
  },
  {
   "cell_type": "code",
   "execution_count": 10,
   "metadata": {},
   "outputs": [
    {
     "data": {
      "text/html": [
       "<div>\n",
       "<style scoped>\n",
       "    .dataframe tbody tr th:only-of-type {\n",
       "        vertical-align: middle;\n",
       "    }\n",
       "\n",
       "    .dataframe tbody tr th {\n",
       "        vertical-align: top;\n",
       "    }\n",
       "\n",
       "    .dataframe thead th {\n",
       "        text-align: right;\n",
       "    }\n",
       "</style>\n",
       "<table border=\"1\" class=\"dataframe\">\n",
       "  <thead>\n",
       "    <tr style=\"text-align: right;\">\n",
       "      <th></th>\n",
       "      <th>name</th>\n",
       "      <th>platform</th>\n",
       "      <th>year_of_release</th>\n",
       "      <th>genre</th>\n",
       "      <th>na_sales</th>\n",
       "      <th>eu_sales</th>\n",
       "      <th>jp_sales</th>\n",
       "      <th>other_sales</th>\n",
       "      <th>critic_score</th>\n",
       "      <th>user_score</th>\n",
       "      <th>rating</th>\n",
       "    </tr>\n",
       "  </thead>\n",
       "  <tbody>\n",
       "    <tr>\n",
       "      <td>0</td>\n",
       "      <td>Wii Sports</td>\n",
       "      <td>Wii</td>\n",
       "      <td>2006.0</td>\n",
       "      <td>Sports</td>\n",
       "      <td>41.36</td>\n",
       "      <td>28.96</td>\n",
       "      <td>3.77</td>\n",
       "      <td>8.45</td>\n",
       "      <td>76.0</td>\n",
       "      <td>8</td>\n",
       "      <td>E</td>\n",
       "    </tr>\n",
       "    <tr>\n",
       "      <td>1</td>\n",
       "      <td>Super Mario Bros.</td>\n",
       "      <td>NES</td>\n",
       "      <td>1985.0</td>\n",
       "      <td>Platform</td>\n",
       "      <td>29.08</td>\n",
       "      <td>3.58</td>\n",
       "      <td>6.81</td>\n",
       "      <td>0.77</td>\n",
       "      <td>NaN</td>\n",
       "      <td>NaN</td>\n",
       "      <td>NaN</td>\n",
       "    </tr>\n",
       "    <tr>\n",
       "      <td>2</td>\n",
       "      <td>Mario Kart Wii</td>\n",
       "      <td>Wii</td>\n",
       "      <td>2008.0</td>\n",
       "      <td>Racing</td>\n",
       "      <td>15.68</td>\n",
       "      <td>12.76</td>\n",
       "      <td>3.79</td>\n",
       "      <td>3.29</td>\n",
       "      <td>82.0</td>\n",
       "      <td>8.3</td>\n",
       "      <td>E</td>\n",
       "    </tr>\n",
       "    <tr>\n",
       "      <td>3</td>\n",
       "      <td>Wii Sports Resort</td>\n",
       "      <td>Wii</td>\n",
       "      <td>2009.0</td>\n",
       "      <td>Sports</td>\n",
       "      <td>15.61</td>\n",
       "      <td>10.93</td>\n",
       "      <td>3.28</td>\n",
       "      <td>2.95</td>\n",
       "      <td>80.0</td>\n",
       "      <td>8</td>\n",
       "      <td>E</td>\n",
       "    </tr>\n",
       "    <tr>\n",
       "      <td>4</td>\n",
       "      <td>Pokemon Red/Pokemon Blue</td>\n",
       "      <td>GB</td>\n",
       "      <td>1996.0</td>\n",
       "      <td>Role-Playing</td>\n",
       "      <td>11.27</td>\n",
       "      <td>8.89</td>\n",
       "      <td>10.22</td>\n",
       "      <td>1.00</td>\n",
       "      <td>NaN</td>\n",
       "      <td>NaN</td>\n",
       "      <td>NaN</td>\n",
       "    </tr>\n",
       "  </tbody>\n",
       "</table>\n",
       "</div>"
      ],
      "text/plain": [
       "                       name platform  year_of_release         genre  na_sales  \\\n",
       "0                Wii Sports      Wii           2006.0        Sports     41.36   \n",
       "1         Super Mario Bros.      NES           1985.0      Platform     29.08   \n",
       "2            Mario Kart Wii      Wii           2008.0        Racing     15.68   \n",
       "3         Wii Sports Resort      Wii           2009.0        Sports     15.61   \n",
       "4  Pokemon Red/Pokemon Blue       GB           1996.0  Role-Playing     11.27   \n",
       "\n",
       "   eu_sales  jp_sales  other_sales  critic_score user_score rating  \n",
       "0     28.96      3.77         8.45          76.0          8      E  \n",
       "1      3.58      6.81         0.77           NaN        NaN    NaN  \n",
       "2     12.76      3.79         3.29          82.0        8.3      E  \n",
       "3     10.93      3.28         2.95          80.0          8      E  \n",
       "4      8.89     10.22         1.00           NaN        NaN    NaN  "
      ]
     },
     "execution_count": 10,
     "metadata": {},
     "output_type": "execute_result"
    }
   ],
   "source": [
    "data.head()"
   ]
  },
  {
   "cell_type": "markdown",
   "metadata": {},
   "source": [
    "В столбце year_of_release преобразуем тип данных в int32, для того, чтобы избавиться от **.0** в конце значений "
   ]
  },
  {
   "cell_type": "code",
   "execution_count": 11,
   "metadata": {},
   "outputs": [],
   "source": [
    "data['year_of_release'] = data['year_of_release'].astype('int32')"
   ]
  },
  {
   "cell_type": "markdown",
   "metadata": {},
   "source": [
    "Для столбца critic_score приведем данные к типу int, так как десятичные доли в оценках критиков отсутствуют:"
   ]
  },
  {
   "cell_type": "code",
   "execution_count": 12,
   "metadata": {},
   "outputs": [],
   "source": [
    "data['critic_score'] = data['critic_score'].astype('int32')\n",
    "data.loc[data.loc[:,'critic_score'] != 'NaN']['critic_score'].astype('int32')"
   ]
  },
  {
   "cell_type": "markdown",
   "metadata": {},
   "source": [
    "В столбцах name, platform и genre приведем данные к категориальному типу:"
   ]
  },
  {
   "cell_type": "code",
   "execution_count": 13,
   "metadata": {},
   "outputs": [],
   "source": [
    "data['name'] = data['name'].astype('category')\n",
    "data['platform'] = data['platform'].astype('category')\n",
    "data['genre'] = data['genre'].astype('category')"
   ]
  },
  {
   "cell_type": "code",
   "execution_count": 14,
   "metadata": {},
   "outputs": [
    {
     "name": "stdout",
     "output_type": "stream",
     "text": [
      "<class 'pandas.core.frame.DataFrame'>\n",
      "Int64Index: 16444 entries, 0 to 16714\n",
      "Data columns (total 11 columns):\n",
      "name               16444 non-null category\n",
      "platform           16444 non-null category\n",
      "year_of_release    16444 non-null int32\n",
      "genre              16444 non-null category\n",
      "na_sales           16444 non-null float64\n",
      "eu_sales           16444 non-null float64\n",
      "jp_sales           16444 non-null float64\n",
      "other_sales        16444 non-null float64\n",
      "critic_score       7983 non-null float64\n",
      "user_score         9839 non-null object\n",
      "rating             9768 non-null object\n",
      "dtypes: category(3), float64(5), int32(1), object(2)\n",
      "memory usage: 1.5+ MB\n"
     ]
    }
   ],
   "source": [
    "data.info()"
   ]
  },
  {
   "cell_type": "markdown",
   "metadata": {},
   "source": [
    "-----"
   ]
  },
  {
   "cell_type": "markdown",
   "metadata": {},
   "source": [
    "### ПРОПУСКИ"
   ]
  },
  {
   "cell_type": "markdown",
   "metadata": {},
   "source": [
    "Попытаемся разобраться в причинах пропусков. Построим распределение по годам для полных данных и для пропущенных данных в случае с critic_score"
   ]
  },
  {
   "cell_type": "code",
   "execution_count": 15,
   "metadata": {},
   "outputs": [],
   "source": [
    "#выделим переменную с пропущенными значениями в critic_score\n",
    "data_nan_critic = data.query('critic_score == \"NaN\"')"
   ]
  },
  {
   "cell_type": "code",
   "execution_count": 16,
   "metadata": {},
   "outputs": [
    {
     "data": {
      "image/png": "[encoded data removed]",
      "text/plain": [
       "<Figure size 432x288 with 1 Axes>"
      ]
     },
     "metadata": {
      "needs_background": "light"
     },
     "output_type": "display_data"
    }
   ],
   "source": [
    "#построим гистограммы\n",
    "data['year_of_release'].hist(alpha=0.5)\n",
    "data_nan_critic['year_of_release'].hist(alpha=0.5)\n",
    "plt.xlabel('year')\n",
    "plt.ylabel('sales')\n",
    "plt.title('Распределение данных с отзывами критиков и без них')\n",
    "plt.show()"
   ]
  },
  {
   "cell_type": "markdown",
   "metadata": {},
   "source": [
    "Из этого графика можно видно, что количество пропущенных данных росло вместе с количеством общих данных. \n",
    "\n",
    "Я думаю, это связано с тем, что на протяжении всех лет на наличие/отсутствие оценки критиков влиял один и тот же неизменяемый фактор: напр., сумма продаж. \n",
    "\n",
    "Проверим это! "
   ]
  },
  {
   "cell_type": "code",
   "execution_count": 17,
   "metadata": {},
   "outputs": [],
   "source": [
    "#суммарные продажи во всех регионах\n",
    "data['total_sales'] = data['na_sales'] + data['eu_sales'] + data['jp_sales'] + data['other_sales']"
   ]
  },
  {
   "cell_type": "code",
   "execution_count": 18,
   "metadata": {},
   "outputs": [],
   "source": [
    "#создадим переменную, где все будут данные без пропусков в critic_score\n",
    "data_not_nan = data.query('critic_score != \"NaN\"')"
   ]
  },
  {
   "cell_type": "code",
   "execution_count": 19,
   "metadata": {},
   "outputs": [
    {
     "data": {
      "text/plain": [
       "0.6931792559188277"
      ]
     },
     "execution_count": 19,
     "metadata": {},
     "output_type": "execute_result"
    }
   ],
   "source": [
    "#посчитаем среднюю сумму продаж\n",
    "data_not_nan['total_sales'].mean()"
   ]
  },
  {
   "cell_type": "code",
   "execution_count": 20,
   "metadata": {},
   "outputs": [],
   "source": [
    "#переприсвоим переменной массив с новым столбцом total_sales\n",
    "data_nan_critic = data.query('critic_score == \"NaN\"')"
   ]
  },
  {
   "cell_type": "code",
   "execution_count": 21,
   "metadata": {},
   "outputs": [
    {
     "data": {
      "text/plain": [
       "0.38774612929913727"
      ]
     },
     "execution_count": 21,
     "metadata": {},
     "output_type": "execute_result"
    }
   ],
   "source": [
    "#посчитаем среднюю сумму продаж\n",
    "data_nan_critic['total_sales'].mean()"
   ]
  },
  {
   "cell_type": "markdown",
   "metadata": {},
   "source": [
    "Наши догадки подтвердились: компьютерные игры, у которых отсутствует оценка критиков, в среднем имеют в два раза меньше продаж. Скорее всего, именно низкое количество продаж не позволило играм сформировать оценку критиков. Например, потому что:\n",
    "\n",
    "- для оценки требуется определенное количество проданных копий (входной порог)\n",
    "- требуется определенное количество оценок критиков, которое в свою очередь зависит от количества проданных копий"
   ]
  },
  {
   "cell_type": "markdown",
   "metadata": {},
   "source": [
    "---"
   ]
  },
  {
   "cell_type": "markdown",
   "metadata": {},
   "source": [
    "**Оставим пропуски в численных данных на своих местах**, для того, чтобы корректно провести последующий анализ. **Пропуски в столбце rating заменим на значение unknown**."
   ]
  },
  {
   "cell_type": "code",
   "execution_count": 22,
   "metadata": {},
   "outputs": [],
   "source": [
    "data['rating'] = data['rating'].fillna('unknown')"
   ]
  },
  {
   "cell_type": "markdown",
   "metadata": {},
   "source": [
    "В столбце user_score мы имеем следующие уникальные значения: "
   ]
  },
  {
   "cell_type": "code",
   "execution_count": 23,
   "metadata": {},
   "outputs": [
    {
     "data": {
      "text/plain": [
       "tbd    2376\n",
       "7.8     322\n",
       "8       285\n",
       "8.2     276\n",
       "8.3     252\n",
       "       ... \n",
       "1.5       2\n",
       "0.9       2\n",
       "0.2       2\n",
       "9.7       1\n",
       "0         1\n",
       "Name: user_score, Length: 96, dtype: int64"
      ]
     },
     "execution_count": 23,
     "metadata": {},
     "output_type": "execute_result"
    }
   ],
   "source": [
    "data['user_score'].value_counts()"
   ]
  },
  {
   "cell_type": "markdown",
   "metadata": {},
   "source": [
    "Аббревиатура tbd означает, что оценка для данной игры не определена, таким образом это значение эквивалентно Nan. Заполним пропуски:"
   ]
  },
  {
   "cell_type": "code",
   "execution_count": 24,
   "metadata": {},
   "outputs": [],
   "source": [
    "data['user_score'] = data['user_score'].replace(\"tbd\", \"0\")\n",
    "#теперь, когда все данные в столбце принадлежат к численному типу - изменим тип данных\n",
    "data['user_score'] = data['user_score'].astype('float64')"
   ]
  },
  {
   "cell_type": "markdown",
   "metadata": {},
   "source": [
    "### ДУБЛИКАТЫ"
   ]
  },
  {
   "cell_type": "markdown",
   "metadata": {},
   "source": [
    "Посмотрим, есть ли полные дубликаты строк в исходных данных: "
   ]
  },
  {
   "cell_type": "code",
   "execution_count": 26,
   "metadata": {},
   "outputs": [
    {
     "data": {
      "text/plain": [
       "0"
      ]
     },
     "execution_count": 26,
     "metadata": {},
     "output_type": "execute_result"
    }
   ],
   "source": [
    "data.duplicated().sum()"
   ]
  },
  {
   "cell_type": "markdown",
   "metadata": {},
   "source": [
    "Теперь попробуем найти дубликаты в названиях игр:"
   ]
  },
  {
   "cell_type": "code",
   "execution_count": 27,
   "metadata": {},
   "outputs": [
    {
     "data": {
      "text/plain": [
       "Need for Speed: Most Wanted    12\n",
       "LEGO Marvel Super Heroes        9\n",
       "FIFA 14                         9\n",
       "Ratatouille                     9\n",
       "Madden NFL 08                   8\n",
       "Name: name, dtype: int64"
      ]
     },
     "execution_count": 27,
     "metadata": {},
     "output_type": "execute_result"
    }
   ],
   "source": [
    "data['name'].value_counts().head()"
   ]
  },
  {
   "cell_type": "markdown",
   "metadata": {},
   "source": [
    "Рассмотрим пример FIFA14 - год один, а строчек с этой игрой 9. Посмотрим на срез: "
   ]
  },
  {
   "cell_type": "code",
   "execution_count": 28,
   "metadata": {
    "scrolled": true
   },
   "outputs": [
    {
     "data": {
      "text/html": [
       "<div>\n",
       "<style scoped>\n",
       "    .dataframe tbody tr th:only-of-type {\n",
       "        vertical-align: middle;\n",
       "    }\n",
       "\n",
       "    .dataframe tbody tr th {\n",
       "        vertical-align: top;\n",
       "    }\n",
       "\n",
       "    .dataframe thead th {\n",
       "        text-align: right;\n",
       "    }\n",
       "</style>\n",
       "<table border=\"1\" class=\"dataframe\">\n",
       "  <thead>\n",
       "    <tr style=\"text-align: right;\">\n",
       "      <th></th>\n",
       "      <th>name</th>\n",
       "      <th>platform</th>\n",
       "      <th>year_of_release</th>\n",
       "      <th>genre</th>\n",
       "      <th>na_sales</th>\n",
       "      <th>eu_sales</th>\n",
       "      <th>jp_sales</th>\n",
       "      <th>other_sales</th>\n",
       "      <th>critic_score</th>\n",
       "      <th>user_score</th>\n",
       "      <th>rating</th>\n",
       "      <th>total_sales</th>\n",
       "    </tr>\n",
       "  </thead>\n",
       "  <tbody>\n",
       "    <tr>\n",
       "      <td>126</td>\n",
       "      <td>FIFA 14</td>\n",
       "      <td>PS3</td>\n",
       "      <td>2013</td>\n",
       "      <td>Sports</td>\n",
       "      <td>0.78</td>\n",
       "      <td>4.24</td>\n",
       "      <td>0.07</td>\n",
       "      <td>1.37</td>\n",
       "      <td>86.0</td>\n",
       "      <td>4.3</td>\n",
       "      <td>E</td>\n",
       "      <td>6.46</td>\n",
       "    </tr>\n",
       "    <tr>\n",
       "      <td>271</td>\n",
       "      <td>FIFA 14</td>\n",
       "      <td>X360</td>\n",
       "      <td>2013</td>\n",
       "      <td>Sports</td>\n",
       "      <td>0.92</td>\n",
       "      <td>2.89</td>\n",
       "      <td>0.01</td>\n",
       "      <td>0.40</td>\n",
       "      <td>84.0</td>\n",
       "      <td>4.2</td>\n",
       "      <td>E</td>\n",
       "      <td>4.22</td>\n",
       "    </tr>\n",
       "    <tr>\n",
       "      <td>469</td>\n",
       "      <td>FIFA 14</td>\n",
       "      <td>PS4</td>\n",
       "      <td>2013</td>\n",
       "      <td>Sports</td>\n",
       "      <td>0.61</td>\n",
       "      <td>1.85</td>\n",
       "      <td>0.11</td>\n",
       "      <td>0.44</td>\n",
       "      <td>87.0</td>\n",
       "      <td>6.3</td>\n",
       "      <td>E</td>\n",
       "      <td>3.01</td>\n",
       "    </tr>\n",
       "    <tr>\n",
       "      <td>1753</td>\n",
       "      <td>FIFA 14</td>\n",
       "      <td>XOne</td>\n",
       "      <td>2013</td>\n",
       "      <td>Sports</td>\n",
       "      <td>0.41</td>\n",
       "      <td>0.66</td>\n",
       "      <td>0.00</td>\n",
       "      <td>0.09</td>\n",
       "      <td>88.0</td>\n",
       "      <td>5.8</td>\n",
       "      <td>E</td>\n",
       "      <td>1.16</td>\n",
       "    </tr>\n",
       "    <tr>\n",
       "      <td>4699</td>\n",
       "      <td>FIFA 14</td>\n",
       "      <td>PSV</td>\n",
       "      <td>2013</td>\n",
       "      <td>Sports</td>\n",
       "      <td>0.08</td>\n",
       "      <td>0.23</td>\n",
       "      <td>0.01</td>\n",
       "      <td>0.09</td>\n",
       "      <td>NaN</td>\n",
       "      <td>1.8</td>\n",
       "      <td>E</td>\n",
       "      <td>0.41</td>\n",
       "    </tr>\n",
       "  </tbody>\n",
       "</table>\n",
       "</div>"
      ],
      "text/plain": [
       "         name platform  year_of_release   genre  na_sales  eu_sales  jp_sales  \\\n",
       "126   FIFA 14      PS3             2013  Sports      0.78      4.24      0.07   \n",
       "271   FIFA 14     X360             2013  Sports      0.92      2.89      0.01   \n",
       "469   FIFA 14      PS4             2013  Sports      0.61      1.85      0.11   \n",
       "1753  FIFA 14     XOne             2013  Sports      0.41      0.66      0.00   \n",
       "4699  FIFA 14      PSV             2013  Sports      0.08      0.23      0.01   \n",
       "\n",
       "      other_sales  critic_score  user_score rating  total_sales  \n",
       "126          1.37          86.0         4.3      E         6.46  \n",
       "271          0.40          84.0         4.2      E         4.22  \n",
       "469          0.44          87.0         6.3      E         3.01  \n",
       "1753         0.09          88.0         5.8      E         1.16  \n",
       "4699         0.09           NaN         1.8      E         0.41  "
      ]
     },
     "execution_count": 28,
     "metadata": {},
     "output_type": "execute_result"
    }
   ],
   "source": [
    "data.query('name == \"FIFA 14\"').head()"
   ]
  },
  {
   "cell_type": "markdown",
   "metadata": {},
   "source": [
    "Очевидно, что наличие дубликатов в названиях игр связано с тем, что они выходят на разных платформах под одним и тем же названием. Это значит, что такие дубли нам не помешают, а наоборот дополнят наш анализ. "
   ]
  },
  {
   "cell_type": "code",
   "execution_count": 193,
   "metadata": {},
   "outputs": [
    {
     "data": {
      "text/html": [
       "<div>\n",
       "<style scoped>\n",
       "    .dataframe tbody tr th:only-of-type {\n",
       "        vertical-align: middle;\n",
       "    }\n",
       "\n",
       "    .dataframe tbody tr th {\n",
       "        vertical-align: top;\n",
       "    }\n",
       "\n",
       "    .dataframe thead th {\n",
       "        text-align: right;\n",
       "    }\n",
       "</style>\n",
       "<table border=\"1\" class=\"dataframe\">\n",
       "  <thead>\n",
       "    <tr style=\"text-align: right;\">\n",
       "      <th></th>\n",
       "      <th>name</th>\n",
       "      <th>platform</th>\n",
       "      <th>year_of_release</th>\n",
       "      <th>genre</th>\n",
       "      <th>na_sales</th>\n",
       "      <th>eu_sales</th>\n",
       "      <th>jp_sales</th>\n",
       "      <th>other_sales</th>\n",
       "      <th>critic_score</th>\n",
       "      <th>user_score</th>\n",
       "      <th>rating</th>\n",
       "      <th>total_sales</th>\n",
       "    </tr>\n",
       "  </thead>\n",
       "  <tbody>\n",
       "    <tr>\n",
       "      <td>604</td>\n",
       "      <td>Madden NFL 13</td>\n",
       "      <td>PS3</td>\n",
       "      <td>2012</td>\n",
       "      <td>Sports</td>\n",
       "      <td>2.11</td>\n",
       "      <td>0.22</td>\n",
       "      <td>0.00</td>\n",
       "      <td>0.23</td>\n",
       "      <td>83.0</td>\n",
       "      <td>5.5</td>\n",
       "      <td>E</td>\n",
       "      <td>2.56</td>\n",
       "    </tr>\n",
       "    <tr>\n",
       "      <td>1190</td>\n",
       "      <td>Need for Speed: Most Wanted</td>\n",
       "      <td>X360</td>\n",
       "      <td>2012</td>\n",
       "      <td>Racing</td>\n",
       "      <td>0.62</td>\n",
       "      <td>0.78</td>\n",
       "      <td>0.01</td>\n",
       "      <td>0.15</td>\n",
       "      <td>83.0</td>\n",
       "      <td>8.5</td>\n",
       "      <td>T</td>\n",
       "      <td>1.56</td>\n",
       "    </tr>\n",
       "    <tr>\n",
       "      <td>1591</td>\n",
       "      <td>Need for Speed: Most Wanted</td>\n",
       "      <td>X360</td>\n",
       "      <td>2005</td>\n",
       "      <td>Racing</td>\n",
       "      <td>1.00</td>\n",
       "      <td>0.13</td>\n",
       "      <td>0.02</td>\n",
       "      <td>0.10</td>\n",
       "      <td>83.0</td>\n",
       "      <td>8.5</td>\n",
       "      <td>T</td>\n",
       "      <td>1.25</td>\n",
       "    </tr>\n",
       "    <tr>\n",
       "      <td>5972</td>\n",
       "      <td>Need for Speed: Most Wanted</td>\n",
       "      <td>PC</td>\n",
       "      <td>2005</td>\n",
       "      <td>Racing</td>\n",
       "      <td>0.02</td>\n",
       "      <td>0.23</td>\n",
       "      <td>0.00</td>\n",
       "      <td>0.04</td>\n",
       "      <td>82.0</td>\n",
       "      <td>8.5</td>\n",
       "      <td>T</td>\n",
       "      <td>0.29</td>\n",
       "    </tr>\n",
       "    <tr>\n",
       "      <td>11715</td>\n",
       "      <td>Need for Speed: Most Wanted</td>\n",
       "      <td>PC</td>\n",
       "      <td>2012</td>\n",
       "      <td>Racing</td>\n",
       "      <td>0.00</td>\n",
       "      <td>0.06</td>\n",
       "      <td>0.00</td>\n",
       "      <td>0.02</td>\n",
       "      <td>82.0</td>\n",
       "      <td>8.5</td>\n",
       "      <td>T</td>\n",
       "      <td>0.08</td>\n",
       "    </tr>\n",
       "    <tr>\n",
       "      <td>16230</td>\n",
       "      <td>Madden NFL 13</td>\n",
       "      <td>PS3</td>\n",
       "      <td>2012</td>\n",
       "      <td>Sports</td>\n",
       "      <td>0.00</td>\n",
       "      <td>0.01</td>\n",
       "      <td>0.00</td>\n",
       "      <td>0.00</td>\n",
       "      <td>83.0</td>\n",
       "      <td>5.5</td>\n",
       "      <td>E</td>\n",
       "      <td>0.01</td>\n",
       "    </tr>\n",
       "  </tbody>\n",
       "</table>\n",
       "</div>"
      ],
      "text/plain": [
       "                              name platform  year_of_release   genre  \\\n",
       "604                  Madden NFL 13      PS3             2012  Sports   \n",
       "1190   Need for Speed: Most Wanted     X360             2012  Racing   \n",
       "1591   Need for Speed: Most Wanted     X360             2005  Racing   \n",
       "5972   Need for Speed: Most Wanted       PC             2005  Racing   \n",
       "11715  Need for Speed: Most Wanted       PC             2012  Racing   \n",
       "16230                Madden NFL 13      PS3             2012  Sports   \n",
       "\n",
       "       na_sales  eu_sales  jp_sales  other_sales  critic_score  user_score  \\\n",
       "604        2.11      0.22      0.00         0.23          83.0         5.5   \n",
       "1190       0.62      0.78      0.01         0.15          83.0         8.5   \n",
       "1591       1.00      0.13      0.02         0.10          83.0         8.5   \n",
       "5972       0.02      0.23      0.00         0.04          82.0         8.5   \n",
       "11715      0.00      0.06      0.00         0.02          82.0         8.5   \n",
       "16230      0.00      0.01      0.00         0.00          83.0         5.5   \n",
       "\n",
       "      rating  total_sales  \n",
       "604        E         2.56  \n",
       "1190       T         1.56  \n",
       "1591       T         1.25  \n",
       "5972       T         0.29  \n",
       "11715      T         0.08  \n",
       "16230      E         0.01  "
      ]
     },
     "execution_count": 193,
     "metadata": {},
     "output_type": "execute_result"
    }
   ],
   "source": [
    "# код ревьюера:\n",
    "data[data[['name','platform']].duplicated(keep=False)]"
   ]
  },
  {
   "cell_type": "markdown",
   "metadata": {},
   "source": [
    "### ВЫВОД"
   ]
  },
  {
   "cell_type": "markdown",
   "metadata": {},
   "source": [
    "Мы провели подготовку данных к анализу и выполнили ряд операций: \n",
    "\n",
    "- привели к нижнему регистру названия столбцов\n",
    "- изменили типы данных, для корректной обработки значений в дальнейшем\n",
    "- убрали незначительные пропуски (< 5%)\n",
    "- выяснили причины глобальных пропусков в данных\n",
    "- добавили столбик с суммарными продажами по всем регионам"
   ]
  },
  {
   "cell_type": "markdown",
   "metadata": {},
   "source": [
    "## АНАЛИЗ ДАННЫХ"
   ]
  },
  {
   "cell_type": "markdown",
   "metadata": {},
   "source": [
    "### РАСПРЕДЕЛЕНИЕ ПРОДАЖ ПО ГОДАМ"
   ]
  },
  {
   "cell_type": "code",
   "execution_count": 29,
   "metadata": {},
   "outputs": [
    {
     "data": {
      "image/png": "[encoded data removed]",
      "text/plain": [
       "<Figure size 432x288 with 1 Axes>"
      ]
     },
     "metadata": {
      "needs_background": "light"
     },
     "output_type": "display_data"
    }
   ],
   "source": [
    "data['year_of_release'].plot.hist(bins = len(data['year_of_release'].unique()))\n",
    "plt.xlabel('year')\n",
    "plt.ylabel('sales')\n",
    "plt.title('РАСПРЕДЕЛЕНИЕ ПРОДАЖ ПО ГОДАМ')\n",
    "plt.grid(True)\n",
    "plt.show()"
   ]
  },
  {
   "cell_type": "code",
   "execution_count": 31,
   "metadata": {},
   "outputs": [
    {
     "data": {
      "image/png": "[encoded data removed]",
      "text/plain": [
       "<Figure size 432x288 with 1 Axes>"
      ]
     },
     "metadata": {
      "needs_background": "light"
     },
     "output_type": "display_data"
    }
   ],
   "source": [
    "data.boxplot(column = ['year_of_release'])\n",
    "plt.ylabel('year')\n",
    "plt.title('boxplot for years')\n",
    "plt.show()"
   ]
  },
  {
   "cell_type": "markdown",
   "metadata": {},
   "source": [
    "Очевидно, что нам нет необходимости рассматривать данные < 1995 года, так как их количество незначительно и больше похоже на выброс. Оформим новый датафрейм в соответствие с этим условием:"
   ]
  },
  {
   "cell_type": "code",
   "execution_count": 32,
   "metadata": {},
   "outputs": [],
   "source": [
    "data_upd = data.query('year_of_release >= 1995')"
   ]
  },
  {
   "cell_type": "markdown",
   "metadata": {},
   "source": [
    "**ВЫВОД**\n",
    "\n",
    "После 2000 года наблюдается резкий подъем в продажах игр, что, скорее всего, связано с активным развитием игровых платформ нового поколения: PS2, PS3, Xbox360 - соответственно этот фактор и привел к активному выходу новых игр и росту их продаж. \n",
    "    \n",
    "Следущее изменение мы можем наблюдать после 2010 года, где, судя по всему, наблюдается замедление в развитии платформ: они начинают выходить более редко, но каждый раз с более существенными апдейтами, так как технологический прогресс становится сложнее.\n",
    "    \n",
    "Скорее всего, следующий такой всплеск ждёт нас уже в 2017-2018 году, когда на максимальные обороты выйдет PS4, а также её конкуренты, которые дополнительно расширят географию спроса, создав свои платформы. "
   ]
  },
  {
   "cell_type": "markdown",
   "metadata": {},
   "source": [
    "### РАСПРЕДЕЛЕНИЕ ПРОДАЖ ПО ПЛАТФОРМАМ"
   ]
  },
  {
   "cell_type": "code",
   "execution_count": 33,
   "metadata": {},
   "outputs": [],
   "source": [
    "data_top_platform = data_upd.pivot_table(index='platform'\n",
    "                                         , values='total_sales'\n",
    "                                         , aggfunc = 'sum'\n",
    "                                        ).sort_values(by='total_sales'\n",
    "                                                      ,ascending = False\n",
    "                                                     ).head(10)"
   ]
  },
  {
   "cell_type": "code",
   "execution_count": 34,
   "metadata": {},
   "outputs": [
    {
     "data": {
      "text/html": [
       "<div>\n",
       "<style scoped>\n",
       "    .dataframe tbody tr th:only-of-type {\n",
       "        vertical-align: middle;\n",
       "    }\n",
       "\n",
       "    .dataframe tbody tr th {\n",
       "        vertical-align: top;\n",
       "    }\n",
       "\n",
       "    .dataframe thead th {\n",
       "        text-align: right;\n",
       "    }\n",
       "</style>\n",
       "<table border=\"1\" class=\"dataframe\">\n",
       "  <thead>\n",
       "    <tr style=\"text-align: right;\">\n",
       "      <th></th>\n",
       "      <th>total_sales</th>\n",
       "    </tr>\n",
       "    <tr>\n",
       "      <th>platform</th>\n",
       "      <th></th>\n",
       "    </tr>\n",
       "  </thead>\n",
       "  <tbody>\n",
       "    <tr>\n",
       "      <td>PS2</td>\n",
       "      <td>1233.56</td>\n",
       "    </tr>\n",
       "    <tr>\n",
       "      <td>X360</td>\n",
       "      <td>961.24</td>\n",
       "    </tr>\n",
       "    <tr>\n",
       "      <td>PS3</td>\n",
       "      <td>931.34</td>\n",
       "    </tr>\n",
       "    <tr>\n",
       "      <td>Wii</td>\n",
       "      <td>891.18</td>\n",
       "    </tr>\n",
       "    <tr>\n",
       "      <td>DS</td>\n",
       "      <td>802.76</td>\n",
       "    </tr>\n",
       "    <tr>\n",
       "      <td>PS</td>\n",
       "      <td>721.55</td>\n",
       "    </tr>\n",
       "    <tr>\n",
       "      <td>PS4</td>\n",
       "      <td>314.14</td>\n",
       "    </tr>\n",
       "    <tr>\n",
       "      <td>GBA</td>\n",
       "      <td>312.88</td>\n",
       "    </tr>\n",
       "    <tr>\n",
       "      <td>PSP</td>\n",
       "      <td>289.53</td>\n",
       "    </tr>\n",
       "    <tr>\n",
       "      <td>3DS</td>\n",
       "      <td>257.81</td>\n",
       "    </tr>\n",
       "  </tbody>\n",
       "</table>\n",
       "</div>"
      ],
      "text/plain": [
       "          total_sales\n",
       "platform             \n",
       "PS2           1233.56\n",
       "X360           961.24\n",
       "PS3            931.34\n",
       "Wii            891.18\n",
       "DS             802.76\n",
       "PS             721.55\n",
       "PS4            314.14\n",
       "GBA            312.88\n",
       "PSP            289.53\n",
       "3DS            257.81"
      ]
     },
     "execution_count": 34,
     "metadata": {},
     "output_type": "execute_result"
    }
   ],
   "source": [
    "data_top_platform"
   ]
  },
  {
   "cell_type": "markdown",
   "metadata": {},
   "source": [
    "Вывод: \n",
    "    \n",
    "Очевидное лидерство платформы PS2 может объяснить нам всплеск продаж в начале 00-х годов. Именно тогда начинается эра приставок PS, которые в последствии передают друг лидирующие позиции и незначительно уступают лишь X360 и DS,Wii. Но для более объективных выводов нам необходимо провести более глубокий анализ данных. "
   ]
  },
  {
   "cell_type": "markdown",
   "metadata": {},
   "source": [
    "### РАСПРЕДЕЛЕНИЕ ПРОДАЖ ТОП-10 ПЛАТФОРМ ПО ГОДАМ"
   ]
  },
  {
   "cell_type": "code",
   "execution_count": 35,
   "metadata": {},
   "outputs": [],
   "source": [
    "data_PS4 = data_upd.query('platform == \"PS4\"').pivot_table(values = 'total_sales'\n",
    "                                   , index = 'year_of_release'\n",
    "                                   , aggfunc='sum')"
   ]
  },
  {
   "cell_type": "code",
   "execution_count": 36,
   "metadata": {},
   "outputs": [
    {
     "data": {
      "text/html": [
       "<div>\n",
       "<style scoped>\n",
       "    .dataframe tbody tr th:only-of-type {\n",
       "        vertical-align: middle;\n",
       "    }\n",
       "\n",
       "    .dataframe tbody tr th {\n",
       "        vertical-align: top;\n",
       "    }\n",
       "\n",
       "    .dataframe thead th {\n",
       "        text-align: right;\n",
       "    }\n",
       "</style>\n",
       "<table border=\"1\" class=\"dataframe\">\n",
       "  <thead>\n",
       "    <tr style=\"text-align: right;\">\n",
       "      <th></th>\n",
       "      <th>total_sales</th>\n",
       "    </tr>\n",
       "    <tr>\n",
       "      <th>year_of_release</th>\n",
       "      <th></th>\n",
       "    </tr>\n",
       "  </thead>\n",
       "  <tbody>\n",
       "    <tr>\n",
       "      <td>2013</td>\n",
       "      <td>25.99</td>\n",
       "    </tr>\n",
       "    <tr>\n",
       "      <td>2014</td>\n",
       "      <td>100.00</td>\n",
       "    </tr>\n",
       "    <tr>\n",
       "      <td>2015</td>\n",
       "      <td>118.90</td>\n",
       "    </tr>\n",
       "    <tr>\n",
       "      <td>2016</td>\n",
       "      <td>69.25</td>\n",
       "    </tr>\n",
       "  </tbody>\n",
       "</table>\n",
       "</div>"
      ],
      "text/plain": [
       "                 total_sales\n",
       "year_of_release             \n",
       "2013                   25.99\n",
       "2014                  100.00\n",
       "2015                  118.90\n",
       "2016                   69.25"
      ]
     },
     "execution_count": 36,
     "metadata": {},
     "output_type": "execute_result"
    }
   ],
   "source": [
    "data_PS4"
   ]
  },
  {
   "cell_type": "code",
   "execution_count": 37,
   "metadata": {},
   "outputs": [],
   "source": [
    "data_PS3 = data_upd.query('platform == \"PS3\"').pivot_table(values = 'total_sales'\n",
    "                                   , index = 'year_of_release'\n",
    "                                   , aggfunc='sum')"
   ]
  },
  {
   "cell_type": "code",
   "execution_count": 38,
   "metadata": {},
   "outputs": [
    {
     "data": {
      "text/html": [
       "<div>\n",
       "<style scoped>\n",
       "    .dataframe tbody tr th:only-of-type {\n",
       "        vertical-align: middle;\n",
       "    }\n",
       "\n",
       "    .dataframe tbody tr th {\n",
       "        vertical-align: top;\n",
       "    }\n",
       "\n",
       "    .dataframe thead th {\n",
       "        text-align: right;\n",
       "    }\n",
       "</style>\n",
       "<table border=\"1\" class=\"dataframe\">\n",
       "  <thead>\n",
       "    <tr style=\"text-align: right;\">\n",
       "      <th></th>\n",
       "      <th>total_sales</th>\n",
       "    </tr>\n",
       "    <tr>\n",
       "      <th>year_of_release</th>\n",
       "      <th></th>\n",
       "    </tr>\n",
       "  </thead>\n",
       "  <tbody>\n",
       "    <tr>\n",
       "      <td>2006</td>\n",
       "      <td>20.96</td>\n",
       "    </tr>\n",
       "    <tr>\n",
       "      <td>2007</td>\n",
       "      <td>73.19</td>\n",
       "    </tr>\n",
       "    <tr>\n",
       "      <td>2008</td>\n",
       "      <td>118.52</td>\n",
       "    </tr>\n",
       "    <tr>\n",
       "      <td>2009</td>\n",
       "      <td>130.93</td>\n",
       "    </tr>\n",
       "    <tr>\n",
       "      <td>2010</td>\n",
       "      <td>142.17</td>\n",
       "    </tr>\n",
       "    <tr>\n",
       "      <td>2011</td>\n",
       "      <td>156.78</td>\n",
       "    </tr>\n",
       "    <tr>\n",
       "      <td>2012</td>\n",
       "      <td>107.36</td>\n",
       "    </tr>\n",
       "    <tr>\n",
       "      <td>2013</td>\n",
       "      <td>113.25</td>\n",
       "    </tr>\n",
       "    <tr>\n",
       "      <td>2014</td>\n",
       "      <td>47.76</td>\n",
       "    </tr>\n",
       "    <tr>\n",
       "      <td>2015</td>\n",
       "      <td>16.82</td>\n",
       "    </tr>\n",
       "    <tr>\n",
       "      <td>2016</td>\n",
       "      <td>3.60</td>\n",
       "    </tr>\n",
       "  </tbody>\n",
       "</table>\n",
       "</div>"
      ],
      "text/plain": [
       "                 total_sales\n",
       "year_of_release             \n",
       "2006                   20.96\n",
       "2007                   73.19\n",
       "2008                  118.52\n",
       "2009                  130.93\n",
       "2010                  142.17\n",
       "2011                  156.78\n",
       "2012                  107.36\n",
       "2013                  113.25\n",
       "2014                   47.76\n",
       "2015                   16.82\n",
       "2016                    3.60"
      ]
     },
     "execution_count": 38,
     "metadata": {},
     "output_type": "execute_result"
    }
   ],
   "source": [
    "data_PS3"
   ]
  },
  {
   "cell_type": "code",
   "execution_count": 39,
   "metadata": {},
   "outputs": [],
   "source": [
    "data_PS2 = data_upd.query('platform == \"PS2\"').pivot_table(values = 'total_sales'\n",
    "                                   , index = 'year_of_release'\n",
    "                                   , aggfunc='sum')"
   ]
  },
  {
   "cell_type": "code",
   "execution_count": 40,
   "metadata": {},
   "outputs": [
    {
     "data": {
      "text/html": [
       "<div>\n",
       "<style scoped>\n",
       "    .dataframe tbody tr th:only-of-type {\n",
       "        vertical-align: middle;\n",
       "    }\n",
       "\n",
       "    .dataframe tbody tr th {\n",
       "        vertical-align: top;\n",
       "    }\n",
       "\n",
       "    .dataframe thead th {\n",
       "        text-align: right;\n",
       "    }\n",
       "</style>\n",
       "<table border=\"1\" class=\"dataframe\">\n",
       "  <thead>\n",
       "    <tr style=\"text-align: right;\">\n",
       "      <th></th>\n",
       "      <th>total_sales</th>\n",
       "    </tr>\n",
       "    <tr>\n",
       "      <th>year_of_release</th>\n",
       "      <th></th>\n",
       "    </tr>\n",
       "  </thead>\n",
       "  <tbody>\n",
       "    <tr>\n",
       "      <td>2000</td>\n",
       "      <td>39.17</td>\n",
       "    </tr>\n",
       "    <tr>\n",
       "      <td>2001</td>\n",
       "      <td>166.43</td>\n",
       "    </tr>\n",
       "    <tr>\n",
       "      <td>2002</td>\n",
       "      <td>205.38</td>\n",
       "    </tr>\n",
       "    <tr>\n",
       "      <td>2003</td>\n",
       "      <td>184.31</td>\n",
       "    </tr>\n",
       "    <tr>\n",
       "      <td>2004</td>\n",
       "      <td>211.81</td>\n",
       "    </tr>\n",
       "    <tr>\n",
       "      <td>2005</td>\n",
       "      <td>160.66</td>\n",
       "    </tr>\n",
       "    <tr>\n",
       "      <td>2006</td>\n",
       "      <td>103.42</td>\n",
       "    </tr>\n",
       "    <tr>\n",
       "      <td>2007</td>\n",
       "      <td>75.99</td>\n",
       "    </tr>\n",
       "    <tr>\n",
       "      <td>2008</td>\n",
       "      <td>53.90</td>\n",
       "    </tr>\n",
       "    <tr>\n",
       "      <td>2009</td>\n",
       "      <td>26.40</td>\n",
       "    </tr>\n",
       "    <tr>\n",
       "      <td>2010</td>\n",
       "      <td>5.64</td>\n",
       "    </tr>\n",
       "    <tr>\n",
       "      <td>2011</td>\n",
       "      <td>0.45</td>\n",
       "    </tr>\n",
       "  </tbody>\n",
       "</table>\n",
       "</div>"
      ],
      "text/plain": [
       "                 total_sales\n",
       "year_of_release             \n",
       "2000                   39.17\n",
       "2001                  166.43\n",
       "2002                  205.38\n",
       "2003                  184.31\n",
       "2004                  211.81\n",
       "2005                  160.66\n",
       "2006                  103.42\n",
       "2007                   75.99\n",
       "2008                   53.90\n",
       "2009                   26.40\n",
       "2010                    5.64\n",
       "2011                    0.45"
      ]
     },
     "execution_count": 40,
     "metadata": {},
     "output_type": "execute_result"
    }
   ],
   "source": [
    "data_PS2"
   ]
  },
  {
   "cell_type": "code",
   "execution_count": 41,
   "metadata": {},
   "outputs": [],
   "source": [
    "data_PS = data_upd.query('platform == \"PS\"').pivot_table(values = 'total_sales'\n",
    "                                   , index = 'year_of_release'\n",
    "                                   , aggfunc='sum')"
   ]
  },
  {
   "cell_type": "code",
   "execution_count": 42,
   "metadata": {},
   "outputs": [
    {
     "data": {
      "text/html": [
       "<div>\n",
       "<style scoped>\n",
       "    .dataframe tbody tr th:only-of-type {\n",
       "        vertical-align: middle;\n",
       "    }\n",
       "\n",
       "    .dataframe tbody tr th {\n",
       "        vertical-align: top;\n",
       "    }\n",
       "\n",
       "    .dataframe thead th {\n",
       "        text-align: right;\n",
       "    }\n",
       "</style>\n",
       "<table border=\"1\" class=\"dataframe\">\n",
       "  <thead>\n",
       "    <tr style=\"text-align: right;\">\n",
       "      <th></th>\n",
       "      <th>total_sales</th>\n",
       "    </tr>\n",
       "    <tr>\n",
       "      <th>year_of_release</th>\n",
       "      <th></th>\n",
       "    </tr>\n",
       "  </thead>\n",
       "  <tbody>\n",
       "    <tr>\n",
       "      <td>1995</td>\n",
       "      <td>35.96</td>\n",
       "    </tr>\n",
       "    <tr>\n",
       "      <td>1996</td>\n",
       "      <td>94.70</td>\n",
       "    </tr>\n",
       "    <tr>\n",
       "      <td>1997</td>\n",
       "      <td>136.17</td>\n",
       "    </tr>\n",
       "    <tr>\n",
       "      <td>1998</td>\n",
       "      <td>169.49</td>\n",
       "    </tr>\n",
       "    <tr>\n",
       "      <td>1999</td>\n",
       "      <td>144.53</td>\n",
       "    </tr>\n",
       "    <tr>\n",
       "      <td>2000</td>\n",
       "      <td>96.37</td>\n",
       "    </tr>\n",
       "    <tr>\n",
       "      <td>2001</td>\n",
       "      <td>35.59</td>\n",
       "    </tr>\n",
       "    <tr>\n",
       "      <td>2002</td>\n",
       "      <td>6.67</td>\n",
       "    </tr>\n",
       "    <tr>\n",
       "      <td>2003</td>\n",
       "      <td>2.07</td>\n",
       "    </tr>\n",
       "  </tbody>\n",
       "</table>\n",
       "</div>"
      ],
      "text/plain": [
       "                 total_sales\n",
       "year_of_release             \n",
       "1995                   35.96\n",
       "1996                   94.70\n",
       "1997                  136.17\n",
       "1998                  169.49\n",
       "1999                  144.53\n",
       "2000                   96.37\n",
       "2001                   35.59\n",
       "2002                    6.67\n",
       "2003                    2.07"
      ]
     },
     "execution_count": 42,
     "metadata": {},
     "output_type": "execute_result"
    }
   ],
   "source": [
    "data_PS"
   ]
  },
  {
   "cell_type": "code",
   "execution_count": 43,
   "metadata": {},
   "outputs": [],
   "source": [
    "data_X360 = data_upd.query('platform == \"X360\"').pivot_table(values = 'total_sales'\n",
    "                                   , index = 'year_of_release'\n",
    "                                   , aggfunc='sum')"
   ]
  },
  {
   "cell_type": "code",
   "execution_count": 44,
   "metadata": {},
   "outputs": [
    {
     "data": {
      "text/html": [
       "<div>\n",
       "<style scoped>\n",
       "    .dataframe tbody tr th:only-of-type {\n",
       "        vertical-align: middle;\n",
       "    }\n",
       "\n",
       "    .dataframe tbody tr th {\n",
       "        vertical-align: top;\n",
       "    }\n",
       "\n",
       "    .dataframe thead th {\n",
       "        text-align: right;\n",
       "    }\n",
       "</style>\n",
       "<table border=\"1\" class=\"dataframe\">\n",
       "  <thead>\n",
       "    <tr style=\"text-align: right;\">\n",
       "      <th></th>\n",
       "      <th>total_sales</th>\n",
       "    </tr>\n",
       "    <tr>\n",
       "      <th>year_of_release</th>\n",
       "      <th></th>\n",
       "    </tr>\n",
       "  </thead>\n",
       "  <tbody>\n",
       "    <tr>\n",
       "      <td>2005</td>\n",
       "      <td>8.25</td>\n",
       "    </tr>\n",
       "    <tr>\n",
       "      <td>2006</td>\n",
       "      <td>51.62</td>\n",
       "    </tr>\n",
       "    <tr>\n",
       "      <td>2007</td>\n",
       "      <td>95.41</td>\n",
       "    </tr>\n",
       "    <tr>\n",
       "      <td>2008</td>\n",
       "      <td>135.26</td>\n",
       "    </tr>\n",
       "    <tr>\n",
       "      <td>2009</td>\n",
       "      <td>120.29</td>\n",
       "    </tr>\n",
       "    <tr>\n",
       "      <td>2010</td>\n",
       "      <td>170.03</td>\n",
       "    </tr>\n",
       "    <tr>\n",
       "      <td>2011</td>\n",
       "      <td>143.84</td>\n",
       "    </tr>\n",
       "    <tr>\n",
       "      <td>2012</td>\n",
       "      <td>99.74</td>\n",
       "    </tr>\n",
       "    <tr>\n",
       "      <td>2013</td>\n",
       "      <td>88.58</td>\n",
       "    </tr>\n",
       "    <tr>\n",
       "      <td>2014</td>\n",
       "      <td>34.74</td>\n",
       "    </tr>\n",
       "    <tr>\n",
       "      <td>2015</td>\n",
       "      <td>11.96</td>\n",
       "    </tr>\n",
       "    <tr>\n",
       "      <td>2016</td>\n",
       "      <td>1.52</td>\n",
       "    </tr>\n",
       "  </tbody>\n",
       "</table>\n",
       "</div>"
      ],
      "text/plain": [
       "                 total_sales\n",
       "year_of_release             \n",
       "2005                    8.25\n",
       "2006                   51.62\n",
       "2007                   95.41\n",
       "2008                  135.26\n",
       "2009                  120.29\n",
       "2010                  170.03\n",
       "2011                  143.84\n",
       "2012                   99.74\n",
       "2013                   88.58\n",
       "2014                   34.74\n",
       "2015                   11.96\n",
       "2016                    1.52"
      ]
     },
     "execution_count": 44,
     "metadata": {},
     "output_type": "execute_result"
    }
   ],
   "source": [
    "data_X360"
   ]
  },
  {
   "cell_type": "code",
   "execution_count": 45,
   "metadata": {},
   "outputs": [],
   "source": [
    "data_Wii = data_upd.query('platform == \"Wii\"').pivot_table(values = 'total_sales'\n",
    "                                   , index = 'year_of_release'\n",
    "                                   , aggfunc='sum')"
   ]
  },
  {
   "cell_type": "code",
   "execution_count": 46,
   "metadata": {},
   "outputs": [
    {
     "data": {
      "text/html": [
       "<div>\n",
       "<style scoped>\n",
       "    .dataframe tbody tr th:only-of-type {\n",
       "        vertical-align: middle;\n",
       "    }\n",
       "\n",
       "    .dataframe tbody tr th {\n",
       "        vertical-align: top;\n",
       "    }\n",
       "\n",
       "    .dataframe thead th {\n",
       "        text-align: right;\n",
       "    }\n",
       "</style>\n",
       "<table border=\"1\" class=\"dataframe\">\n",
       "  <thead>\n",
       "    <tr style=\"text-align: right;\">\n",
       "      <th></th>\n",
       "      <th>total_sales</th>\n",
       "    </tr>\n",
       "    <tr>\n",
       "      <th>year_of_release</th>\n",
       "      <th></th>\n",
       "    </tr>\n",
       "  </thead>\n",
       "  <tbody>\n",
       "    <tr>\n",
       "      <td>2006</td>\n",
       "      <td>137.15</td>\n",
       "    </tr>\n",
       "    <tr>\n",
       "      <td>2007</td>\n",
       "      <td>152.77</td>\n",
       "    </tr>\n",
       "    <tr>\n",
       "      <td>2008</td>\n",
       "      <td>171.32</td>\n",
       "    </tr>\n",
       "    <tr>\n",
       "      <td>2009</td>\n",
       "      <td>206.97</td>\n",
       "    </tr>\n",
       "    <tr>\n",
       "      <td>2010</td>\n",
       "      <td>127.95</td>\n",
       "    </tr>\n",
       "    <tr>\n",
       "      <td>2011</td>\n",
       "      <td>59.65</td>\n",
       "    </tr>\n",
       "    <tr>\n",
       "      <td>2012</td>\n",
       "      <td>21.71</td>\n",
       "    </tr>\n",
       "    <tr>\n",
       "      <td>2013</td>\n",
       "      <td>8.59</td>\n",
       "    </tr>\n",
       "    <tr>\n",
       "      <td>2014</td>\n",
       "      <td>3.75</td>\n",
       "    </tr>\n",
       "    <tr>\n",
       "      <td>2015</td>\n",
       "      <td>1.14</td>\n",
       "    </tr>\n",
       "    <tr>\n",
       "      <td>2016</td>\n",
       "      <td>0.18</td>\n",
       "    </tr>\n",
       "  </tbody>\n",
       "</table>\n",
       "</div>"
      ],
      "text/plain": [
       "                 total_sales\n",
       "year_of_release             \n",
       "2006                  137.15\n",
       "2007                  152.77\n",
       "2008                  171.32\n",
       "2009                  206.97\n",
       "2010                  127.95\n",
       "2011                   59.65\n",
       "2012                   21.71\n",
       "2013                    8.59\n",
       "2014                    3.75\n",
       "2015                    1.14\n",
       "2016                    0.18"
      ]
     },
     "execution_count": 46,
     "metadata": {},
     "output_type": "execute_result"
    }
   ],
   "source": [
    "data_Wii"
   ]
  },
  {
   "cell_type": "code",
   "execution_count": 47,
   "metadata": {},
   "outputs": [],
   "source": [
    "data_DS = data_upd.query('platform == \"DS\"').pivot_table(values = 'total_sales'\n",
    "                                   , index = 'year_of_release'\n",
    "                                   , aggfunc='sum')"
   ]
  },
  {
   "cell_type": "code",
   "execution_count": 48,
   "metadata": {},
   "outputs": [
    {
     "data": {
      "text/html": [
       "<div>\n",
       "<style scoped>\n",
       "    .dataframe tbody tr th:only-of-type {\n",
       "        vertical-align: middle;\n",
       "    }\n",
       "\n",
       "    .dataframe tbody tr th {\n",
       "        vertical-align: top;\n",
       "    }\n",
       "\n",
       "    .dataframe thead th {\n",
       "        text-align: right;\n",
       "    }\n",
       "</style>\n",
       "<table border=\"1\" class=\"dataframe\">\n",
       "  <thead>\n",
       "    <tr style=\"text-align: right;\">\n",
       "      <th></th>\n",
       "      <th>total_sales</th>\n",
       "    </tr>\n",
       "    <tr>\n",
       "      <th>year_of_release</th>\n",
       "      <th></th>\n",
       "    </tr>\n",
       "  </thead>\n",
       "  <tbody>\n",
       "    <tr>\n",
       "      <td>2004</td>\n",
       "      <td>17.27</td>\n",
       "    </tr>\n",
       "    <tr>\n",
       "      <td>2005</td>\n",
       "      <td>130.14</td>\n",
       "    </tr>\n",
       "    <tr>\n",
       "      <td>2006</td>\n",
       "      <td>119.81</td>\n",
       "    </tr>\n",
       "    <tr>\n",
       "      <td>2007</td>\n",
       "      <td>146.94</td>\n",
       "    </tr>\n",
       "    <tr>\n",
       "      <td>2008</td>\n",
       "      <td>145.31</td>\n",
       "    </tr>\n",
       "    <tr>\n",
       "      <td>2009</td>\n",
       "      <td>119.54</td>\n",
       "    </tr>\n",
       "    <tr>\n",
       "      <td>2010</td>\n",
       "      <td>85.02</td>\n",
       "    </tr>\n",
       "    <tr>\n",
       "      <td>2011</td>\n",
       "      <td>26.18</td>\n",
       "    </tr>\n",
       "    <tr>\n",
       "      <td>2012</td>\n",
       "      <td>11.01</td>\n",
       "    </tr>\n",
       "    <tr>\n",
       "      <td>2013</td>\n",
       "      <td>1.54</td>\n",
       "    </tr>\n",
       "  </tbody>\n",
       "</table>\n",
       "</div>"
      ],
      "text/plain": [
       "                 total_sales\n",
       "year_of_release             \n",
       "2004                   17.27\n",
       "2005                  130.14\n",
       "2006                  119.81\n",
       "2007                  146.94\n",
       "2008                  145.31\n",
       "2009                  119.54\n",
       "2010                   85.02\n",
       "2011                   26.18\n",
       "2012                   11.01\n",
       "2013                    1.54"
      ]
     },
     "execution_count": 48,
     "metadata": {},
     "output_type": "execute_result"
    }
   ],
   "source": [
    "data_DS"
   ]
  },
  {
   "cell_type": "code",
   "execution_count": 49,
   "metadata": {},
   "outputs": [],
   "source": [
    "data_GBA = data_upd.query('platform == \"GBA\"').pivot_table(values = 'total_sales'\n",
    "                                   , index = 'year_of_release'\n",
    "                                   , aggfunc='sum')"
   ]
  },
  {
   "cell_type": "code",
   "execution_count": 50,
   "metadata": {},
   "outputs": [
    {
     "data": {
      "text/html": [
       "<div>\n",
       "<style scoped>\n",
       "    .dataframe tbody tr th:only-of-type {\n",
       "        vertical-align: middle;\n",
       "    }\n",
       "\n",
       "    .dataframe tbody tr th {\n",
       "        vertical-align: top;\n",
       "    }\n",
       "\n",
       "    .dataframe thead th {\n",
       "        text-align: right;\n",
       "    }\n",
       "</style>\n",
       "<table border=\"1\" class=\"dataframe\">\n",
       "  <thead>\n",
       "    <tr style=\"text-align: right;\">\n",
       "      <th></th>\n",
       "      <th>total_sales</th>\n",
       "    </tr>\n",
       "    <tr>\n",
       "      <th>year_of_release</th>\n",
       "      <th></th>\n",
       "    </tr>\n",
       "  </thead>\n",
       "  <tbody>\n",
       "    <tr>\n",
       "      <td>2000</td>\n",
       "      <td>0.07</td>\n",
       "    </tr>\n",
       "    <tr>\n",
       "      <td>2001</td>\n",
       "      <td>61.53</td>\n",
       "    </tr>\n",
       "    <tr>\n",
       "      <td>2002</td>\n",
       "      <td>74.16</td>\n",
       "    </tr>\n",
       "    <tr>\n",
       "      <td>2003</td>\n",
       "      <td>56.67</td>\n",
       "    </tr>\n",
       "    <tr>\n",
       "      <td>2004</td>\n",
       "      <td>77.91</td>\n",
       "    </tr>\n",
       "    <tr>\n",
       "      <td>2005</td>\n",
       "      <td>33.86</td>\n",
       "    </tr>\n",
       "    <tr>\n",
       "      <td>2006</td>\n",
       "      <td>5.28</td>\n",
       "    </tr>\n",
       "    <tr>\n",
       "      <td>2007</td>\n",
       "      <td>3.40</td>\n",
       "    </tr>\n",
       "  </tbody>\n",
       "</table>\n",
       "</div>"
      ],
      "text/plain": [
       "                 total_sales\n",
       "year_of_release             \n",
       "2000                    0.07\n",
       "2001                   61.53\n",
       "2002                   74.16\n",
       "2003                   56.67\n",
       "2004                   77.91\n",
       "2005                   33.86\n",
       "2006                    5.28\n",
       "2007                    3.40"
      ]
     },
     "execution_count": 50,
     "metadata": {},
     "output_type": "execute_result"
    }
   ],
   "source": [
    "data_GBA"
   ]
  },
  {
   "cell_type": "code",
   "execution_count": 51,
   "metadata": {},
   "outputs": [],
   "source": [
    "data_PSP = data_upd.query('platform == \"PSP\"').pivot_table(values = 'total_sales'\n",
    "                                   , index = 'year_of_release'\n",
    "                                   , aggfunc='sum')"
   ]
  },
  {
   "cell_type": "code",
   "execution_count": 52,
   "metadata": {},
   "outputs": [
    {
     "data": {
      "text/html": [
       "<div>\n",
       "<style scoped>\n",
       "    .dataframe tbody tr th:only-of-type {\n",
       "        vertical-align: middle;\n",
       "    }\n",
       "\n",
       "    .dataframe tbody tr th {\n",
       "        vertical-align: top;\n",
       "    }\n",
       "\n",
       "    .dataframe thead th {\n",
       "        text-align: right;\n",
       "    }\n",
       "</style>\n",
       "<table border=\"1\" class=\"dataframe\">\n",
       "  <thead>\n",
       "    <tr style=\"text-align: right;\">\n",
       "      <th></th>\n",
       "      <th>total_sales</th>\n",
       "    </tr>\n",
       "    <tr>\n",
       "      <th>year_of_release</th>\n",
       "      <th></th>\n",
       "    </tr>\n",
       "  </thead>\n",
       "  <tbody>\n",
       "    <tr>\n",
       "      <td>2004</td>\n",
       "      <td>7.06</td>\n",
       "    </tr>\n",
       "    <tr>\n",
       "      <td>2005</td>\n",
       "      <td>43.84</td>\n",
       "    </tr>\n",
       "    <tr>\n",
       "      <td>2006</td>\n",
       "      <td>55.32</td>\n",
       "    </tr>\n",
       "    <tr>\n",
       "      <td>2007</td>\n",
       "      <td>46.93</td>\n",
       "    </tr>\n",
       "    <tr>\n",
       "      <td>2008</td>\n",
       "      <td>34.55</td>\n",
       "    </tr>\n",
       "    <tr>\n",
       "      <td>2009</td>\n",
       "      <td>37.78</td>\n",
       "    </tr>\n",
       "    <tr>\n",
       "      <td>2010</td>\n",
       "      <td>35.04</td>\n",
       "    </tr>\n",
       "    <tr>\n",
       "      <td>2011</td>\n",
       "      <td>17.82</td>\n",
       "    </tr>\n",
       "    <tr>\n",
       "      <td>2012</td>\n",
       "      <td>7.69</td>\n",
       "    </tr>\n",
       "    <tr>\n",
       "      <td>2013</td>\n",
       "      <td>3.14</td>\n",
       "    </tr>\n",
       "    <tr>\n",
       "      <td>2014</td>\n",
       "      <td>0.24</td>\n",
       "    </tr>\n",
       "    <tr>\n",
       "      <td>2015</td>\n",
       "      <td>0.12</td>\n",
       "    </tr>\n",
       "  </tbody>\n",
       "</table>\n",
       "</div>"
      ],
      "text/plain": [
       "                 total_sales\n",
       "year_of_release             \n",
       "2004                    7.06\n",
       "2005                   43.84\n",
       "2006                   55.32\n",
       "2007                   46.93\n",
       "2008                   34.55\n",
       "2009                   37.78\n",
       "2010                   35.04\n",
       "2011                   17.82\n",
       "2012                    7.69\n",
       "2013                    3.14\n",
       "2014                    0.24\n",
       "2015                    0.12"
      ]
     },
     "execution_count": 52,
     "metadata": {},
     "output_type": "execute_result"
    }
   ],
   "source": [
    "data_PSP"
   ]
  },
  {
   "cell_type": "code",
   "execution_count": 53,
   "metadata": {},
   "outputs": [],
   "source": [
    "data_3DS = data_upd.query('platform == \"3DS\"'\n",
    "                     ).pivot_table(values = 'total_sales'\n",
    "                                   , index = 'year_of_release'\n",
    "                                   , aggfunc='sum')"
   ]
  },
  {
   "cell_type": "code",
   "execution_count": 54,
   "metadata": {},
   "outputs": [
    {
     "data": {
      "text/html": [
       "<div>\n",
       "<style scoped>\n",
       "    .dataframe tbody tr th:only-of-type {\n",
       "        vertical-align: middle;\n",
       "    }\n",
       "\n",
       "    .dataframe tbody tr th {\n",
       "        vertical-align: top;\n",
       "    }\n",
       "\n",
       "    .dataframe thead th {\n",
       "        text-align: right;\n",
       "    }\n",
       "</style>\n",
       "<table border=\"1\" class=\"dataframe\">\n",
       "  <thead>\n",
       "    <tr style=\"text-align: right;\">\n",
       "      <th></th>\n",
       "      <th>total_sales</th>\n",
       "    </tr>\n",
       "    <tr>\n",
       "      <th>year_of_release</th>\n",
       "      <th></th>\n",
       "    </tr>\n",
       "  </thead>\n",
       "  <tbody>\n",
       "    <tr>\n",
       "      <td>2011</td>\n",
       "      <td>63.20</td>\n",
       "    </tr>\n",
       "    <tr>\n",
       "      <td>2012</td>\n",
       "      <td>51.36</td>\n",
       "    </tr>\n",
       "    <tr>\n",
       "      <td>2013</td>\n",
       "      <td>56.57</td>\n",
       "    </tr>\n",
       "    <tr>\n",
       "      <td>2014</td>\n",
       "      <td>43.76</td>\n",
       "    </tr>\n",
       "    <tr>\n",
       "      <td>2015</td>\n",
       "      <td>27.78</td>\n",
       "    </tr>\n",
       "    <tr>\n",
       "      <td>2016</td>\n",
       "      <td>15.14</td>\n",
       "    </tr>\n",
       "  </tbody>\n",
       "</table>\n",
       "</div>"
      ],
      "text/plain": [
       "                 total_sales\n",
       "year_of_release             \n",
       "2011                   63.20\n",
       "2012                   51.36\n",
       "2013                   56.57\n",
       "2014                   43.76\n",
       "2015                   27.78\n",
       "2016                   15.14"
      ]
     },
     "execution_count": 54,
     "metadata": {},
     "output_type": "execute_result"
    }
   ],
   "source": [
    "data_3DS"
   ]
  },
  {
   "cell_type": "markdown",
   "metadata": {},
   "source": [
    "Соединим данные по продажам в один датафрейм"
   ]
  },
  {
   "cell_type": "code",
   "execution_count": 55,
   "metadata": {},
   "outputs": [],
   "source": [
    "from functools import reduce"
   ]
  },
  {
   "cell_type": "code",
   "execution_count": 56,
   "metadata": {},
   "outputs": [],
   "source": [
    "data_platform = [data_PS4, data_PS3, data_PS2, data_PS\n",
    "                 , data_X360, data_Wii, data_DS, data_GBA\n",
    "                 , data_PSP, data_3DS]\n",
    "data_platform_merged = reduce(lambda left,right\n",
    "                              : pd.merge(left,right,\n",
    "                                         on=['year_of_release'],\n",
    "                                         how='outer'), \n",
    "                              data_platform)"
   ]
  },
  {
   "cell_type": "code",
   "execution_count": 57,
   "metadata": {},
   "outputs": [
    {
     "data": {
      "text/html": [
       "<div>\n",
       "<style scoped>\n",
       "    .dataframe tbody tr th:only-of-type {\n",
       "        vertical-align: middle;\n",
       "    }\n",
       "\n",
       "    .dataframe tbody tr th {\n",
       "        vertical-align: top;\n",
       "    }\n",
       "\n",
       "    .dataframe thead th {\n",
       "        text-align: right;\n",
       "    }\n",
       "</style>\n",
       "<table border=\"1\" class=\"dataframe\">\n",
       "  <thead>\n",
       "    <tr style=\"text-align: right;\">\n",
       "      <th></th>\n",
       "      <th>total_sales_x</th>\n",
       "      <th>total_sales_y</th>\n",
       "      <th>total_sales_x</th>\n",
       "      <th>total_sales_y</th>\n",
       "      <th>total_sales_x</th>\n",
       "      <th>total_sales_y</th>\n",
       "      <th>total_sales_x</th>\n",
       "      <th>total_sales_y</th>\n",
       "      <th>total_sales_x</th>\n",
       "      <th>total_sales_y</th>\n",
       "    </tr>\n",
       "    <tr>\n",
       "      <th>year_of_release</th>\n",
       "      <th></th>\n",
       "      <th></th>\n",
       "      <th></th>\n",
       "      <th></th>\n",
       "      <th></th>\n",
       "      <th></th>\n",
       "      <th></th>\n",
       "      <th></th>\n",
       "      <th></th>\n",
       "      <th></th>\n",
       "    </tr>\n",
       "  </thead>\n",
       "  <tbody>\n",
       "    <tr>\n",
       "      <td>2013</td>\n",
       "      <td>25.99</td>\n",
       "      <td>113.25</td>\n",
       "      <td>NaN</td>\n",
       "      <td>NaN</td>\n",
       "      <td>88.58</td>\n",
       "      <td>8.59</td>\n",
       "      <td>1.54</td>\n",
       "      <td>NaN</td>\n",
       "      <td>3.14</td>\n",
       "      <td>56.57</td>\n",
       "    </tr>\n",
       "    <tr>\n",
       "      <td>2014</td>\n",
       "      <td>100.00</td>\n",
       "      <td>47.76</td>\n",
       "      <td>NaN</td>\n",
       "      <td>NaN</td>\n",
       "      <td>34.74</td>\n",
       "      <td>3.75</td>\n",
       "      <td>NaN</td>\n",
       "      <td>NaN</td>\n",
       "      <td>0.24</td>\n",
       "      <td>43.76</td>\n",
       "    </tr>\n",
       "    <tr>\n",
       "      <td>2015</td>\n",
       "      <td>118.90</td>\n",
       "      <td>16.82</td>\n",
       "      <td>NaN</td>\n",
       "      <td>NaN</td>\n",
       "      <td>11.96</td>\n",
       "      <td>1.14</td>\n",
       "      <td>NaN</td>\n",
       "      <td>NaN</td>\n",
       "      <td>0.12</td>\n",
       "      <td>27.78</td>\n",
       "    </tr>\n",
       "    <tr>\n",
       "      <td>2016</td>\n",
       "      <td>69.25</td>\n",
       "      <td>3.60</td>\n",
       "      <td>NaN</td>\n",
       "      <td>NaN</td>\n",
       "      <td>1.52</td>\n",
       "      <td>0.18</td>\n",
       "      <td>NaN</td>\n",
       "      <td>NaN</td>\n",
       "      <td>NaN</td>\n",
       "      <td>15.14</td>\n",
       "    </tr>\n",
       "    <tr>\n",
       "      <td>2006</td>\n",
       "      <td>NaN</td>\n",
       "      <td>20.96</td>\n",
       "      <td>103.42</td>\n",
       "      <td>NaN</td>\n",
       "      <td>51.62</td>\n",
       "      <td>137.15</td>\n",
       "      <td>119.81</td>\n",
       "      <td>5.28</td>\n",
       "      <td>55.32</td>\n",
       "      <td>NaN</td>\n",
       "    </tr>\n",
       "  </tbody>\n",
       "</table>\n",
       "</div>"
      ],
      "text/plain": [
       "                 total_sales_x  total_sales_y  total_sales_x  total_sales_y  \\\n",
       "year_of_release                                                               \n",
       "2013                     25.99         113.25            NaN            NaN   \n",
       "2014                    100.00          47.76            NaN            NaN   \n",
       "2015                    118.90          16.82            NaN            NaN   \n",
       "2016                     69.25           3.60            NaN            NaN   \n",
       "2006                       NaN          20.96         103.42            NaN   \n",
       "\n",
       "                 total_sales_x  total_sales_y  total_sales_x  total_sales_y  \\\n",
       "year_of_release                                                               \n",
       "2013                     88.58           8.59           1.54            NaN   \n",
       "2014                     34.74           3.75            NaN            NaN   \n",
       "2015                     11.96           1.14            NaN            NaN   \n",
       "2016                      1.52           0.18            NaN            NaN   \n",
       "2006                     51.62         137.15         119.81           5.28   \n",
       "\n",
       "                 total_sales_x  total_sales_y  \n",
       "year_of_release                                \n",
       "2013                      3.14          56.57  \n",
       "2014                      0.24          43.76  \n",
       "2015                      0.12          27.78  \n",
       "2016                       NaN          15.14  \n",
       "2006                     55.32            NaN  "
      ]
     },
     "execution_count": 57,
     "metadata": {},
     "output_type": "execute_result"
    }
   ],
   "source": [
    "data_platform_merged.head()"
   ]
  },
  {
   "cell_type": "code",
   "execution_count": 58,
   "metadata": {},
   "outputs": [],
   "source": [
    "#переименуем столбцы в соответствие с названиями платформ\n",
    "data_platform_merged.columns = ['PS4', 'PS3', 'PS2', 'PS', 'X360', 'Wii'\n",
    "                                , 'DS', 'GBA', 'PSP', '3DS']"
   ]
  },
  {
   "cell_type": "code",
   "execution_count": 59,
   "metadata": {},
   "outputs": [],
   "source": [
    "#отсортируем по годам\n",
    "data_platform_merged = data_platform_merged.sort_values(by='year_of_release')"
   ]
  },
  {
   "cell_type": "code",
   "execution_count": 60,
   "metadata": {},
   "outputs": [],
   "source": [
    "#уберем пропуски\n",
    "data_platform_merged = data_platform_merged.fillna(0)"
   ]
  },
  {
   "cell_type": "code",
   "execution_count": 61,
   "metadata": {
    "scrolled": false
   },
   "outputs": [
    {
     "data": {
      "text/html": [
       "<style  type=\"text/css\" >\n",
       "    #T_33b17312_bbe7_11eb_a1fc_02420a392271row0_col0 {\n",
       "            background-color:  #fff6e5;\n",
       "            color:  #000000;\n",
       "        }    #T_33b17312_bbe7_11eb_a1fc_02420a392271row0_col1 {\n",
       "            background-color:  #fff6e5;\n",
       "            color:  #000000;\n",
       "        }    #T_33b17312_bbe7_11eb_a1fc_02420a392271row0_col2 {\n",
       "            background-color:  #fff6e5;\n",
       "            color:  #000000;\n",
       "        }    #T_33b17312_bbe7_11eb_a1fc_02420a392271row0_col3 {\n",
       "            background-color:  #ffe5b5;\n",
       "            color:  #000000;\n",
       "        }    #T_33b17312_bbe7_11eb_a1fc_02420a392271row0_col4 {\n",
       "            background-color:  #fff6e5;\n",
       "            color:  #000000;\n",
       "        }    #T_33b17312_bbe7_11eb_a1fc_02420a392271row0_col5 {\n",
       "            background-color:  #fff6e5;\n",
       "            color:  #000000;\n",
       "        }    #T_33b17312_bbe7_11eb_a1fc_02420a392271row0_col6 {\n",
       "            background-color:  #fff6e5;\n",
       "            color:  #000000;\n",
       "        }    #T_33b17312_bbe7_11eb_a1fc_02420a392271row0_col7 {\n",
       "            background-color:  #fff6e5;\n",
       "            color:  #000000;\n",
       "        }    #T_33b17312_bbe7_11eb_a1fc_02420a392271row0_col8 {\n",
       "            background-color:  #fff6e5;\n",
       "            color:  #000000;\n",
       "        }    #T_33b17312_bbe7_11eb_a1fc_02420a392271row0_col9 {\n",
       "            background-color:  #fff6e5;\n",
       "            color:  #000000;\n",
       "        }    #T_33b17312_bbe7_11eb_a1fc_02420a392271row1_col0 {\n",
       "            background-color:  #fff6e5;\n",
       "            color:  #000000;\n",
       "        }    #T_33b17312_bbe7_11eb_a1fc_02420a392271row1_col1 {\n",
       "            background-color:  #fff6e5;\n",
       "            color:  #000000;\n",
       "        }    #T_33b17312_bbe7_11eb_a1fc_02420a392271row1_col2 {\n",
       "            background-color:  #fff6e5;\n",
       "            color:  #000000;\n",
       "        }    #T_33b17312_bbe7_11eb_a1fc_02420a392271row1_col3 {\n",
       "            background-color:  #ffc965;\n",
       "            color:  #000000;\n",
       "        }    #T_33b17312_bbe7_11eb_a1fc_02420a392271row1_col4 {\n",
       "            background-color:  #fff6e5;\n",
       "            color:  #000000;\n",
       "        }    #T_33b17312_bbe7_11eb_a1fc_02420a392271row1_col5 {\n",
       "            background-color:  #fff6e5;\n",
       "            color:  #000000;\n",
       "        }    #T_33b17312_bbe7_11eb_a1fc_02420a392271row1_col6 {\n",
       "            background-color:  #fff6e5;\n",
       "            color:  #000000;\n",
       "        }    #T_33b17312_bbe7_11eb_a1fc_02420a392271row1_col7 {\n",
       "            background-color:  #fff6e5;\n",
       "            color:  #000000;\n",
       "        }    #T_33b17312_bbe7_11eb_a1fc_02420a392271row1_col8 {\n",
       "            background-color:  #fff6e5;\n",
       "            color:  #000000;\n",
       "        }    #T_33b17312_bbe7_11eb_a1fc_02420a392271row1_col9 {\n",
       "            background-color:  #fff6e5;\n",
       "            color:  #000000;\n",
       "        }    #T_33b17312_bbe7_11eb_a1fc_02420a392271row2_col0 {\n",
       "            background-color:  #fff6e5;\n",
       "            color:  #000000;\n",
       "        }    #T_33b17312_bbe7_11eb_a1fc_02420a392271row2_col1 {\n",
       "            background-color:  #fff6e5;\n",
       "            color:  #000000;\n",
       "        }    #T_33b17312_bbe7_11eb_a1fc_02420a392271row2_col2 {\n",
       "            background-color:  #fff6e5;\n",
       "            color:  #000000;\n",
       "        }    #T_33b17312_bbe7_11eb_a1fc_02420a392271row2_col3 {\n",
       "            background-color:  #ffb52d;\n",
       "            color:  #000000;\n",
       "        }    #T_33b17312_bbe7_11eb_a1fc_02420a392271row2_col4 {\n",
       "            background-color:  #fff6e5;\n",
       "            color:  #000000;\n",
       "        }    #T_33b17312_bbe7_11eb_a1fc_02420a392271row2_col5 {\n",
       "            background-color:  #fff6e5;\n",
       "            color:  #000000;\n",
       "        }    #T_33b17312_bbe7_11eb_a1fc_02420a392271row2_col6 {\n",
       "            background-color:  #fff6e5;\n",
       "            color:  #000000;\n",
       "        }    #T_33b17312_bbe7_11eb_a1fc_02420a392271row2_col7 {\n",
       "            background-color:  #fff6e5;\n",
       "            color:  #000000;\n",
       "        }    #T_33b17312_bbe7_11eb_a1fc_02420a392271row2_col8 {\n",
       "            background-color:  #fff6e5;\n",
       "            color:  #000000;\n",
       "        }    #T_33b17312_bbe7_11eb_a1fc_02420a392271row2_col9 {\n",
       "            background-color:  #fff6e5;\n",
       "            color:  #000000;\n",
       "        }    #T_33b17312_bbe7_11eb_a1fc_02420a392271row3_col0 {\n",
       "            background-color:  #fff6e5;\n",
       "            color:  #000000;\n",
       "        }    #T_33b17312_bbe7_11eb_a1fc_02420a392271row3_col1 {\n",
       "            background-color:  #fff6e5;\n",
       "            color:  #000000;\n",
       "        }    #T_33b17312_bbe7_11eb_a1fc_02420a392271row3_col2 {\n",
       "            background-color:  #fff6e5;\n",
       "            color:  #000000;\n",
       "        }    #T_33b17312_bbe7_11eb_a1fc_02420a392271row3_col3 {\n",
       "            background-color:  #ffa500;\n",
       "            color:  #000000;\n",
       "        }    #T_33b17312_bbe7_11eb_a1fc_02420a392271row3_col4 {\n",
       "            background-color:  #fff6e5;\n",
       "            color:  #000000;\n",
       "        }    #T_33b17312_bbe7_11eb_a1fc_02420a392271row3_col5 {\n",
       "            background-color:  #fff6e5;\n",
       "            color:  #000000;\n",
       "        }    #T_33b17312_bbe7_11eb_a1fc_02420a392271row3_col6 {\n",
       "            background-color:  #fff6e5;\n",
       "            color:  #000000;\n",
       "        }    #T_33b17312_bbe7_11eb_a1fc_02420a392271row3_col7 {\n",
       "            background-color:  #fff6e5;\n",
       "            color:  #000000;\n",
       "        }    #T_33b17312_bbe7_11eb_a1fc_02420a392271row3_col8 {\n",
       "            background-color:  #fff6e5;\n",
       "            color:  #000000;\n",
       "        }    #T_33b17312_bbe7_11eb_a1fc_02420a392271row3_col9 {\n",
       "            background-color:  #fff6e5;\n",
       "            color:  #000000;\n",
       "        }    #T_33b17312_bbe7_11eb_a1fc_02420a392271row4_col0 {\n",
       "            background-color:  #fff6e5;\n",
       "            color:  #000000;\n",
       "        }    #T_33b17312_bbe7_11eb_a1fc_02420a392271row4_col1 {\n",
       "            background-color:  #fff6e5;\n",
       "            color:  #000000;\n",
       "        }    #T_33b17312_bbe7_11eb_a1fc_02420a392271row4_col2 {\n",
       "            background-color:  #fff6e5;\n",
       "            color:  #000000;\n",
       "        }    #T_33b17312_bbe7_11eb_a1fc_02420a392271row4_col3 {\n",
       "            background-color:  #ffb121;\n",
       "            color:  #000000;\n",
       "        }    #T_33b17312_bbe7_11eb_a1fc_02420a392271row4_col4 {\n",
       "            background-color:  #fff6e5;\n",
       "            color:  #000000;\n",
       "        }    #T_33b17312_bbe7_11eb_a1fc_02420a392271row4_col5 {\n",
       "            background-color:  #fff6e5;\n",
       "            color:  #000000;\n",
       "        }    #T_33b17312_bbe7_11eb_a1fc_02420a392271row4_col6 {\n",
       "            background-color:  #fff6e5;\n",
       "            color:  #000000;\n",
       "        }    #T_33b17312_bbe7_11eb_a1fc_02420a392271row4_col7 {\n",
       "            background-color:  #fff6e5;\n",
       "            color:  #000000;\n",
       "        }    #T_33b17312_bbe7_11eb_a1fc_02420a392271row4_col8 {\n",
       "            background-color:  #fff6e5;\n",
       "            color:  #000000;\n",
       "        }    #T_33b17312_bbe7_11eb_a1fc_02420a392271row4_col9 {\n",
       "            background-color:  #fff6e5;\n",
       "            color:  #000000;\n",
       "        }    #T_33b17312_bbe7_11eb_a1fc_02420a392271row5_col0 {\n",
       "            background-color:  #fff6e5;\n",
       "            color:  #000000;\n",
       "        }    #T_33b17312_bbe7_11eb_a1fc_02420a392271row5_col1 {\n",
       "            background-color:  #fff6e5;\n",
       "            color:  #000000;\n",
       "        }    #T_33b17312_bbe7_11eb_a1fc_02420a392271row5_col2 {\n",
       "            background-color:  #ffe7bb;\n",
       "            color:  #000000;\n",
       "        }    #T_33b17312_bbe7_11eb_a1fc_02420a392271row5_col3 {\n",
       "            background-color:  #ffc863;\n",
       "            color:  #000000;\n",
       "        }    #T_33b17312_bbe7_11eb_a1fc_02420a392271row5_col4 {\n",
       "            background-color:  #fff6e5;\n",
       "            color:  #000000;\n",
       "        }    #T_33b17312_bbe7_11eb_a1fc_02420a392271row5_col5 {\n",
       "            background-color:  #fff6e5;\n",
       "            color:  #000000;\n",
       "        }    #T_33b17312_bbe7_11eb_a1fc_02420a392271row5_col6 {\n",
       "            background-color:  #fff6e5;\n",
       "            color:  #000000;\n",
       "        }    #T_33b17312_bbe7_11eb_a1fc_02420a392271row5_col7 {\n",
       "            background-color:  #fff6e5;\n",
       "            color:  #000000;\n",
       "        }    #T_33b17312_bbe7_11eb_a1fc_02420a392271row5_col8 {\n",
       "            background-color:  #fff6e5;\n",
       "            color:  #000000;\n",
       "        }    #T_33b17312_bbe7_11eb_a1fc_02420a392271row5_col9 {\n",
       "            background-color:  #fff6e5;\n",
       "            color:  #000000;\n",
       "        }    #T_33b17312_bbe7_11eb_a1fc_02420a392271row6_col0 {\n",
       "            background-color:  #fff6e5;\n",
       "            color:  #000000;\n",
       "        }    #T_33b17312_bbe7_11eb_a1fc_02420a392271row6_col1 {\n",
       "            background-color:  #fff6e5;\n",
       "            color:  #000000;\n",
       "        }    #T_33b17312_bbe7_11eb_a1fc_02420a392271row6_col2 {\n",
       "            background-color:  #ffb631;\n",
       "            color:  #000000;\n",
       "        }    #T_33b17312_bbe7_11eb_a1fc_02420a392271row6_col3 {\n",
       "            background-color:  #ffe5b6;\n",
       "            color:  #000000;\n",
       "        }    #T_33b17312_bbe7_11eb_a1fc_02420a392271row6_col4 {\n",
       "            background-color:  #fff6e5;\n",
       "            color:  #000000;\n",
       "        }    #T_33b17312_bbe7_11eb_a1fc_02420a392271row6_col5 {\n",
       "            background-color:  #fff6e5;\n",
       "            color:  #000000;\n",
       "        }    #T_33b17312_bbe7_11eb_a1fc_02420a392271row6_col6 {\n",
       "            background-color:  #fff6e5;\n",
       "            color:  #000000;\n",
       "        }    #T_33b17312_bbe7_11eb_a1fc_02420a392271row6_col7 {\n",
       "            background-color:  #ffb630;\n",
       "            color:  #000000;\n",
       "        }    #T_33b17312_bbe7_11eb_a1fc_02420a392271row6_col8 {\n",
       "            background-color:  #fff6e5;\n",
       "            color:  #000000;\n",
       "        }    #T_33b17312_bbe7_11eb_a1fc_02420a392271row6_col9 {\n",
       "            background-color:  #fff6e5;\n",
       "            color:  #000000;\n",
       "        }    #T_33b17312_bbe7_11eb_a1fc_02420a392271row7_col0 {\n",
       "            background-color:  #fff6e5;\n",
       "            color:  #000000;\n",
       "        }    #T_33b17312_bbe7_11eb_a1fc_02420a392271row7_col1 {\n",
       "            background-color:  #fff6e5;\n",
       "            color:  #000000;\n",
       "        }    #T_33b17312_bbe7_11eb_a1fc_02420a392271row7_col2 {\n",
       "            background-color:  #ffa706;\n",
       "            color:  #000000;\n",
       "        }    #T_33b17312_bbe7_11eb_a1fc_02420a392271row7_col3 {\n",
       "            background-color:  #fff3dc;\n",
       "            color:  #000000;\n",
       "        }    #T_33b17312_bbe7_11eb_a1fc_02420a392271row7_col4 {\n",
       "            background-color:  #fff6e5;\n",
       "            color:  #000000;\n",
       "        }    #T_33b17312_bbe7_11eb_a1fc_02420a392271row7_col5 {\n",
       "            background-color:  #fff6e5;\n",
       "            color:  #000000;\n",
       "        }    #T_33b17312_bbe7_11eb_a1fc_02420a392271row7_col6 {\n",
       "            background-color:  #fff6e5;\n",
       "            color:  #000000;\n",
       "        }    #T_33b17312_bbe7_11eb_a1fc_02420a392271row7_col7 {\n",
       "            background-color:  #ffa90b;\n",
       "            color:  #000000;\n",
       "        }    #T_33b17312_bbe7_11eb_a1fc_02420a392271row7_col8 {\n",
       "            background-color:  #fff6e5;\n",
       "            color:  #000000;\n",
       "        }    #T_33b17312_bbe7_11eb_a1fc_02420a392271row7_col9 {\n",
       "            background-color:  #fff6e5;\n",
       "            color:  #000000;\n",
       "        }    #T_33b17312_bbe7_11eb_a1fc_02420a392271row8_col0 {\n",
       "            background-color:  #fff6e5;\n",
       "            color:  #000000;\n",
       "        }    #T_33b17312_bbe7_11eb_a1fc_02420a392271row8_col1 {\n",
       "            background-color:  #fff6e5;\n",
       "            color:  #000000;\n",
       "        }    #T_33b17312_bbe7_11eb_a1fc_02420a392271row8_col2 {\n",
       "            background-color:  #ffaf1e;\n",
       "            color:  #000000;\n",
       "        }    #T_33b17312_bbe7_11eb_a1fc_02420a392271row8_col3 {\n",
       "            background-color:  #fff5e3;\n",
       "            color:  #000000;\n",
       "        }    #T_33b17312_bbe7_11eb_a1fc_02420a392271row8_col4 {\n",
       "            background-color:  #fff6e5;\n",
       "            color:  #000000;\n",
       "        }    #T_33b17312_bbe7_11eb_a1fc_02420a392271row8_col5 {\n",
       "            background-color:  #fff6e5;\n",
       "            color:  #000000;\n",
       "        }    #T_33b17312_bbe7_11eb_a1fc_02420a392271row8_col6 {\n",
       "            background-color:  #fff6e5;\n",
       "            color:  #000000;\n",
       "        }    #T_33b17312_bbe7_11eb_a1fc_02420a392271row8_col7 {\n",
       "            background-color:  #ffbb3e;\n",
       "            color:  #000000;\n",
       "        }    #T_33b17312_bbe7_11eb_a1fc_02420a392271row8_col8 {\n",
       "            background-color:  #fff6e5;\n",
       "            color:  #000000;\n",
       "        }    #T_33b17312_bbe7_11eb_a1fc_02420a392271row8_col9 {\n",
       "            background-color:  #fff6e5;\n",
       "            color:  #000000;\n",
       "        }    #T_33b17312_bbe7_11eb_a1fc_02420a392271row9_col0 {\n",
       "            background-color:  #fff6e5;\n",
       "            color:  #000000;\n",
       "        }    #T_33b17312_bbe7_11eb_a1fc_02420a392271row9_col1 {\n",
       "            background-color:  #fff6e5;\n",
       "            color:  #000000;\n",
       "        }    #T_33b17312_bbe7_11eb_a1fc_02420a392271row9_col2 {\n",
       "            background-color:  #ffa500;\n",
       "            color:  #000000;\n",
       "        }    #T_33b17312_bbe7_11eb_a1fc_02420a392271row9_col3 {\n",
       "            background-color:  #fff6e5;\n",
       "            color:  #000000;\n",
       "        }    #T_33b17312_bbe7_11eb_a1fc_02420a392271row9_col4 {\n",
       "            background-color:  #fff6e5;\n",
       "            color:  #000000;\n",
       "        }    #T_33b17312_bbe7_11eb_a1fc_02420a392271row9_col5 {\n",
       "            background-color:  #fff6e5;\n",
       "            color:  #000000;\n",
       "        }    #T_33b17312_bbe7_11eb_a1fc_02420a392271row9_col6 {\n",
       "            background-color:  #ffecca;\n",
       "            color:  #000000;\n",
       "        }    #T_33b17312_bbe7_11eb_a1fc_02420a392271row9_col7 {\n",
       "            background-color:  #ffa500;\n",
       "            color:  #000000;\n",
       "        }    #T_33b17312_bbe7_11eb_a1fc_02420a392271row9_col8 {\n",
       "            background-color:  #ffecc9;\n",
       "            color:  #000000;\n",
       "        }    #T_33b17312_bbe7_11eb_a1fc_02420a392271row9_col9 {\n",
       "            background-color:  #fff6e5;\n",
       "            color:  #000000;\n",
       "        }    #T_33b17312_bbe7_11eb_a1fc_02420a392271row10_col0 {\n",
       "            background-color:  #fff6e5;\n",
       "            color:  #000000;\n",
       "        }    #T_33b17312_bbe7_11eb_a1fc_02420a392271row10_col1 {\n",
       "            background-color:  #fff6e5;\n",
       "            color:  #000000;\n",
       "        }    #T_33b17312_bbe7_11eb_a1fc_02420a392271row10_col2 {\n",
       "            background-color:  #ffb837;\n",
       "            color:  #000000;\n",
       "        }    #T_33b17312_bbe7_11eb_a1fc_02420a392271row10_col3 {\n",
       "            background-color:  #fff6e5;\n",
       "            color:  #000000;\n",
       "        }    #T_33b17312_bbe7_11eb_a1fc_02420a392271row10_col4 {\n",
       "            background-color:  #fff2db;\n",
       "            color:  #000000;\n",
       "        }    #T_33b17312_bbe7_11eb_a1fc_02420a392271row10_col5 {\n",
       "            background-color:  #fff6e5;\n",
       "            color:  #000000;\n",
       "        }    #T_33b17312_bbe7_11eb_a1fc_02420a392271row10_col6 {\n",
       "            background-color:  #ffae1a;\n",
       "            color:  #000000;\n",
       "        }    #T_33b17312_bbe7_11eb_a1fc_02420a392271row10_col7 {\n",
       "            background-color:  #ffd382;\n",
       "            color:  #000000;\n",
       "        }    #T_33b17312_bbe7_11eb_a1fc_02420a392271row10_col8 {\n",
       "            background-color:  #ffb630;\n",
       "            color:  #000000;\n",
       "        }    #T_33b17312_bbe7_11eb_a1fc_02420a392271row10_col9 {\n",
       "            background-color:  #fff6e5;\n",
       "            color:  #000000;\n",
       "        }    #T_33b17312_bbe7_11eb_a1fc_02420a392271row11_col0 {\n",
       "            background-color:  #fff6e5;\n",
       "            color:  #000000;\n",
       "        }    #T_33b17312_bbe7_11eb_a1fc_02420a392271row11_col1 {\n",
       "            background-color:  #ffebc7;\n",
       "            color:  #000000;\n",
       "        }    #T_33b17312_bbe7_11eb_a1fc_02420a392271row11_col2 {\n",
       "            background-color:  #ffcf76;\n",
       "            color:  #000000;\n",
       "        }    #T_33b17312_bbe7_11eb_a1fc_02420a392271row11_col3 {\n",
       "            background-color:  #fff6e5;\n",
       "            color:  #000000;\n",
       "        }    #T_33b17312_bbe7_11eb_a1fc_02420a392271row11_col4 {\n",
       "            background-color:  #ffdea0;\n",
       "            color:  #000000;\n",
       "        }    #T_33b17312_bbe7_11eb_a1fc_02420a392271row11_col5 {\n",
       "            background-color:  #ffc04d;\n",
       "            color:  #000000;\n",
       "        }    #T_33b17312_bbe7_11eb_a1fc_02420a392271row11_col6 {\n",
       "            background-color:  #ffb42a;\n",
       "            color:  #000000;\n",
       "        }    #T_33b17312_bbe7_11eb_a1fc_02420a392271row11_col7 {\n",
       "            background-color:  #fff1d6;\n",
       "            color:  #000000;\n",
       "        }    #T_33b17312_bbe7_11eb_a1fc_02420a392271row11_col8 {\n",
       "            background-color:  #ffa500;\n",
       "            color:  #000000;\n",
       "        }    #T_33b17312_bbe7_11eb_a1fc_02420a392271row11_col9 {\n",
       "            background-color:  #fff6e5;\n",
       "            color:  #000000;\n",
       "        }    #T_33b17312_bbe7_11eb_a1fc_02420a392271row12_col0 {\n",
       "            background-color:  #fff6e5;\n",
       "            color:  #000000;\n",
       "        }    #T_33b17312_bbe7_11eb_a1fc_02420a392271row12_col1 {\n",
       "            background-color:  #ffd07a;\n",
       "            color:  #000000;\n",
       "        }    #T_33b17312_bbe7_11eb_a1fc_02420a392271row12_col2 {\n",
       "            background-color:  #ffd994;\n",
       "            color:  #000000;\n",
       "        }    #T_33b17312_bbe7_11eb_a1fc_02420a392271row12_col3 {\n",
       "            background-color:  #fff6e5;\n",
       "            color:  #000000;\n",
       "        }    #T_33b17312_bbe7_11eb_a1fc_02420a392271row12_col4 {\n",
       "            background-color:  #ffc965;\n",
       "            color:  #000000;\n",
       "        }    #T_33b17312_bbe7_11eb_a1fc_02420a392271row12_col5 {\n",
       "            background-color:  #ffba3c;\n",
       "            color:  #000000;\n",
       "        }    #T_33b17312_bbe7_11eb_a1fc_02420a392271row12_col6 {\n",
       "            background-color:  #ffa500;\n",
       "            color:  #000000;\n",
       "        }    #T_33b17312_bbe7_11eb_a1fc_02420a392271row12_col7 {\n",
       "            background-color:  #fff3dc;\n",
       "            color:  #000000;\n",
       "        }    #T_33b17312_bbe7_11eb_a1fc_02420a392271row12_col8 {\n",
       "            background-color:  #ffb122;\n",
       "            color:  #000000;\n",
       "        }    #T_33b17312_bbe7_11eb_a1fc_02420a392271row12_col9 {\n",
       "            background-color:  #fff6e5;\n",
       "            color:  #000000;\n",
       "        }    #T_33b17312_bbe7_11eb_a1fc_02420a392271row13_col0 {\n",
       "            background-color:  #fff6e5;\n",
       "            color:  #000000;\n",
       "        }    #T_33b17312_bbe7_11eb_a1fc_02420a392271row13_col1 {\n",
       "            background-color:  #ffb938;\n",
       "            color:  #000000;\n",
       "        }    #T_33b17312_bbe7_11eb_a1fc_02420a392271row13_col2 {\n",
       "            background-color:  #ffe1ab;\n",
       "            color:  #000000;\n",
       "        }    #T_33b17312_bbe7_11eb_a1fc_02420a392271row13_col3 {\n",
       "            background-color:  #fff6e5;\n",
       "            color:  #000000;\n",
       "        }    #T_33b17312_bbe7_11eb_a1fc_02420a392271row13_col4 {\n",
       "            background-color:  #ffb62f;\n",
       "            color:  #000000;\n",
       "        }    #T_33b17312_bbe7_11eb_a1fc_02420a392271row13_col5 {\n",
       "            background-color:  #ffb328;\n",
       "            color:  #000000;\n",
       "        }    #T_33b17312_bbe7_11eb_a1fc_02420a392271row13_col6 {\n",
       "            background-color:  #ffa602;\n",
       "            color:  #000000;\n",
       "        }    #T_33b17312_bbe7_11eb_a1fc_02420a392271row13_col7 {\n",
       "            background-color:  #fff6e5;\n",
       "            color:  #000000;\n",
       "        }    #T_33b17312_bbe7_11eb_a1fc_02420a392271row13_col8 {\n",
       "            background-color:  #ffc356;\n",
       "            color:  #000000;\n",
       "        }    #T_33b17312_bbe7_11eb_a1fc_02420a392271row13_col9 {\n",
       "            background-color:  #fff6e5;\n",
       "            color:  #000000;\n",
       "        }    #T_33b17312_bbe7_11eb_a1fc_02420a392271row14_col0 {\n",
       "            background-color:  #fff6e5;\n",
       "            color:  #000000;\n",
       "        }    #T_33b17312_bbe7_11eb_a1fc_02420a392271row14_col1 {\n",
       "            background-color:  #ffb226;\n",
       "            color:  #000000;\n",
       "        }    #T_33b17312_bbe7_11eb_a1fc_02420a392271row14_col2 {\n",
       "            background-color:  #ffecca;\n",
       "            color:  #000000;\n",
       "        }    #T_33b17312_bbe7_11eb_a1fc_02420a392271row14_col3 {\n",
       "            background-color:  #fff6e5;\n",
       "            color:  #000000;\n",
       "        }    #T_33b17312_bbe7_11eb_a1fc_02420a392271row14_col4 {\n",
       "            background-color:  #ffbd43;\n",
       "            color:  #000000;\n",
       "        }    #T_33b17312_bbe7_11eb_a1fc_02420a392271row14_col5 {\n",
       "            background-color:  #ffa500;\n",
       "            color:  #000000;\n",
       "        }    #T_33b17312_bbe7_11eb_a1fc_02420a392271row14_col6 {\n",
       "            background-color:  #ffb42a;\n",
       "            color:  #000000;\n",
       "        }    #T_33b17312_bbe7_11eb_a1fc_02420a392271row14_col7 {\n",
       "            background-color:  #fff6e5;\n",
       "            color:  #000000;\n",
       "        }    #T_33b17312_bbe7_11eb_a1fc_02420a392271row14_col8 {\n",
       "            background-color:  #ffbf49;\n",
       "            color:  #000000;\n",
       "        }    #T_33b17312_bbe7_11eb_a1fc_02420a392271row14_col9 {\n",
       "            background-color:  #fff6e5;\n",
       "            color:  #000000;\n",
       "        }    #T_33b17312_bbe7_11eb_a1fc_02420a392271row15_col0 {\n",
       "            background-color:  #fff6e5;\n",
       "            color:  #000000;\n",
       "        }    #T_33b17312_bbe7_11eb_a1fc_02420a392271row15_col1 {\n",
       "            background-color:  #ffac15;\n",
       "            color:  #000000;\n",
       "        }    #T_33b17312_bbe7_11eb_a1fc_02420a392271row15_col2 {\n",
       "            background-color:  #fff4e0;\n",
       "            color:  #000000;\n",
       "        }    #T_33b17312_bbe7_11eb_a1fc_02420a392271row15_col3 {\n",
       "            background-color:  #fff6e5;\n",
       "            color:  #000000;\n",
       "        }    #T_33b17312_bbe7_11eb_a1fc_02420a392271row15_col4 {\n",
       "            background-color:  #ffa500;\n",
       "            color:  #000000;\n",
       "        }    #T_33b17312_bbe7_11eb_a1fc_02420a392271row15_col5 {\n",
       "            background-color:  #ffc457;\n",
       "            color:  #000000;\n",
       "        }    #T_33b17312_bbe7_11eb_a1fc_02420a392271row15_col6 {\n",
       "            background-color:  #ffc760;\n",
       "            color:  #000000;\n",
       "        }    #T_33b17312_bbe7_11eb_a1fc_02420a392271row15_col7 {\n",
       "            background-color:  #fff6e5;\n",
       "            color:  #000000;\n",
       "        }    #T_33b17312_bbe7_11eb_a1fc_02420a392271row15_col8 {\n",
       "            background-color:  #ffc354;\n",
       "            color:  #000000;\n",
       "        }    #T_33b17312_bbe7_11eb_a1fc_02420a392271row15_col9 {\n",
       "            background-color:  #fff6e5;\n",
       "            color:  #000000;\n",
       "        }    #T_33b17312_bbe7_11eb_a1fc_02420a392271row16_col0 {\n",
       "            background-color:  #fff6e5;\n",
       "            color:  #000000;\n",
       "        }    #T_33b17312_bbe7_11eb_a1fc_02420a392271row16_col1 {\n",
       "            background-color:  #ffa500;\n",
       "            color:  #000000;\n",
       "        }    #T_33b17312_bbe7_11eb_a1fc_02420a392271row16_col2 {\n",
       "            background-color:  #fff6e5;\n",
       "            color:  #000000;\n",
       "        }    #T_33b17312_bbe7_11eb_a1fc_02420a392271row16_col3 {\n",
       "            background-color:  #fff6e5;\n",
       "            color:  #000000;\n",
       "        }    #T_33b17312_bbe7_11eb_a1fc_02420a392271row16_col4 {\n",
       "            background-color:  #ffb123;\n",
       "            color:  #000000;\n",
       "        }    #T_33b17312_bbe7_11eb_a1fc_02420a392271row16_col5 {\n",
       "            background-color:  #ffdfa4;\n",
       "            color:  #000000;\n",
       "        }    #T_33b17312_bbe7_11eb_a1fc_02420a392271row16_col6 {\n",
       "            background-color:  #ffe8bd;\n",
       "            color:  #000000;\n",
       "        }    #T_33b17312_bbe7_11eb_a1fc_02420a392271row16_col7 {\n",
       "            background-color:  #fff6e5;\n",
       "            color:  #000000;\n",
       "        }    #T_33b17312_bbe7_11eb_a1fc_02420a392271row16_col8 {\n",
       "            background-color:  #ffdc9c;\n",
       "            color:  #000000;\n",
       "        }    #T_33b17312_bbe7_11eb_a1fc_02420a392271row16_col9 {\n",
       "            background-color:  #ffa500;\n",
       "            color:  #000000;\n",
       "        }    #T_33b17312_bbe7_11eb_a1fc_02420a392271row17_col0 {\n",
       "            background-color:  #fff6e5;\n",
       "            color:  #000000;\n",
       "        }    #T_33b17312_bbe7_11eb_a1fc_02420a392271row17_col1 {\n",
       "            background-color:  #ffbe48;\n",
       "            color:  #000000;\n",
       "        }    #T_33b17312_bbe7_11eb_a1fc_02420a392271row17_col2 {\n",
       "            background-color:  #fff6e5;\n",
       "            color:  #000000;\n",
       "        }    #T_33b17312_bbe7_11eb_a1fc_02420a392271row17_col3 {\n",
       "            background-color:  #fff6e5;\n",
       "            color:  #000000;\n",
       "        }    #T_33b17312_bbe7_11eb_a1fc_02420a392271row17_col4 {\n",
       "            background-color:  #ffc65e;\n",
       "            color:  #000000;\n",
       "        }    #T_33b17312_bbe7_11eb_a1fc_02420a392271row17_col5 {\n",
       "            background-color:  #ffeece;\n",
       "            color:  #000000;\n",
       "        }    #T_33b17312_bbe7_11eb_a1fc_02420a392271row17_col6 {\n",
       "            background-color:  #fff0d4;\n",
       "            color:  #000000;\n",
       "        }    #T_33b17312_bbe7_11eb_a1fc_02420a392271row17_col7 {\n",
       "            background-color:  #fff6e5;\n",
       "            color:  #000000;\n",
       "        }    #T_33b17312_bbe7_11eb_a1fc_02420a392271row17_col8 {\n",
       "            background-color:  #ffebc6;\n",
       "            color:  #000000;\n",
       "        }    #T_33b17312_bbe7_11eb_a1fc_02420a392271row17_col9 {\n",
       "            background-color:  #ffb42a;\n",
       "            color:  #000000;\n",
       "        }    #T_33b17312_bbe7_11eb_a1fc_02420a392271row18_col0 {\n",
       "            background-color:  #ffe5b4;\n",
       "            color:  #000000;\n",
       "        }    #T_33b17312_bbe7_11eb_a1fc_02420a392271row18_col1 {\n",
       "            background-color:  #ffbc40;\n",
       "            color:  #000000;\n",
       "        }    #T_33b17312_bbe7_11eb_a1fc_02420a392271row18_col2 {\n",
       "            background-color:  #fff6e5;\n",
       "            color:  #000000;\n",
       "        }    #T_33b17312_bbe7_11eb_a1fc_02420a392271row18_col3 {\n",
       "            background-color:  #fff6e5;\n",
       "            color:  #000000;\n",
       "        }    #T_33b17312_bbe7_11eb_a1fc_02420a392271row18_col4 {\n",
       "            background-color:  #ffcc6e;\n",
       "            color:  #000000;\n",
       "        }    #T_33b17312_bbe7_11eb_a1fc_02420a392271row18_col5 {\n",
       "            background-color:  #fff3dc;\n",
       "            color:  #000000;\n",
       "        }    #T_33b17312_bbe7_11eb_a1fc_02420a392271row18_col6 {\n",
       "            background-color:  #fff5e4;\n",
       "            color:  #000000;\n",
       "        }    #T_33b17312_bbe7_11eb_a1fc_02420a392271row18_col7 {\n",
       "            background-color:  #fff6e5;\n",
       "            color:  #000000;\n",
       "        }    #T_33b17312_bbe7_11eb_a1fc_02420a392271row18_col8 {\n",
       "            background-color:  #fff2d9;\n",
       "            color:  #000000;\n",
       "        }    #T_33b17312_bbe7_11eb_a1fc_02420a392271row18_col9 {\n",
       "            background-color:  #ffad17;\n",
       "            color:  #000000;\n",
       "        }    #T_33b17312_bbe7_11eb_a1fc_02420a392271row19_col0 {\n",
       "            background-color:  #ffb224;\n",
       "            color:  #000000;\n",
       "        }    #T_33b17312_bbe7_11eb_a1fc_02420a392271row19_col1 {\n",
       "            background-color:  #ffdea0;\n",
       "            color:  #000000;\n",
       "        }    #T_33b17312_bbe7_11eb_a1fc_02420a392271row19_col2 {\n",
       "            background-color:  #fff6e5;\n",
       "            color:  #000000;\n",
       "        }    #T_33b17312_bbe7_11eb_a1fc_02420a392271row19_col3 {\n",
       "            background-color:  #fff6e5;\n",
       "            color:  #000000;\n",
       "        }    #T_33b17312_bbe7_11eb_a1fc_02420a392271row19_col4 {\n",
       "            background-color:  #ffe5b7;\n",
       "            color:  #000000;\n",
       "        }    #T_33b17312_bbe7_11eb_a1fc_02420a392271row19_col5 {\n",
       "            background-color:  #fff5e2;\n",
       "            color:  #000000;\n",
       "        }    #T_33b17312_bbe7_11eb_a1fc_02420a392271row19_col6 {\n",
       "            background-color:  #fff6e5;\n",
       "            color:  #000000;\n",
       "        }    #T_33b17312_bbe7_11eb_a1fc_02420a392271row19_col7 {\n",
       "            background-color:  #fff6e5;\n",
       "            color:  #000000;\n",
       "        }    #T_33b17312_bbe7_11eb_a1fc_02420a392271row19_col8 {\n",
       "            background-color:  #fff6e5;\n",
       "            color:  #000000;\n",
       "        }    #T_33b17312_bbe7_11eb_a1fc_02420a392271row19_col9 {\n",
       "            background-color:  #ffbe46;\n",
       "            color:  #000000;\n",
       "        }    #T_33b17312_bbe7_11eb_a1fc_02420a392271row20_col0 {\n",
       "            background-color:  #ffa500;\n",
       "            color:  #000000;\n",
       "        }    #T_33b17312_bbe7_11eb_a1fc_02420a392271row20_col1 {\n",
       "            background-color:  #ffedcd;\n",
       "            color:  #000000;\n",
       "        }    #T_33b17312_bbe7_11eb_a1fc_02420a392271row20_col2 {\n",
       "            background-color:  #fff6e5;\n",
       "            color:  #000000;\n",
       "        }    #T_33b17312_bbe7_11eb_a1fc_02420a392271row20_col3 {\n",
       "            background-color:  #fff6e5;\n",
       "            color:  #000000;\n",
       "        }    #T_33b17312_bbe7_11eb_a1fc_02420a392271row20_col4 {\n",
       "            background-color:  #fff0d5;\n",
       "            color:  #000000;\n",
       "        }    #T_33b17312_bbe7_11eb_a1fc_02420a392271row20_col5 {\n",
       "            background-color:  #fff6e5;\n",
       "            color:  #000000;\n",
       "        }    #T_33b17312_bbe7_11eb_a1fc_02420a392271row20_col6 {\n",
       "            background-color:  #fff6e5;\n",
       "            color:  #000000;\n",
       "        }    #T_33b17312_bbe7_11eb_a1fc_02420a392271row20_col7 {\n",
       "            background-color:  #fff6e5;\n",
       "            color:  #000000;\n",
       "        }    #T_33b17312_bbe7_11eb_a1fc_02420a392271row20_col8 {\n",
       "            background-color:  #fff6e5;\n",
       "            color:  #000000;\n",
       "        }    #T_33b17312_bbe7_11eb_a1fc_02420a392271row20_col9 {\n",
       "            background-color:  #ffd281;\n",
       "            color:  #000000;\n",
       "        }    #T_33b17312_bbe7_11eb_a1fc_02420a392271row21_col0 {\n",
       "            background-color:  #ffc75f;\n",
       "            color:  #000000;\n",
       "        }    #T_33b17312_bbe7_11eb_a1fc_02420a392271row21_col1 {\n",
       "            background-color:  #fff4e1;\n",
       "            color:  #000000;\n",
       "        }    #T_33b17312_bbe7_11eb_a1fc_02420a392271row21_col2 {\n",
       "            background-color:  #fff6e5;\n",
       "            color:  #000000;\n",
       "        }    #T_33b17312_bbe7_11eb_a1fc_02420a392271row21_col3 {\n",
       "            background-color:  #fff6e5;\n",
       "            color:  #000000;\n",
       "        }    #T_33b17312_bbe7_11eb_a1fc_02420a392271row21_col4 {\n",
       "            background-color:  #fff5e4;\n",
       "            color:  #000000;\n",
       "        }    #T_33b17312_bbe7_11eb_a1fc_02420a392271row21_col5 {\n",
       "            background-color:  #fff6e5;\n",
       "            color:  #000000;\n",
       "        }    #T_33b17312_bbe7_11eb_a1fc_02420a392271row21_col6 {\n",
       "            background-color:  #fff6e5;\n",
       "            color:  #000000;\n",
       "        }    #T_33b17312_bbe7_11eb_a1fc_02420a392271row21_col7 {\n",
       "            background-color:  #fff6e5;\n",
       "            color:  #000000;\n",
       "        }    #T_33b17312_bbe7_11eb_a1fc_02420a392271row21_col8 {\n",
       "            background-color:  #fff6e5;\n",
       "            color:  #000000;\n",
       "        }    #T_33b17312_bbe7_11eb_a1fc_02420a392271row21_col9 {\n",
       "            background-color:  #ffe3af;\n",
       "            color:  #000000;\n",
       "        }</style><table id=\"T_33b17312_bbe7_11eb_a1fc_02420a392271\" ><thead>    <tr>        <th class=\"blank level0\" ></th>        <th class=\"col_heading level0 col0\" >PS4</th>        <th class=\"col_heading level0 col1\" >PS3</th>        <th class=\"col_heading level0 col2\" >PS2</th>        <th class=\"col_heading level0 col3\" >PS</th>        <th class=\"col_heading level0 col4\" >X360</th>        <th class=\"col_heading level0 col5\" >Wii</th>        <th class=\"col_heading level0 col6\" >DS</th>        <th class=\"col_heading level0 col7\" >GBA</th>        <th class=\"col_heading level0 col8\" >PSP</th>        <th class=\"col_heading level0 col9\" >3DS</th>    </tr>    <tr>        <th class=\"index_name level0\" >year_of_release</th>        <th class=\"blank\" ></th>        <th class=\"blank\" ></th>        <th class=\"blank\" ></th>        <th class=\"blank\" ></th>        <th class=\"blank\" ></th>        <th class=\"blank\" ></th>        <th class=\"blank\" ></th>        <th class=\"blank\" ></th>        <th class=\"blank\" ></th>        <th class=\"blank\" ></th>    </tr></thead><tbody>\n",
       "                <tr>\n",
       "                        <th id=\"T_33b17312_bbe7_11eb_a1fc_02420a392271level0_row0\" class=\"row_heading level0 row0\" >1995</th>\n",
       "                        <td id=\"T_33b17312_bbe7_11eb_a1fc_02420a392271row0_col0\" class=\"data row0 col0\" >0</td>\n",
       "                        <td id=\"T_33b17312_bbe7_11eb_a1fc_02420a392271row0_col1\" class=\"data row0 col1\" >0</td>\n",
       "                        <td id=\"T_33b17312_bbe7_11eb_a1fc_02420a392271row0_col2\" class=\"data row0 col2\" >0</td>\n",
       "                        <td id=\"T_33b17312_bbe7_11eb_a1fc_02420a392271row0_col3\" class=\"data row0 col3\" >35.96</td>\n",
       "                        <td id=\"T_33b17312_bbe7_11eb_a1fc_02420a392271row0_col4\" class=\"data row0 col4\" >0</td>\n",
       "                        <td id=\"T_33b17312_bbe7_11eb_a1fc_02420a392271row0_col5\" class=\"data row0 col5\" >0</td>\n",
       "                        <td id=\"T_33b17312_bbe7_11eb_a1fc_02420a392271row0_col6\" class=\"data row0 col6\" >0</td>\n",
       "                        <td id=\"T_33b17312_bbe7_11eb_a1fc_02420a392271row0_col7\" class=\"data row0 col7\" >0</td>\n",
       "                        <td id=\"T_33b17312_bbe7_11eb_a1fc_02420a392271row0_col8\" class=\"data row0 col8\" >0</td>\n",
       "                        <td id=\"T_33b17312_bbe7_11eb_a1fc_02420a392271row0_col9\" class=\"data row0 col9\" >0</td>\n",
       "            </tr>\n",
       "            <tr>\n",
       "                        <th id=\"T_33b17312_bbe7_11eb_a1fc_02420a392271level0_row1\" class=\"row_heading level0 row1\" >1996</th>\n",
       "                        <td id=\"T_33b17312_bbe7_11eb_a1fc_02420a392271row1_col0\" class=\"data row1 col0\" >0</td>\n",
       "                        <td id=\"T_33b17312_bbe7_11eb_a1fc_02420a392271row1_col1\" class=\"data row1 col1\" >0</td>\n",
       "                        <td id=\"T_33b17312_bbe7_11eb_a1fc_02420a392271row1_col2\" class=\"data row1 col2\" >0</td>\n",
       "                        <td id=\"T_33b17312_bbe7_11eb_a1fc_02420a392271row1_col3\" class=\"data row1 col3\" >94.7</td>\n",
       "                        <td id=\"T_33b17312_bbe7_11eb_a1fc_02420a392271row1_col4\" class=\"data row1 col4\" >0</td>\n",
       "                        <td id=\"T_33b17312_bbe7_11eb_a1fc_02420a392271row1_col5\" class=\"data row1 col5\" >0</td>\n",
       "                        <td id=\"T_33b17312_bbe7_11eb_a1fc_02420a392271row1_col6\" class=\"data row1 col6\" >0</td>\n",
       "                        <td id=\"T_33b17312_bbe7_11eb_a1fc_02420a392271row1_col7\" class=\"data row1 col7\" >0</td>\n",
       "                        <td id=\"T_33b17312_bbe7_11eb_a1fc_02420a392271row1_col8\" class=\"data row1 col8\" >0</td>\n",
       "                        <td id=\"T_33b17312_bbe7_11eb_a1fc_02420a392271row1_col9\" class=\"data row1 col9\" >0</td>\n",
       "            </tr>\n",
       "            <tr>\n",
       "                        <th id=\"T_33b17312_bbe7_11eb_a1fc_02420a392271level0_row2\" class=\"row_heading level0 row2\" >1997</th>\n",
       "                        <td id=\"T_33b17312_bbe7_11eb_a1fc_02420a392271row2_col0\" class=\"data row2 col0\" >0</td>\n",
       "                        <td id=\"T_33b17312_bbe7_11eb_a1fc_02420a392271row2_col1\" class=\"data row2 col1\" >0</td>\n",
       "                        <td id=\"T_33b17312_bbe7_11eb_a1fc_02420a392271row2_col2\" class=\"data row2 col2\" >0</td>\n",
       "                        <td id=\"T_33b17312_bbe7_11eb_a1fc_02420a392271row2_col3\" class=\"data row2 col3\" >136.17</td>\n",
       "                        <td id=\"T_33b17312_bbe7_11eb_a1fc_02420a392271row2_col4\" class=\"data row2 col4\" >0</td>\n",
       "                        <td id=\"T_33b17312_bbe7_11eb_a1fc_02420a392271row2_col5\" class=\"data row2 col5\" >0</td>\n",
       "                        <td id=\"T_33b17312_bbe7_11eb_a1fc_02420a392271row2_col6\" class=\"data row2 col6\" >0</td>\n",
       "                        <td id=\"T_33b17312_bbe7_11eb_a1fc_02420a392271row2_col7\" class=\"data row2 col7\" >0</td>\n",
       "                        <td id=\"T_33b17312_bbe7_11eb_a1fc_02420a392271row2_col8\" class=\"data row2 col8\" >0</td>\n",
       "                        <td id=\"T_33b17312_bbe7_11eb_a1fc_02420a392271row2_col9\" class=\"data row2 col9\" >0</td>\n",
       "            </tr>\n",
       "            <tr>\n",
       "                        <th id=\"T_33b17312_bbe7_11eb_a1fc_02420a392271level0_row3\" class=\"row_heading level0 row3\" >1998</th>\n",
       "                        <td id=\"T_33b17312_bbe7_11eb_a1fc_02420a392271row3_col0\" class=\"data row3 col0\" >0</td>\n",
       "                        <td id=\"T_33b17312_bbe7_11eb_a1fc_02420a392271row3_col1\" class=\"data row3 col1\" >0</td>\n",
       "                        <td id=\"T_33b17312_bbe7_11eb_a1fc_02420a392271row3_col2\" class=\"data row3 col2\" >0</td>\n",
       "                        <td id=\"T_33b17312_bbe7_11eb_a1fc_02420a392271row3_col3\" class=\"data row3 col3\" >169.49</td>\n",
       "                        <td id=\"T_33b17312_bbe7_11eb_a1fc_02420a392271row3_col4\" class=\"data row3 col4\" >0</td>\n",
       "                        <td id=\"T_33b17312_bbe7_11eb_a1fc_02420a392271row3_col5\" class=\"data row3 col5\" >0</td>\n",
       "                        <td id=\"T_33b17312_bbe7_11eb_a1fc_02420a392271row3_col6\" class=\"data row3 col6\" >0</td>\n",
       "                        <td id=\"T_33b17312_bbe7_11eb_a1fc_02420a392271row3_col7\" class=\"data row3 col7\" >0</td>\n",
       "                        <td id=\"T_33b17312_bbe7_11eb_a1fc_02420a392271row3_col8\" class=\"data row3 col8\" >0</td>\n",
       "                        <td id=\"T_33b17312_bbe7_11eb_a1fc_02420a392271row3_col9\" class=\"data row3 col9\" >0</td>\n",
       "            </tr>\n",
       "            <tr>\n",
       "                        <th id=\"T_33b17312_bbe7_11eb_a1fc_02420a392271level0_row4\" class=\"row_heading level0 row4\" >1999</th>\n",
       "                        <td id=\"T_33b17312_bbe7_11eb_a1fc_02420a392271row4_col0\" class=\"data row4 col0\" >0</td>\n",
       "                        <td id=\"T_33b17312_bbe7_11eb_a1fc_02420a392271row4_col1\" class=\"data row4 col1\" >0</td>\n",
       "                        <td id=\"T_33b17312_bbe7_11eb_a1fc_02420a392271row4_col2\" class=\"data row4 col2\" >0</td>\n",
       "                        <td id=\"T_33b17312_bbe7_11eb_a1fc_02420a392271row4_col3\" class=\"data row4 col3\" >144.53</td>\n",
       "                        <td id=\"T_33b17312_bbe7_11eb_a1fc_02420a392271row4_col4\" class=\"data row4 col4\" >0</td>\n",
       "                        <td id=\"T_33b17312_bbe7_11eb_a1fc_02420a392271row4_col5\" class=\"data row4 col5\" >0</td>\n",
       "                        <td id=\"T_33b17312_bbe7_11eb_a1fc_02420a392271row4_col6\" class=\"data row4 col6\" >0</td>\n",
       "                        <td id=\"T_33b17312_bbe7_11eb_a1fc_02420a392271row4_col7\" class=\"data row4 col7\" >0</td>\n",
       "                        <td id=\"T_33b17312_bbe7_11eb_a1fc_02420a392271row4_col8\" class=\"data row4 col8\" >0</td>\n",
       "                        <td id=\"T_33b17312_bbe7_11eb_a1fc_02420a392271row4_col9\" class=\"data row4 col9\" >0</td>\n",
       "            </tr>\n",
       "            <tr>\n",
       "                        <th id=\"T_33b17312_bbe7_11eb_a1fc_02420a392271level0_row5\" class=\"row_heading level0 row5\" >2000</th>\n",
       "                        <td id=\"T_33b17312_bbe7_11eb_a1fc_02420a392271row5_col0\" class=\"data row5 col0\" >0</td>\n",
       "                        <td id=\"T_33b17312_bbe7_11eb_a1fc_02420a392271row5_col1\" class=\"data row5 col1\" >0</td>\n",
       "                        <td id=\"T_33b17312_bbe7_11eb_a1fc_02420a392271row5_col2\" class=\"data row5 col2\" >39.17</td>\n",
       "                        <td id=\"T_33b17312_bbe7_11eb_a1fc_02420a392271row5_col3\" class=\"data row5 col3\" >96.37</td>\n",
       "                        <td id=\"T_33b17312_bbe7_11eb_a1fc_02420a392271row5_col4\" class=\"data row5 col4\" >0</td>\n",
       "                        <td id=\"T_33b17312_bbe7_11eb_a1fc_02420a392271row5_col5\" class=\"data row5 col5\" >0</td>\n",
       "                        <td id=\"T_33b17312_bbe7_11eb_a1fc_02420a392271row5_col6\" class=\"data row5 col6\" >0</td>\n",
       "                        <td id=\"T_33b17312_bbe7_11eb_a1fc_02420a392271row5_col7\" class=\"data row5 col7\" >0.07</td>\n",
       "                        <td id=\"T_33b17312_bbe7_11eb_a1fc_02420a392271row5_col8\" class=\"data row5 col8\" >0</td>\n",
       "                        <td id=\"T_33b17312_bbe7_11eb_a1fc_02420a392271row5_col9\" class=\"data row5 col9\" >0</td>\n",
       "            </tr>\n",
       "            <tr>\n",
       "                        <th id=\"T_33b17312_bbe7_11eb_a1fc_02420a392271level0_row6\" class=\"row_heading level0 row6\" >2001</th>\n",
       "                        <td id=\"T_33b17312_bbe7_11eb_a1fc_02420a392271row6_col0\" class=\"data row6 col0\" >0</td>\n",
       "                        <td id=\"T_33b17312_bbe7_11eb_a1fc_02420a392271row6_col1\" class=\"data row6 col1\" >0</td>\n",
       "                        <td id=\"T_33b17312_bbe7_11eb_a1fc_02420a392271row6_col2\" class=\"data row6 col2\" >166.43</td>\n",
       "                        <td id=\"T_33b17312_bbe7_11eb_a1fc_02420a392271row6_col3\" class=\"data row6 col3\" >35.59</td>\n",
       "                        <td id=\"T_33b17312_bbe7_11eb_a1fc_02420a392271row6_col4\" class=\"data row6 col4\" >0</td>\n",
       "                        <td id=\"T_33b17312_bbe7_11eb_a1fc_02420a392271row6_col5\" class=\"data row6 col5\" >0</td>\n",
       "                        <td id=\"T_33b17312_bbe7_11eb_a1fc_02420a392271row6_col6\" class=\"data row6 col6\" >0</td>\n",
       "                        <td id=\"T_33b17312_bbe7_11eb_a1fc_02420a392271row6_col7\" class=\"data row6 col7\" >61.53</td>\n",
       "                        <td id=\"T_33b17312_bbe7_11eb_a1fc_02420a392271row6_col8\" class=\"data row6 col8\" >0</td>\n",
       "                        <td id=\"T_33b17312_bbe7_11eb_a1fc_02420a392271row6_col9\" class=\"data row6 col9\" >0</td>\n",
       "            </tr>\n",
       "            <tr>\n",
       "                        <th id=\"T_33b17312_bbe7_11eb_a1fc_02420a392271level0_row7\" class=\"row_heading level0 row7\" >2002</th>\n",
       "                        <td id=\"T_33b17312_bbe7_11eb_a1fc_02420a392271row7_col0\" class=\"data row7 col0\" >0</td>\n",
       "                        <td id=\"T_33b17312_bbe7_11eb_a1fc_02420a392271row7_col1\" class=\"data row7 col1\" >0</td>\n",
       "                        <td id=\"T_33b17312_bbe7_11eb_a1fc_02420a392271row7_col2\" class=\"data row7 col2\" >205.38</td>\n",
       "                        <td id=\"T_33b17312_bbe7_11eb_a1fc_02420a392271row7_col3\" class=\"data row7 col3\" >6.67</td>\n",
       "                        <td id=\"T_33b17312_bbe7_11eb_a1fc_02420a392271row7_col4\" class=\"data row7 col4\" >0</td>\n",
       "                        <td id=\"T_33b17312_bbe7_11eb_a1fc_02420a392271row7_col5\" class=\"data row7 col5\" >0</td>\n",
       "                        <td id=\"T_33b17312_bbe7_11eb_a1fc_02420a392271row7_col6\" class=\"data row7 col6\" >0</td>\n",
       "                        <td id=\"T_33b17312_bbe7_11eb_a1fc_02420a392271row7_col7\" class=\"data row7 col7\" >74.16</td>\n",
       "                        <td id=\"T_33b17312_bbe7_11eb_a1fc_02420a392271row7_col8\" class=\"data row7 col8\" >0</td>\n",
       "                        <td id=\"T_33b17312_bbe7_11eb_a1fc_02420a392271row7_col9\" class=\"data row7 col9\" >0</td>\n",
       "            </tr>\n",
       "            <tr>\n",
       "                        <th id=\"T_33b17312_bbe7_11eb_a1fc_02420a392271level0_row8\" class=\"row_heading level0 row8\" >2003</th>\n",
       "                        <td id=\"T_33b17312_bbe7_11eb_a1fc_02420a392271row8_col0\" class=\"data row8 col0\" >0</td>\n",
       "                        <td id=\"T_33b17312_bbe7_11eb_a1fc_02420a392271row8_col1\" class=\"data row8 col1\" >0</td>\n",
       "                        <td id=\"T_33b17312_bbe7_11eb_a1fc_02420a392271row8_col2\" class=\"data row8 col2\" >184.31</td>\n",
       "                        <td id=\"T_33b17312_bbe7_11eb_a1fc_02420a392271row8_col3\" class=\"data row8 col3\" >2.07</td>\n",
       "                        <td id=\"T_33b17312_bbe7_11eb_a1fc_02420a392271row8_col4\" class=\"data row8 col4\" >0</td>\n",
       "                        <td id=\"T_33b17312_bbe7_11eb_a1fc_02420a392271row8_col5\" class=\"data row8 col5\" >0</td>\n",
       "                        <td id=\"T_33b17312_bbe7_11eb_a1fc_02420a392271row8_col6\" class=\"data row8 col6\" >0</td>\n",
       "                        <td id=\"T_33b17312_bbe7_11eb_a1fc_02420a392271row8_col7\" class=\"data row8 col7\" >56.67</td>\n",
       "                        <td id=\"T_33b17312_bbe7_11eb_a1fc_02420a392271row8_col8\" class=\"data row8 col8\" >0</td>\n",
       "                        <td id=\"T_33b17312_bbe7_11eb_a1fc_02420a392271row8_col9\" class=\"data row8 col9\" >0</td>\n",
       "            </tr>\n",
       "            <tr>\n",
       "                        <th id=\"T_33b17312_bbe7_11eb_a1fc_02420a392271level0_row9\" class=\"row_heading level0 row9\" >2004</th>\n",
       "                        <td id=\"T_33b17312_bbe7_11eb_a1fc_02420a392271row9_col0\" class=\"data row9 col0\" >0</td>\n",
       "                        <td id=\"T_33b17312_bbe7_11eb_a1fc_02420a392271row9_col1\" class=\"data row9 col1\" >0</td>\n",
       "                        <td id=\"T_33b17312_bbe7_11eb_a1fc_02420a392271row9_col2\" class=\"data row9 col2\" >211.81</td>\n",
       "                        <td id=\"T_33b17312_bbe7_11eb_a1fc_02420a392271row9_col3\" class=\"data row9 col3\" >0</td>\n",
       "                        <td id=\"T_33b17312_bbe7_11eb_a1fc_02420a392271row9_col4\" class=\"data row9 col4\" >0</td>\n",
       "                        <td id=\"T_33b17312_bbe7_11eb_a1fc_02420a392271row9_col5\" class=\"data row9 col5\" >0</td>\n",
       "                        <td id=\"T_33b17312_bbe7_11eb_a1fc_02420a392271row9_col6\" class=\"data row9 col6\" >17.27</td>\n",
       "                        <td id=\"T_33b17312_bbe7_11eb_a1fc_02420a392271row9_col7\" class=\"data row9 col7\" >77.91</td>\n",
       "                        <td id=\"T_33b17312_bbe7_11eb_a1fc_02420a392271row9_col8\" class=\"data row9 col8\" >7.06</td>\n",
       "                        <td id=\"T_33b17312_bbe7_11eb_a1fc_02420a392271row9_col9\" class=\"data row9 col9\" >0</td>\n",
       "            </tr>\n",
       "            <tr>\n",
       "                        <th id=\"T_33b17312_bbe7_11eb_a1fc_02420a392271level0_row10\" class=\"row_heading level0 row10\" >2005</th>\n",
       "                        <td id=\"T_33b17312_bbe7_11eb_a1fc_02420a392271row10_col0\" class=\"data row10 col0\" >0</td>\n",
       "                        <td id=\"T_33b17312_bbe7_11eb_a1fc_02420a392271row10_col1\" class=\"data row10 col1\" >0</td>\n",
       "                        <td id=\"T_33b17312_bbe7_11eb_a1fc_02420a392271row10_col2\" class=\"data row10 col2\" >160.66</td>\n",
       "                        <td id=\"T_33b17312_bbe7_11eb_a1fc_02420a392271row10_col3\" class=\"data row10 col3\" >0</td>\n",
       "                        <td id=\"T_33b17312_bbe7_11eb_a1fc_02420a392271row10_col4\" class=\"data row10 col4\" >8.25</td>\n",
       "                        <td id=\"T_33b17312_bbe7_11eb_a1fc_02420a392271row10_col5\" class=\"data row10 col5\" >0</td>\n",
       "                        <td id=\"T_33b17312_bbe7_11eb_a1fc_02420a392271row10_col6\" class=\"data row10 col6\" >130.14</td>\n",
       "                        <td id=\"T_33b17312_bbe7_11eb_a1fc_02420a392271row10_col7\" class=\"data row10 col7\" >33.86</td>\n",
       "                        <td id=\"T_33b17312_bbe7_11eb_a1fc_02420a392271row10_col8\" class=\"data row10 col8\" >43.84</td>\n",
       "                        <td id=\"T_33b17312_bbe7_11eb_a1fc_02420a392271row10_col9\" class=\"data row10 col9\" >0</td>\n",
       "            </tr>\n",
       "            <tr>\n",
       "                        <th id=\"T_33b17312_bbe7_11eb_a1fc_02420a392271level0_row11\" class=\"row_heading level0 row11\" >2006</th>\n",
       "                        <td id=\"T_33b17312_bbe7_11eb_a1fc_02420a392271row11_col0\" class=\"data row11 col0\" >0</td>\n",
       "                        <td id=\"T_33b17312_bbe7_11eb_a1fc_02420a392271row11_col1\" class=\"data row11 col1\" >20.96</td>\n",
       "                        <td id=\"T_33b17312_bbe7_11eb_a1fc_02420a392271row11_col2\" class=\"data row11 col2\" >103.42</td>\n",
       "                        <td id=\"T_33b17312_bbe7_11eb_a1fc_02420a392271row11_col3\" class=\"data row11 col3\" >0</td>\n",
       "                        <td id=\"T_33b17312_bbe7_11eb_a1fc_02420a392271row11_col4\" class=\"data row11 col4\" >51.62</td>\n",
       "                        <td id=\"T_33b17312_bbe7_11eb_a1fc_02420a392271row11_col5\" class=\"data row11 col5\" >137.15</td>\n",
       "                        <td id=\"T_33b17312_bbe7_11eb_a1fc_02420a392271row11_col6\" class=\"data row11 col6\" >119.81</td>\n",
       "                        <td id=\"T_33b17312_bbe7_11eb_a1fc_02420a392271row11_col7\" class=\"data row11 col7\" >5.28</td>\n",
       "                        <td id=\"T_33b17312_bbe7_11eb_a1fc_02420a392271row11_col8\" class=\"data row11 col8\" >55.32</td>\n",
       "                        <td id=\"T_33b17312_bbe7_11eb_a1fc_02420a392271row11_col9\" class=\"data row11 col9\" >0</td>\n",
       "            </tr>\n",
       "            <tr>\n",
       "                        <th id=\"T_33b17312_bbe7_11eb_a1fc_02420a392271level0_row12\" class=\"row_heading level0 row12\" >2007</th>\n",
       "                        <td id=\"T_33b17312_bbe7_11eb_a1fc_02420a392271row12_col0\" class=\"data row12 col0\" >0</td>\n",
       "                        <td id=\"T_33b17312_bbe7_11eb_a1fc_02420a392271row12_col1\" class=\"data row12 col1\" >73.19</td>\n",
       "                        <td id=\"T_33b17312_bbe7_11eb_a1fc_02420a392271row12_col2\" class=\"data row12 col2\" >75.99</td>\n",
       "                        <td id=\"T_33b17312_bbe7_11eb_a1fc_02420a392271row12_col3\" class=\"data row12 col3\" >0</td>\n",
       "                        <td id=\"T_33b17312_bbe7_11eb_a1fc_02420a392271row12_col4\" class=\"data row12 col4\" >95.41</td>\n",
       "                        <td id=\"T_33b17312_bbe7_11eb_a1fc_02420a392271row12_col5\" class=\"data row12 col5\" >152.77</td>\n",
       "                        <td id=\"T_33b17312_bbe7_11eb_a1fc_02420a392271row12_col6\" class=\"data row12 col6\" >146.94</td>\n",
       "                        <td id=\"T_33b17312_bbe7_11eb_a1fc_02420a392271row12_col7\" class=\"data row12 col7\" >3.4</td>\n",
       "                        <td id=\"T_33b17312_bbe7_11eb_a1fc_02420a392271row12_col8\" class=\"data row12 col8\" >46.93</td>\n",
       "                        <td id=\"T_33b17312_bbe7_11eb_a1fc_02420a392271row12_col9\" class=\"data row12 col9\" >0</td>\n",
       "            </tr>\n",
       "            <tr>\n",
       "                        <th id=\"T_33b17312_bbe7_11eb_a1fc_02420a392271level0_row13\" class=\"row_heading level0 row13\" >2008</th>\n",
       "                        <td id=\"T_33b17312_bbe7_11eb_a1fc_02420a392271row13_col0\" class=\"data row13 col0\" >0</td>\n",
       "                        <td id=\"T_33b17312_bbe7_11eb_a1fc_02420a392271row13_col1\" class=\"data row13 col1\" >118.52</td>\n",
       "                        <td id=\"T_33b17312_bbe7_11eb_a1fc_02420a392271row13_col2\" class=\"data row13 col2\" >53.9</td>\n",
       "                        <td id=\"T_33b17312_bbe7_11eb_a1fc_02420a392271row13_col3\" class=\"data row13 col3\" >0</td>\n",
       "                        <td id=\"T_33b17312_bbe7_11eb_a1fc_02420a392271row13_col4\" class=\"data row13 col4\" >135.26</td>\n",
       "                        <td id=\"T_33b17312_bbe7_11eb_a1fc_02420a392271row13_col5\" class=\"data row13 col5\" >171.32</td>\n",
       "                        <td id=\"T_33b17312_bbe7_11eb_a1fc_02420a392271row13_col6\" class=\"data row13 col6\" >145.31</td>\n",
       "                        <td id=\"T_33b17312_bbe7_11eb_a1fc_02420a392271row13_col7\" class=\"data row13 col7\" >0</td>\n",
       "                        <td id=\"T_33b17312_bbe7_11eb_a1fc_02420a392271row13_col8\" class=\"data row13 col8\" >34.55</td>\n",
       "                        <td id=\"T_33b17312_bbe7_11eb_a1fc_02420a392271row13_col9\" class=\"data row13 col9\" >0</td>\n",
       "            </tr>\n",
       "            <tr>\n",
       "                        <th id=\"T_33b17312_bbe7_11eb_a1fc_02420a392271level0_row14\" class=\"row_heading level0 row14\" >2009</th>\n",
       "                        <td id=\"T_33b17312_bbe7_11eb_a1fc_02420a392271row14_col0\" class=\"data row14 col0\" >0</td>\n",
       "                        <td id=\"T_33b17312_bbe7_11eb_a1fc_02420a392271row14_col1\" class=\"data row14 col1\" >130.93</td>\n",
       "                        <td id=\"T_33b17312_bbe7_11eb_a1fc_02420a392271row14_col2\" class=\"data row14 col2\" >26.4</td>\n",
       "                        <td id=\"T_33b17312_bbe7_11eb_a1fc_02420a392271row14_col3\" class=\"data row14 col3\" >0</td>\n",
       "                        <td id=\"T_33b17312_bbe7_11eb_a1fc_02420a392271row14_col4\" class=\"data row14 col4\" >120.29</td>\n",
       "                        <td id=\"T_33b17312_bbe7_11eb_a1fc_02420a392271row14_col5\" class=\"data row14 col5\" >206.97</td>\n",
       "                        <td id=\"T_33b17312_bbe7_11eb_a1fc_02420a392271row14_col6\" class=\"data row14 col6\" >119.54</td>\n",
       "                        <td id=\"T_33b17312_bbe7_11eb_a1fc_02420a392271row14_col7\" class=\"data row14 col7\" >0</td>\n",
       "                        <td id=\"T_33b17312_bbe7_11eb_a1fc_02420a392271row14_col8\" class=\"data row14 col8\" >37.78</td>\n",
       "                        <td id=\"T_33b17312_bbe7_11eb_a1fc_02420a392271row14_col9\" class=\"data row14 col9\" >0</td>\n",
       "            </tr>\n",
       "            <tr>\n",
       "                        <th id=\"T_33b17312_bbe7_11eb_a1fc_02420a392271level0_row15\" class=\"row_heading level0 row15\" >2010</th>\n",
       "                        <td id=\"T_33b17312_bbe7_11eb_a1fc_02420a392271row15_col0\" class=\"data row15 col0\" >0</td>\n",
       "                        <td id=\"T_33b17312_bbe7_11eb_a1fc_02420a392271row15_col1\" class=\"data row15 col1\" >142.17</td>\n",
       "                        <td id=\"T_33b17312_bbe7_11eb_a1fc_02420a392271row15_col2\" class=\"data row15 col2\" >5.64</td>\n",
       "                        <td id=\"T_33b17312_bbe7_11eb_a1fc_02420a392271row15_col3\" class=\"data row15 col3\" >0</td>\n",
       "                        <td id=\"T_33b17312_bbe7_11eb_a1fc_02420a392271row15_col4\" class=\"data row15 col4\" >170.03</td>\n",
       "                        <td id=\"T_33b17312_bbe7_11eb_a1fc_02420a392271row15_col5\" class=\"data row15 col5\" >127.95</td>\n",
       "                        <td id=\"T_33b17312_bbe7_11eb_a1fc_02420a392271row15_col6\" class=\"data row15 col6\" >85.02</td>\n",
       "                        <td id=\"T_33b17312_bbe7_11eb_a1fc_02420a392271row15_col7\" class=\"data row15 col7\" >0</td>\n",
       "                        <td id=\"T_33b17312_bbe7_11eb_a1fc_02420a392271row15_col8\" class=\"data row15 col8\" >35.04</td>\n",
       "                        <td id=\"T_33b17312_bbe7_11eb_a1fc_02420a392271row15_col9\" class=\"data row15 col9\" >0</td>\n",
       "            </tr>\n",
       "            <tr>\n",
       "                        <th id=\"T_33b17312_bbe7_11eb_a1fc_02420a392271level0_row16\" class=\"row_heading level0 row16\" >2011</th>\n",
       "                        <td id=\"T_33b17312_bbe7_11eb_a1fc_02420a392271row16_col0\" class=\"data row16 col0\" >0</td>\n",
       "                        <td id=\"T_33b17312_bbe7_11eb_a1fc_02420a392271row16_col1\" class=\"data row16 col1\" >156.78</td>\n",
       "                        <td id=\"T_33b17312_bbe7_11eb_a1fc_02420a392271row16_col2\" class=\"data row16 col2\" >0.45</td>\n",
       "                        <td id=\"T_33b17312_bbe7_11eb_a1fc_02420a392271row16_col3\" class=\"data row16 col3\" >0</td>\n",
       "                        <td id=\"T_33b17312_bbe7_11eb_a1fc_02420a392271row16_col4\" class=\"data row16 col4\" >143.84</td>\n",
       "                        <td id=\"T_33b17312_bbe7_11eb_a1fc_02420a392271row16_col5\" class=\"data row16 col5\" >59.65</td>\n",
       "                        <td id=\"T_33b17312_bbe7_11eb_a1fc_02420a392271row16_col6\" class=\"data row16 col6\" >26.18</td>\n",
       "                        <td id=\"T_33b17312_bbe7_11eb_a1fc_02420a392271row16_col7\" class=\"data row16 col7\" >0</td>\n",
       "                        <td id=\"T_33b17312_bbe7_11eb_a1fc_02420a392271row16_col8\" class=\"data row16 col8\" >17.82</td>\n",
       "                        <td id=\"T_33b17312_bbe7_11eb_a1fc_02420a392271row16_col9\" class=\"data row16 col9\" >63.2</td>\n",
       "            </tr>\n",
       "            <tr>\n",
       "                        <th id=\"T_33b17312_bbe7_11eb_a1fc_02420a392271level0_row17\" class=\"row_heading level0 row17\" >2012</th>\n",
       "                        <td id=\"T_33b17312_bbe7_11eb_a1fc_02420a392271row17_col0\" class=\"data row17 col0\" >0</td>\n",
       "                        <td id=\"T_33b17312_bbe7_11eb_a1fc_02420a392271row17_col1\" class=\"data row17 col1\" >107.36</td>\n",
       "                        <td id=\"T_33b17312_bbe7_11eb_a1fc_02420a392271row17_col2\" class=\"data row17 col2\" >0</td>\n",
       "                        <td id=\"T_33b17312_bbe7_11eb_a1fc_02420a392271row17_col3\" class=\"data row17 col3\" >0</td>\n",
       "                        <td id=\"T_33b17312_bbe7_11eb_a1fc_02420a392271row17_col4\" class=\"data row17 col4\" >99.74</td>\n",
       "                        <td id=\"T_33b17312_bbe7_11eb_a1fc_02420a392271row17_col5\" class=\"data row17 col5\" >21.71</td>\n",
       "                        <td id=\"T_33b17312_bbe7_11eb_a1fc_02420a392271row17_col6\" class=\"data row17 col6\" >11.01</td>\n",
       "                        <td id=\"T_33b17312_bbe7_11eb_a1fc_02420a392271row17_col7\" class=\"data row17 col7\" >0</td>\n",
       "                        <td id=\"T_33b17312_bbe7_11eb_a1fc_02420a392271row17_col8\" class=\"data row17 col8\" >7.69</td>\n",
       "                        <td id=\"T_33b17312_bbe7_11eb_a1fc_02420a392271row17_col9\" class=\"data row17 col9\" >51.36</td>\n",
       "            </tr>\n",
       "            <tr>\n",
       "                        <th id=\"T_33b17312_bbe7_11eb_a1fc_02420a392271level0_row18\" class=\"row_heading level0 row18\" >2013</th>\n",
       "                        <td id=\"T_33b17312_bbe7_11eb_a1fc_02420a392271row18_col0\" class=\"data row18 col0\" >25.99</td>\n",
       "                        <td id=\"T_33b17312_bbe7_11eb_a1fc_02420a392271row18_col1\" class=\"data row18 col1\" >113.25</td>\n",
       "                        <td id=\"T_33b17312_bbe7_11eb_a1fc_02420a392271row18_col2\" class=\"data row18 col2\" >0</td>\n",
       "                        <td id=\"T_33b17312_bbe7_11eb_a1fc_02420a392271row18_col3\" class=\"data row18 col3\" >0</td>\n",
       "                        <td id=\"T_33b17312_bbe7_11eb_a1fc_02420a392271row18_col4\" class=\"data row18 col4\" >88.58</td>\n",
       "                        <td id=\"T_33b17312_bbe7_11eb_a1fc_02420a392271row18_col5\" class=\"data row18 col5\" >8.59</td>\n",
       "                        <td id=\"T_33b17312_bbe7_11eb_a1fc_02420a392271row18_col6\" class=\"data row18 col6\" >1.54</td>\n",
       "                        <td id=\"T_33b17312_bbe7_11eb_a1fc_02420a392271row18_col7\" class=\"data row18 col7\" >0</td>\n",
       "                        <td id=\"T_33b17312_bbe7_11eb_a1fc_02420a392271row18_col8\" class=\"data row18 col8\" >3.14</td>\n",
       "                        <td id=\"T_33b17312_bbe7_11eb_a1fc_02420a392271row18_col9\" class=\"data row18 col9\" >56.57</td>\n",
       "            </tr>\n",
       "            <tr>\n",
       "                        <th id=\"T_33b17312_bbe7_11eb_a1fc_02420a392271level0_row19\" class=\"row_heading level0 row19\" >2014</th>\n",
       "                        <td id=\"T_33b17312_bbe7_11eb_a1fc_02420a392271row19_col0\" class=\"data row19 col0\" >100</td>\n",
       "                        <td id=\"T_33b17312_bbe7_11eb_a1fc_02420a392271row19_col1\" class=\"data row19 col1\" >47.76</td>\n",
       "                        <td id=\"T_33b17312_bbe7_11eb_a1fc_02420a392271row19_col2\" class=\"data row19 col2\" >0</td>\n",
       "                        <td id=\"T_33b17312_bbe7_11eb_a1fc_02420a392271row19_col3\" class=\"data row19 col3\" >0</td>\n",
       "                        <td id=\"T_33b17312_bbe7_11eb_a1fc_02420a392271row19_col4\" class=\"data row19 col4\" >34.74</td>\n",
       "                        <td id=\"T_33b17312_bbe7_11eb_a1fc_02420a392271row19_col5\" class=\"data row19 col5\" >3.75</td>\n",
       "                        <td id=\"T_33b17312_bbe7_11eb_a1fc_02420a392271row19_col6\" class=\"data row19 col6\" >0</td>\n",
       "                        <td id=\"T_33b17312_bbe7_11eb_a1fc_02420a392271row19_col7\" class=\"data row19 col7\" >0</td>\n",
       "                        <td id=\"T_33b17312_bbe7_11eb_a1fc_02420a392271row19_col8\" class=\"data row19 col8\" >0.24</td>\n",
       "                        <td id=\"T_33b17312_bbe7_11eb_a1fc_02420a392271row19_col9\" class=\"data row19 col9\" >43.76</td>\n",
       "            </tr>\n",
       "            <tr>\n",
       "                        <th id=\"T_33b17312_bbe7_11eb_a1fc_02420a392271level0_row20\" class=\"row_heading level0 row20\" >2015</th>\n",
       "                        <td id=\"T_33b17312_bbe7_11eb_a1fc_02420a392271row20_col0\" class=\"data row20 col0\" >118.9</td>\n",
       "                        <td id=\"T_33b17312_bbe7_11eb_a1fc_02420a392271row20_col1\" class=\"data row20 col1\" >16.82</td>\n",
       "                        <td id=\"T_33b17312_bbe7_11eb_a1fc_02420a392271row20_col2\" class=\"data row20 col2\" >0</td>\n",
       "                        <td id=\"T_33b17312_bbe7_11eb_a1fc_02420a392271row20_col3\" class=\"data row20 col3\" >0</td>\n",
       "                        <td id=\"T_33b17312_bbe7_11eb_a1fc_02420a392271row20_col4\" class=\"data row20 col4\" >11.96</td>\n",
       "                        <td id=\"T_33b17312_bbe7_11eb_a1fc_02420a392271row20_col5\" class=\"data row20 col5\" >1.14</td>\n",
       "                        <td id=\"T_33b17312_bbe7_11eb_a1fc_02420a392271row20_col6\" class=\"data row20 col6\" >0</td>\n",
       "                        <td id=\"T_33b17312_bbe7_11eb_a1fc_02420a392271row20_col7\" class=\"data row20 col7\" >0</td>\n",
       "                        <td id=\"T_33b17312_bbe7_11eb_a1fc_02420a392271row20_col8\" class=\"data row20 col8\" >0.12</td>\n",
       "                        <td id=\"T_33b17312_bbe7_11eb_a1fc_02420a392271row20_col9\" class=\"data row20 col9\" >27.78</td>\n",
       "            </tr>\n",
       "            <tr>\n",
       "                        <th id=\"T_33b17312_bbe7_11eb_a1fc_02420a392271level0_row21\" class=\"row_heading level0 row21\" >2016</th>\n",
       "                        <td id=\"T_33b17312_bbe7_11eb_a1fc_02420a392271row21_col0\" class=\"data row21 col0\" >69.25</td>\n",
       "                        <td id=\"T_33b17312_bbe7_11eb_a1fc_02420a392271row21_col1\" class=\"data row21 col1\" >3.6</td>\n",
       "                        <td id=\"T_33b17312_bbe7_11eb_a1fc_02420a392271row21_col2\" class=\"data row21 col2\" >0</td>\n",
       "                        <td id=\"T_33b17312_bbe7_11eb_a1fc_02420a392271row21_col3\" class=\"data row21 col3\" >0</td>\n",
       "                        <td id=\"T_33b17312_bbe7_11eb_a1fc_02420a392271row21_col4\" class=\"data row21 col4\" >1.52</td>\n",
       "                        <td id=\"T_33b17312_bbe7_11eb_a1fc_02420a392271row21_col5\" class=\"data row21 col5\" >0.18</td>\n",
       "                        <td id=\"T_33b17312_bbe7_11eb_a1fc_02420a392271row21_col6\" class=\"data row21 col6\" >0</td>\n",
       "                        <td id=\"T_33b17312_bbe7_11eb_a1fc_02420a392271row21_col7\" class=\"data row21 col7\" >0</td>\n",
       "                        <td id=\"T_33b17312_bbe7_11eb_a1fc_02420a392271row21_col8\" class=\"data row21 col8\" >0</td>\n",
       "                        <td id=\"T_33b17312_bbe7_11eb_a1fc_02420a392271row21_col9\" class=\"data row21 col9\" >15.14</td>\n",
       "            </tr>\n",
       "    </tbody></table>"
      ],
      "text/plain": [
       "<pandas.io.formats.style.Styler at 0x7fd85bf08890>"
      ]
     },
     "execution_count": 61,
     "metadata": {},
     "output_type": "execute_result"
    }
   ],
   "source": [
    "import seaborn as sns\n",
    "\n",
    "cm = sns.light_palette(\"orange\", as_cmap=True)\n",
    "\n",
    "data_cm_platform = data_platform_merged.style.background_gradient(cmap=cm)\n",
    "\n",
    "data_cm_platform"
   ]
  },
  {
   "cell_type": "markdown",
   "metadata": {},
   "source": [
    "На примере PS (так как данная платформа регулярно обновляется) новые платформы выходят в среднем за 6 лет, а старые исчезают за 3-5 лет после выхода новых."
   ]
  },
  {
   "cell_type": "markdown",
   "metadata": {},
   "source": [
    "Выберем актуальный период для исследования: это будет 2000 - 2016 год, так как именно на этот период приходится активный рост многих игровых платформ. "
   ]
  },
  {
   "cell_type": "code",
   "execution_count": 63,
   "metadata": {},
   "outputs": [],
   "source": [
    "data_platform_zero = data_platform_merged.query('year_of_release >= 2006')"
   ]
  },
  {
   "cell_type": "code",
   "execution_count": 64,
   "metadata": {},
   "outputs": [],
   "source": [
    "data_upd = data_upd.query('year_of_release >= 2006')"
   ]
  },
  {
   "cell_type": "markdown",
   "metadata": {},
   "source": [
    "### ТОП ПРОДАЖ, РАСТУЩИЕ ПРОДАЖИ, ПАДАЮЩИЕ ПРОДАЖИ"
   ]
  },
  {
   "cell_type": "code",
   "execution_count": 65,
   "metadata": {},
   "outputs": [
    {
     "data": {
      "image/png": "[encoded data removed]",
      "text/plain": [
       "<Figure size 720x360 with 1 Axes>"
      ]
     },
     "metadata": {
      "needs_background": "light"
     },
     "output_type": "display_data"
    }
   ],
   "source": [
    "data_platform_zero.plot(figsize=(10, 5))\n",
    "plt.xlabel('YEAR')\n",
    "plt.ylabel('SALES')\n",
    "plt.title('РАСПРЕДЕЛЕНИЕ ПРОДАЖ ПО ПЛАТФОРМАМ С 2006 ПО 2016 ГОД')\n",
    "plt.grid(True)\n",
    "plt.show()"
   ]
  },
  {
   "cell_type": "markdown",
   "metadata": {},
   "source": [
    "**ЛИДЕРЫ ПРОДАЖ**\n",
    "\n",
    "Определенными лидерами на рынке игровых платформ является линейка PS.\n",
    "\n",
    "**РОСТ**\n",
    "\n",
    "PS4, которая показывает рост в последние годы исследования, а также 3DS.\n",
    "\n",
    "**ПАДЕНИЕ**\n",
    "\n",
    "PS3, так как ей на смену пришла более новая версия платформы - PS4. Также, очевидно, утрачивает свои позиции платформа 360. "
   ]
  },
  {
   "cell_type": "markdown",
   "metadata": {},
   "source": [
    "**Таким образом, потенциально прибыльными платформами в наших данных являются PS4, 3DS**"
   ]
  },
  {
   "cell_type": "code",
   "execution_count": 66,
   "metadata": {
    "scrolled": true
   },
   "outputs": [
    {
     "data": {
      "image/png": "[encoded data removed]",
      "text/plain": [
       "<Figure size 432x288 with 1 Axes>"
      ]
     },
     "metadata": {
      "needs_background": "light"
     },
     "output_type": "display_data"
    }
   ],
   "source": [
    "#боксплот для продаж по платформам\n",
    "data_platform_zero.boxplot()\n",
    "plt.xlabel('PLATFORM')\n",
    "plt.ylabel('SALES')\n",
    "plt.title('BOXPLOT SALES PLATFROM 2006-2016')\n",
    "plt.grid(True)\n",
    "plt.show()"
   ]
  },
  {
   "cell_type": "code",
   "execution_count": 67,
   "metadata": {},
   "outputs": [
    {
     "data": {
      "image/png": "[encoded data removed]",
      "text/plain": [
       "<Figure size 432x288 with 1 Axes>"
      ]
     },
     "metadata": {
      "needs_background": "light"
     },
     "output_type": "display_data"
    }
   ],
   "source": [
    "#боксплот для продаж по платформам\n",
    "data_platform_zero.boxplot()\n",
    "plt.xlabel('PLATFORM')\n",
    "plt.ylabel('SALES')\n",
    "plt.title('CRITIC VS SALES')\n",
    "plt.grid(True)\n",
    "plt.show()"
   ]
  },
  {
   "cell_type": "markdown",
   "metadata": {},
   "source": [
    "Наиболее успешной, судя по распределению продаж, можно вновь считать PS4. После неё идет Wii, который к сожалению утратил свои позиции на рынке из-за активного выхода более новых платформ. "
   ]
  },
  {
   "cell_type": "markdown",
   "metadata": {},
   "source": [
    "### КОРЕЛЛЯЦИЯ"
   ]
  },
  {
   "cell_type": "markdown",
   "metadata": {},
   "source": [
    "#### PS"
   ]
  },
  {
   "cell_type": "markdown",
   "metadata": {},
   "source": [
    "На примере PS3 посмотрим как влияют на продажи отзывы критиков и пользователей."
   ]
  },
  {
   "cell_type": "code",
   "execution_count": 68,
   "metadata": {},
   "outputs": [],
   "source": [
    "data_for_PS3 = data.query('platform == \"PS3\"')"
   ]
  },
  {
   "cell_type": "code",
   "execution_count": 69,
   "metadata": {},
   "outputs": [],
   "source": [
    "corr_data_PS3 = data_for_PS3[['total_sales','user_score', 'critic_score']].corr()"
   ]
  },
  {
   "cell_type": "code",
   "execution_count": 70,
   "metadata": {},
   "outputs": [
    {
     "data": {
      "text/html": [
       "<style  type=\"text/css\" >\n",
       "    #T_34dea192_bbe7_11eb_a1fc_02420a392271row0_col0 {\n",
       "            background-color:  #023858;\n",
       "            color:  #f1f1f1;\n",
       "        }    #T_34dea192_bbe7_11eb_a1fc_02420a392271row0_col1 {\n",
       "            background-color:  #fff7fb;\n",
       "            color:  #000000;\n",
       "        }    #T_34dea192_bbe7_11eb_a1fc_02420a392271row0_col2 {\n",
       "            background-color:  #fff7fb;\n",
       "            color:  #000000;\n",
       "        }    #T_34dea192_bbe7_11eb_a1fc_02420a392271row1_col0 {\n",
       "            background-color:  #fff7fb;\n",
       "            color:  #000000;\n",
       "        }    #T_34dea192_bbe7_11eb_a1fc_02420a392271row1_col1 {\n",
       "            background-color:  #023858;\n",
       "            color:  #f1f1f1;\n",
       "        }    #T_34dea192_bbe7_11eb_a1fc_02420a392271row1_col2 {\n",
       "            background-color:  #d5d5e8;\n",
       "            color:  #000000;\n",
       "        }    #T_34dea192_bbe7_11eb_a1fc_02420a392271row2_col0 {\n",
       "            background-color:  #c2cbe2;\n",
       "            color:  #000000;\n",
       "        }    #T_34dea192_bbe7_11eb_a1fc_02420a392271row2_col1 {\n",
       "            background-color:  #88b1d4;\n",
       "            color:  #000000;\n",
       "        }    #T_34dea192_bbe7_11eb_a1fc_02420a392271row2_col2 {\n",
       "            background-color:  #023858;\n",
       "            color:  #f1f1f1;\n",
       "        }</style><table id=\"T_34dea192_bbe7_11eb_a1fc_02420a392271\" ><thead>    <tr>        <th class=\"blank level0\" ></th>        <th class=\"col_heading level0 col0\" >total_sales</th>        <th class=\"col_heading level0 col1\" >user_score</th>        <th class=\"col_heading level0 col2\" >critic_score</th>    </tr></thead><tbody>\n",
       "                <tr>\n",
       "                        <th id=\"T_34dea192_bbe7_11eb_a1fc_02420a392271level0_row0\" class=\"row_heading level0 row0\" >total_sales</th>\n",
       "                        <td id=\"T_34dea192_bbe7_11eb_a1fc_02420a392271row0_col0\" class=\"data row0 col0\" >1</td>\n",
       "                        <td id=\"T_34dea192_bbe7_11eb_a1fc_02420a392271row0_col1\" class=\"data row0 col1\" >0.2</td>\n",
       "                        <td id=\"T_34dea192_bbe7_11eb_a1fc_02420a392271row0_col2\" class=\"data row0 col2\" >0.43</td>\n",
       "            </tr>\n",
       "            <tr>\n",
       "                        <th id=\"T_34dea192_bbe7_11eb_a1fc_02420a392271level0_row1\" class=\"row_heading level0 row1\" >user_score</th>\n",
       "                        <td id=\"T_34dea192_bbe7_11eb_a1fc_02420a392271row1_col0\" class=\"data row1 col0\" >0.2</td>\n",
       "                        <td id=\"T_34dea192_bbe7_11eb_a1fc_02420a392271row1_col1\" class=\"data row1 col1\" >1</td>\n",
       "                        <td id=\"T_34dea192_bbe7_11eb_a1fc_02420a392271row1_col2\" class=\"data row1 col2\" >0.56</td>\n",
       "            </tr>\n",
       "            <tr>\n",
       "                        <th id=\"T_34dea192_bbe7_11eb_a1fc_02420a392271level0_row2\" class=\"row_heading level0 row2\" >critic_score</th>\n",
       "                        <td id=\"T_34dea192_bbe7_11eb_a1fc_02420a392271row2_col0\" class=\"data row2 col0\" >0.43</td>\n",
       "                        <td id=\"T_34dea192_bbe7_11eb_a1fc_02420a392271row2_col1\" class=\"data row2 col1\" >0.56</td>\n",
       "                        <td id=\"T_34dea192_bbe7_11eb_a1fc_02420a392271row2_col2\" class=\"data row2 col2\" >1</td>\n",
       "            </tr>\n",
       "    </tbody></table>"
      ],
      "text/plain": [
       "<pandas.io.formats.style.Styler at 0x7fd7f3afec90>"
      ]
     },
     "execution_count": 70,
     "metadata": {},
     "output_type": "execute_result"
    }
   ],
   "source": [
    "corr_data_PS3.style.background_gradient(cmap='PuBu').set_precision(2)"
   ]
  },
  {
   "cell_type": "code",
   "execution_count": 71,
   "metadata": {},
   "outputs": [
    {
     "data": {
      "image/png": "[encoded data removed]",
      "text/plain": [
       "<Figure size 432x288 with 1 Axes>"
      ]
     },
     "metadata": {
      "needs_background": "light"
     },
     "output_type": "display_data"
    }
   ],
   "source": [
    "data_for_PS3.plot(x='total_sales', y='critic_score', kind='scatter')\n",
    "plt.ylabel('CRITIC')\n",
    "plt.title('CRITIC SCORE VS SALES')\n",
    "plt.grid(True)\n",
    "plt.show()"
   ]
  },
  {
   "cell_type": "code",
   "execution_count": 72,
   "metadata": {},
   "outputs": [
    {
     "data": {
      "image/png": "[encoded data removed]",
      "text/plain": [
       "<Figure size 432x288 with 1 Axes>"
      ]
     },
     "metadata": {
      "needs_background": "light"
     },
     "output_type": "display_data"
    }
   ],
   "source": [
    "data_for_PS3.plot(x='total_sales', y='user_score', kind='scatter')\n",
    "plt.xlabel('SALES')\n",
    "plt.ylabel('USER SCORE')\n",
    "plt.title('USER VS SALES')\n",
    "plt.grid(True)\n",
    "plt.show()"
   ]
  },
  {
   "cell_type": "markdown",
   "metadata": {},
   "source": [
    "**Зависимость отзывов и продаж** подтверждает небольшая корелляция (0.36) и диаграмма рассеяния, где мы видим как **растут продажи (пусть и не очень значительно) с увеличением оценки критиков**."
   ]
  },
  {
   "cell_type": "markdown",
   "metadata": {},
   "source": [
    "Сравним наши данные с продажами на других платформах. "
   ]
  },
  {
   "cell_type": "markdown",
   "metadata": {},
   "source": [
    "#### X360"
   ]
  },
  {
   "cell_type": "code",
   "execution_count": 73,
   "metadata": {},
   "outputs": [
    {
     "data": {
      "text/html": [
       "<style  type=\"text/css\" >\n",
       "    #T_35717346_bbe7_11eb_a1fc_02420a392271row0_col0 {\n",
       "            background-color:  #023858;\n",
       "            color:  #f1f1f1;\n",
       "        }    #T_35717346_bbe7_11eb_a1fc_02420a392271row0_col1 {\n",
       "            background-color:  #fff7fb;\n",
       "            color:  #000000;\n",
       "        }    #T_35717346_bbe7_11eb_a1fc_02420a392271row0_col2 {\n",
       "            background-color:  #fff7fb;\n",
       "            color:  #000000;\n",
       "        }    #T_35717346_bbe7_11eb_a1fc_02420a392271row1_col0 {\n",
       "            background-color:  #fff7fb;\n",
       "            color:  #000000;\n",
       "        }    #T_35717346_bbe7_11eb_a1fc_02420a392271row1_col1 {\n",
       "            background-color:  #023858;\n",
       "            color:  #f1f1f1;\n",
       "        }    #T_35717346_bbe7_11eb_a1fc_02420a392271row1_col2 {\n",
       "            background-color:  #ced0e6;\n",
       "            color:  #000000;\n",
       "        }    #T_35717346_bbe7_11eb_a1fc_02420a392271row2_col0 {\n",
       "            background-color:  #c9cee4;\n",
       "            color:  #000000;\n",
       "        }    #T_35717346_bbe7_11eb_a1fc_02420a392271row2_col1 {\n",
       "            background-color:  #84b0d3;\n",
       "            color:  #000000;\n",
       "        }    #T_35717346_bbe7_11eb_a1fc_02420a392271row2_col2 {\n",
       "            background-color:  #023858;\n",
       "            color:  #f1f1f1;\n",
       "        }</style><table id=\"T_35717346_bbe7_11eb_a1fc_02420a392271\" ><thead>    <tr>        <th class=\"blank level0\" ></th>        <th class=\"col_heading level0 col0\" >total_sales</th>        <th class=\"col_heading level0 col1\" >user_score</th>        <th class=\"col_heading level0 col2\" >critic_score</th>    </tr></thead><tbody>\n",
       "                <tr>\n",
       "                        <th id=\"T_35717346_bbe7_11eb_a1fc_02420a392271level0_row0\" class=\"row_heading level0 row0\" >total_sales</th>\n",
       "                        <td id=\"T_35717346_bbe7_11eb_a1fc_02420a392271row0_col0\" class=\"data row0 col0\" >1</td>\n",
       "                        <td id=\"T_35717346_bbe7_11eb_a1fc_02420a392271row0_col1\" class=\"data row0 col1\" >0.17</td>\n",
       "                        <td id=\"T_35717346_bbe7_11eb_a1fc_02420a392271row0_col2\" class=\"data row0 col2\" >0.39</td>\n",
       "            </tr>\n",
       "            <tr>\n",
       "                        <th id=\"T_35717346_bbe7_11eb_a1fc_02420a392271level0_row1\" class=\"row_heading level0 row1\" >user_score</th>\n",
       "                        <td id=\"T_35717346_bbe7_11eb_a1fc_02420a392271row1_col0\" class=\"data row1 col0\" >0.17</td>\n",
       "                        <td id=\"T_35717346_bbe7_11eb_a1fc_02420a392271row1_col1\" class=\"data row1 col1\" >1</td>\n",
       "                        <td id=\"T_35717346_bbe7_11eb_a1fc_02420a392271row1_col2\" class=\"data row1 col2\" >0.55</td>\n",
       "            </tr>\n",
       "            <tr>\n",
       "                        <th id=\"T_35717346_bbe7_11eb_a1fc_02420a392271level0_row2\" class=\"row_heading level0 row2\" >critic_score</th>\n",
       "                        <td id=\"T_35717346_bbe7_11eb_a1fc_02420a392271row2_col0\" class=\"data row2 col0\" >0.39</td>\n",
       "                        <td id=\"T_35717346_bbe7_11eb_a1fc_02420a392271row2_col1\" class=\"data row2 col1\" >0.55</td>\n",
       "                        <td id=\"T_35717346_bbe7_11eb_a1fc_02420a392271row2_col2\" class=\"data row2 col2\" >1</td>\n",
       "            </tr>\n",
       "    </tbody></table>"
      ],
      "text/plain": [
       "<pandas.io.formats.style.Styler at 0x7fd85ab3db50>"
      ]
     },
     "execution_count": 73,
     "metadata": {},
     "output_type": "execute_result"
    }
   ],
   "source": [
    "data_for_X360 = data.query('platform == \"X360\"')\n",
    "corr_data_X360 = data_for_X360[['total_sales','user_score', 'critic_score']].corr()\n",
    "corr_data_X360.style.background_gradient(cmap='PuBu').set_precision(2)"
   ]
  },
  {
   "cell_type": "code",
   "execution_count": 74,
   "metadata": {},
   "outputs": [
    {
     "data": {
      "image/png": "[encoded data removed]",
      "text/plain": [
       "<Figure size 432x288 with 1 Axes>"
      ]
     },
     "metadata": {
      "needs_background": "light"
     },
     "output_type": "display_data"
    }
   ],
   "source": [
    "data_for_X360.plot(x='total_sales', y='critic_score', kind='scatter')\n",
    "plt.xlabel('SALES')\n",
    "plt.ylabel('CRITIC')\n",
    "plt.title('CRITIC SCORE VS SALES')\n",
    "plt.grid(True)\n",
    "plt.show()"
   ]
  },
  {
   "cell_type": "code",
   "execution_count": 75,
   "metadata": {},
   "outputs": [
    {
     "data": {
      "image/png": "[encoded data removed]",
      "text/plain": [
       "<Figure size 432x288 with 1 Axes>"
      ]
     },
     "metadata": {
      "needs_background": "light"
     },
     "output_type": "display_data"
    }
   ],
   "source": [
    "data_for_X360.plot(x='total_sales', y='user_score', kind='scatter')\n",
    "plt.xlabel('SALES')\n",
    "plt.ylabel('USER SCORE')\n",
    "plt.title('USER VS SALES')\n",
    "plt.grid(True)\n",
    "plt.show()"
   ]
  },
  {
   "cell_type": "markdown",
   "metadata": {},
   "source": [
    "В случае с Х360 мы можем сделать аналогичные выводы, как и в случае с PS: \n",
    "\n",
    "- корелляция продаж с отзывами критиков сильнее\n",
    "- средняя оценка игрока не всегда указывает на более низкие продажи, чем высокая оценка"
   ]
  },
  {
   "cell_type": "markdown",
   "metadata": {},
   "source": [
    "#### DS"
   ]
  },
  {
   "cell_type": "code",
   "execution_count": 76,
   "metadata": {},
   "outputs": [
    {
     "data": {
      "text/html": [
       "<style  type=\"text/css\" >\n",
       "    #T_35ef082e_bbe7_11eb_a1fc_02420a392271row0_col0 {\n",
       "            background-color:  #023858;\n",
       "            color:  #f1f1f1;\n",
       "        }    #T_35ef082e_bbe7_11eb_a1fc_02420a392271row0_col1 {\n",
       "            background-color:  #fff7fb;\n",
       "            color:  #000000;\n",
       "        }    #T_35ef082e_bbe7_11eb_a1fc_02420a392271row0_col2 {\n",
       "            background-color:  #fff7fb;\n",
       "            color:  #000000;\n",
       "        }    #T_35ef082e_bbe7_11eb_a1fc_02420a392271row1_col0 {\n",
       "            background-color:  #fff7fb;\n",
       "            color:  #000000;\n",
       "        }    #T_35ef082e_bbe7_11eb_a1fc_02420a392271row1_col1 {\n",
       "            background-color:  #023858;\n",
       "            color:  #f1f1f1;\n",
       "        }    #T_35ef082e_bbe7_11eb_a1fc_02420a392271row1_col2 {\n",
       "            background-color:  #c8cde4;\n",
       "            color:  #000000;\n",
       "        }    #T_35ef082e_bbe7_11eb_a1fc_02420a392271row2_col0 {\n",
       "            background-color:  #fdf5fa;\n",
       "            color:  #000000;\n",
       "        }    #T_35ef082e_bbe7_11eb_a1fc_02420a392271row2_col1 {\n",
       "            background-color:  #c5cce3;\n",
       "            color:  #000000;\n",
       "        }    #T_35ef082e_bbe7_11eb_a1fc_02420a392271row2_col2 {\n",
       "            background-color:  #023858;\n",
       "            color:  #f1f1f1;\n",
       "        }</style><table id=\"T_35ef082e_bbe7_11eb_a1fc_02420a392271\" ><thead>    <tr>        <th class=\"blank level0\" ></th>        <th class=\"col_heading level0 col0\" >total_sales</th>        <th class=\"col_heading level0 col1\" >user_score</th>        <th class=\"col_heading level0 col2\" >critic_score</th>    </tr></thead><tbody>\n",
       "                <tr>\n",
       "                        <th id=\"T_35ef082e_bbe7_11eb_a1fc_02420a392271level0_row0\" class=\"row_heading level0 row0\" >total_sales</th>\n",
       "                        <td id=\"T_35ef082e_bbe7_11eb_a1fc_02420a392271row0_col0\" class=\"data row0 col0\" >1</td>\n",
       "                        <td id=\"T_35ef082e_bbe7_11eb_a1fc_02420a392271row0_col1\" class=\"data row0 col1\" >0.23</td>\n",
       "                        <td id=\"T_35ef082e_bbe7_11eb_a1fc_02420a392271row0_col2\" class=\"data row0 col2\" >0.24</td>\n",
       "            </tr>\n",
       "            <tr>\n",
       "                        <th id=\"T_35ef082e_bbe7_11eb_a1fc_02420a392271level0_row1\" class=\"row_heading level0 row1\" >user_score</th>\n",
       "                        <td id=\"T_35ef082e_bbe7_11eb_a1fc_02420a392271row1_col0\" class=\"data row1 col0\" >0.23</td>\n",
       "                        <td id=\"T_35ef082e_bbe7_11eb_a1fc_02420a392271row1_col1\" class=\"data row1 col1\" >1</td>\n",
       "                        <td id=\"T_35ef082e_bbe7_11eb_a1fc_02420a392271row1_col2\" class=\"data row1 col2\" >0.45</td>\n",
       "            </tr>\n",
       "            <tr>\n",
       "                        <th id=\"T_35ef082e_bbe7_11eb_a1fc_02420a392271level0_row2\" class=\"row_heading level0 row2\" >critic_score</th>\n",
       "                        <td id=\"T_35ef082e_bbe7_11eb_a1fc_02420a392271row2_col0\" class=\"data row2 col0\" >0.24</td>\n",
       "                        <td id=\"T_35ef082e_bbe7_11eb_a1fc_02420a392271row2_col1\" class=\"data row2 col1\" >0.45</td>\n",
       "                        <td id=\"T_35ef082e_bbe7_11eb_a1fc_02420a392271row2_col2\" class=\"data row2 col2\" >1</td>\n",
       "            </tr>\n",
       "    </tbody></table>"
      ],
      "text/plain": [
       "<pandas.io.formats.style.Styler at 0x7fd85ab26150>"
      ]
     },
     "execution_count": 76,
     "metadata": {},
     "output_type": "execute_result"
    }
   ],
   "source": [
    "data_for_DS = data.query('platform == \"DS\"')\n",
    "corr_data_DS = data_for_DS[['total_sales','user_score', 'critic_score']].corr()\n",
    "corr_data_DS.style.background_gradient(cmap='PuBu').set_precision(2)"
   ]
  },
  {
   "cell_type": "code",
   "execution_count": 77,
   "metadata": {},
   "outputs": [
    {
     "data": {
      "image/png": "[encoded data removed]",
      "text/plain": [
       "<Figure size 432x288 with 1 Axes>"
      ]
     },
     "metadata": {
      "needs_background": "light"
     },
     "output_type": "display_data"
    }
   ],
   "source": [
    "data_for_DS.plot(x='total_sales', y='critic_score', kind='scatter')\n",
    "plt.xlabel('SALES')\n",
    "plt.ylabel('CRITIC')\n",
    "plt.title('CRITIC SCORE VS SALES')\n",
    "plt.grid(True)\n",
    "plt.show()"
   ]
  },
  {
   "cell_type": "code",
   "execution_count": 78,
   "metadata": {},
   "outputs": [
    {
     "data": {
      "image/png": "[encoded data removed]",
      "text/plain": [
       "<Figure size 432x288 with 1 Axes>"
      ]
     },
     "metadata": {
      "needs_background": "light"
     },
     "output_type": "display_data"
    }
   ],
   "source": [
    "data_for_DS.plot(x='total_sales', y='user_score', kind='scatter')\n",
    "plt.xlabel('SALES')\n",
    "plt.ylabel('USER SCORE')\n",
    "plt.title('USER VS SALES')\n",
    "plt.grid(True)\n",
    "plt.show()"
   ]
  },
  {
   "cell_type": "markdown",
   "metadata": {},
   "source": [
    "В случае с DS мы видим уже другую ситуацию: \n",
    "\n",
    "- корелляция продаж с отзывами критиков и игроков практически равна (0.23/0.24)\n",
    "- в случае с отзывами критиков мы имеем более ровное распределение продаж относительно роста оценки критиков"
   ]
  },
  {
   "cell_type": "markdown",
   "metadata": {},
   "source": [
    "### РАСПРЕДЕЛЕНИЕ ПРОДАЖ ПО ЖАНРАМ"
   ]
  },
  {
   "cell_type": "code",
   "execution_count": 79,
   "metadata": {},
   "outputs": [],
   "source": [
    "data_top_genre = data_upd.pivot_table(index='genre', values='total_sales'\n",
    "                                     , aggfunc = 'sum').sort_values(by='total_sales',ascending = False)"
   ]
  },
  {
   "cell_type": "code",
   "execution_count": 80,
   "metadata": {},
   "outputs": [
    {
     "data": {
      "image/png": "[encoded data removed]",
      "text/plain": [
       "<Figure size 720x720 with 1 Axes>"
      ]
     },
     "metadata": {},
     "output_type": "display_data"
    }
   ],
   "source": [
    "data_top_genre.plot.pie(subplots=True, figsize=(10, 10))\n",
    "plt.show()"
   ]
  },
  {
   "cell_type": "code",
   "execution_count": 81,
   "metadata": {},
   "outputs": [
    {
     "data": {
      "text/html": [
       "<style  type=\"text/css\" >\n",
       "    #T_36c983c8_bbe7_11eb_a1fc_02420a392271row0_col0 {\n",
       "            width:  10em;\n",
       "             height:  80%;\n",
       "            background:  linear-gradient(90deg,#d65f5f 100.0%, transparent 100.0%);\n",
       "        }    #T_36c983c8_bbe7_11eb_a1fc_02420a392271row1_col0 {\n",
       "            width:  10em;\n",
       "             height:  80%;\n",
       "            background:  linear-gradient(90deg,#d65f5f 69.1%, transparent 69.1%);\n",
       "        }    #T_36c983c8_bbe7_11eb_a1fc_02420a392271row2_col0 {\n",
       "            width:  10em;\n",
       "             height:  80%;\n",
       "            background:  linear-gradient(90deg,#d65f5f 61.7%, transparent 61.7%);\n",
       "        }    #T_36c983c8_bbe7_11eb_a1fc_02420a392271row3_col0 {\n",
       "            width:  10em;\n",
       "             height:  80%;\n",
       "            background:  linear-gradient(90deg,#d65f5f 46.2%, transparent 46.2%);\n",
       "        }    #T_36c983c8_bbe7_11eb_a1fc_02420a392271row4_col0 {\n",
       "            width:  10em;\n",
       "             height:  80%;\n",
       "            background:  linear-gradient(90deg,#d65f5f 43.1%, transparent 43.1%);\n",
       "        }    #T_36c983c8_bbe7_11eb_a1fc_02420a392271row5_col0 {\n",
       "            width:  10em;\n",
       "             height:  80%;\n",
       "            background:  linear-gradient(90deg,#d65f5f 21.6%, transparent 21.6%);\n",
       "        }    #T_36c983c8_bbe7_11eb_a1fc_02420a392271row6_col0 {\n",
       "            width:  10em;\n",
       "             height:  80%;\n",
       "            background:  linear-gradient(90deg,#d65f5f 19.8%, transparent 19.8%);\n",
       "        }    #T_36c983c8_bbe7_11eb_a1fc_02420a392271row7_col0 {\n",
       "            width:  10em;\n",
       "             height:  80%;\n",
       "            background:  linear-gradient(90deg,#d65f5f 14.1%, transparent 14.1%);\n",
       "        }    #T_36c983c8_bbe7_11eb_a1fc_02420a392271row8_col0 {\n",
       "            width:  10em;\n",
       "             height:  80%;\n",
       "            background:  linear-gradient(90deg,#d65f5f 11.0%, transparent 11.0%);\n",
       "        }    #T_36c983c8_bbe7_11eb_a1fc_02420a392271row9_col0 {\n",
       "            width:  10em;\n",
       "             height:  80%;\n",
       "            background:  linear-gradient(90deg,#d65f5f 6.5%, transparent 6.5%);\n",
       "        }    #T_36c983c8_bbe7_11eb_a1fc_02420a392271row10_col0 {\n",
       "            width:  10em;\n",
       "             height:  80%;\n",
       "            background:  linear-gradient(90deg,#d65f5f 1.6%, transparent 1.6%);\n",
       "        }    #T_36c983c8_bbe7_11eb_a1fc_02420a392271row11_col0 {\n",
       "            width:  10em;\n",
       "             height:  80%;\n",
       "        }</style><table id=\"T_36c983c8_bbe7_11eb_a1fc_02420a392271\" ><thead>    <tr>        <th class=\"blank level0\" ></th>        <th class=\"col_heading level0 col0\" >total_sales</th>    </tr>    <tr>        <th class=\"index_name level0\" >genre</th>        <th class=\"blank\" ></th>    </tr></thead><tbody>\n",
       "                <tr>\n",
       "                        <th id=\"T_36c983c8_bbe7_11eb_a1fc_02420a392271level0_row0\" class=\"row_heading level0 row0\" >Action</th>\n",
       "                        <td id=\"T_36c983c8_bbe7_11eb_a1fc_02420a392271row0_col0\" class=\"data row0 col0\" >1116.65</td>\n",
       "            </tr>\n",
       "            <tr>\n",
       "                        <th id=\"T_36c983c8_bbe7_11eb_a1fc_02420a392271level0_row1\" class=\"row_heading level0 row1\" >Sports</th>\n",
       "                        <td id=\"T_36c983c8_bbe7_11eb_a1fc_02420a392271row1_col0\" class=\"data row1 col0\" >793.85</td>\n",
       "            </tr>\n",
       "            <tr>\n",
       "                        <th id=\"T_36c983c8_bbe7_11eb_a1fc_02420a392271level0_row2\" class=\"row_heading level0 row2\" >Shooter</th>\n",
       "                        <td id=\"T_36c983c8_bbe7_11eb_a1fc_02420a392271row2_col0\" class=\"data row2 col0\" >717.04</td>\n",
       "            </tr>\n",
       "            <tr>\n",
       "                        <th id=\"T_36c983c8_bbe7_11eb_a1fc_02420a392271level0_row3\" class=\"row_heading level0 row3\" >Misc</th>\n",
       "                        <td id=\"T_36c983c8_bbe7_11eb_a1fc_02420a392271row3_col0\" class=\"data row3 col0\" >554.86</td>\n",
       "            </tr>\n",
       "            <tr>\n",
       "                        <th id=\"T_36c983c8_bbe7_11eb_a1fc_02420a392271level0_row4\" class=\"row_heading level0 row4\" >Role-Playing</th>\n",
       "                        <td id=\"T_36c983c8_bbe7_11eb_a1fc_02420a392271row4_col0\" class=\"data row4 col0\" >522.4</td>\n",
       "            </tr>\n",
       "            <tr>\n",
       "                        <th id=\"T_36c983c8_bbe7_11eb_a1fc_02420a392271level0_row5\" class=\"row_heading level0 row5\" >Racing</th>\n",
       "                        <td id=\"T_36c983c8_bbe7_11eb_a1fc_02420a392271row5_col0\" class=\"data row5 col0\" >299</td>\n",
       "            </tr>\n",
       "            <tr>\n",
       "                        <th id=\"T_36c983c8_bbe7_11eb_a1fc_02420a392271level0_row6\" class=\"row_heading level0 row6\" >Platform</th>\n",
       "                        <td id=\"T_36c983c8_bbe7_11eb_a1fc_02420a392271row6_col0\" class=\"data row6 col0\" >279.74</td>\n",
       "            </tr>\n",
       "            <tr>\n",
       "                        <th id=\"T_36c983c8_bbe7_11eb_a1fc_02420a392271level0_row7\" class=\"row_heading level0 row7\" >Simulation</th>\n",
       "                        <td id=\"T_36c983c8_bbe7_11eb_a1fc_02420a392271row7_col0\" class=\"data row7 col0\" >220.65</td>\n",
       "            </tr>\n",
       "            <tr>\n",
       "                        <th id=\"T_36c983c8_bbe7_11eb_a1fc_02420a392271level0_row8\" class=\"row_heading level0 row8\" >Fighting</th>\n",
       "                        <td id=\"T_36c983c8_bbe7_11eb_a1fc_02420a392271row8_col0\" class=\"data row8 col0\" >188.42</td>\n",
       "            </tr>\n",
       "            <tr>\n",
       "                        <th id=\"T_36c983c8_bbe7_11eb_a1fc_02420a392271level0_row9\" class=\"row_heading level0 row9\" >Adventure</th>\n",
       "                        <td id=\"T_36c983c8_bbe7_11eb_a1fc_02420a392271row9_col0\" class=\"data row9 col0\" >141.35</td>\n",
       "            </tr>\n",
       "            <tr>\n",
       "                        <th id=\"T_36c983c8_bbe7_11eb_a1fc_02420a392271level0_row10\" class=\"row_heading level0 row10\" >Puzzle</th>\n",
       "                        <td id=\"T_36c983c8_bbe7_11eb_a1fc_02420a392271row10_col0\" class=\"data row10 col0\" >89.92</td>\n",
       "            </tr>\n",
       "            <tr>\n",
       "                        <th id=\"T_36c983c8_bbe7_11eb_a1fc_02420a392271level0_row11\" class=\"row_heading level0 row11\" >Strategy</th>\n",
       "                        <td id=\"T_36c983c8_bbe7_11eb_a1fc_02420a392271row11_col0\" class=\"data row11 col0\" >73.14</td>\n",
       "            </tr>\n",
       "    </tbody></table>"
      ],
      "text/plain": [
       "<pandas.io.formats.style.Styler at 0x7fd85b3ea450>"
      ]
     },
     "execution_count": 81,
     "metadata": {},
     "output_type": "execute_result"
    }
   ],
   "source": [
    "data_top_genre.style.bar()"
   ]
  },
  {
   "cell_type": "markdown",
   "metadata": {},
   "source": [
    "Больше всего люди играют в Action, Sports. Отрыв этих жанров от других более всего ощутим. \n",
    "\n",
    "Также, можно выделить жанры с наиболее низкими продажами: Puzzle, Adventure, Strategy.\n",
    "\n",
    "В общем, можно выделить три группы игр по суммам продаж: \n",
    "\n",
    "1. Action, Sports\n",
    "2. Shooter, Role-Playing, Platform, Misc, Racing\n",
    "3. Fighting, Simulation, Puzzle, Adventure, Strategy\n",
    "\n",
    "Между этими группами можно увидеть существенные разрывы по продажам. С такой категоризацией, на мой взгляд, можно провести более качественный анализ: например, выделить общие признаки внутри групп и по этим признакам сравнить их между собой, чтобы сделать вывод об общих закономерностях."
   ]
  },
  {
   "cell_type": "markdown",
   "metadata": {},
   "source": [
    "### ВЫВОД"
   ]
  },
  {
   "cell_type": "markdown",
   "metadata": {},
   "source": [
    "Мы провели большой анализ и получили новые данные:\n",
    "\n",
    "- распределение продаж по годам (увидели пиковые значения и обратили внимание на акутальный период для исследования)\n",
    "- распределение продаж по платформам\n",
    "- распределение продаж на платформах по годам\n",
    "- выделили топ продаж в актуальном периоде и наиболее перспективные платформы\n",
    "- посмотрели на корелляцию оценок и продаж\n",
    "- распределили продажи по жанрам и увидели во что играют чаще всего"
   ]
  },
  {
   "cell_type": "markdown",
   "metadata": {},
   "source": [
    "## ПОРТРЕТ ПОЛЬЗОВАТЕЛЯ ПО РЕГИОНАМ"
   ]
  },
  {
   "cell_type": "markdown",
   "metadata": {},
   "source": [
    "### ТОП 5 ПЛАТФОРМ ПО РЕГИОНАМ NA/EU/JP"
   ]
  },
  {
   "cell_type": "code",
   "execution_count": 82,
   "metadata": {},
   "outputs": [],
   "source": [
    "data_top_platform_in_na = data_upd.pivot_table(index = 'platform', values = 'na_sales',aggfunc = 'sum'\n",
    "                ).sort_values(by = 'na_sales'\n",
    "                              , ascending = False).head()"
   ]
  },
  {
   "cell_type": "code",
   "execution_count": 83,
   "metadata": {},
   "outputs": [
    {
     "data": {
      "image/png": "[encoded data removed]",
      "text/plain": [
       "<Figure size 720x720 with 1 Axes>"
      ]
     },
     "metadata": {},
     "output_type": "display_data"
    }
   ],
   "source": [
    "data_top_platform_in_na.plot.pie(subplots=True, figsize=(10, 10))\n",
    "plt.show()"
   ]
  },
  {
   "cell_type": "code",
   "execution_count": 84,
   "metadata": {},
   "outputs": [],
   "source": [
    "data_top_platform_in_eu = data_upd.pivot_table(index = 'platform', values = 'eu_sales',aggfunc = 'sum'\n",
    "                ).sort_values(by = 'eu_sales'\n",
    "                              , ascending = False).head()"
   ]
  },
  {
   "cell_type": "code",
   "execution_count": 85,
   "metadata": {},
   "outputs": [
    {
     "data": {
      "image/png": "[encoded data removed]",
      "text/plain": [
       "<Figure size 720x720 with 1 Axes>"
      ]
     },
     "metadata": {},
     "output_type": "display_data"
    }
   ],
   "source": [
    "data_top_platform_in_eu.plot.pie(subplots=True, figsize=(10, 10))\n",
    "plt.show()"
   ]
  },
  {
   "cell_type": "code",
   "execution_count": 86,
   "metadata": {},
   "outputs": [],
   "source": [
    "data_top_platform_in_jp = data_upd.pivot_table(index = 'platform', values = 'jp_sales',aggfunc = 'sum'\n",
    "                ).sort_values(by = 'jp_sales'\n",
    "                              , ascending = False).head()"
   ]
  },
  {
   "cell_type": "code",
   "execution_count": 87,
   "metadata": {},
   "outputs": [
    {
     "data": {
      "image/png": "[encoded data removed]",
      "text/plain": [
       "<Figure size 720x720 with 1 Axes>"
      ]
     },
     "metadata": {},
     "output_type": "display_data"
    }
   ],
   "source": [
    "data_top_platform_in_jp.plot.pie(subplots=True, figsize=(10, 10))\n",
    "plt.show()"
   ]
  },
  {
   "cell_type": "markdown",
   "metadata": {},
   "source": [
    "На европейском и североамериканском рынке сложно выделить ондозначных лидеров, так как разрывы в продажах  между платформами минимальные и, таким образом, их позиции могут быть очень временными. Но всё же по сумме долей можно сделать вывод, что лидерами этих рынков являются PS2 и X360.\n",
    "\n",
    "На японском рынке, напротив, можно выделить однозначного лидера - это платформа DS. Такую ситуацию можно объяснить тем, что Nintendo (производитель DS) пользуется бóльшей популярностью, чем другие платформы, потому что является именно японским продуктом. Японский потребитель всегда был уникальным и поэтому именно японской фирме удается наиболее точно попадать в свою ЦА, учитывая всевозможные продуктовые специфики. "
   ]
  },
  {
   "cell_type": "markdown",
   "metadata": {},
   "source": [
    "### ТОП 5 ЖАНРОВ ПО РЕГИОНАМ NA/EU/JP"
   ]
  },
  {
   "cell_type": "code",
   "execution_count": 88,
   "metadata": {},
   "outputs": [],
   "source": [
    "data_top_genre_in_na = data_upd.pivot_table(index = 'genre', values = 'na_sales',aggfunc = 'sum'\n",
    "                ).sort_values(by = 'na_sales'\n",
    "                              , ascending = False).head()"
   ]
  },
  {
   "cell_type": "code",
   "execution_count": 89,
   "metadata": {},
   "outputs": [
    {
     "data": {
      "image/png": "[encoded data removed]",
      "text/plain": [
       "<Figure size 720x720 with 1 Axes>"
      ]
     },
     "metadata": {},
     "output_type": "display_data"
    }
   ],
   "source": [
    "data_top_genre_in_na.plot.pie(subplots=True, figsize=(10, 10))\n",
    "plt.show()"
   ]
  },
  {
   "cell_type": "code",
   "execution_count": 90,
   "metadata": {},
   "outputs": [],
   "source": [
    "data_top_genre_in_eu = data_upd.pivot_table(index = 'genre', values = 'eu_sales',aggfunc = 'sum'\n",
    "                ).sort_values(by = 'eu_sales'\n",
    "                              , ascending = False).head()"
   ]
  },
  {
   "cell_type": "code",
   "execution_count": 91,
   "metadata": {},
   "outputs": [
    {
     "data": {
      "image/png": "[encoded data removed]",
      "text/plain": [
       "<Figure size 720x720 with 1 Axes>"
      ]
     },
     "metadata": {},
     "output_type": "display_data"
    }
   ],
   "source": [
    "data_top_genre_in_eu.plot.pie(subplots=True, figsize=(10, 10))\n",
    "plt.show()"
   ]
  },
  {
   "cell_type": "code",
   "execution_count": 92,
   "metadata": {},
   "outputs": [],
   "source": [
    "data_top_genre_in_jp = data_upd.pivot_table(index = 'genre', values = 'jp_sales',aggfunc = 'sum'\n",
    "                ).sort_values(by = 'jp_sales'\n",
    "                              , ascending = False).head()"
   ]
  },
  {
   "cell_type": "code",
   "execution_count": 93,
   "metadata": {},
   "outputs": [
    {
     "data": {
      "image/png": "[encoded data removed]",
      "text/plain": [
       "<Figure size 720x720 with 1 Axes>"
      ]
     },
     "metadata": {},
     "output_type": "display_data"
    }
   ],
   "source": [
    "data_top_genre_in_jp.plot.pie(subplots=True, figsize=(10, 10))\n",
    "plt.show()"
   ]
  },
  {
   "cell_type": "markdown",
   "metadata": {},
   "source": [
    "В Северной Америке и Европе жанры Action и Sports являются наиболее популярными, тогда как в Японии лидирует Role-Playing. Помимо потребительской специфики Японии, такие результаты легко объяснить распределением жанров по игровым платформам:"
   ]
  },
  {
   "cell_type": "code",
   "execution_count": 94,
   "metadata": {},
   "outputs": [],
   "source": [
    "data_only_PS3 = data_upd.query('platform == \"PS3\"')"
   ]
  },
  {
   "cell_type": "code",
   "execution_count": 95,
   "metadata": {},
   "outputs": [
    {
     "data": {
      "text/plain": [
       "Action          373\n",
       "Sports          211\n",
       "Shooter         155\n",
       "Misc            122\n",
       "Role-Playing    117\n",
       "Racing           90\n",
       "Fighting         76\n",
       "Adventure        72\n",
       "Name: genre, dtype: int64"
      ]
     },
     "execution_count": 95,
     "metadata": {},
     "output_type": "execute_result"
    }
   ],
   "source": [
    "data_only_PS3['genre'].value_counts().head(8)"
   ]
  },
  {
   "cell_type": "code",
   "execution_count": 96,
   "metadata": {},
   "outputs": [],
   "source": [
    "data_only_DS = data_upd.query('platform == \"DS\"')"
   ]
  },
  {
   "cell_type": "code",
   "execution_count": 97,
   "metadata": {},
   "outputs": [
    {
     "data": {
      "text/plain": [
       "Misc            366\n",
       "Action          313\n",
       "Simulation      265\n",
       "Adventure       231\n",
       "Puzzle          212\n",
       "Role-Playing    187\n",
       "Sports          134\n",
       "Strategy         73\n",
       "Name: genre, dtype: int64"
      ]
     },
     "execution_count": 97,
     "metadata": {},
     "output_type": "execute_result"
    }
   ],
   "source": [
    "data_only_DS['genre'].value_counts().head(8)"
   ]
  },
  {
   "cell_type": "markdown",
   "metadata": {},
   "source": [
    "Как мы видим жанры Action и Sports являются самыми распространенными для платформы PS3, которая является одной из самым популярных в Европе и Америке. В свою очередь для платформы DS, популярной в Японии, распределение другое: здесь экшн и спорт занимает второе и 7 место соответственно. Но, несмотря на то, что Role-Playing далеко не в лидерах на данной платформе, японцы более всего предпочитают именно этот жанр."
   ]
  },
  {
   "cell_type": "markdown",
   "metadata": {},
   "source": [
    "--------"
   ]
  },
  {
   "cell_type": "markdown",
   "metadata": {},
   "source": [
    "### Рейтинг ESRB"
   ]
  },
  {
   "cell_type": "code",
   "execution_count": 99,
   "metadata": {},
   "outputs": [],
   "source": [
    "data_esrb_eu = data_upd.pivot_table(index = 'rating', values = 'eu_sales', aggfunc = 'sum'\n",
    "                ).sort_values(by = 'eu_sales'\n",
    "                              , ascending = False).head(10)"
   ]
  },
  {
   "cell_type": "code",
   "execution_count": 100,
   "metadata": {},
   "outputs": [
    {
     "data": {
      "image/png": "[encoded data removed]",
      "text/plain": [
       "<Figure size 720x720 with 1 Axes>"
      ]
     },
     "metadata": {},
     "output_type": "display_data"
    }
   ],
   "source": [
    "data_esrb_eu.head().plot.pie(subplots=True, figsize=(10, 10))\n",
    "plt.show()"
   ]
  },
  {
   "cell_type": "code",
   "execution_count": 101,
   "metadata": {},
   "outputs": [],
   "source": [
    "data_esrb_na = data_upd.pivot_table(index = 'rating', values = 'na_sales', aggfunc = 'sum'\n",
    "                ).sort_values(by = 'na_sales'\n",
    "                              , ascending = False).head(10)"
   ]
  },
  {
   "cell_type": "code",
   "execution_count": 102,
   "metadata": {},
   "outputs": [
    {
     "data": {
      "image/png": "[encoded data removed]",
      "text/plain": [
       "<Figure size 720x720 with 1 Axes>"
      ]
     },
     "metadata": {},
     "output_type": "display_data"
    }
   ],
   "source": [
    "data_esrb_na.head().plot.pie(subplots=True, figsize=(10, 10))\n",
    "plt.show()"
   ]
  },
  {
   "cell_type": "code",
   "execution_count": 103,
   "metadata": {},
   "outputs": [],
   "source": [
    "data_esrb_jp = data_upd.pivot_table(index = 'rating', values = 'jp_sales', aggfunc = 'sum'\n",
    "                ).sort_values(by = 'jp_sales'\n",
    "                              , ascending = False).head(10)"
   ]
  },
  {
   "cell_type": "code",
   "execution_count": 104,
   "metadata": {},
   "outputs": [
    {
     "data": {
      "image/png": "[encoded data removed]",
      "text/plain": [
       "<Figure size 720x720 with 1 Axes>"
      ]
     },
     "metadata": {},
     "output_type": "display_data"
    }
   ],
   "source": [
    "data_esrb_jp.head().plot.pie(subplots=True, figsize=(10, 10))\n",
    "plt.show()"
   ]
  },
  {
   "cell_type": "markdown",
   "metadata": {},
   "source": [
    "Допустим, что значение \"unknown\" в рейтинге ESRB это локальная категоризация (в зависимости от региона). Таким образом, она для каждого географического региона своя и не имеет единой классификации. Потому будет обозначаться \"unknown\". "
   ]
  },
  {
   "cell_type": "markdown",
   "metadata": {},
   "source": [
    "Посмотрим на распределение: на всех рынках лидируют игры с маркировками E (без возрастных ограничений) и T (13+), так как включают в себя наиболее широкий диапазон возрастов, а значит являются доступнее и популярнее остальных категорий (10+ и т.п). Также, стоит обратить внимание на то, что в Японии \"львиную\" долю занимают игры с локальной категоризацией (\"unknown\"). "
   ]
  },
  {
   "cell_type": "markdown",
   "metadata": {},
   "source": [
    "### ВЫВОД"
   ]
  },
  {
   "cell_type": "markdown",
   "metadata": {},
   "source": [
    "В этом разделе мы изучили региональные особенности распределения платформ и жанров игр:\n",
    "\n",
    "- получили топ-5 платформ по регионам и увидели много сходств, а также отличия японского рынка\n",
    "- в распределении жанров опять наткнулись на специфику японского рынка\n",
    "- посмотрели на то, как влияют ограничения по возрасту на фактические продажи и поняли, что для коммерческого успеха лучше делать игры как можно доступнее всем возрастам без исключения"
   ]
  },
  {
   "cell_type": "markdown",
   "metadata": {},
   "source": [
    "## ПРОВЕРКА ГИПОТЕЗ"
   ]
  },
  {
   "cell_type": "markdown",
   "metadata": {},
   "source": [
    "### Xbox One и PC"
   ]
  },
  {
   "cell_type": "markdown",
   "metadata": {},
   "source": [
    "**Проверим гипотезу о том, что средние пользовательские рейтинги платформ Xbox One и PC одинаковые**\n",
    "\n",
    "Сформулируем нулевую гипотезу: **средние пользовательские рейтинги платформ Xbox One и PC одинаковые**\n",
    "\n",
    "Альтернативная гипотеза: **средние пользовательские рейтинги платформ Xbox One и PC разные**"
   ]
  },
  {
   "cell_type": "code",
   "execution_count": 105,
   "metadata": {},
   "outputs": [
    {
     "data": {
      "text/plain": [
       "user_score    4.07421\n",
       "dtype: float64"
      ]
     },
     "execution_count": 105,
     "metadata": {},
     "output_type": "execute_result"
    }
   ],
   "source": [
    "#сравним дисперсии выборок для параметра equal_var\n",
    "np.var(data_upd.loc[data_upd['platform'] == 'XOne', ['user_score']])"
   ]
  },
  {
   "cell_type": "code",
   "execution_count": 106,
   "metadata": {},
   "outputs": [
    {
     "data": {
      "text/plain": [
       "user_score    5.171131\n",
       "dtype: float64"
      ]
     },
     "execution_count": 106,
     "metadata": {},
     "output_type": "execute_result"
    }
   ],
   "source": [
    "np.var(data_upd.loc[data_upd['platform'] == 'PC', ['user_score']])"
   ]
  },
  {
   "cell_type": "code",
   "execution_count": 225,
   "metadata": {
    "scrolled": true
   },
   "outputs": [
    {
     "name": "stdout",
     "output_type": "stream",
     "text": [
      "p-значение: nan\n",
      "Не получилось отвергнуть нулевую гипотезу\n"
     ]
    }
   ],
   "source": [
    "#задаём критический уровень статистической зависимости\n",
    "alpha = 0.05\n",
    "\n",
    "#задаём переменные с рейтингом по платформам\n",
    "data_xone = data_upd.loc[data_upd['platform'] == 'XOne', ['user_score']]\n",
    "data_pc = data_upd.loc[data_upd['platform'] == 'PC', ['user_score']]\n",
    "\n",
    "#проверяем гипотезу о равенстве средних пользовательских рейтингов платформ\n",
    "results = st.ttest_ind(data_xone, data_pc, equal_var = True)\n",
    "#equal_var = True, так как дисперсия выборок совпадает\n",
    "#выведем р-значение\n",
    "print('p-значение:', results.pvalue)\n",
    "\n",
    "if results.pvalue < alpha:\n",
    "    print(\"Отвергаем нулевую гипотезу\")\n",
    "else:\n",
    "    print(\"Не получилось отвергнуть нулевую гипотезу\")"
   ]
  },
  {
   "cell_type": "markdown",
   "metadata": {},
   "source": [
    "**Вывод:** **отвергаем** нулевую гипотезу о том, что **средние пользовательские рейтинги платформ Xbox One и PC одинаковые**"
   ]
  },
  {
   "cell_type": "markdown",
   "metadata": {},
   "source": [
    "Проверим **альтернативную гипотезу** через срез данных: "
   ]
  },
  {
   "cell_type": "code",
   "execution_count": 108,
   "metadata": {},
   "outputs": [
    {
     "data": {
      "text/plain": [
       "user_score    6.149741\n",
       "dtype: float64"
      ]
     },
     "execution_count": 108,
     "metadata": {},
     "output_type": "execute_result"
    }
   ],
   "source": [
    "data_xone.mean()"
   ]
  },
  {
   "cell_type": "code",
   "execution_count": 109,
   "metadata": {},
   "outputs": [
    {
     "data": {
      "text/plain": [
       "user_score    6.354766\n",
       "dtype: float64"
      ]
     },
     "execution_count": 109,
     "metadata": {},
     "output_type": "execute_result"
    }
   ],
   "source": [
    "data_pc.mean()"
   ]
  },
  {
   "cell_type": "markdown",
   "metadata": {},
   "source": [
    "**Вывод:** средние пользовательские рейтинги платформ Xbox One и PC отличаются. "
   ]
  },
  {
   "cell_type": "markdown",
   "metadata": {},
   "source": [
    "### Action и Sports"
   ]
  },
  {
   "cell_type": "markdown",
   "metadata": {},
   "source": [
    "**Проверим гипотезу о том, что средние пользовательские рейтинги жанров Action и Sports разные.**"
   ]
  },
  {
   "cell_type": "markdown",
   "metadata": {},
   "source": [
    "Сформулируем нулевую гипотезу: **средние пользовательские рейтинги жанров Action и Sports равны**\n",
    "\n",
    "Альтернативная гипотеза: **средние пользовательские рейтинги жанров Action и Sports разные**"
   ]
  },
  {
   "cell_type": "code",
   "execution_count": 110,
   "metadata": {},
   "outputs": [
    {
     "data": {
      "text/plain": [
       "user_score    8.107605\n",
       "dtype: float64"
      ]
     },
     "execution_count": 110,
     "metadata": {},
     "output_type": "execute_result"
    }
   ],
   "source": [
    "#сравним дисперсии выборок\n",
    "np.var(data_upd.loc[data_upd['genre'] == 'Action', ['user_score']])"
   ]
  },
  {
   "cell_type": "code",
   "execution_count": 111,
   "metadata": {},
   "outputs": [
    {
     "data": {
      "text/plain": [
       "user_score    10.265624\n",
       "dtype: float64"
      ]
     },
     "execution_count": 111,
     "metadata": {},
     "output_type": "execute_result"
    }
   ],
   "source": [
    "np.var(data_upd.loc[data_upd['genre'] == 'Sports', ['user_score']])"
   ]
  },
  {
   "cell_type": "code",
   "execution_count": 112,
   "metadata": {
    "scrolled": true
   },
   "outputs": [
    {
     "name": "stdout",
     "output_type": "stream",
     "text": [
      "p-значение: [nan]\n",
      "Не получилось отвергнуть нулевую гипотезу\n"
     ]
    }
   ],
   "source": [
    "#задаём критический уровень статистической зависимости\n",
    "alpha = 0.05\n",
    "\n",
    "#задаём переменные с рейтингом по платформам\n",
    "data_action = data_upd.loc[data_upd['genre'] == 'Action', ['user_score']]\n",
    "data_sports = data_upd.loc[data_upd['genre'] == 'Sports', ['user_score']]\n",
    "\n",
    "#проверяем гипотезу о равенстве средних пользовательских рейтингов платформ\n",
    "results = st.ttest_ind(data_action, data_sports, equal_var = True)\n",
    "#equal_var = True, так как дисперсия выборок совпадает\n",
    "\n",
    "#выведем р-значение\n",
    "print('p-значение:', results.pvalue)\n",
    "\n",
    "if results.pvalue < alpha:\n",
    "    print(\"Отвергаем нулевую гипотезу\")\n",
    "else:\n",
    "    print(\"Не получилось отвергнуть нулевую гипотезу\")"
   ]
  },
  {
   "cell_type": "markdown",
   "metadata": {},
   "source": [
    "**Вывод:** **отвергаем** нулевую гипотезу о том, что **средние пользовательские рейтинги жанров Action и Sports равны**"
   ]
  },
  {
   "cell_type": "markdown",
   "metadata": {},
   "source": [
    "Проверим **альтернативную гипотезу** через срез данных: "
   ]
  },
  {
   "cell_type": "code",
   "execution_count": 113,
   "metadata": {},
   "outputs": [
    {
     "data": {
      "text/plain": [
       "user_score    5.735076\n",
       "dtype: float64"
      ]
     },
     "execution_count": 113,
     "metadata": {},
     "output_type": "execute_result"
    }
   ],
   "source": [
    "data_action.mean()"
   ]
  },
  {
   "cell_type": "code",
   "execution_count": 114,
   "metadata": {},
   "outputs": [
    {
     "data": {
      "text/plain": [
       "user_score    4.619276\n",
       "dtype: float64"
      ]
     },
     "execution_count": 114,
     "metadata": {},
     "output_type": "execute_result"
    }
   ],
   "source": [
    "data_sports.mean()"
   ]
  },
  {
   "cell_type": "markdown",
   "metadata": {},
   "source": [
    "**Вывод:** средние пользовательские рейтинги жанров Action и Sports разные. "
   ]
  },
  {
   "cell_type": "markdown",
   "metadata": {},
   "source": [
    "### ВЫВОД"
   ]
  },
  {
   "cell_type": "markdown",
   "metadata": {},
   "source": [
    "В ЗАКЛЮЧИТЕЛЬНОМ РАЗДЕЛЕ МЫ ПРОВЕРИЛИ ДВЕ ГИПОТЕЗЫ И ПОНЯЛИ, ЧТО: \n",
    "\n",
    "- средние пользовательские рейтинги платформ Xbox One и PC отличаются\n",
    "- средние пользовательские рейтинги жанров Action и Sports разные"
   ]
  },
  {
   "cell_type": "markdown",
   "metadata": {},
   "source": [
    "## ВЫВОД"
   ]
  },
  {
   "cell_type": "markdown",
   "metadata": {},
   "source": [
    "Исходя из проведенного анализа данных, можно сделать следующие выводы и рекоменации: \n",
    "\n",
    "- платформы от PS всегда имели финансовый успех, таким образом ставка на новую платформу PS4 имеет все возможные перспективы\n",
    "- жанры Action, Sport, Shooter бессменная классика и инвестировать в такие игры - это значит смотреть на 10 шагов вперёд\n",
    "- а если вы хотите смотреть на 15 шагов вперёд, то стоит всерьёз задуматься о том, чтобы увеличить на платформах PS количество игр в жанре Role-Playing и дать здоровую конкуренцию Nintendo на японском рынке\n",
    "- стоит обратить внимание на возрастные ограничения в играх: чем более молодую возрастную аудиторию вы способны охватить, тем больше ваш потенциальный доход!\n",
    "- всегда стоит обращать внимание на географические особенности потребителей: распределение может оказаться неожиданным, даже когда кажется, что все слышали про PS и только и любят в видеоиграх, что бегать и стрелять. Таким образом, у нас складывается следующий портрет пользователя взависимости от региона: \n",
    "\n",
    "**Северная Америка/na**\n",
    "\n",
    "- Используемые платформы: X360 и PS3. Если считать данные об успехе Wii - неактуальными, так как эта платформа уже не выпускается. \n",
    "\n",
    "- Популярные жанры: Action, Sports, Shooter примерно в равных долях\n",
    "\n",
    "**Европа/eu**\n",
    "\n",
    "- Используемые платформы: X360 и PS3. Если считать данные об успехе Wii - неактуальными, так как эта платформа уже не выпускается. \n",
    "\n",
    "- Популярные жанры: Action, Sports, Shooter примерно в равных долях\n",
    "\n",
    "\n",
    "**Япония/jp**\n",
    "\n",
    "- Исползуемые платформы: DS, 3DS, PS3\n",
    "\n",
    "- Популярные жанры: Role-Playing (c большим отрывом!), Action, Misc "
   ]
  }
 ],
 "metadata": {
  "kernelspec": {
   "display_name": "Python 3",
   "language": "python",
   "name": "python3"
  },
  "language_info": {
   "codemirror_mode": {
    "name": "ipython",
    "version": 3
   },
   "file_extension": ".py",
   "mimetype": "text/x-python",
   "name": "python",
   "nbconvert_exporter": "python",
   "pygments_lexer": "ipython3",
   "version": "3.7.8"
  },
  "toc": {
   "base_numbering": 1,
   "nav_menu": {},
   "number_sections": true,
   "sideBar": true,
   "skip_h1_title": true,
   "title_cell": "СОДЕРЖАНИЕ",
   "title_sidebar": "Contents",
   "toc_cell": true,
   "toc_position": {
    "height": "432.066px",
    "left": "801.194px",
    "top": "110.052px",
    "width": "253.477px"
   },
   "toc_section_display": true,
   "toc_window_display": false
  }
 },
 "nbformat": 4,
 "nbformat_minor": 2
}
