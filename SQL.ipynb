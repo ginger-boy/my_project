{
 "cells": [
  {
   "cell_type": "markdown",
   "metadata": {},
   "source": [
    "# SQL "
   ]
  },
  {
   "cell_type": "markdown",
   "metadata": {},
   "source": [
    "# Описание проекта\n",
    "\n",
    "Проанализировать базу данных.\n",
    "В ней — информация о книгах, издательствах, авторах, а также пользовательские обзоры книг. \n",
    "Эти данные помогут сформулировать ценностное предложение для нового продукта.\n",
    "\n",
    "# Задания\n",
    "\n",
    "- Посчитайте, сколько книг вышло после 1 января 2000 года;\n",
    "- Для каждой книги посчитайте количество обзоров и среднюю оценку;\n",
    "- Определите издательство, которое выпустило наибольшее число книг толще 50 страниц — так вы исключите из анализа брошюры;\n",
    "- Определите автора с самой высокой средней оценкой книг — учитывайте только книги с 50 и более оценками;\n",
    "- Посчитайте среднее количество обзоров от пользователей, которые поставили больше 50 оценок."
   ]
  },
  {
   "cell_type": "markdown",
   "metadata": {},
   "source": [
    "---"
   ]
  },
  {
   "cell_type": "markdown",
   "metadata": {},
   "source": [
    "## Импорт базы данных"
   ]
  },
  {
   "cell_type": "code",
   "execution_count": 1,
   "metadata": {},
   "outputs": [],
   "source": [
    "# импортируем библиотеки\n",
    "import pandas as pd\n",
    "from sqlalchemy import create_engine\n",
    "# устанавливаем параметры\n",
    "db_config = {'user': 'praktikum_student', # имя пользователя\n",
    " 'pwd': 'Sdf4$2;d-d30pp', # пароль\n",
    " 'host': 'rc1b-wcoijxj3yxfsf3fs.mdb.yandexcloud.net',\n",
    " 'port': 6432, # порт подключения\n",
    " 'db': 'data-analyst-final-project-db'} # название базы данных\n",
    "connection_string = 'postgresql://{}:{}@{}:{}/{}'.format(db_config['user'],\n",
    " db_config['pwd'],\n",
    " db_config['host'],\n",
    " db_config['port'],\n",
    " db_config['db'])\n",
    "# сохраняем коннектор\n",
    "engine = create_engine(connection_string, connect_args={'sslmode':'require'}) "
   ]
  },
  {
   "cell_type": "markdown",
   "metadata": {},
   "source": [
    "---"
   ]
  },
  {
   "cell_type": "markdown",
   "metadata": {},
   "source": [
    "## Анализ таблиц"
   ]
  },
  {
   "cell_type": "code",
   "execution_count": 2,
   "metadata": {},
   "outputs": [
    {
     "data": {
      "text/html": [
       "<div>\n",
       "<style scoped>\n",
       "    .dataframe tbody tr th:only-of-type {\n",
       "        vertical-align: middle;\n",
       "    }\n",
       "\n",
       "    .dataframe tbody tr th {\n",
       "        vertical-align: top;\n",
       "    }\n",
       "\n",
       "    .dataframe thead th {\n",
       "        text-align: right;\n",
       "    }\n",
       "</style>\n",
       "<table border=\"1\" class=\"dataframe\">\n",
       "  <thead>\n",
       "    <tr style=\"text-align: right;\">\n",
       "      <th></th>\n",
       "      <th>book_id</th>\n",
       "      <th>author_id</th>\n",
       "      <th>title</th>\n",
       "      <th>num_pages</th>\n",
       "      <th>publication_date</th>\n",
       "      <th>publisher_id</th>\n",
       "    </tr>\n",
       "  </thead>\n",
       "  <tbody>\n",
       "    <tr>\n",
       "      <th>0</th>\n",
       "      <td>1</td>\n",
       "      <td>546</td>\n",
       "      <td>'Salem's Lot</td>\n",
       "      <td>594</td>\n",
       "      <td>2005-11-01</td>\n",
       "      <td>93</td>\n",
       "    </tr>\n",
       "    <tr>\n",
       "      <th>1</th>\n",
       "      <td>2</td>\n",
       "      <td>465</td>\n",
       "      <td>1 000 Places to See Before You Die</td>\n",
       "      <td>992</td>\n",
       "      <td>2003-05-22</td>\n",
       "      <td>336</td>\n",
       "    </tr>\n",
       "    <tr>\n",
       "      <th>2</th>\n",
       "      <td>3</td>\n",
       "      <td>407</td>\n",
       "      <td>13 Little Blue Envelopes (Little Blue Envelope...</td>\n",
       "      <td>322</td>\n",
       "      <td>2010-12-21</td>\n",
       "      <td>135</td>\n",
       "    </tr>\n",
       "    <tr>\n",
       "      <th>3</th>\n",
       "      <td>4</td>\n",
       "      <td>82</td>\n",
       "      <td>1491: New Revelations of the Americas Before C...</td>\n",
       "      <td>541</td>\n",
       "      <td>2006-10-10</td>\n",
       "      <td>309</td>\n",
       "    </tr>\n",
       "    <tr>\n",
       "      <th>4</th>\n",
       "      <td>5</td>\n",
       "      <td>125</td>\n",
       "      <td>1776</td>\n",
       "      <td>386</td>\n",
       "      <td>2006-07-04</td>\n",
       "      <td>268</td>\n",
       "    </tr>\n",
       "  </tbody>\n",
       "</table>\n",
       "</div>"
      ],
      "text/plain": [
       "   book_id  author_id                                              title  \\\n",
       "0        1        546                                       'Salem's Lot   \n",
       "1        2        465                 1 000 Places to See Before You Die   \n",
       "2        3        407  13 Little Blue Envelopes (Little Blue Envelope...   \n",
       "3        4         82  1491: New Revelations of the Americas Before C...   \n",
       "4        5        125                                               1776   \n",
       "\n",
       "   num_pages publication_date  publisher_id  \n",
       "0        594       2005-11-01            93  \n",
       "1        992       2003-05-22           336  \n",
       "2        322       2010-12-21           135  \n",
       "3        541       2006-10-10           309  \n",
       "4        386       2006-07-04           268  "
      ]
     },
     "execution_count": 2,
     "metadata": {},
     "output_type": "execute_result"
    }
   ],
   "source": [
    "pd.io.sql.read_sql('SELECT * FROM books',con = engine).head()"
   ]
  },
  {
   "cell_type": "code",
   "execution_count": 3,
   "metadata": {},
   "outputs": [
    {
     "data": {
      "text/html": [
       "<div>\n",
       "<style scoped>\n",
       "    .dataframe tbody tr th:only-of-type {\n",
       "        vertical-align: middle;\n",
       "    }\n",
       "\n",
       "    .dataframe tbody tr th {\n",
       "        vertical-align: top;\n",
       "    }\n",
       "\n",
       "    .dataframe thead th {\n",
       "        text-align: right;\n",
       "    }\n",
       "</style>\n",
       "<table border=\"1\" class=\"dataframe\">\n",
       "  <thead>\n",
       "    <tr style=\"text-align: right;\">\n",
       "      <th></th>\n",
       "      <th>author_id</th>\n",
       "      <th>author</th>\n",
       "    </tr>\n",
       "  </thead>\n",
       "  <tbody>\n",
       "    <tr>\n",
       "      <th>0</th>\n",
       "      <td>1</td>\n",
       "      <td>A.S. Byatt</td>\n",
       "    </tr>\n",
       "    <tr>\n",
       "      <th>1</th>\n",
       "      <td>2</td>\n",
       "      <td>Aesop/Laura Harris/Laura Gibbs</td>\n",
       "    </tr>\n",
       "    <tr>\n",
       "      <th>2</th>\n",
       "      <td>3</td>\n",
       "      <td>Agatha Christie</td>\n",
       "    </tr>\n",
       "    <tr>\n",
       "      <th>3</th>\n",
       "      <td>4</td>\n",
       "      <td>Alan Brennert</td>\n",
       "    </tr>\n",
       "    <tr>\n",
       "      <th>4</th>\n",
       "      <td>5</td>\n",
       "      <td>Alan Moore/David   Lloyd</td>\n",
       "    </tr>\n",
       "  </tbody>\n",
       "</table>\n",
       "</div>"
      ],
      "text/plain": [
       "   author_id                          author\n",
       "0          1                      A.S. Byatt\n",
       "1          2  Aesop/Laura Harris/Laura Gibbs\n",
       "2          3                 Agatha Christie\n",
       "3          4                   Alan Brennert\n",
       "4          5        Alan Moore/David   Lloyd"
      ]
     },
     "execution_count": 3,
     "metadata": {},
     "output_type": "execute_result"
    }
   ],
   "source": [
    "pd.io.sql.read_sql('SELECT * FROM authors',con = engine).head()"
   ]
  },
  {
   "cell_type": "code",
   "execution_count": 4,
   "metadata": {},
   "outputs": [
    {
     "data": {
      "text/html": [
       "<div>\n",
       "<style scoped>\n",
       "    .dataframe tbody tr th:only-of-type {\n",
       "        vertical-align: middle;\n",
       "    }\n",
       "\n",
       "    .dataframe tbody tr th {\n",
       "        vertical-align: top;\n",
       "    }\n",
       "\n",
       "    .dataframe thead th {\n",
       "        text-align: right;\n",
       "    }\n",
       "</style>\n",
       "<table border=\"1\" class=\"dataframe\">\n",
       "  <thead>\n",
       "    <tr style=\"text-align: right;\">\n",
       "      <th></th>\n",
       "      <th>publisher_id</th>\n",
       "      <th>publisher</th>\n",
       "    </tr>\n",
       "  </thead>\n",
       "  <tbody>\n",
       "    <tr>\n",
       "      <th>0</th>\n",
       "      <td>1</td>\n",
       "      <td>Ace</td>\n",
       "    </tr>\n",
       "    <tr>\n",
       "      <th>1</th>\n",
       "      <td>2</td>\n",
       "      <td>Ace Book</td>\n",
       "    </tr>\n",
       "    <tr>\n",
       "      <th>2</th>\n",
       "      <td>3</td>\n",
       "      <td>Ace Books</td>\n",
       "    </tr>\n",
       "    <tr>\n",
       "      <th>3</th>\n",
       "      <td>4</td>\n",
       "      <td>Ace Hardcover</td>\n",
       "    </tr>\n",
       "    <tr>\n",
       "      <th>4</th>\n",
       "      <td>5</td>\n",
       "      <td>Addison Wesley Publishing Company</td>\n",
       "    </tr>\n",
       "    <tr>\n",
       "      <th>5</th>\n",
       "      <td>6</td>\n",
       "      <td>Aladdin</td>\n",
       "    </tr>\n",
       "    <tr>\n",
       "      <th>6</th>\n",
       "      <td>7</td>\n",
       "      <td>Aladdin Paperbacks</td>\n",
       "    </tr>\n",
       "    <tr>\n",
       "      <th>7</th>\n",
       "      <td>8</td>\n",
       "      <td>Albin Michel</td>\n",
       "    </tr>\n",
       "    <tr>\n",
       "      <th>8</th>\n",
       "      <td>9</td>\n",
       "      <td>Alfred A. Knopf</td>\n",
       "    </tr>\n",
       "    <tr>\n",
       "      <th>9</th>\n",
       "      <td>10</td>\n",
       "      <td>Alfred A. Knopf Books for Young Readers</td>\n",
       "    </tr>\n",
       "  </tbody>\n",
       "</table>\n",
       "</div>"
      ],
      "text/plain": [
       "   publisher_id                                publisher\n",
       "0             1                                      Ace\n",
       "1             2                                 Ace Book\n",
       "2             3                                Ace Books\n",
       "3             4                            Ace Hardcover\n",
       "4             5        Addison Wesley Publishing Company\n",
       "5             6                                  Aladdin\n",
       "6             7                       Aladdin Paperbacks\n",
       "7             8                             Albin Michel\n",
       "8             9                          Alfred A. Knopf\n",
       "9            10  Alfred A. Knopf Books for Young Readers"
      ]
     },
     "execution_count": 4,
     "metadata": {},
     "output_type": "execute_result"
    }
   ],
   "source": [
    "pd.io.sql.read_sql('SELECT * FROM publishers',con = engine).head(10)"
   ]
  },
  {
   "cell_type": "code",
   "execution_count": 5,
   "metadata": {},
   "outputs": [
    {
     "data": {
      "text/html": [
       "<div>\n",
       "<style scoped>\n",
       "    .dataframe tbody tr th:only-of-type {\n",
       "        vertical-align: middle;\n",
       "    }\n",
       "\n",
       "    .dataframe tbody tr th {\n",
       "        vertical-align: top;\n",
       "    }\n",
       "\n",
       "    .dataframe thead th {\n",
       "        text-align: right;\n",
       "    }\n",
       "</style>\n",
       "<table border=\"1\" class=\"dataframe\">\n",
       "  <thead>\n",
       "    <tr style=\"text-align: right;\">\n",
       "      <th></th>\n",
       "      <th>rating_id</th>\n",
       "      <th>book_id</th>\n",
       "      <th>username</th>\n",
       "      <th>rating</th>\n",
       "    </tr>\n",
       "  </thead>\n",
       "  <tbody>\n",
       "    <tr>\n",
       "      <th>0</th>\n",
       "      <td>1</td>\n",
       "      <td>1</td>\n",
       "      <td>ryanfranco</td>\n",
       "      <td>4</td>\n",
       "    </tr>\n",
       "    <tr>\n",
       "      <th>1</th>\n",
       "      <td>2</td>\n",
       "      <td>1</td>\n",
       "      <td>grantpatricia</td>\n",
       "      <td>2</td>\n",
       "    </tr>\n",
       "    <tr>\n",
       "      <th>2</th>\n",
       "      <td>3</td>\n",
       "      <td>1</td>\n",
       "      <td>brandtandrea</td>\n",
       "      <td>5</td>\n",
       "    </tr>\n",
       "    <tr>\n",
       "      <th>3</th>\n",
       "      <td>4</td>\n",
       "      <td>2</td>\n",
       "      <td>lorichen</td>\n",
       "      <td>3</td>\n",
       "    </tr>\n",
       "    <tr>\n",
       "      <th>4</th>\n",
       "      <td>5</td>\n",
       "      <td>2</td>\n",
       "      <td>mariokeller</td>\n",
       "      <td>2</td>\n",
       "    </tr>\n",
       "  </tbody>\n",
       "</table>\n",
       "</div>"
      ],
      "text/plain": [
       "   rating_id  book_id       username  rating\n",
       "0          1        1     ryanfranco       4\n",
       "1          2        1  grantpatricia       2\n",
       "2          3        1   brandtandrea       5\n",
       "3          4        2       lorichen       3\n",
       "4          5        2    mariokeller       2"
      ]
     },
     "execution_count": 5,
     "metadata": {},
     "output_type": "execute_result"
    }
   ],
   "source": [
    "pd.io.sql.read_sql('SELECT * FROM ratings',con = engine).head()"
   ]
  },
  {
   "cell_type": "code",
   "execution_count": 6,
   "metadata": {},
   "outputs": [
    {
     "data": {
      "text/html": [
       "<div>\n",
       "<style scoped>\n",
       "    .dataframe tbody tr th:only-of-type {\n",
       "        vertical-align: middle;\n",
       "    }\n",
       "\n",
       "    .dataframe tbody tr th {\n",
       "        vertical-align: top;\n",
       "    }\n",
       "\n",
       "    .dataframe thead th {\n",
       "        text-align: right;\n",
       "    }\n",
       "</style>\n",
       "<table border=\"1\" class=\"dataframe\">\n",
       "  <thead>\n",
       "    <tr style=\"text-align: right;\">\n",
       "      <th></th>\n",
       "      <th>review_id</th>\n",
       "      <th>book_id</th>\n",
       "      <th>username</th>\n",
       "      <th>text</th>\n",
       "    </tr>\n",
       "  </thead>\n",
       "  <tbody>\n",
       "    <tr>\n",
       "      <th>0</th>\n",
       "      <td>1</td>\n",
       "      <td>1</td>\n",
       "      <td>brandtandrea</td>\n",
       "      <td>Mention society tell send professor analysis. ...</td>\n",
       "    </tr>\n",
       "    <tr>\n",
       "      <th>1</th>\n",
       "      <td>2</td>\n",
       "      <td>1</td>\n",
       "      <td>ryanfranco</td>\n",
       "      <td>Foot glass pretty audience hit themselves. Amo...</td>\n",
       "    </tr>\n",
       "    <tr>\n",
       "      <th>2</th>\n",
       "      <td>3</td>\n",
       "      <td>2</td>\n",
       "      <td>lorichen</td>\n",
       "      <td>Listen treat keep worry. Miss husband tax but ...</td>\n",
       "    </tr>\n",
       "    <tr>\n",
       "      <th>3</th>\n",
       "      <td>4</td>\n",
       "      <td>3</td>\n",
       "      <td>johnsonamanda</td>\n",
       "      <td>Finally month interesting blue could nature cu...</td>\n",
       "    </tr>\n",
       "    <tr>\n",
       "      <th>4</th>\n",
       "      <td>5</td>\n",
       "      <td>3</td>\n",
       "      <td>scotttamara</td>\n",
       "      <td>Nation purpose heavy give wait song will. List...</td>\n",
       "    </tr>\n",
       "  </tbody>\n",
       "</table>\n",
       "</div>"
      ],
      "text/plain": [
       "   review_id  book_id       username  \\\n",
       "0          1        1   brandtandrea   \n",
       "1          2        1     ryanfranco   \n",
       "2          3        2       lorichen   \n",
       "3          4        3  johnsonamanda   \n",
       "4          5        3    scotttamara   \n",
       "\n",
       "                                                text  \n",
       "0  Mention society tell send professor analysis. ...  \n",
       "1  Foot glass pretty audience hit themselves. Amo...  \n",
       "2  Listen treat keep worry. Miss husband tax but ...  \n",
       "3  Finally month interesting blue could nature cu...  \n",
       "4  Nation purpose heavy give wait song will. List...  "
      ]
     },
     "execution_count": 6,
     "metadata": {},
     "output_type": "execute_result"
    }
   ],
   "source": [
    "pd.io.sql.read_sql('SELECT * FROM reviews',con = engine).head()"
   ]
  },
  {
   "cell_type": "markdown",
   "metadata": {},
   "source": [
    "<td bgcolor=\"#CCCCFF\"> \n",
    "    \n",
    "**В таблице publishers есть неочевидные дубликаты типа: Alfred A. Knopf и Alfred A. Knopf Books for Young Readers. Но им присвоен разный ID. Хотя, вероятно, ID присвоен в алфавитном порядке нарастающим числом. Тем не менее, стоит избавиться от таких дубликатов, например, с помощью лемматизации.**\n",
    "    \n",
    "</td>"
   ]
  },
  {
   "cell_type": "markdown",
   "metadata": {},
   "source": [
    "---"
   ]
  },
  {
   "cell_type": "markdown",
   "metadata": {},
   "source": [
    "## Выполнение запросов"
   ]
  },
  {
   "cell_type": "markdown",
   "metadata": {},
   "source": [
    "### Посчитайте, сколько книг вышло после 1 января 2000 года"
   ]
  },
  {
   "cell_type": "code",
   "execution_count": 7,
   "metadata": {},
   "outputs": [
    {
     "data": {
      "text/html": [
       "<div>\n",
       "<style scoped>\n",
       "    .dataframe tbody tr th:only-of-type {\n",
       "        vertical-align: middle;\n",
       "    }\n",
       "\n",
       "    .dataframe tbody tr th {\n",
       "        vertical-align: top;\n",
       "    }\n",
       "\n",
       "    .dataframe thead th {\n",
       "        text-align: right;\n",
       "    }\n",
       "</style>\n",
       "<table border=\"1\" class=\"dataframe\">\n",
       "  <thead>\n",
       "    <tr style=\"text-align: right;\">\n",
       "      <th></th>\n",
       "      <th>books_count</th>\n",
       "    </tr>\n",
       "  </thead>\n",
       "  <tbody>\n",
       "    <tr>\n",
       "      <th>0</th>\n",
       "      <td>819</td>\n",
       "    </tr>\n",
       "  </tbody>\n",
       "</table>\n",
       "</div>"
      ],
      "text/plain": [
       "   books_count\n",
       "0          819"
      ]
     },
     "execution_count": 7,
     "metadata": {},
     "output_type": "execute_result"
    }
   ],
   "source": [
    "pd.io.sql.read_sql(''' SELECT \n",
    "                        COUNT(book_id) AS books_count\n",
    "                       FROM \n",
    "                        books \n",
    "                       WHERE \n",
    "                         CAST(publication_date AS date) > '2000-01-01' '''\n",
    "                      ,con = engine)"
   ]
  },
  {
   "cell_type": "markdown",
   "metadata": {},
   "source": [
    "**819 (81%) книг из наших данных вышли после 1 января 2000 года**"
   ]
  },
  {
   "cell_type": "code",
   "execution_count": 8,
   "metadata": {},
   "outputs": [
    {
     "data": {
      "text/html": [
       "<div>\n",
       "<style scoped>\n",
       "    .dataframe tbody tr th:only-of-type {\n",
       "        vertical-align: middle;\n",
       "    }\n",
       "\n",
       "    .dataframe tbody tr th {\n",
       "        vertical-align: top;\n",
       "    }\n",
       "\n",
       "    .dataframe thead th {\n",
       "        text-align: right;\n",
       "    }\n",
       "</style>\n",
       "<table border=\"1\" class=\"dataframe\">\n",
       "  <thead>\n",
       "    <tr style=\"text-align: right;\">\n",
       "      <th></th>\n",
       "      <th>books_count</th>\n",
       "    </tr>\n",
       "  </thead>\n",
       "  <tbody>\n",
       "    <tr>\n",
       "      <th>0</th>\n",
       "      <td>1000</td>\n",
       "    </tr>\n",
       "  </tbody>\n",
       "</table>\n",
       "</div>"
      ],
      "text/plain": [
       "   books_count\n",
       "0         1000"
      ]
     },
     "execution_count": 8,
     "metadata": {},
     "output_type": "execute_result"
    }
   ],
   "source": [
    "pd.io.sql.read_sql(''' SELECT \n",
    "                        COUNT(book_id) AS books_count\n",
    "                       FROM \n",
    "                        books'''\n",
    "                      ,con = engine)"
   ]
  },
  {
   "cell_type": "markdown",
   "metadata": {},
   "source": [
    "---"
   ]
  },
  {
   "cell_type": "markdown",
   "metadata": {},
   "source": [
    "### Для каждой книги посчитайте количество обзоров и среднюю оценку"
   ]
  },
  {
   "cell_type": "code",
   "execution_count": 9,
   "metadata": {},
   "outputs": [
    {
     "data": {
      "text/html": [
       "<div>\n",
       "<style scoped>\n",
       "    .dataframe tbody tr th:only-of-type {\n",
       "        vertical-align: middle;\n",
       "    }\n",
       "\n",
       "    .dataframe tbody tr th {\n",
       "        vertical-align: top;\n",
       "    }\n",
       "\n",
       "    .dataframe thead th {\n",
       "        text-align: right;\n",
       "    }\n",
       "</style>\n",
       "<table border=\"1\" class=\"dataframe\">\n",
       "  <thead>\n",
       "    <tr style=\"text-align: right;\">\n",
       "      <th></th>\n",
       "      <th>title</th>\n",
       "      <th>mean_rating</th>\n",
       "      <th>review_count</th>\n",
       "    </tr>\n",
       "  </thead>\n",
       "  <tbody>\n",
       "    <tr>\n",
       "      <th>0</th>\n",
       "      <td>The Count of Monte Cristo</td>\n",
       "      <td>4.217391</td>\n",
       "      <td>5.0</td>\n",
       "    </tr>\n",
       "    <tr>\n",
       "      <th>1</th>\n",
       "      <td>Count Zero (Sprawl  #2)</td>\n",
       "      <td>2.500000</td>\n",
       "      <td>2.0</td>\n",
       "    </tr>\n",
       "    <tr>\n",
       "      <th>2</th>\n",
       "      <td>The Botany of Desire: A Plant's-Eye View of th...</td>\n",
       "      <td>3.500000</td>\n",
       "      <td>2.0</td>\n",
       "    </tr>\n",
       "    <tr>\n",
       "      <th>3</th>\n",
       "      <td>The Poisonwood Bible</td>\n",
       "      <td>4.363636</td>\n",
       "      <td>5.0</td>\n",
       "    </tr>\n",
       "    <tr>\n",
       "      <th>4</th>\n",
       "      <td>The Canterbury Tales</td>\n",
       "      <td>3.333333</td>\n",
       "      <td>3.0</td>\n",
       "    </tr>\n",
       "    <tr>\n",
       "      <th>...</th>\n",
       "      <td>...</td>\n",
       "      <td>...</td>\n",
       "      <td>...</td>\n",
       "    </tr>\n",
       "    <tr>\n",
       "      <th>994</th>\n",
       "      <td>Of Love and Other Demons</td>\n",
       "      <td>4.500000</td>\n",
       "      <td>2.0</td>\n",
       "    </tr>\n",
       "    <tr>\n",
       "      <th>995</th>\n",
       "      <td>In the Heart of the Sea: The Tragedy of the Wh...</td>\n",
       "      <td>3.333333</td>\n",
       "      <td>3.0</td>\n",
       "    </tr>\n",
       "    <tr>\n",
       "      <th>996</th>\n",
       "      <td>Welcome to Temptation (Dempseys  #1)</td>\n",
       "      <td>5.000000</td>\n",
       "      <td>2.0</td>\n",
       "    </tr>\n",
       "    <tr>\n",
       "      <th>997</th>\n",
       "      <td>World's End (The Sandman  #8)</td>\n",
       "      <td>4.500000</td>\n",
       "      <td>2.0</td>\n",
       "    </tr>\n",
       "    <tr>\n",
       "      <th>998</th>\n",
       "      <td>Holes (Holes  #1)</td>\n",
       "      <td>3.967742</td>\n",
       "      <td>5.0</td>\n",
       "    </tr>\n",
       "  </tbody>\n",
       "</table>\n",
       "<p>999 rows × 3 columns</p>\n",
       "</div>"
      ],
      "text/plain": [
       "                                                 title  mean_rating  \\\n",
       "0                            The Count of Monte Cristo     4.217391   \n",
       "1                              Count Zero (Sprawl  #2)     2.500000   \n",
       "2    The Botany of Desire: A Plant's-Eye View of th...     3.500000   \n",
       "3                                 The Poisonwood Bible     4.363636   \n",
       "4                                 The Canterbury Tales     3.333333   \n",
       "..                                                 ...          ...   \n",
       "994                           Of Love and Other Demons     4.500000   \n",
       "995  In the Heart of the Sea: The Tragedy of the Wh...     3.333333   \n",
       "996               Welcome to Temptation (Dempseys  #1)     5.000000   \n",
       "997                      World's End (The Sandman  #8)     4.500000   \n",
       "998                                  Holes (Holes  #1)     3.967742   \n",
       "\n",
       "     review_count  \n",
       "0             5.0  \n",
       "1             2.0  \n",
       "2             2.0  \n",
       "3             5.0  \n",
       "4             3.0  \n",
       "..            ...  \n",
       "994           2.0  \n",
       "995           3.0  \n",
       "996           2.0  \n",
       "997           2.0  \n",
       "998           5.0  \n",
       "\n",
       "[999 rows x 3 columns]"
      ]
     },
     "execution_count": 9,
     "metadata": {},
     "output_type": "execute_result"
    }
   ],
   "source": [
    "pd.io.sql.read_sql(''' SELECT\n",
    "                         n1.title,\n",
    "                         n1.mean_rating, \n",
    "                         n2.review_count\n",
    "                       FROM \n",
    "                        (SELECT \n",
    "                          books.title,\n",
    "                         AVG(ratings.rating) AS mean_rating\n",
    "                         FROM \n",
    "                          ratings\n",
    "                          left join books on ratings.book_id = books.book_id\n",
    "                         GROUP BY\n",
    "                          books.title) AS n1\n",
    "                        left join \n",
    "                        (SELECT \n",
    "                          books.title,\n",
    "                         COUNT(reviews.review_id) AS review_count\n",
    "                         FROM \n",
    "                          reviews\n",
    "                         left join books on reviews.book_id = books.book_id\n",
    "                         GROUP BY\n",
    "                          books.title) AS n2 on (n1.title = n2.title)\n",
    "                        '''\n",
    "                      ,con = engine)"
   ]
  },
  {
   "cell_type": "markdown",
   "metadata": {},
   "source": [
    "<td bgcolor=\"#CCCCFF\"> \n",
    "    \n",
    "**Проверка:**\n",
    "    \n",
    "</td>"
   ]
  },
  {
   "cell_type": "code",
   "execution_count": 10,
   "metadata": {},
   "outputs": [
    {
     "data": {
      "text/html": [
       "<div>\n",
       "<style scoped>\n",
       "    .dataframe tbody tr th:only-of-type {\n",
       "        vertical-align: middle;\n",
       "    }\n",
       "\n",
       "    .dataframe tbody tr th {\n",
       "        vertical-align: top;\n",
       "    }\n",
       "\n",
       "    .dataframe thead th {\n",
       "        text-align: right;\n",
       "    }\n",
       "</style>\n",
       "<table border=\"1\" class=\"dataframe\">\n",
       "  <thead>\n",
       "    <tr style=\"text-align: right;\">\n",
       "      <th></th>\n",
       "      <th>count</th>\n",
       "    </tr>\n",
       "  </thead>\n",
       "  <tbody>\n",
       "    <tr>\n",
       "      <th>0</th>\n",
       "      <td>1000</td>\n",
       "    </tr>\n",
       "  </tbody>\n",
       "</table>\n",
       "</div>"
      ],
      "text/plain": [
       "   count\n",
       "0   1000"
      ]
     },
     "execution_count": 10,
     "metadata": {},
     "output_type": "execute_result"
    }
   ],
   "source": [
    "#количество уникальных book_id в таблице books\n",
    "pd.io.sql.read_sql(''' SELECT \n",
    "                        COUNT(DISTINCT book_id)\n",
    "                       FROM \n",
    "                        books\n",
    "                        '''\n",
    "                      ,con = engine)"
   ]
  },
  {
   "cell_type": "markdown",
   "metadata": {},
   "source": [
    "---"
   ]
  },
  {
   "cell_type": "markdown",
   "metadata": {},
   "source": [
    "### Определите издательство, которое выпустило наибольшее число книг толще 50 страниц — так вы исключите из анализа брошюры"
   ]
  },
  {
   "cell_type": "code",
   "execution_count": 11,
   "metadata": {},
   "outputs": [
    {
     "data": {
      "text/html": [
       "<div>\n",
       "<style scoped>\n",
       "    .dataframe tbody tr th:only-of-type {\n",
       "        vertical-align: middle;\n",
       "    }\n",
       "\n",
       "    .dataframe tbody tr th {\n",
       "        vertical-align: top;\n",
       "    }\n",
       "\n",
       "    .dataframe thead th {\n",
       "        text-align: right;\n",
       "    }\n",
       "</style>\n",
       "<table border=\"1\" class=\"dataframe\">\n",
       "  <thead>\n",
       "    <tr style=\"text-align: right;\">\n",
       "      <th></th>\n",
       "      <th>publisher</th>\n",
       "      <th>books_count</th>\n",
       "    </tr>\n",
       "  </thead>\n",
       "  <tbody>\n",
       "    <tr>\n",
       "      <th>0</th>\n",
       "      <td>Penguin Books</td>\n",
       "      <td>42</td>\n",
       "    </tr>\n",
       "  </tbody>\n",
       "</table>\n",
       "</div>"
      ],
      "text/plain": [
       "       publisher  books_count\n",
       "0  Penguin Books           42"
      ]
     },
     "execution_count": 11,
     "metadata": {},
     "output_type": "execute_result"
    }
   ],
   "source": [
    "pd.io.sql.read_sql(''' SELECT \n",
    "                        publishers.publisher,\n",
    "                        COUNT(books.book_id) AS books_count\n",
    "                       FROM \n",
    "                        publishers\n",
    "                        left join books on publishers.publisher_id = books.publisher_id\n",
    "                       WHERE\n",
    "                        books.num_pages > 50\n",
    "                       GROUP BY \n",
    "                        publishers.publisher\n",
    "                       ORDER BY\n",
    "                        books_count DESC\n",
    "                       LIMIT 1\n",
    "                       \n",
    "                        '''\n",
    "                      ,con = engine)"
   ]
  },
  {
   "cell_type": "markdown",
   "metadata": {},
   "source": [
    "---"
   ]
  },
  {
   "cell_type": "markdown",
   "metadata": {},
   "source": [
    "### Определите автора с самой высокой средней оценкой книг — учитывайте только книги с 50 и более оценками"
   ]
  },
  {
   "cell_type": "code",
   "execution_count": 12,
   "metadata": {},
   "outputs": [
    {
     "data": {
      "text/html": [
       "<div>\n",
       "<style scoped>\n",
       "    .dataframe tbody tr th:only-of-type {\n",
       "        vertical-align: middle;\n",
       "    }\n",
       "\n",
       "    .dataframe tbody tr th {\n",
       "        vertical-align: top;\n",
       "    }\n",
       "\n",
       "    .dataframe thead th {\n",
       "        text-align: right;\n",
       "    }\n",
       "</style>\n",
       "<table border=\"1\" class=\"dataframe\">\n",
       "  <thead>\n",
       "    <tr style=\"text-align: right;\">\n",
       "      <th></th>\n",
       "      <th>author</th>\n",
       "      <th>mean_rating</th>\n",
       "      <th>ratings_count</th>\n",
       "    </tr>\n",
       "  </thead>\n",
       "  <tbody>\n",
       "    <tr>\n",
       "      <th>0</th>\n",
       "      <td>J.K. Rowling/Mary GrandPré</td>\n",
       "      <td>4.288462</td>\n",
       "      <td>312</td>\n",
       "    </tr>\n",
       "  </tbody>\n",
       "</table>\n",
       "</div>"
      ],
      "text/plain": [
       "                       author  mean_rating  ratings_count\n",
       "0  J.K. Rowling/Mary GrandPré     4.288462            312"
      ]
     },
     "execution_count": 12,
     "metadata": {},
     "output_type": "execute_result"
    }
   ],
   "source": [
    "pd.io.sql.read_sql(''' SELECT \n",
    "                        authors.author,\n",
    "                        AVG(ratings.rating) AS mean_rating,\n",
    "                        COUNT(ratings.rating_id) AS ratings_count\n",
    "                       FROM \n",
    "                        ratings\n",
    "                        left join books on ratings.book_id = books.book_id\n",
    "                        left join authors on authors.author_id = books.author_id\n",
    "                       GROUP BY\n",
    "                        author\n",
    "                       HAVING\n",
    "                        COUNT(ratings.rating_id) > 50\n",
    "                       ORDER BY\n",
    "                        mean_rating DESC\n",
    "                       LIMIT 1\n",
    "                        '''\n",
    "                      ,con = engine)"
   ]
  },
  {
   "cell_type": "markdown",
   "metadata": {},
   "source": [
    "---"
   ]
  },
  {
   "cell_type": "markdown",
   "metadata": {},
   "source": [
    "### Посчитайте среднее количество обзоров от пользователей, которые поставили больше 50 оценок."
   ]
  },
  {
   "cell_type": "code",
   "execution_count": 13,
   "metadata": {},
   "outputs": [
    {
     "data": {
      "text/html": [
       "<div>\n",
       "<style scoped>\n",
       "    .dataframe tbody tr th:only-of-type {\n",
       "        vertical-align: middle;\n",
       "    }\n",
       "\n",
       "    .dataframe tbody tr th {\n",
       "        vertical-align: top;\n",
       "    }\n",
       "\n",
       "    .dataframe thead th {\n",
       "        text-align: right;\n",
       "    }\n",
       "</style>\n",
       "<table border=\"1\" class=\"dataframe\">\n",
       "  <thead>\n",
       "    <tr style=\"text-align: right;\">\n",
       "      <th></th>\n",
       "      <th>avg</th>\n",
       "    </tr>\n",
       "  </thead>\n",
       "  <tbody>\n",
       "    <tr>\n",
       "      <th>0</th>\n",
       "      <td>24.333333</td>\n",
       "    </tr>\n",
       "  </tbody>\n",
       "</table>\n",
       "</div>"
      ],
      "text/plain": [
       "         avg\n",
       "0  24.333333"
      ]
     },
     "execution_count": 13,
     "metadata": {},
     "output_type": "execute_result"
    }
   ],
   "source": [
    "pd.io.sql.read_sql(''' SELECT\n",
    "                         AVG(n2.count_reviews)\n",
    "                       FROM \n",
    "                        (SELECT\n",
    "                        ratings.username,\n",
    "                        COUNT(ratings.rating_id) AS ratings_count\n",
    "                       FROM \n",
    "                        ratings\n",
    "                       GROUP BY\n",
    "                        ratings.username\n",
    "                       HAVING\n",
    "                        COUNT(ratings.rating_id) > 50) AS n1\n",
    "                        inner join \n",
    "                        (SELECT\n",
    "                        reviews.username,\n",
    "                        COUNT(reviews.review_id) AS count_reviews\n",
    "                       FROM \n",
    "                        reviews\n",
    "                       GROUP BY\n",
    "                        reviews.username) AS n2 on (n1.username = n2.username)\n",
    "                        '''\n",
    "                      ,con = engine)"
   ]
  },
  {
   "cell_type": "markdown",
   "metadata": {},
   "source": [
    "---"
   ]
  },
  {
   "cell_type": "markdown",
   "metadata": {},
   "source": [
    "**ВЫВОД**\n",
    "    \n",
    "    1. 819 книг вышло после 1 января 2000 года (это 81% от всего количества)\n",
    "    2. Для каждой книги посчитали количество обзоров и среднюю оценку\n",
    "    3. Издательство Penguin Books выпустило наибольшее число книг толще 50 страниц\n",
    "    4. J.K. Rowling - автор с самой высокой средней оценкой книг\n",
    "    5. 24 обзора в среднем делают пользователи, которые поставили больше 50 оценок"
   ]
  }
 ],
 "metadata": {
  "ExecuteTimeLog": [
   {
    "duration": 672,
    "start_time": "2021-09-27T21:42:33.326Z"
   },
   {
    "duration": 295,
    "start_time": "2021-09-27T21:42:34.972Z"
   },
   {
    "duration": 76,
    "start_time": "2021-09-27T21:42:35.391Z"
   },
   {
    "duration": 76,
    "start_time": "2021-09-27T21:42:35.620Z"
   },
   {
    "duration": 106,
    "start_time": "2021-09-27T21:42:35.839Z"
   },
   {
    "duration": 91,
    "start_time": "2021-09-27T21:42:36.208Z"
   },
   {
    "duration": 74,
    "start_time": "2021-09-27T21:42:38.299Z"
   },
   {
    "duration": 74,
    "start_time": "2021-09-27T21:42:38.957Z"
   },
   {
    "duration": 98,
    "start_time": "2021-09-27T21:42:39.854Z"
   },
   {
    "duration": 75,
    "start_time": "2021-09-27T21:42:45.752Z"
   },
   {
    "duration": 79,
    "start_time": "2021-09-27T21:42:47.230Z"
   },
   {
    "duration": 76,
    "start_time": "2021-09-27T21:42:50.571Z"
   },
   {
    "duration": 81,
    "start_time": "2021-09-27T21:47:13.694Z"
   },
   {
    "duration": 80,
    "start_time": "2021-09-27T21:47:16.934Z"
   },
   {
    "duration": 325,
    "start_time": "2021-09-27T22:36:53.699Z"
   },
   {
    "duration": 685,
    "start_time": "2021-09-27T22:36:58.807Z"
   },
   {
    "duration": 301,
    "start_time": "2021-09-27T22:37:01.332Z"
   },
   {
    "duration": 78,
    "start_time": "2021-09-27T22:37:01.635Z"
   },
   {
    "duration": 75,
    "start_time": "2021-09-27T22:37:02.073Z"
   },
   {
    "duration": 128,
    "start_time": "2021-09-27T22:37:03.096Z"
   },
   {
    "duration": 102,
    "start_time": "2021-09-27T22:37:03.783Z"
   },
   {
    "duration": 74,
    "start_time": "2021-09-27T22:37:05.824Z"
   },
   {
    "duration": 73,
    "start_time": "2021-09-27T22:37:07.464Z"
   },
   {
    "duration": 106,
    "start_time": "2021-09-27T22:37:09.580Z"
   },
   {
    "duration": 106,
    "start_time": "2021-09-27T22:37:12.234Z"
   },
   {
    "duration": 106,
    "start_time": "2021-09-27T22:37:22.340Z"
   },
   {
    "duration": 458,
    "start_time": "2021-09-27T22:43:51.958Z"
   },
   {
    "duration": 75,
    "start_time": "2021-09-27T22:43:55.777Z"
   },
   {
    "duration": 73,
    "start_time": "2021-09-27T22:43:57.166Z"
   },
   {
    "duration": 410,
    "start_time": "2021-09-27T22:44:02.153Z"
   },
   {
    "duration": 352,
    "start_time": "2021-09-27T22:44:11.315Z"
   },
   {
    "duration": 353,
    "start_time": "2021-09-27T22:44:49.610Z"
   },
   {
    "duration": 341,
    "start_time": "2021-09-27T22:44:51.702Z"
   },
   {
    "duration": 126,
    "start_time": "2021-09-27T22:45:43.818Z"
   },
   {
    "duration": 1272,
    "start_time": "2021-09-27T22:46:57.935Z"
   },
   {
    "duration": 344,
    "start_time": "2021-09-27T22:47:04.544Z"
   },
   {
    "duration": 95,
    "start_time": "2021-09-27T22:47:15.660Z"
   },
   {
    "duration": 110,
    "start_time": "2021-09-27T22:49:08.437Z"
   },
   {
    "duration": 421,
    "start_time": "2021-09-27T22:50:58.282Z"
   },
   {
    "duration": 110,
    "start_time": "2021-09-27T22:51:05.786Z"
   },
   {
    "duration": 111,
    "start_time": "2021-09-27T22:51:18.206Z"
   },
   {
    "duration": 111,
    "start_time": "2021-09-27T22:51:23.822Z"
   },
   {
    "duration": 340,
    "start_time": "2021-09-27T22:51:46.634Z"
   },
   {
    "duration": 110,
    "start_time": "2021-09-27T22:51:57.543Z"
   },
   {
    "duration": 113,
    "start_time": "2021-09-27T22:52:49.339Z"
   },
   {
    "duration": 114,
    "start_time": "2021-09-27T22:52:59.251Z"
   },
   {
    "duration": 112,
    "start_time": "2021-09-27T22:53:07.055Z"
   },
   {
    "duration": 110,
    "start_time": "2021-09-27T22:53:18.008Z"
   },
   {
    "duration": 104,
    "start_time": "2021-09-27T22:53:33.708Z"
   },
   {
    "duration": 101,
    "start_time": "2021-09-27T22:53:39.099Z"
   },
   {
    "duration": 170,
    "start_time": "2021-09-27T22:53:56.704Z"
   },
   {
    "duration": 122,
    "start_time": "2021-09-27T22:54:36.989Z"
   },
   {
    "duration": 110,
    "start_time": "2021-09-27T22:55:02.065Z"
   },
   {
    "duration": 77,
    "start_time": "2021-09-27T23:00:30.532Z"
   },
   {
    "duration": 81,
    "start_time": "2021-09-27T23:04:28.966Z"
   },
   {
    "duration": 80,
    "start_time": "2021-09-27T23:04:50.838Z"
   },
   {
    "duration": 85,
    "start_time": "2021-09-27T23:05:09.306Z"
   },
   {
    "duration": 796,
    "start_time": "2021-09-27T23:05:28.557Z"
   },
   {
    "duration": 80,
    "start_time": "2021-09-27T23:05:37.227Z"
   },
   {
    "duration": 81,
    "start_time": "2021-09-27T23:06:24.835Z"
   },
   {
    "duration": 80,
    "start_time": "2021-09-27T23:06:30.287Z"
   },
   {
    "duration": 80,
    "start_time": "2021-09-27T23:06:35.143Z"
   },
   {
    "duration": 73,
    "start_time": "2021-09-27T23:08:54.345Z"
   },
   {
    "duration": 110,
    "start_time": "2021-09-27T23:09:11.585Z"
   },
   {
    "duration": 81,
    "start_time": "2021-09-27T23:11:37.718Z"
   },
   {
    "duration": 332,
    "start_time": "2021-09-27T23:11:49.163Z"
   },
   {
    "duration": 82,
    "start_time": "2021-09-27T23:11:55.602Z"
   },
   {
    "duration": 79,
    "start_time": "2021-09-27T23:11:58.655Z"
   },
   {
    "duration": 81,
    "start_time": "2021-09-27T23:12:01.955Z"
   },
   {
    "duration": 349,
    "start_time": "2021-09-27T23:13:17.950Z"
   },
   {
    "duration": 331,
    "start_time": "2021-09-27T23:13:25.163Z"
   },
   {
    "duration": 360,
    "start_time": "2021-09-27T23:13:27.987Z"
   },
   {
    "duration": 339,
    "start_time": "2021-09-27T23:13:32.075Z"
   },
   {
    "duration": 328,
    "start_time": "2021-09-27T23:13:36.748Z"
   },
   {
    "duration": 79,
    "start_time": "2021-09-27T23:13:57.320Z"
   },
   {
    "duration": 78,
    "start_time": "2021-09-27T23:15:03.617Z"
   },
   {
    "duration": 80,
    "start_time": "2021-09-27T23:15:12.445Z"
   },
   {
    "duration": 88,
    "start_time": "2021-09-27T23:15:59.144Z"
   },
   {
    "duration": 88,
    "start_time": "2021-09-27T23:16:17.161Z"
   },
   {
    "duration": 87,
    "start_time": "2021-09-27T23:16:24.729Z"
   },
   {
    "duration": 79,
    "start_time": "2021-09-27T23:16:36.325Z"
   },
   {
    "duration": 80,
    "start_time": "2021-09-27T23:16:45.013Z"
   },
   {
    "duration": 80,
    "start_time": "2021-09-27T23:16:48.385Z"
   },
   {
    "duration": 79,
    "start_time": "2021-09-27T23:18:05.882Z"
   },
   {
    "duration": 79,
    "start_time": "2021-09-27T23:18:18.822Z"
   },
   {
    "duration": 79,
    "start_time": "2021-09-27T23:18:54.354Z"
   },
   {
    "duration": 79,
    "start_time": "2021-09-27T23:20:12.199Z"
   },
   {
    "duration": 76,
    "start_time": "2021-09-27T23:20:19.456Z"
   },
   {
    "duration": 76,
    "start_time": "2021-09-27T23:20:46.392Z"
   },
   {
    "duration": 78,
    "start_time": "2021-09-27T23:20:54.048Z"
   },
   {
    "duration": 86,
    "start_time": "2021-09-27T23:23:55.297Z"
   },
   {
    "duration": 342,
    "start_time": "2021-09-27T23:24:01.297Z"
   },
   {
    "duration": 87,
    "start_time": "2021-09-27T23:24:11.153Z"
   },
   {
    "duration": 87,
    "start_time": "2021-09-27T23:24:20.013Z"
   },
   {
    "duration": 74,
    "start_time": "2021-09-27T23:24:38.790Z"
   },
   {
    "duration": 76,
    "start_time": "2021-09-27T23:24:51.186Z"
   },
   {
    "duration": 76,
    "start_time": "2021-09-27T23:24:54.161Z"
   },
   {
    "duration": 343,
    "start_time": "2021-09-28T17:54:13.819Z"
   },
   {
    "duration": 1015,
    "start_time": "2021-09-28T17:54:19.922Z"
   },
   {
    "duration": 283,
    "start_time": "2021-09-28T17:54:20.941Z"
   },
   {
    "duration": 75,
    "start_time": "2021-09-28T17:54:21.228Z"
   },
   {
    "duration": 70,
    "start_time": "2021-09-28T17:54:21.307Z"
   },
   {
    "duration": 93,
    "start_time": "2021-09-28T17:54:21.380Z"
   },
   {
    "duration": 96,
    "start_time": "2021-09-28T17:54:21.475Z"
   },
   {
    "duration": 68,
    "start_time": "2021-09-28T17:54:21.574Z"
   },
   {
    "duration": 66,
    "start_time": "2021-09-28T17:54:21.646Z"
   },
   {
    "duration": 87,
    "start_time": "2021-09-28T17:54:21.714Z"
   },
   {
    "duration": 93,
    "start_time": "2021-09-28T17:54:21.804Z"
   },
   {
    "duration": 69,
    "start_time": "2021-09-28T17:54:21.900Z"
   },
   {
    "duration": 68,
    "start_time": "2021-09-28T17:54:21.972Z"
   },
   {
    "duration": 73,
    "start_time": "2021-09-28T17:54:22.043Z"
   },
   {
    "duration": 76,
    "start_time": "2021-09-28T17:54:22.119Z"
   },
   {
    "duration": 80,
    "start_time": "2021-09-28T17:54:22.199Z"
   },
   {
    "duration": 73,
    "start_time": "2021-09-28T17:54:22.282Z"
   },
   {
    "duration": 72,
    "start_time": "2021-09-28T17:54:22.358Z"
   },
   {
    "duration": 120,
    "start_time": "2021-09-28T17:55:34.980Z"
   },
   {
    "duration": 67,
    "start_time": "2021-09-28T17:56:21.172Z"
   },
   {
    "duration": 71,
    "start_time": "2021-09-28T17:56:23.224Z"
   },
   {
    "duration": 106,
    "start_time": "2021-09-28T17:57:13.553Z"
   },
   {
    "duration": 549,
    "start_time": "2021-09-28T17:58:05.289Z"
   },
   {
    "duration": 362,
    "start_time": "2021-09-28T17:58:08.246Z"
   },
   {
    "duration": 91,
    "start_time": "2021-09-28T17:58:13.685Z"
   },
   {
    "duration": 393,
    "start_time": "2021-09-28T17:58:35.229Z"
   },
   {
    "duration": 70,
    "start_time": "2021-09-28T17:58:55.661Z"
   },
   {
    "duration": 94,
    "start_time": "2021-09-28T17:59:40.206Z"
   },
   {
    "duration": 93,
    "start_time": "2021-09-28T18:02:13.643Z"
   },
   {
    "duration": 370,
    "start_time": "2021-09-28T18:03:06.080Z"
   },
   {
    "duration": 509,
    "start_time": "2021-09-28T18:03:09.613Z"
   },
   {
    "duration": 355,
    "start_time": "2021-09-28T18:03:29.148Z"
   },
   {
    "duration": 68,
    "start_time": "2021-09-28T18:03:41.004Z"
   },
   {
    "duration": 104,
    "start_time": "2021-09-28T18:03:49.496Z"
   },
   {
    "duration": 369,
    "start_time": "2021-09-28T18:05:09.561Z"
   },
   {
    "duration": 366,
    "start_time": "2021-09-28T18:05:22.322Z"
   },
   {
    "duration": 72,
    "start_time": "2021-09-28T18:05:41.585Z"
   },
   {
    "duration": 76,
    "start_time": "2021-09-28T18:05:54.973Z"
   },
   {
    "duration": 75,
    "start_time": "2021-09-28T18:05:57.901Z"
   },
   {
    "duration": 349,
    "start_time": "2021-09-28T18:06:17.990Z"
   },
   {
    "duration": 80,
    "start_time": "2021-09-28T18:06:30.638Z"
   },
   {
    "duration": 70,
    "start_time": "2021-09-28T18:06:34.586Z"
   },
   {
    "duration": 71,
    "start_time": "2021-09-28T18:06:41.442Z"
   },
   {
    "duration": 76,
    "start_time": "2021-09-28T18:08:35.683Z"
   },
   {
    "duration": 349,
    "start_time": "2021-09-28T18:10:07.148Z"
   },
   {
    "duration": 348,
    "start_time": "2021-09-28T18:10:21.761Z"
   },
   {
    "duration": 111,
    "start_time": "2021-09-28T18:10:38.551Z"
   },
   {
    "duration": 150,
    "start_time": "2021-09-28T18:11:17.940Z"
   },
   {
    "duration": 108,
    "start_time": "2021-09-28T18:11:21.193Z"
   },
   {
    "duration": 92,
    "start_time": "2021-09-28T18:11:37.084Z"
   },
   {
    "duration": 93,
    "start_time": "2021-09-28T18:12:13.853Z"
   },
   {
    "duration": 358,
    "start_time": "2021-09-28T18:14:30.978Z"
   },
   {
    "duration": 352,
    "start_time": "2021-09-28T18:14:35.247Z"
   },
   {
    "duration": 110,
    "start_time": "2021-09-28T18:14:40.214Z"
   },
   {
    "duration": 106,
    "start_time": "2021-09-28T18:14:44.023Z"
   },
   {
    "duration": 95,
    "start_time": "2021-09-28T18:14:53.003Z"
   },
   {
    "duration": 122,
    "start_time": "2021-09-28T18:15:36.832Z"
   },
   {
    "duration": 118,
    "start_time": "2021-09-28T18:16:41.148Z"
   },
   {
    "duration": 95,
    "start_time": "2021-09-28T18:16:43.167Z"
   },
   {
    "duration": 95,
    "start_time": "2021-09-28T18:17:41.448Z"
   },
   {
    "duration": 72,
    "start_time": "2021-09-28T18:18:18.432Z"
   },
   {
    "duration": 160,
    "start_time": "2021-09-28T18:19:15.997Z"
   },
   {
    "duration": 1912,
    "start_time": "2021-09-28T18:22:36.830Z"
   },
   {
    "duration": 100,
    "start_time": "2021-09-28T18:22:48.506Z"
   },
   {
    "duration": 68,
    "start_time": "2021-09-28T18:23:16.867Z"
   },
   {
    "duration": 67,
    "start_time": "2021-09-28T18:23:20.871Z"
   },
   {
    "duration": 67,
    "start_time": "2021-09-28T18:23:55.799Z"
   }
  ],
  "kernelspec": {
   "display_name": "Python 3",
   "language": "python",
   "name": "python3"
  },
  "language_info": {
   "codemirror_mode": {
    "name": "ipython",
    "version": 3
   },
   "file_extension": ".py",
   "mimetype": "text/x-python",
   "name": "python",
   "nbconvert_exporter": "python",
   "pygments_lexer": "ipython3",
   "version": "3.8.5"
  },
  "toc": {
   "base_numbering": 1,
   "nav_menu": {},
   "number_sections": true,
   "sideBar": true,
   "skip_h1_title": true,
   "title_cell": "Table of Contents",
   "title_sidebar": "Contents",
   "toc_cell": false,
   "toc_position": {},
   "toc_section_display": true,
   "toc_window_display": false
  }
 },
 "nbformat": 4,
 "nbformat_minor": 4
}
