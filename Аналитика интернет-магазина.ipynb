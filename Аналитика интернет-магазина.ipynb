{
 "cells": [
  {
   "cell_type": "markdown",
   "metadata": {},
   "source": [
    "---"
   ]
  },
  {
   "cell_type": "markdown",
   "metadata": {},
   "source": [
    "# САМОСТОЯТЕЛЬНЫЙ ПРОЕКТ: A/B ТЕСТИРОВАНИЕ"
   ]
  },
  {
   "cell_type": "markdown",
   "metadata": {},
   "source": [
    "# Описание"
   ]
  },
  {
   "cell_type": "markdown",
   "metadata": {},
   "source": [
    "Совместно с отделом маркетинга подготовлен список гипотез для увеличения выручки крупного интернет-магазина.\n",
    "Необходимо приоритизировать гипотезы, запустить A/B-тест и проанализировать результаты."
   ]
  },
  {
   "cell_type": "markdown",
   "metadata": {},
   "source": [
    "# Цель"
   ]
  },
  {
   "cell_type": "markdown",
   "metadata": {},
   "source": [
    "Приоритизировать гипотезы, проанализировать A/B-тест и дать рекомендации."
   ]
  },
  {
   "cell_type": "markdown",
   "metadata": {},
   "source": [
    "# Задачи"
   ]
  },
  {
   "cell_type": "markdown",
   "metadata": {},
   "source": [
    "- ПРИОРИТИЗАЦИЯ ГИПОТЕЗ\n",
    "- АНАЛИЗ A/B ТЕСТА\n",
    "    - график кумулятивной выручки\n",
    "    - график кумулятивного среднего чека\n",
    "    - график относительного изменения кумулятивного среднего чека\n",
    "    - график кумулятивной конверсии\n",
    "    - график относительного изменения кумулятивной конверсии\n",
    "    - точечный график количества заказов\n",
    "    - 95-й и 99-й перцентили количества заказов\n",
    "    - точечный график стоимостей заказов\n",
    "    - 95-й и 99-й перцентили стоимости заказов\n",
    "    - статистическая значимость различий в конверсии по «сырым» данным\n",
    "    - статистическая значимость различий в среднем чеке по «сырым» данным\n",
    "    - статистическая значимость различий в конверсии по «очищенным» данным\n",
    "    - статистическая значимость различий в среднем чеке по «очищенным» данным\n",
    "    - решение по результатам теста"
   ]
  },
  {
   "cell_type": "markdown",
   "metadata": {},
   "source": [
    "---"
   ]
  },
  {
   "cell_type": "markdown",
   "metadata": {},
   "source": [
    "Перед начало проекта импортируем необходимые для работы с проектом библиотеки:"
   ]
  },
  {
   "cell_type": "code",
   "execution_count": 1,
   "metadata": {},
   "outputs": [],
   "source": [
    "import pandas as pd\n",
    "import datetime as dt\n",
    "import numpy as np\n",
    "import matplotlib.pyplot as plt\n",
    "import scipy.stats as stats"
   ]
  },
  {
   "cell_type": "markdown",
   "metadata": {},
   "source": [
    "---"
   ]
  },
  {
   "cell_type": "markdown",
   "metadata": {},
   "source": [
    "## ПРИОРИТИЗАЦИЯ ГИПОТЕЗ"
   ]
  },
  {
   "cell_type": "markdown",
   "metadata": {},
   "source": [
    "В файле /datasets/hypothesis.csv 9 гипотез по увеличению выручки интернет-магазина с параметрами Reach, Impact, Confidence, Effort. \n",
    "\n",
    "Оценим существущие параметры и приоритизируем гипотезы во фрейморках ICE и RICE. "
   ]
  },
  {
   "cell_type": "code",
   "execution_count": 2,
   "metadata": {},
   "outputs": [],
   "source": [
    "hypo = pd.read_csv('/datasets/hypothesis.csv')"
   ]
  },
  {
   "cell_type": "code",
   "execution_count": 3,
   "metadata": {},
   "outputs": [],
   "source": [
    "pd.set_option('max_colwidth', 400)"
   ]
  },
  {
   "cell_type": "code",
   "execution_count": 4,
   "metadata": {},
   "outputs": [
    {
     "data": {
      "text/html": [
       "<div>\n",
       "<style scoped>\n",
       "    .dataframe tbody tr th:only-of-type {\n",
       "        vertical-align: middle;\n",
       "    }\n",
       "\n",
       "    .dataframe tbody tr th {\n",
       "        vertical-align: top;\n",
       "    }\n",
       "\n",
       "    .dataframe thead th {\n",
       "        text-align: right;\n",
       "    }\n",
       "</style>\n",
       "<table border=\"1\" class=\"dataframe\">\n",
       "  <thead>\n",
       "    <tr style=\"text-align: right;\">\n",
       "      <th></th>\n",
       "      <th>Hypothesis</th>\n",
       "      <th>Reach</th>\n",
       "      <th>Impact</th>\n",
       "      <th>Confidence</th>\n",
       "      <th>Efforts</th>\n",
       "    </tr>\n",
       "  </thead>\n",
       "  <tbody>\n",
       "    <tr>\n",
       "      <td>0</td>\n",
       "      <td>Добавить два новых канала привлечения трафика, что позволит привлекать на 30% больше пользователей</td>\n",
       "      <td>3</td>\n",
       "      <td>10</td>\n",
       "      <td>8</td>\n",
       "      <td>6</td>\n",
       "    </tr>\n",
       "    <tr>\n",
       "      <td>1</td>\n",
       "      <td>Запустить собственную службу доставки, что сократит срок доставки заказов</td>\n",
       "      <td>2</td>\n",
       "      <td>5</td>\n",
       "      <td>4</td>\n",
       "      <td>10</td>\n",
       "    </tr>\n",
       "    <tr>\n",
       "      <td>2</td>\n",
       "      <td>Добавить блоки рекомендаций товаров на сайт интернет магазина, чтобы повысить конверсию и средний чек заказа</td>\n",
       "      <td>8</td>\n",
       "      <td>3</td>\n",
       "      <td>7</td>\n",
       "      <td>3</td>\n",
       "    </tr>\n",
       "    <tr>\n",
       "      <td>3</td>\n",
       "      <td>Изменить структура категорий, что увеличит конверсию, т.к. пользователи быстрее найдут нужный товар</td>\n",
       "      <td>8</td>\n",
       "      <td>3</td>\n",
       "      <td>3</td>\n",
       "      <td>8</td>\n",
       "    </tr>\n",
       "    <tr>\n",
       "      <td>4</td>\n",
       "      <td>Изменить цвет фона главной страницы, чтобы увеличить вовлеченность пользователей</td>\n",
       "      <td>3</td>\n",
       "      <td>1</td>\n",
       "      <td>1</td>\n",
       "      <td>1</td>\n",
       "    </tr>\n",
       "    <tr>\n",
       "      <td>5</td>\n",
       "      <td>Добавить страницу отзывов клиентов о магазине, что позволит увеличить количество заказов</td>\n",
       "      <td>3</td>\n",
       "      <td>2</td>\n",
       "      <td>2</td>\n",
       "      <td>3</td>\n",
       "    </tr>\n",
       "    <tr>\n",
       "      <td>6</td>\n",
       "      <td>Показать на главной странице баннеры с актуальными акциями и распродажами, чтобы увеличить конверсию</td>\n",
       "      <td>5</td>\n",
       "      <td>3</td>\n",
       "      <td>8</td>\n",
       "      <td>3</td>\n",
       "    </tr>\n",
       "    <tr>\n",
       "      <td>7</td>\n",
       "      <td>Добавить форму подписки на все основные страницы, чтобы собрать базу клиентов для email-рассылок</td>\n",
       "      <td>10</td>\n",
       "      <td>7</td>\n",
       "      <td>8</td>\n",
       "      <td>5</td>\n",
       "    </tr>\n",
       "    <tr>\n",
       "      <td>8</td>\n",
       "      <td>Запустить акцию, дающую скидку на товар в день рождения</td>\n",
       "      <td>1</td>\n",
       "      <td>9</td>\n",
       "      <td>9</td>\n",
       "      <td>5</td>\n",
       "    </tr>\n",
       "  </tbody>\n",
       "</table>\n",
       "</div>"
      ],
      "text/plain": [
       "                                                                                                     Hypothesis  \\\n",
       "0            Добавить два новых канала привлечения трафика, что позволит привлекать на 30% больше пользователей   \n",
       "1                                     Запустить собственную службу доставки, что сократит срок доставки заказов   \n",
       "2  Добавить блоки рекомендаций товаров на сайт интернет магазина, чтобы повысить конверсию и средний чек заказа   \n",
       "3           Изменить структура категорий, что увеличит конверсию, т.к. пользователи быстрее найдут нужный товар   \n",
       "4                              Изменить цвет фона главной страницы, чтобы увеличить вовлеченность пользователей   \n",
       "5                      Добавить страницу отзывов клиентов о магазине, что позволит увеличить количество заказов   \n",
       "6          Показать на главной странице баннеры с актуальными акциями и распродажами, чтобы увеличить конверсию   \n",
       "7              Добавить форму подписки на все основные страницы, чтобы собрать базу клиентов для email-рассылок   \n",
       "8                                                       Запустить акцию, дающую скидку на товар в день рождения   \n",
       "\n",
       "   Reach  Impact  Confidence  Efforts  \n",
       "0      3      10           8        6  \n",
       "1      2       5           4       10  \n",
       "2      8       3           7        3  \n",
       "3      8       3           3        8  \n",
       "4      3       1           1        1  \n",
       "5      3       2           2        3  \n",
       "6      5       3           8        3  \n",
       "7     10       7           8        5  \n",
       "8      1       9           9        5  "
      ]
     },
     "execution_count": 4,
     "metadata": {},
     "output_type": "execute_result"
    }
   ],
   "source": [
    "hypo"
   ]
  },
  {
   "cell_type": "markdown",
   "metadata": {},
   "source": [
    "### Фреймворк ICE"
   ]
  },
  {
   "cell_type": "code",
   "execution_count": 5,
   "metadata": {},
   "outputs": [],
   "source": [
    "hypo['ice'] = (hypo['Impact'] * hypo['Confidence']\n",
    "              ) / hypo['Efforts']"
   ]
  },
  {
   "cell_type": "code",
   "execution_count": 6,
   "metadata": {},
   "outputs": [
    {
     "data": {
      "text/html": [
       "<div>\n",
       "<style scoped>\n",
       "    .dataframe tbody tr th:only-of-type {\n",
       "        vertical-align: middle;\n",
       "    }\n",
       "\n",
       "    .dataframe tbody tr th {\n",
       "        vertical-align: top;\n",
       "    }\n",
       "\n",
       "    .dataframe thead th {\n",
       "        text-align: right;\n",
       "    }\n",
       "</style>\n",
       "<table border=\"1\" class=\"dataframe\">\n",
       "  <thead>\n",
       "    <tr style=\"text-align: right;\">\n",
       "      <th></th>\n",
       "      <th>Hypothesis</th>\n",
       "      <th>ice</th>\n",
       "    </tr>\n",
       "  </thead>\n",
       "  <tbody>\n",
       "    <tr>\n",
       "      <td>8</td>\n",
       "      <td>Запустить акцию, дающую скидку на товар в день рождения</td>\n",
       "      <td>16.200000</td>\n",
       "    </tr>\n",
       "    <tr>\n",
       "      <td>0</td>\n",
       "      <td>Добавить два новых канала привлечения трафика, что позволит привлекать на 30% больше пользователей</td>\n",
       "      <td>13.333333</td>\n",
       "    </tr>\n",
       "    <tr>\n",
       "      <td>7</td>\n",
       "      <td>Добавить форму подписки на все основные страницы, чтобы собрать базу клиентов для email-рассылок</td>\n",
       "      <td>11.200000</td>\n",
       "    </tr>\n",
       "    <tr>\n",
       "      <td>6</td>\n",
       "      <td>Показать на главной странице баннеры с актуальными акциями и распродажами, чтобы увеличить конверсию</td>\n",
       "      <td>8.000000</td>\n",
       "    </tr>\n",
       "    <tr>\n",
       "      <td>2</td>\n",
       "      <td>Добавить блоки рекомендаций товаров на сайт интернет магазина, чтобы повысить конверсию и средний чек заказа</td>\n",
       "      <td>7.000000</td>\n",
       "    </tr>\n",
       "    <tr>\n",
       "      <td>1</td>\n",
       "      <td>Запустить собственную службу доставки, что сократит срок доставки заказов</td>\n",
       "      <td>2.000000</td>\n",
       "    </tr>\n",
       "    <tr>\n",
       "      <td>5</td>\n",
       "      <td>Добавить страницу отзывов клиентов о магазине, что позволит увеличить количество заказов</td>\n",
       "      <td>1.333333</td>\n",
       "    </tr>\n",
       "    <tr>\n",
       "      <td>3</td>\n",
       "      <td>Изменить структура категорий, что увеличит конверсию, т.к. пользователи быстрее найдут нужный товар</td>\n",
       "      <td>1.125000</td>\n",
       "    </tr>\n",
       "    <tr>\n",
       "      <td>4</td>\n",
       "      <td>Изменить цвет фона главной страницы, чтобы увеличить вовлеченность пользователей</td>\n",
       "      <td>1.000000</td>\n",
       "    </tr>\n",
       "  </tbody>\n",
       "</table>\n",
       "</div>"
      ],
      "text/plain": [
       "                                                                                                     Hypothesis  \\\n",
       "8                                                       Запустить акцию, дающую скидку на товар в день рождения   \n",
       "0            Добавить два новых канала привлечения трафика, что позволит привлекать на 30% больше пользователей   \n",
       "7              Добавить форму подписки на все основные страницы, чтобы собрать базу клиентов для email-рассылок   \n",
       "6          Показать на главной странице баннеры с актуальными акциями и распродажами, чтобы увеличить конверсию   \n",
       "2  Добавить блоки рекомендаций товаров на сайт интернет магазина, чтобы повысить конверсию и средний чек заказа   \n",
       "1                                     Запустить собственную службу доставки, что сократит срок доставки заказов   \n",
       "5                      Добавить страницу отзывов клиентов о магазине, что позволит увеличить количество заказов   \n",
       "3           Изменить структура категорий, что увеличит конверсию, т.к. пользователи быстрее найдут нужный товар   \n",
       "4                              Изменить цвет фона главной страницы, чтобы увеличить вовлеченность пользователей   \n",
       "\n",
       "         ice  \n",
       "8  16.200000  \n",
       "0  13.333333  \n",
       "7  11.200000  \n",
       "6   8.000000  \n",
       "2   7.000000  \n",
       "1   2.000000  \n",
       "5   1.333333  \n",
       "3   1.125000  \n",
       "4   1.000000  "
      ]
     },
     "execution_count": 6,
     "metadata": {},
     "output_type": "execute_result"
    }
   ],
   "source": [
    "#отсортируем данные по убыванию\n",
    "hypo[['Hypothesis', 'ice']].sort_values(by = 'ice', ascending = False)"
   ]
  },
  {
   "cell_type": "markdown",
   "metadata": {},
   "source": [
    "**ВЫВОД:** Наиболее перспективные гипотезы: 8, 0, 7, 6"
   ]
  },
  {
   "cell_type": "markdown",
   "metadata": {},
   "source": [
    "---"
   ]
  },
  {
   "cell_type": "markdown",
   "metadata": {},
   "source": [
    "### Фреймворк RICE"
   ]
  },
  {
   "cell_type": "code",
   "execution_count": 7,
   "metadata": {},
   "outputs": [],
   "source": [
    "hypo['rice'] = (hypo['Reach'] * hypo['Impact'] * hypo['Confidence']\n",
    "               ) / hypo['Efforts']"
   ]
  },
  {
   "cell_type": "code",
   "execution_count": 8,
   "metadata": {},
   "outputs": [
    {
     "data": {
      "text/html": [
       "<div>\n",
       "<style scoped>\n",
       "    .dataframe tbody tr th:only-of-type {\n",
       "        vertical-align: middle;\n",
       "    }\n",
       "\n",
       "    .dataframe tbody tr th {\n",
       "        vertical-align: top;\n",
       "    }\n",
       "\n",
       "    .dataframe thead th {\n",
       "        text-align: right;\n",
       "    }\n",
       "</style>\n",
       "<table border=\"1\" class=\"dataframe\">\n",
       "  <thead>\n",
       "    <tr style=\"text-align: right;\">\n",
       "      <th></th>\n",
       "      <th>Hypothesis</th>\n",
       "      <th>rice</th>\n",
       "    </tr>\n",
       "  </thead>\n",
       "  <tbody>\n",
       "    <tr>\n",
       "      <td>7</td>\n",
       "      <td>Добавить форму подписки на все основные страницы, чтобы собрать базу клиентов для email-рассылок</td>\n",
       "      <td>112.0</td>\n",
       "    </tr>\n",
       "    <tr>\n",
       "      <td>2</td>\n",
       "      <td>Добавить блоки рекомендаций товаров на сайт интернет магазина, чтобы повысить конверсию и средний чек заказа</td>\n",
       "      <td>56.0</td>\n",
       "    </tr>\n",
       "    <tr>\n",
       "      <td>0</td>\n",
       "      <td>Добавить два новых канала привлечения трафика, что позволит привлекать на 30% больше пользователей</td>\n",
       "      <td>40.0</td>\n",
       "    </tr>\n",
       "    <tr>\n",
       "      <td>6</td>\n",
       "      <td>Показать на главной странице баннеры с актуальными акциями и распродажами, чтобы увеличить конверсию</td>\n",
       "      <td>40.0</td>\n",
       "    </tr>\n",
       "    <tr>\n",
       "      <td>8</td>\n",
       "      <td>Запустить акцию, дающую скидку на товар в день рождения</td>\n",
       "      <td>16.2</td>\n",
       "    </tr>\n",
       "    <tr>\n",
       "      <td>3</td>\n",
       "      <td>Изменить структура категорий, что увеличит конверсию, т.к. пользователи быстрее найдут нужный товар</td>\n",
       "      <td>9.0</td>\n",
       "    </tr>\n",
       "    <tr>\n",
       "      <td>1</td>\n",
       "      <td>Запустить собственную службу доставки, что сократит срок доставки заказов</td>\n",
       "      <td>4.0</td>\n",
       "    </tr>\n",
       "    <tr>\n",
       "      <td>5</td>\n",
       "      <td>Добавить страницу отзывов клиентов о магазине, что позволит увеличить количество заказов</td>\n",
       "      <td>4.0</td>\n",
       "    </tr>\n",
       "    <tr>\n",
       "      <td>4</td>\n",
       "      <td>Изменить цвет фона главной страницы, чтобы увеличить вовлеченность пользователей</td>\n",
       "      <td>3.0</td>\n",
       "    </tr>\n",
       "  </tbody>\n",
       "</table>\n",
       "</div>"
      ],
      "text/plain": [
       "                                                                                                     Hypothesis  \\\n",
       "7              Добавить форму подписки на все основные страницы, чтобы собрать базу клиентов для email-рассылок   \n",
       "2  Добавить блоки рекомендаций товаров на сайт интернет магазина, чтобы повысить конверсию и средний чек заказа   \n",
       "0            Добавить два новых канала привлечения трафика, что позволит привлекать на 30% больше пользователей   \n",
       "6          Показать на главной странице баннеры с актуальными акциями и распродажами, чтобы увеличить конверсию   \n",
       "8                                                       Запустить акцию, дающую скидку на товар в день рождения   \n",
       "3           Изменить структура категорий, что увеличит конверсию, т.к. пользователи быстрее найдут нужный товар   \n",
       "1                                     Запустить собственную службу доставки, что сократит срок доставки заказов   \n",
       "5                      Добавить страницу отзывов клиентов о магазине, что позволит увеличить количество заказов   \n",
       "4                              Изменить цвет фона главной страницы, чтобы увеличить вовлеченность пользователей   \n",
       "\n",
       "    rice  \n",
       "7  112.0  \n",
       "2   56.0  \n",
       "0   40.0  \n",
       "6   40.0  \n",
       "8   16.2  \n",
       "3    9.0  \n",
       "1    4.0  \n",
       "5    4.0  \n",
       "4    3.0  "
      ]
     },
     "execution_count": 8,
     "metadata": {},
     "output_type": "execute_result"
    }
   ],
   "source": [
    "#отсортируем данные по убыванию\n",
    "hypo[['Hypothesis', 'rice']].sort_values(by = 'rice', ascending = False)"
   ]
  },
  {
   "cell_type": "markdown",
   "metadata": {},
   "source": [
    "**ВЫВОД:** Наиболее перспективные гипотезы: 7, 2, 0, 6. \n",
    "\n",
    "На первом месте во фреймворке RICE находится 7-ая, так как её параметр Reach (охват пользователей) равен 10 - это максимум среди всех остальных гипотез. Во фреймворке ICE этот параметр не учитывался. \n",
    "\n",
    "По этой же причине на второе место во фреймворке RICE выходит 2-ая гипотеза - её параметр Reach равен 8. "
   ]
  },
  {
   "cell_type": "code",
   "execution_count": 9,
   "metadata": {},
   "outputs": [
    {
     "data": {
      "text/html": [
       "<div>\n",
       "<style scoped>\n",
       "    .dataframe tbody tr th:only-of-type {\n",
       "        vertical-align: middle;\n",
       "    }\n",
       "\n",
       "    .dataframe tbody tr th {\n",
       "        vertical-align: top;\n",
       "    }\n",
       "\n",
       "    .dataframe thead th {\n",
       "        text-align: right;\n",
       "    }\n",
       "</style>\n",
       "<table border=\"1\" class=\"dataframe\">\n",
       "  <thead>\n",
       "    <tr style=\"text-align: right;\">\n",
       "      <th></th>\n",
       "      <th>Hypothesis</th>\n",
       "      <th>Reach</th>\n",
       "      <th>Impact</th>\n",
       "      <th>Confidence</th>\n",
       "      <th>Efforts</th>\n",
       "      <th>ice</th>\n",
       "      <th>rice</th>\n",
       "    </tr>\n",
       "  </thead>\n",
       "  <tbody>\n",
       "    <tr>\n",
       "      <td>7</td>\n",
       "      <td>Добавить форму подписки на все основные страницы, чтобы собрать базу клиентов для email-рассылок</td>\n",
       "      <td>10</td>\n",
       "      <td>7</td>\n",
       "      <td>8</td>\n",
       "      <td>5</td>\n",
       "      <td>11.200</td>\n",
       "      <td>112.0</td>\n",
       "    </tr>\n",
       "    <tr>\n",
       "      <td>2</td>\n",
       "      <td>Добавить блоки рекомендаций товаров на сайт интернет магазина, чтобы повысить конверсию и средний чек заказа</td>\n",
       "      <td>8</td>\n",
       "      <td>3</td>\n",
       "      <td>7</td>\n",
       "      <td>3</td>\n",
       "      <td>7.000</td>\n",
       "      <td>56.0</td>\n",
       "    </tr>\n",
       "    <tr>\n",
       "      <td>3</td>\n",
       "      <td>Изменить структура категорий, что увеличит конверсию, т.к. пользователи быстрее найдут нужный товар</td>\n",
       "      <td>8</td>\n",
       "      <td>3</td>\n",
       "      <td>3</td>\n",
       "      <td>8</td>\n",
       "      <td>1.125</td>\n",
       "      <td>9.0</td>\n",
       "    </tr>\n",
       "    <tr>\n",
       "      <td>6</td>\n",
       "      <td>Показать на главной странице баннеры с актуальными акциями и распродажами, чтобы увеличить конверсию</td>\n",
       "      <td>5</td>\n",
       "      <td>3</td>\n",
       "      <td>8</td>\n",
       "      <td>3</td>\n",
       "      <td>8.000</td>\n",
       "      <td>40.0</td>\n",
       "    </tr>\n",
       "  </tbody>\n",
       "</table>\n",
       "</div>"
      ],
      "text/plain": [
       "                                                                                                     Hypothesis  \\\n",
       "7              Добавить форму подписки на все основные страницы, чтобы собрать базу клиентов для email-рассылок   \n",
       "2  Добавить блоки рекомендаций товаров на сайт интернет магазина, чтобы повысить конверсию и средний чек заказа   \n",
       "3           Изменить структура категорий, что увеличит конверсию, т.к. пользователи быстрее найдут нужный товар   \n",
       "6          Показать на главной странице баннеры с актуальными акциями и распродажами, чтобы увеличить конверсию   \n",
       "\n",
       "   Reach  Impact  Confidence  Efforts     ice   rice  \n",
       "7     10       7           8        5  11.200  112.0  \n",
       "2      8       3           7        3   7.000   56.0  \n",
       "3      8       3           3        8   1.125    9.0  \n",
       "6      5       3           8        3   8.000   40.0  "
      ]
     },
     "execution_count": 9,
     "metadata": {},
     "output_type": "execute_result"
    }
   ],
   "source": [
    "#топ-4 в параметре Reach по убыванию\n",
    "hypo.sort_values(by = 'Reach', ascending = False).head(4)"
   ]
  },
  {
   "cell_type": "code",
   "execution_count": 10,
   "metadata": {},
   "outputs": [
    {
     "data": {
      "image/png": "[encoded data removed]",
      "text/plain": [
       "<Figure size 432x288 with 1 Axes>"
      ]
     },
     "metadata": {
      "needs_background": "light"
     },
     "output_type": "display_data"
    }
   ],
   "source": [
    "y = hypo['ice']\n",
    "z = hypo['rice']\n",
    "n = hypo.index\n",
    "\n",
    "fig, ax = plt.subplots()\n",
    "ax.scatter(z, y)\n",
    "\n",
    "for i, txt in enumerate(n):\n",
    "    ax.annotate(txt, (z[i], y[i]))"
   ]
  },
  {
   "cell_type": "markdown",
   "metadata": {},
   "source": [
    "---"
   ]
  },
  {
   "cell_type": "markdown",
   "metadata": {},
   "source": [
    "## АНАЛИЗ A/B-ТЕСТА"
   ]
  },
  {
   "cell_type": "markdown",
   "metadata": {},
   "source": [
    "Мы провели A/B-тест и получили результаты, которые описаны в файлах /datasets/orders.csv и /datasets/visitors.csv. Импортируем данные и проведем анализ нашего тестирования."
   ]
  },
  {
   "cell_type": "code",
   "execution_count": 11,
   "metadata": {},
   "outputs": [],
   "source": [
    "orders = pd.read_csv('/datasets/orders.csv')"
   ]
  },
  {
   "cell_type": "code",
   "execution_count": 12,
   "metadata": {},
   "outputs": [],
   "source": [
    "visitors = pd.read_csv('/datasets/visitors.csv')"
   ]
  },
  {
   "cell_type": "markdown",
   "metadata": {},
   "source": [
    "---"
   ]
  },
  {
   "cell_type": "markdown",
   "metadata": {},
   "source": [
    "### Предобработка данных"
   ]
  },
  {
   "cell_type": "markdown",
   "metadata": {},
   "source": [
    "Ознакомимся с данными и подготовим их к анализу"
   ]
  },
  {
   "cell_type": "code",
   "execution_count": 13,
   "metadata": {},
   "outputs": [
    {
     "data": {
      "text/html": [
       "<div>\n",
       "<style scoped>\n",
       "    .dataframe tbody tr th:only-of-type {\n",
       "        vertical-align: middle;\n",
       "    }\n",
       "\n",
       "    .dataframe tbody tr th {\n",
       "        vertical-align: top;\n",
       "    }\n",
       "\n",
       "    .dataframe thead th {\n",
       "        text-align: right;\n",
       "    }\n",
       "</style>\n",
       "<table border=\"1\" class=\"dataframe\">\n",
       "  <thead>\n",
       "    <tr style=\"text-align: right;\">\n",
       "      <th></th>\n",
       "      <th>transactionId</th>\n",
       "      <th>visitorId</th>\n",
       "      <th>date</th>\n",
       "      <th>revenue</th>\n",
       "      <th>group</th>\n",
       "    </tr>\n",
       "  </thead>\n",
       "  <tbody>\n",
       "    <tr>\n",
       "      <td>0</td>\n",
       "      <td>3667963787</td>\n",
       "      <td>3312258926</td>\n",
       "      <td>2019-08-15</td>\n",
       "      <td>1650</td>\n",
       "      <td>B</td>\n",
       "    </tr>\n",
       "    <tr>\n",
       "      <td>1</td>\n",
       "      <td>2804400009</td>\n",
       "      <td>3642806036</td>\n",
       "      <td>2019-08-15</td>\n",
       "      <td>730</td>\n",
       "      <td>B</td>\n",
       "    </tr>\n",
       "    <tr>\n",
       "      <td>2</td>\n",
       "      <td>2961555356</td>\n",
       "      <td>4069496402</td>\n",
       "      <td>2019-08-15</td>\n",
       "      <td>400</td>\n",
       "      <td>A</td>\n",
       "    </tr>\n",
       "    <tr>\n",
       "      <td>3</td>\n",
       "      <td>3797467345</td>\n",
       "      <td>1196621759</td>\n",
       "      <td>2019-08-15</td>\n",
       "      <td>9759</td>\n",
       "      <td>B</td>\n",
       "    </tr>\n",
       "    <tr>\n",
       "      <td>4</td>\n",
       "      <td>2282983706</td>\n",
       "      <td>2322279887</td>\n",
       "      <td>2019-08-15</td>\n",
       "      <td>2308</td>\n",
       "      <td>B</td>\n",
       "    </tr>\n",
       "  </tbody>\n",
       "</table>\n",
       "</div>"
      ],
      "text/plain": [
       "   transactionId   visitorId        date  revenue group\n",
       "0     3667963787  3312258926  2019-08-15     1650     B\n",
       "1     2804400009  3642806036  2019-08-15      730     B\n",
       "2     2961555356  4069496402  2019-08-15      400     A\n",
       "3     3797467345  1196621759  2019-08-15     9759     B\n",
       "4     2282983706  2322279887  2019-08-15     2308     B"
      ]
     },
     "execution_count": 13,
     "metadata": {},
     "output_type": "execute_result"
    }
   ],
   "source": [
    "orders.head()"
   ]
  },
  {
   "cell_type": "code",
   "execution_count": 14,
   "metadata": {},
   "outputs": [
    {
     "name": "stdout",
     "output_type": "stream",
     "text": [
      "<class 'pandas.core.frame.DataFrame'>\n",
      "RangeIndex: 1197 entries, 0 to 1196\n",
      "Data columns (total 5 columns):\n",
      "transactionId    1197 non-null int64\n",
      "visitorId        1197 non-null int64\n",
      "date             1197 non-null object\n",
      "revenue          1197 non-null int64\n",
      "group            1197 non-null object\n",
      "dtypes: int64(3), object(2)\n",
      "memory usage: 46.9+ KB\n"
     ]
    }
   ],
   "source": [
    "orders.info()"
   ]
  },
  {
   "cell_type": "code",
   "execution_count": 15,
   "metadata": {},
   "outputs": [],
   "source": [
    "#приведем данные даты к корректному типу\n",
    "orders['date'] = orders['date'].map(lambda x: (dt.datetime.strptime(x, '%Y-%m-%d')))"
   ]
  },
  {
   "cell_type": "code",
   "execution_count": 16,
   "metadata": {},
   "outputs": [
    {
     "data": {
      "text/html": [
       "<div>\n",
       "<style scoped>\n",
       "    .dataframe tbody tr th:only-of-type {\n",
       "        vertical-align: middle;\n",
       "    }\n",
       "\n",
       "    .dataframe tbody tr th {\n",
       "        vertical-align: top;\n",
       "    }\n",
       "\n",
       "    .dataframe thead th {\n",
       "        text-align: right;\n",
       "    }\n",
       "</style>\n",
       "<table border=\"1\" class=\"dataframe\">\n",
       "  <thead>\n",
       "    <tr style=\"text-align: right;\">\n",
       "      <th></th>\n",
       "      <th>date</th>\n",
       "      <th>group</th>\n",
       "      <th>visitors</th>\n",
       "    </tr>\n",
       "  </thead>\n",
       "  <tbody>\n",
       "    <tr>\n",
       "      <td>0</td>\n",
       "      <td>2019-08-01</td>\n",
       "      <td>A</td>\n",
       "      <td>719</td>\n",
       "    </tr>\n",
       "    <tr>\n",
       "      <td>1</td>\n",
       "      <td>2019-08-02</td>\n",
       "      <td>A</td>\n",
       "      <td>619</td>\n",
       "    </tr>\n",
       "    <tr>\n",
       "      <td>2</td>\n",
       "      <td>2019-08-03</td>\n",
       "      <td>A</td>\n",
       "      <td>507</td>\n",
       "    </tr>\n",
       "    <tr>\n",
       "      <td>3</td>\n",
       "      <td>2019-08-04</td>\n",
       "      <td>A</td>\n",
       "      <td>717</td>\n",
       "    </tr>\n",
       "    <tr>\n",
       "      <td>4</td>\n",
       "      <td>2019-08-05</td>\n",
       "      <td>A</td>\n",
       "      <td>756</td>\n",
       "    </tr>\n",
       "  </tbody>\n",
       "</table>\n",
       "</div>"
      ],
      "text/plain": [
       "         date group  visitors\n",
       "0  2019-08-01     A       719\n",
       "1  2019-08-02     A       619\n",
       "2  2019-08-03     A       507\n",
       "3  2019-08-04     A       717\n",
       "4  2019-08-05     A       756"
      ]
     },
     "execution_count": 16,
     "metadata": {},
     "output_type": "execute_result"
    }
   ],
   "source": [
    "visitors.head()"
   ]
  },
  {
   "cell_type": "code",
   "execution_count": 17,
   "metadata": {},
   "outputs": [
    {
     "name": "stdout",
     "output_type": "stream",
     "text": [
      "<class 'pandas.core.frame.DataFrame'>\n",
      "RangeIndex: 62 entries, 0 to 61\n",
      "Data columns (total 3 columns):\n",
      "date        62 non-null object\n",
      "group       62 non-null object\n",
      "visitors    62 non-null int64\n",
      "dtypes: int64(1), object(2)\n",
      "memory usage: 1.6+ KB\n"
     ]
    }
   ],
   "source": [
    "visitors.info()"
   ]
  },
  {
   "cell_type": "code",
   "execution_count": 18,
   "metadata": {},
   "outputs": [],
   "source": [
    "#приведем данные даты к корректному типу\n",
    "visitors['date'] = visitors['date'].map(lambda x: (dt.datetime.strptime(x, '%Y-%m-%d')))"
   ]
  },
  {
   "cell_type": "markdown",
   "metadata": {},
   "source": [
    "---"
   ]
  },
  {
   "cell_type": "markdown",
   "metadata": {},
   "source": [
    "### Кумулятивная выручка "
   ]
  },
  {
   "cell_type": "markdown",
   "metadata": {},
   "source": [
    "Построим график кумулятивной выручки по группам"
   ]
  },
  {
   "cell_type": "code",
   "execution_count": 20,
   "metadata": {},
   "outputs": [
    {
     "data": {
      "text/html": [
       "<div>\n",
       "<style scoped>\n",
       "    .dataframe tbody tr th:only-of-type {\n",
       "        vertical-align: middle;\n",
       "    }\n",
       "\n",
       "    .dataframe tbody tr th {\n",
       "        vertical-align: top;\n",
       "    }\n",
       "\n",
       "    .dataframe thead th {\n",
       "        text-align: right;\n",
       "    }\n",
       "</style>\n",
       "<table border=\"1\" class=\"dataframe\">\n",
       "  <thead>\n",
       "    <tr style=\"text-align: right;\">\n",
       "      <th></th>\n",
       "      <th>transactionId</th>\n",
       "      <th>visitorId</th>\n",
       "      <th>date</th>\n",
       "      <th>revenue</th>\n",
       "      <th>group</th>\n",
       "    </tr>\n",
       "  </thead>\n",
       "  <tbody>\n",
       "    <tr>\n",
       "      <td>0</td>\n",
       "      <td>3667963787</td>\n",
       "      <td>3312258926</td>\n",
       "      <td>2019-08-15</td>\n",
       "      <td>1650</td>\n",
       "      <td>B</td>\n",
       "    </tr>\n",
       "    <tr>\n",
       "      <td>1</td>\n",
       "      <td>2804400009</td>\n",
       "      <td>3642806036</td>\n",
       "      <td>2019-08-15</td>\n",
       "      <td>730</td>\n",
       "      <td>B</td>\n",
       "    </tr>\n",
       "    <tr>\n",
       "      <td>2</td>\n",
       "      <td>2961555356</td>\n",
       "      <td>4069496402</td>\n",
       "      <td>2019-08-15</td>\n",
       "      <td>400</td>\n",
       "      <td>A</td>\n",
       "    </tr>\n",
       "    <tr>\n",
       "      <td>3</td>\n",
       "      <td>3797467345</td>\n",
       "      <td>1196621759</td>\n",
       "      <td>2019-08-15</td>\n",
       "      <td>9759</td>\n",
       "      <td>B</td>\n",
       "    </tr>\n",
       "    <tr>\n",
       "      <td>4</td>\n",
       "      <td>2282983706</td>\n",
       "      <td>2322279887</td>\n",
       "      <td>2019-08-15</td>\n",
       "      <td>2308</td>\n",
       "      <td>B</td>\n",
       "    </tr>\n",
       "  </tbody>\n",
       "</table>\n",
       "</div>"
      ],
      "text/plain": [
       "   transactionId   visitorId       date  revenue group\n",
       "0     3667963787  3312258926 2019-08-15     1650     B\n",
       "1     2804400009  3642806036 2019-08-15      730     B\n",
       "2     2961555356  4069496402 2019-08-15      400     A\n",
       "3     3797467345  1196621759 2019-08-15     9759     B\n",
       "4     2282983706  2322279887 2019-08-15     2308     B"
      ]
     },
     "execution_count": 20,
     "metadata": {},
     "output_type": "execute_result"
    }
   ],
   "source": [
    "orders.head()"
   ]
  },
  {
   "cell_type": "code",
   "execution_count": 21,
   "metadata": {},
   "outputs": [
    {
     "data": {
      "text/html": [
       "<div>\n",
       "<style scoped>\n",
       "    .dataframe tbody tr th:only-of-type {\n",
       "        vertical-align: middle;\n",
       "    }\n",
       "\n",
       "    .dataframe tbody tr th {\n",
       "        vertical-align: top;\n",
       "    }\n",
       "\n",
       "    .dataframe thead th {\n",
       "        text-align: right;\n",
       "    }\n",
       "</style>\n",
       "<table border=\"1\" class=\"dataframe\">\n",
       "  <thead>\n",
       "    <tr style=\"text-align: right;\">\n",
       "      <th></th>\n",
       "      <th>date</th>\n",
       "      <th>group</th>\n",
       "      <th>visitors</th>\n",
       "    </tr>\n",
       "  </thead>\n",
       "  <tbody>\n",
       "    <tr>\n",
       "      <td>0</td>\n",
       "      <td>2019-08-01</td>\n",
       "      <td>A</td>\n",
       "      <td>719</td>\n",
       "    </tr>\n",
       "    <tr>\n",
       "      <td>1</td>\n",
       "      <td>2019-08-02</td>\n",
       "      <td>A</td>\n",
       "      <td>619</td>\n",
       "    </tr>\n",
       "    <tr>\n",
       "      <td>2</td>\n",
       "      <td>2019-08-03</td>\n",
       "      <td>A</td>\n",
       "      <td>507</td>\n",
       "    </tr>\n",
       "    <tr>\n",
       "      <td>3</td>\n",
       "      <td>2019-08-04</td>\n",
       "      <td>A</td>\n",
       "      <td>717</td>\n",
       "    </tr>\n",
       "    <tr>\n",
       "      <td>4</td>\n",
       "      <td>2019-08-05</td>\n",
       "      <td>A</td>\n",
       "      <td>756</td>\n",
       "    </tr>\n",
       "  </tbody>\n",
       "</table>\n",
       "</div>"
      ],
      "text/plain": [
       "        date group  visitors\n",
       "0 2019-08-01     A       719\n",
       "1 2019-08-02     A       619\n",
       "2 2019-08-03     A       507\n",
       "3 2019-08-04     A       717\n",
       "4 2019-08-05     A       756"
      ]
     },
     "execution_count": 21,
     "metadata": {},
     "output_type": "execute_result"
    }
   ],
   "source": [
    "visitors.head()"
   ]
  },
  {
   "cell_type": "code",
   "execution_count": 22,
   "metadata": {
    "scrolled": false
   },
   "outputs": [],
   "source": [
    "# создаем массив уникальных пар значений дат и групп теста\n",
    "datesGroups = orders[['date','group']].drop_duplicates()\n",
    "\n",
    "# получаем агрегированные кумулятивные по дням данные о заказах \n",
    "ordersAggregated = datesGroups.apply(lambda x: orders[np.logical_and(orders['date'] <= x['date']\n",
    "                                                                     , orders['group'] == x['group'])]\n",
    "                                     .agg({'date' : 'max', 'group' : 'max', 'transactionId' : pd.Series.nunique\n",
    "                                           , 'visitorId' : pd.Series.nunique, 'revenue' : 'sum'}), axis=1\n",
    "                                    ).sort_values(by=['date','group'])\n",
    "\n",
    "# получаем агрегированные кумулятивные по дням данные о посетителях интернет-магазина \n",
    "visitorsAggregated = datesGroups.apply(lambda x: visitors[np.logical_and(visitors['date'] <= x['date']\n",
    "                                                                         , visitors['group'] == x['group'])]\n",
    "                                       .agg({'date' : 'max', 'group' : 'max', 'visitors' : 'sum'}), axis=1\n",
    "                                      ).sort_values(by=['date','group'])\n",
    "\n",
    "# объединяем кумулятивные данные в одной таблице\n",
    "cumulativeData = ordersAggregated.merge(visitorsAggregated, left_on=['date', 'group'], right_on=['date', 'group'])\n",
    "\n",
    "# присваиваем ее столбцам названия\n",
    "cumulativeData.columns = ['date', 'group', 'orders', 'buyers', 'revenue', 'visitors']"
   ]
  },
  {
   "cell_type": "code",
   "execution_count": 23,
   "metadata": {},
   "outputs": [
    {
     "data": {
      "text/html": [
       "<div>\n",
       "<style scoped>\n",
       "    .dataframe tbody tr th:only-of-type {\n",
       "        vertical-align: middle;\n",
       "    }\n",
       "\n",
       "    .dataframe tbody tr th {\n",
       "        vertical-align: top;\n",
       "    }\n",
       "\n",
       "    .dataframe thead th {\n",
       "        text-align: right;\n",
       "    }\n",
       "</style>\n",
       "<table border=\"1\" class=\"dataframe\">\n",
       "  <thead>\n",
       "    <tr style=\"text-align: right;\">\n",
       "      <th></th>\n",
       "      <th>date</th>\n",
       "      <th>group</th>\n",
       "      <th>orders</th>\n",
       "      <th>buyers</th>\n",
       "      <th>revenue</th>\n",
       "      <th>visitors</th>\n",
       "    </tr>\n",
       "  </thead>\n",
       "  <tbody>\n",
       "    <tr>\n",
       "      <td>0</td>\n",
       "      <td>2019-08-01</td>\n",
       "      <td>A</td>\n",
       "      <td>24</td>\n",
       "      <td>20</td>\n",
       "      <td>148579</td>\n",
       "      <td>719</td>\n",
       "    </tr>\n",
       "    <tr>\n",
       "      <td>1</td>\n",
       "      <td>2019-08-01</td>\n",
       "      <td>B</td>\n",
       "      <td>21</td>\n",
       "      <td>20</td>\n",
       "      <td>101217</td>\n",
       "      <td>713</td>\n",
       "    </tr>\n",
       "    <tr>\n",
       "      <td>2</td>\n",
       "      <td>2019-08-02</td>\n",
       "      <td>A</td>\n",
       "      <td>44</td>\n",
       "      <td>38</td>\n",
       "      <td>242401</td>\n",
       "      <td>1338</td>\n",
       "    </tr>\n",
       "    <tr>\n",
       "      <td>3</td>\n",
       "      <td>2019-08-02</td>\n",
       "      <td>B</td>\n",
       "      <td>45</td>\n",
       "      <td>43</td>\n",
       "      <td>266748</td>\n",
       "      <td>1294</td>\n",
       "    </tr>\n",
       "    <tr>\n",
       "      <td>4</td>\n",
       "      <td>2019-08-03</td>\n",
       "      <td>A</td>\n",
       "      <td>68</td>\n",
       "      <td>62</td>\n",
       "      <td>354874</td>\n",
       "      <td>1845</td>\n",
       "    </tr>\n",
       "  </tbody>\n",
       "</table>\n",
       "</div>"
      ],
      "text/plain": [
       "        date group  orders  buyers  revenue  visitors\n",
       "0 2019-08-01     A      24      20   148579       719\n",
       "1 2019-08-01     B      21      20   101217       713\n",
       "2 2019-08-02     A      44      38   242401      1338\n",
       "3 2019-08-02     B      45      43   266748      1294\n",
       "4 2019-08-03     A      68      62   354874      1845"
      ]
     },
     "execution_count": 23,
     "metadata": {},
     "output_type": "execute_result"
    }
   ],
   "source": [
    "cumulativeData.head(5)"
   ]
  },
  {
   "cell_type": "markdown",
   "metadata": {},
   "source": [
    "Построим графики кумулятивной выручки по дням и группам A/B-тестирования:"
   ]
  },
  {
   "cell_type": "code",
   "execution_count": 24,
   "metadata": {},
   "outputs": [
    {
     "name": "stderr",
     "output_type": "stream",
     "text": [
      "/opt/conda/lib/python3.7/site-packages/pandas/plotting/_matplotlib/converter.py:103: FutureWarning: Using an implicitly registered datetime converter for a matplotlib plotting method. The converter was registered by pandas on import. Future versions of pandas will require you to explicitly register matplotlib converters.\n",
      "\n",
      "To register the converters:\n",
      "\t>>> from pandas.plotting import register_matplotlib_converters\n",
      "\t>>> register_matplotlib_converters()\n",
      "  warnings.warn(msg, FutureWarning)\n"
     ]
    },
    {
     "data": {
      "image/png": "[encoded data removed]",
      "text/plain": [
       "<Figure size 1080x720 with 1 Axes>"
      ]
     },
     "metadata": {
      "needs_background": "light"
     },
     "output_type": "display_data"
    }
   ],
   "source": [
    "# датафрейм с кумулятивным количеством заказов и кумулятивной выручкой по дням в группе А\n",
    "cumulativeRevenueA = cumulativeData[cumulativeData['group']=='A'][['date','revenue', 'orders']]\n",
    "\n",
    "# датафрейм с кумулятивным количеством заказов и кумулятивной выручкой по дням в группе B\n",
    "cumulativeRevenueB = cumulativeData[cumulativeData['group']=='B'][['date','revenue', 'orders']]\n",
    "\n",
    "plt.figure(figsize=(15, 10))\n",
    "\n",
    "# Строим график выручки группы А\n",
    "plt.plot(cumulativeRevenueA['date'], cumulativeRevenueA['revenue'], label='A')\n",
    "\n",
    "# Строим график выручки группы B\n",
    "plt.plot(cumulativeRevenueB['date'], cumulativeRevenueB['revenue'], label='B')\n",
    "\n",
    "plt.title('ГРАФИК КУМУЛЯТИВНОЙ ВЫРУЧКИ')\n",
    "plt.grid(True)\n",
    "plt.legend()\n",
    "plt.ylabel('ВЫРУЧКА')\n",
    "plt.xlabel('ДАТА')\n",
    "plt.show()\n",
    "\n",
    "from pandas.plotting import register_matplotlib_converters\n",
    "register_matplotlib_converters() "
   ]
  },
  {
   "cell_type": "markdown",
   "metadata": {},
   "source": [
    "**ВЫВОД**"
   ]
  },
  {
   "cell_type": "markdown",
   "metadata": {},
   "source": [
    "Выручка равномерно увеличивается, однако после 17 августа наблюдается **резкий скачок выручки в группе B.** \n",
    "\n",
    "Это может сигнализировать о всплесках числа заказов, либо о появлении очень дорогих заказов в выборке этой группы."
   ]
  },
  {
   "cell_type": "markdown",
   "metadata": {},
   "source": [
    "---"
   ]
  },
  {
   "cell_type": "markdown",
   "metadata": {},
   "source": [
    "### Кумулятивный средний чек "
   ]
  },
  {
   "cell_type": "markdown",
   "metadata": {},
   "source": [
    "Построим графики среднего чека по группам — разделим кумулятивную выручку на кумулятивное число заказов:"
   ]
  },
  {
   "cell_type": "code",
   "execution_count": 25,
   "metadata": {},
   "outputs": [
    {
     "data": {
      "image/png": "[encoded data removed]",
      "text/plain": [
       "<Figure size 1080x720 with 1 Axes>"
      ]
     },
     "metadata": {
      "needs_background": "light"
     },
     "output_type": "display_data"
    }
   ],
   "source": [
    "plt.figure(figsize=(15, 10))\n",
    "\n",
    "plt.plot(cumulativeRevenueA['date'], cumulativeRevenueA['revenue']/cumulativeRevenueA['orders'], label='A')\n",
    "plt.plot(cumulativeRevenueB['date'], cumulativeRevenueB['revenue']/cumulativeRevenueB['orders'], label='B')\n",
    "\n",
    "plt.title('ГРАФИК КУМУЛЯТИВНОГО ATV')\n",
    "plt.grid(True)\n",
    "plt.legend()\n",
    "plt.ylabel('ЧЕК')\n",
    "plt.xlabel('ДАТА')\n",
    "plt.show()"
   ]
  },
  {
   "cell_type": "markdown",
   "metadata": {},
   "source": [
    "**ВЫВОД**"
   ]
  },
  {
   "cell_type": "markdown",
   "metadata": {},
   "source": [
    "Средний чек очень нестабилен и неравномерен:\n",
    "\n",
    "- для группы A наблюдается резкое падение в самом начале теста, а затем стремительный подъем. **После 13-ого числа показатель среднего чека для этой группы стабилизировался** и закрепился на отметке ~7000. \n",
    "\n",
    "- **для группы B наблюдается обратная тенденция: резкие волнообразные скачки в течение всего теста и затем после 17-ого числа очень резкий подъем.** Далее, показатель среднего чека стабилизируется и начинает падение. Возможно, в группу B во второй половине теста попали очень крупные заказы, которые стали причинами таких резких скачков в показателях выручки и среднего чека. В таком случае, **группе B нужно больше данных, чтобы прийти к реальному среднему чеку и установиться на его уровне.**"
   ]
  },
  {
   "cell_type": "markdown",
   "metadata": {},
   "source": [
    "---"
   ]
  },
  {
   "cell_type": "markdown",
   "metadata": {},
   "source": [
    "### Изменение кумулятивного среднего чека"
   ]
  },
  {
   "cell_type": "markdown",
   "metadata": {},
   "source": [
    "Построим график относительного изменения кумулятивного среднего чека группы B к группе A"
   ]
  },
  {
   "cell_type": "code",
   "execution_count": 26,
   "metadata": {
    "scrolled": false
   },
   "outputs": [
    {
     "data": {
      "image/png": "[encoded data removed]",
      "text/plain": [
       "<Figure size 1080x720 with 1 Axes>"
      ]
     },
     "metadata": {
      "needs_background": "light"
     },
     "output_type": "display_data"
    }
   ],
   "source": [
    "# собираем данные в одном датафрейме\n",
    "mergedCumulativeRevenue = cumulativeRevenueA.merge(cumulativeRevenueB, left_on='date'\n",
    "                                                   , right_on='date', how='left', suffixes=['A', 'B'])\n",
    "\n",
    "plt.figure(figsize=(15, 10))\n",
    "\n",
    "# cтроим отношение средних чеков\n",
    "plt.plot(mergedCumulativeRevenue['date'], (mergedCumulativeRevenue['revenueB'\n",
    "                                                                  ]/mergedCumulativeRevenue['ordersB']\n",
    "                                          )/(mergedCumulativeRevenue['revenueA'\n",
    "                                                                    ]/mergedCumulativeRevenue['ordersA'])-1)\n",
    "\n",
    "# добавляем ось X\n",
    "plt.axhline(y=0, color='black', linestyle='--')\n",
    "\n",
    "plt.title('ИЗМЕНЕНИЕ КУМУЛЯТИВНОГО ATV')\n",
    "plt.grid(True)\n",
    "plt.ylabel('ИЗМЕНЕНИЕ')\n",
    "plt.xlabel('ДАТА')\n",
    "plt.show()"
   ]
  },
  {
   "cell_type": "markdown",
   "metadata": {},
   "source": [
    "**ВЫВОД**"
   ]
  },
  {
   "cell_type": "markdown",
   "metadata": {},
   "source": [
    "**График изменения среднего чека между группами имеет сильные скачки.** Очевидно, что на протяжении практически всего теста в данных пристуствовали выбросы: в количествах заказов и их сумме."
   ]
  },
  {
   "cell_type": "markdown",
   "metadata": {},
   "source": [
    "---"
   ]
  },
  {
   "cell_type": "markdown",
   "metadata": {},
   "source": [
    "### Кумулятивная конверсия"
   ]
  },
  {
   "cell_type": "markdown",
   "metadata": {},
   "source": [
    "Построим график кумулятивной конверсии по группам"
   ]
  },
  {
   "cell_type": "code",
   "execution_count": 27,
   "metadata": {},
   "outputs": [
    {
     "data": {
      "image/png": "[encoded data removed]",
      "text/plain": [
       "<Figure size 1080x720 with 1 Axes>"
      ]
     },
     "metadata": {
      "needs_background": "light"
     },
     "output_type": "display_data"
    }
   ],
   "source": [
    "# считаем кумулятивную конверсию\n",
    "cumulativeData['conversion'] = cumulativeData['orders']/cumulativeData['visitors']\n",
    "\n",
    "# отделяем данные по группе A\n",
    "cumulativeDataA = cumulativeData[cumulativeData['group']=='A']\n",
    "\n",
    "# отделяем данные по группе B\n",
    "cumulativeDataB = cumulativeData[cumulativeData['group']=='B']\n",
    "\n",
    "# строим графики\n",
    "plt.figure(figsize=(15, 10))\n",
    "\n",
    "plt.plot(cumulativeDataA['date'], cumulativeDataA['conversion'], label='A')\n",
    "plt.plot(cumulativeDataB['date'], cumulativeDataB['conversion'], label='B')\n",
    "plt.legend()\n",
    "\n",
    "# задаем масштаб осей\n",
    "plt.axis([\"2019-08-01\", '2019-08-31', 0.025, 0.04])\n",
    "plt.title('КУМУЛЯТИВНАЯ КОНВЕРСИЯ')\n",
    "plt.grid(True)\n",
    "plt.ylabel('КОНВЕРСИЯ')\n",
    "plt.xlabel('ДАТА')\n",
    "plt.show()"
   ]
  },
  {
   "cell_type": "markdown",
   "metadata": {},
   "source": [
    "**ВЫВОД**\n",
    "\n",
    "- Группы имели примерно симметричные скачки в начале теста, но потом конверсии заняли стабильные позиции на разных уровнях: группа А - с более низкой конверсией, группа B - с более высокой.\n",
    "\n",
    "- Также, мы видим, что у группы B в диапазоне 9-ого и 17-ого числа наблюдается резкий рост конверсии. Это соответствует скачкам на графиках среднего чека и выручки. Возможно, это говорит о том, что в эти дни действительно было или нетипично большое количество покупателей или заказы с большим средним чеком."
   ]
  },
  {
   "cell_type": "markdown",
   "metadata": {},
   "source": [
    "---"
   ]
  },
  {
   "cell_type": "markdown",
   "metadata": {},
   "source": [
    "### Изменение кумулятивной конверсии"
   ]
  },
  {
   "cell_type": "markdown",
   "metadata": {},
   "source": [
    "Построим график относительного изменения кумулятивной конверсии группы B к группе A"
   ]
  },
  {
   "cell_type": "code",
   "execution_count": 28,
   "metadata": {},
   "outputs": [
    {
     "data": {
      "image/png": "[encoded data removed]",
      "text/plain": [
       "<Figure size 1080x720 with 1 Axes>"
      ]
     },
     "metadata": {
      "needs_background": "light"
     },
     "output_type": "display_data"
    }
   ],
   "source": [
    "# собираем данные в одном датафрейме\n",
    "mergedCumulativeConversions = cumulativeDataA[['date','conversion']\n",
    "                                             ].merge(cumulativeDataB[['date','conversion']\n",
    "                                                                    ], left_on='date', right_on='date', how='left', suffixes=['A', 'B'])\n",
    "\n",
    "plt.figure(figsize=(15, 10))\n",
    "\n",
    "# cтроим отношение конверсии\n",
    "plt.plot(mergedCumulativeConversions['date']\n",
    "         , mergedCumulativeConversions['conversionB']/mergedCumulativeConversions['conversionA']-1)\n",
    "\n",
    "plt.axhline(y=0, color='black', linestyle='--')\n",
    "plt.axhline(y=-0.1, color='grey', linestyle='--')\n",
    "plt.axis([\"2019-08-01\", '2019-08-31', -0.6, 0.6]) \n",
    "plt.title('ИЗМЕНЕНИЕ КУМУЛЯТИВНОЙ КОНВЕРСИИ')\n",
    "plt.grid(True)\n",
    "plt.ylabel('ИЗМЕНЕНИЕ')\n",
    "plt.xlabel('ДАТА')\n",
    "plt.show()"
   ]
  },
  {
   "cell_type": "markdown",
   "metadata": {},
   "source": [
    "**ВЫВОД**"
   ]
  },
  {
   "cell_type": "markdown",
   "metadata": {},
   "source": [
    "В начале теста группы имели примерно симметричные скачки в конверсии, но уже **после 5-ого числа группа B установила преимущество и стабилизировало показатель конверсии.** "
   ]
  },
  {
   "cell_type": "markdown",
   "metadata": {},
   "source": [
    "---"
   ]
  },
  {
   "cell_type": "markdown",
   "metadata": {},
   "source": [
    "### Точечный график количества заказов"
   ]
  },
  {
   "cell_type": "markdown",
   "metadata": {},
   "source": [
    "Подсчитаем количество заказов по пользователям"
   ]
  },
  {
   "cell_type": "code",
   "execution_count": 29,
   "metadata": {},
   "outputs": [],
   "source": [
    "ordersByUsers = (\n",
    "    orders.drop(['revenue', 'date'], axis=1)\n",
    "    .groupby(['visitorId', 'group'], as_index=False)\n",
    "    .agg({'transactionId': pd.Series.nunique})\n",
    ")\n",
    "\n",
    "ordersByUsers.columns = ['userId', 'group', 'orders']"
   ]
  },
  {
   "cell_type": "code",
   "execution_count": 30,
   "metadata": {},
   "outputs": [
    {
     "data": {
      "text/html": [
       "<div>\n",
       "<style scoped>\n",
       "    .dataframe tbody tr th:only-of-type {\n",
       "        vertical-align: middle;\n",
       "    }\n",
       "\n",
       "    .dataframe tbody tr th {\n",
       "        vertical-align: top;\n",
       "    }\n",
       "\n",
       "    .dataframe thead th {\n",
       "        text-align: right;\n",
       "    }\n",
       "</style>\n",
       "<table border=\"1\" class=\"dataframe\">\n",
       "  <thead>\n",
       "    <tr style=\"text-align: right;\">\n",
       "      <th></th>\n",
       "      <th>userId</th>\n",
       "      <th>group</th>\n",
       "      <th>orders</th>\n",
       "    </tr>\n",
       "  </thead>\n",
       "  <tbody>\n",
       "    <tr>\n",
       "      <td>1079</td>\n",
       "      <td>4256040402</td>\n",
       "      <td>A</td>\n",
       "      <td>7</td>\n",
       "    </tr>\n",
       "    <tr>\n",
       "      <td>619</td>\n",
       "      <td>2458001652</td>\n",
       "      <td>B</td>\n",
       "      <td>6</td>\n",
       "    </tr>\n",
       "    <tr>\n",
       "      <td>511</td>\n",
       "      <td>2038680547</td>\n",
       "      <td>A</td>\n",
       "      <td>5</td>\n",
       "    </tr>\n",
       "    <tr>\n",
       "      <td>596</td>\n",
       "      <td>2378935119</td>\n",
       "      <td>B</td>\n",
       "      <td>5</td>\n",
       "    </tr>\n",
       "    <tr>\n",
       "      <td>618</td>\n",
       "      <td>2458001652</td>\n",
       "      <td>A</td>\n",
       "      <td>5</td>\n",
       "    </tr>\n",
       "    <tr>\n",
       "      <td>595</td>\n",
       "      <td>2378935119</td>\n",
       "      <td>A</td>\n",
       "      <td>4</td>\n",
       "    </tr>\n",
       "    <tr>\n",
       "      <td>45</td>\n",
       "      <td>199603092</td>\n",
       "      <td>A</td>\n",
       "      <td>4</td>\n",
       "    </tr>\n",
       "    <tr>\n",
       "      <td>941</td>\n",
       "      <td>3717692402</td>\n",
       "      <td>B</td>\n",
       "      <td>4</td>\n",
       "    </tr>\n",
       "    <tr>\n",
       "      <td>963</td>\n",
       "      <td>3803269165</td>\n",
       "      <td>B</td>\n",
       "      <td>4</td>\n",
       "    </tr>\n",
       "    <tr>\n",
       "      <td>58</td>\n",
       "      <td>237748145</td>\n",
       "      <td>A</td>\n",
       "      <td>4</td>\n",
       "    </tr>\n",
       "  </tbody>\n",
       "</table>\n",
       "</div>"
      ],
      "text/plain": [
       "          userId group  orders\n",
       "1079  4256040402     A       7\n",
       "619   2458001652     B       6\n",
       "511   2038680547     A       5\n",
       "596   2378935119     B       5\n",
       "618   2458001652     A       5\n",
       "595   2378935119     A       4\n",
       "45     199603092     A       4\n",
       "941   3717692402     B       4\n",
       "963   3803269165     B       4\n",
       "58     237748145     A       4"
      ]
     },
     "execution_count": 30,
     "metadata": {},
     "output_type": "execute_result"
    }
   ],
   "source": [
    "ordersByUsers.sort_values(by='orders', ascending=False).head(10)"
   ]
  },
  {
   "cell_type": "markdown",
   "metadata": {},
   "source": [
    "Построим точечную диаграмму числа заказов на одного пользователя:"
   ]
  },
  {
   "cell_type": "code",
   "execution_count": 31,
   "metadata": {},
   "outputs": [
    {
     "data": {
      "image/png": "[encoded data removed]",
      "text/plain": [
       "<Figure size 1080x720 with 1 Axes>"
      ]
     },
     "metadata": {
      "needs_background": "light"
     },
     "output_type": "display_data"
    }
   ],
   "source": [
    "plt.figure(figsize=(15, 10))\n",
    "\n",
    "x = pd.Series(range(0,len(ordersByUsers.loc[ordersByUsers['group'] == \"A\"])))\n",
    "y = ordersByUsers.loc[ordersByUsers['group'] == \"A\", ['orders']]\n",
    "plt.scatter(x, y, c='coral', alpha = 0.5)\n",
    "\n",
    "x = pd.Series(range(0,len(ordersByUsers.loc[ordersByUsers['group'] == \"B\"])))\n",
    "y = ordersByUsers.loc[ordersByUsers['group'] == \"B\", ['orders']]\n",
    "plt.scatter(x, y, c='green', alpha = 0.5) \n",
    "\n",
    "plt.title('ЧИСЛО ЗАКАЗОВ НА ПОЛЬЗОВАТЕЛЯ')\n",
    "plt.grid(True)\n",
    "plt.ylabel('КОЛИЧЕСТВО ЗАКАЗОВ')\n",
    "plt.show()"
   ]
  },
  {
   "cell_type": "markdown",
   "metadata": {},
   "source": [
    "**ВЫВОД**\n",
    "\n",
    "- **Большинство покупателей заказывали один раз**, но пользователей с 2-3 заказами тоже много. Для более точного анализа и выводов необходимо посчитать выборочные перцентили количества заказов.\n",
    "\n",
    "- Однако, уже из графика очевидно, что покупатели с количеством заказов более 4 - это выбросы в наших данных. "
   ]
  },
  {
   "cell_type": "markdown",
   "metadata": {},
   "source": [
    "---"
   ]
  },
  {
   "cell_type": "markdown",
   "metadata": {},
   "source": [
    "###  95-й и 99-й перцентили количества заказов"
   ]
  },
  {
   "cell_type": "markdown",
   "metadata": {},
   "source": [
    "95-й и 99-й перцентили количества заказов на пользователя"
   ]
  },
  {
   "cell_type": "code",
   "execution_count": 33,
   "metadata": {},
   "outputs": [
    {
     "data": {
      "text/plain": [
       "array([2., 4.])"
      ]
     },
     "execution_count": 33,
     "metadata": {},
     "output_type": "execute_result"
    }
   ],
   "source": [
    "np.percentile(ordersByUsers['orders'], [95, 99])"
   ]
  },
  {
   "cell_type": "markdown",
   "metadata": {},
   "source": [
    "**ВЫВОД**\n",
    "\n",
    "Не более 5% пользователей оформляли больше чем 2 заказа. И всего 1% пользователей заказывали более 4 раз.\n",
    "\n",
    "Установим границу числа заказов для определения аномалий: **3 заказа на одного пользователя.**"
   ]
  },
  {
   "cell_type": "markdown",
   "metadata": {},
   "source": [
    "---"
   ]
  },
  {
   "cell_type": "markdown",
   "metadata": {},
   "source": [
    "### Точечный график стоимостей заказов"
   ]
  },
  {
   "cell_type": "markdown",
   "metadata": {},
   "source": [
    "Оценим стоимость заказов с помощью точечного графика"
   ]
  },
  {
   "cell_type": "code",
   "execution_count": 35,
   "metadata": {},
   "outputs": [
    {
     "data": {
      "image/png": "[encoded data removed]",
      "text/plain": [
       "<Figure size 720x360 with 2 Axes>"
      ]
     },
     "metadata": {
      "needs_background": "light"
     },
     "output_type": "display_data"
    }
   ],
   "source": [
    "x_values = pd.Series(range(0,len(orders['revenue'])))\n",
    "plt.figure(figsize=(10, 5))\n",
    "plt.subplot(2, 1, 1)\n",
    "plt.scatter(x_values, orders['revenue'])\n",
    "plt.title('СТОИМОСТЬ ЗАКАЗОВ НА ПОЛЬЗОВАТЕЛЯ')\n",
    "plt.grid(True)\n",
    "plt.ylabel('СТОИМОСТЬ ЗАКАЗОВ')\n",
    "\n",
    "\n",
    "orders_new = orders.query('revenue <200000')\n",
    "\n",
    "x_values = pd.Series(range(0,len(orders_new['revenue'])))\n",
    "plt.subplot(2, 1, 2)\n",
    "plt.scatter(x_values, orders_new['revenue'])\n",
    "plt.title('СТОИМОСТЬ ЗАКАЗОВ НА ПОЛЬЗОВАТЕЛЯ (без учета аномалий)')\n",
    "plt.grid(True)\n",
    "plt.ylabel('СТОИМОСТЬ ЗАКАЗОВ')\n",
    "\n",
    "\n",
    "plt.tight_layout()\n",
    "plt.show()\n"
   ]
  },
  {
   "cell_type": "markdown",
   "metadata": {},
   "source": [
    "**ВЫВОД**"
   ]
  },
  {
   "cell_type": "markdown",
   "metadata": {},
   "source": [
    "Большинство значений попадают в диапазон до 100000. Однако, **есть нетипично большие заказы.** Мы видим на графике один заказ на сумму более, чем на 1200000 и один заказ на 200000 - такие цифры могут очень сильно повлиять на средние значения для всей группы, что, скорее всего и произошло с нашими данными. "
   ]
  },
  {
   "cell_type": "markdown",
   "metadata": {},
   "source": [
    "---"
   ]
  },
  {
   "cell_type": "markdown",
   "metadata": {},
   "source": [
    "###  95-й и 99-й перцентили стоимости заказов"
   ]
  },
  {
   "cell_type": "markdown",
   "metadata": {},
   "source": [
    "95-й и 99-й перцентили стоимости заказов на пользователя"
   ]
  },
  {
   "cell_type": "code",
   "execution_count": 36,
   "metadata": {},
   "outputs": [
    {
     "data": {
      "text/plain": [
       "array([28000. , 58233.2])"
      ]
     },
     "execution_count": 36,
     "metadata": {},
     "output_type": "execute_result"
    }
   ],
   "source": [
    "np.percentile(orders['revenue'], [95, 99])"
   ]
  },
  {
   "cell_type": "markdown",
   "metadata": {},
   "source": [
    "**ВЫВОД**\n",
    "\n",
    "Не более 5% пользователей оформляли заказы стоимостью больше чем 28000. И всего 1% пользователей заказывали на сумму более 58233.\n",
    "\n",
    "Установим границу стоимости заказов для определения аномалий: **30000**"
   ]
  },
  {
   "cell_type": "markdown",
   "metadata": {},
   "source": [
    "---"
   ]
  },
  {
   "cell_type": "markdown",
   "metadata": {},
   "source": [
    "### Cтатистическая значимость различий в конверсии по \"сырым\" данным"
   ]
  },
  {
   "cell_type": "markdown",
   "metadata": {},
   "source": [
    "Посчитаем статистическую значимость различий в конверсии и среднем чеке между группами по «сырым» данным — без удаления аномальных пользователей."
   ]
  },
  {
   "cell_type": "markdown",
   "metadata": {},
   "source": [
    "Начнём с подготовки данных:"
   ]
  },
  {
   "cell_type": "code",
   "execution_count": 37,
   "metadata": {},
   "outputs": [],
   "source": [
    "visitorsADaily = visitors[visitors['group'] == 'A'][['date', 'visitors']]\n",
    "visitorsADaily.columns = ['date', 'visitorsPerDateA']\n",
    "\n",
    "visitorsACummulative = visitorsADaily.apply(\n",
    "    lambda x: visitorsADaily[visitorsADaily['date'] <= x['date']].agg(\n",
    "        {'date': 'max', 'visitorsPerDateA': 'sum'}\n",
    "    ),\n",
    "    axis=1,\n",
    ")\n",
    "visitorsACummulative.columns = ['date', 'visitorsCummulativeA']\n",
    "\n",
    "visitorsBDaily = visitors[visitors['group'] == 'B'][['date', 'visitors']]\n",
    "visitorsBDaily.columns = ['date', 'visitorsPerDateB']\n",
    "\n",
    "visitorsBCummulative = visitorsBDaily.apply(\n",
    "    lambda x: visitorsBDaily[visitorsBDaily['date'] <= x['date']].agg(\n",
    "        {'date': 'max', 'visitorsPerDateB': 'sum'}\n",
    "    ),\n",
    "    axis=1,\n",
    ")\n",
    "visitorsBCummulative.columns = ['date', 'visitorsCummulativeB']\n",
    "\n",
    "ordersADaily = (\n",
    "    orders[orders['group'] == 'A'][['date', 'transactionId', 'visitorId', 'revenue']]\n",
    "    .groupby('date', as_index=False)\n",
    "    .agg({'transactionId': pd.Series.nunique, 'revenue': 'sum'})\n",
    ")\n",
    "ordersADaily.columns = ['date', 'ordersPerDateA', 'revenuePerDateA']\n",
    "\n",
    "ordersACummulative = ordersADaily.apply(\n",
    "    lambda x: ordersADaily[ordersADaily['date'] <= x['date']].agg(\n",
    "        {'date': 'max', 'ordersPerDateA': 'sum', 'revenuePerDateA': 'sum'}\n",
    "    ),\n",
    "    axis=1,\n",
    ").sort_values(by=['date'])\n",
    "ordersACummulative.columns = [\n",
    "    'date',\n",
    "    'ordersCummulativeA',\n",
    "    'revenueCummulativeA',\n",
    "]\n",
    "\n",
    "ordersBDaily = (\n",
    "    orders[orders['group'] == 'B'][['date', 'transactionId', 'visitorId', 'revenue']]\n",
    "    .groupby('date', as_index=False)\n",
    "    .agg({'transactionId': pd.Series.nunique, 'revenue': 'sum'})\n",
    ")\n",
    "ordersBDaily.columns = ['date', 'ordersPerDateB', 'revenuePerDateB']\n",
    "\n",
    "ordersBCummulative = ordersBDaily.apply(\n",
    "    lambda x: ordersBDaily[ordersBDaily['date'] <= x['date']].agg(\n",
    "        {'date': 'max', 'ordersPerDateB': 'sum', 'revenuePerDateB': 'sum'}\n",
    "    ),\n",
    "    axis=1,\n",
    ").sort_values(by=['date'])\n",
    "ordersBCummulative.columns = [\n",
    "    'date',\n",
    "    'ordersCummulativeB',\n",
    "    'revenueCummulativeB',\n",
    "]\n",
    "\n",
    "data = (\n",
    "    ordersADaily.merge(\n",
    "        ordersBDaily, left_on='date', right_on='date', how='left'\n",
    "    )\n",
    "    .merge(ordersACummulative, left_on='date', right_on='date', how='left')\n",
    "    .merge(ordersBCummulative, left_on='date', right_on='date', how='left')\n",
    "    .merge(visitorsADaily, left_on='date', right_on='date', how='left')\n",
    "    .merge(visitorsBDaily, left_on='date', right_on='date', how='left')\n",
    "    .merge(visitorsACummulative, left_on='date', right_on='date', how='left')\n",
    "    .merge(visitorsBCummulative, left_on='date', right_on='date', how='left')\n",
    ")"
   ]
  },
  {
   "cell_type": "code",
   "execution_count": 38,
   "metadata": {},
   "outputs": [
    {
     "data": {
      "text/html": [
       "<div>\n",
       "<style scoped>\n",
       "    .dataframe tbody tr th:only-of-type {\n",
       "        vertical-align: middle;\n",
       "    }\n",
       "\n",
       "    .dataframe tbody tr th {\n",
       "        vertical-align: top;\n",
       "    }\n",
       "\n",
       "    .dataframe thead th {\n",
       "        text-align: right;\n",
       "    }\n",
       "</style>\n",
       "<table border=\"1\" class=\"dataframe\">\n",
       "  <thead>\n",
       "    <tr style=\"text-align: right;\">\n",
       "      <th></th>\n",
       "      <th>date</th>\n",
       "      <th>ordersPerDateA</th>\n",
       "      <th>revenuePerDateA</th>\n",
       "      <th>ordersPerDateB</th>\n",
       "      <th>revenuePerDateB</th>\n",
       "      <th>ordersCummulativeA</th>\n",
       "      <th>revenueCummulativeA</th>\n",
       "      <th>ordersCummulativeB</th>\n",
       "      <th>revenueCummulativeB</th>\n",
       "      <th>visitorsPerDateA</th>\n",
       "      <th>visitorsPerDateB</th>\n",
       "      <th>visitorsCummulativeA</th>\n",
       "      <th>visitorsCummulativeB</th>\n",
       "    </tr>\n",
       "  </thead>\n",
       "  <tbody>\n",
       "    <tr>\n",
       "      <td>0</td>\n",
       "      <td>2019-08-01</td>\n",
       "      <td>24</td>\n",
       "      <td>148579</td>\n",
       "      <td>21</td>\n",
       "      <td>101217</td>\n",
       "      <td>24</td>\n",
       "      <td>148579</td>\n",
       "      <td>21</td>\n",
       "      <td>101217</td>\n",
       "      <td>719</td>\n",
       "      <td>713</td>\n",
       "      <td>719</td>\n",
       "      <td>713</td>\n",
       "    </tr>\n",
       "    <tr>\n",
       "      <td>1</td>\n",
       "      <td>2019-08-02</td>\n",
       "      <td>20</td>\n",
       "      <td>93822</td>\n",
       "      <td>24</td>\n",
       "      <td>165531</td>\n",
       "      <td>44</td>\n",
       "      <td>242401</td>\n",
       "      <td>45</td>\n",
       "      <td>266748</td>\n",
       "      <td>619</td>\n",
       "      <td>581</td>\n",
       "      <td>1338</td>\n",
       "      <td>1294</td>\n",
       "    </tr>\n",
       "    <tr>\n",
       "      <td>2</td>\n",
       "      <td>2019-08-03</td>\n",
       "      <td>24</td>\n",
       "      <td>112473</td>\n",
       "      <td>16</td>\n",
       "      <td>114248</td>\n",
       "      <td>68</td>\n",
       "      <td>354874</td>\n",
       "      <td>61</td>\n",
       "      <td>380996</td>\n",
       "      <td>507</td>\n",
       "      <td>509</td>\n",
       "      <td>1845</td>\n",
       "      <td>1803</td>\n",
       "    </tr>\n",
       "    <tr>\n",
       "      <td>3</td>\n",
       "      <td>2019-08-04</td>\n",
       "      <td>16</td>\n",
       "      <td>70825</td>\n",
       "      <td>17</td>\n",
       "      <td>108571</td>\n",
       "      <td>84</td>\n",
       "      <td>425699</td>\n",
       "      <td>78</td>\n",
       "      <td>489567</td>\n",
       "      <td>717</td>\n",
       "      <td>770</td>\n",
       "      <td>2562</td>\n",
       "      <td>2573</td>\n",
       "    </tr>\n",
       "    <tr>\n",
       "      <td>4</td>\n",
       "      <td>2019-08-05</td>\n",
       "      <td>25</td>\n",
       "      <td>124218</td>\n",
       "      <td>23</td>\n",
       "      <td>92428</td>\n",
       "      <td>109</td>\n",
       "      <td>549917</td>\n",
       "      <td>101</td>\n",
       "      <td>581995</td>\n",
       "      <td>756</td>\n",
       "      <td>707</td>\n",
       "      <td>3318</td>\n",
       "      <td>3280</td>\n",
       "    </tr>\n",
       "  </tbody>\n",
       "</table>\n",
       "</div>"
      ],
      "text/plain": [
       "        date  ordersPerDateA  revenuePerDateA  ordersPerDateB  \\\n",
       "0 2019-08-01              24           148579              21   \n",
       "1 2019-08-02              20            93822              24   \n",
       "2 2019-08-03              24           112473              16   \n",
       "3 2019-08-04              16            70825              17   \n",
       "4 2019-08-05              25           124218              23   \n",
       "\n",
       "   revenuePerDateB  ordersCummulativeA  revenueCummulativeA  \\\n",
       "0           101217                  24               148579   \n",
       "1           165531                  44               242401   \n",
       "2           114248                  68               354874   \n",
       "3           108571                  84               425699   \n",
       "4            92428                 109               549917   \n",
       "\n",
       "   ordersCummulativeB  revenueCummulativeB  visitorsPerDateA  \\\n",
       "0                  21               101217               719   \n",
       "1                  45               266748               619   \n",
       "2                  61               380996               507   \n",
       "3                  78               489567               717   \n",
       "4                 101               581995               756   \n",
       "\n",
       "   visitorsPerDateB  visitorsCummulativeA  visitorsCummulativeB  \n",
       "0               713                   719                   713  \n",
       "1               581                  1338                  1294  \n",
       "2               509                  1845                  1803  \n",
       "3               770                  2562                  2573  \n",
       "4               707                  3318                  3280  "
      ]
     },
     "execution_count": 38,
     "metadata": {},
     "output_type": "execute_result"
    }
   ],
   "source": [
    "data.head()"
   ]
  },
  {
   "cell_type": "markdown",
   "metadata": {},
   "source": [
    "Итак, мы получили новый фрейм, где:\n",
    "\n",
    "- ordersPerDateA — количество заказов в выбранную дату в группе A;\n",
    "- revenuePerDateA — суммарная выручка в выбранную дату в группе A;\n",
    "- ordersPerDateB — количество заказов в выбранную дату в группе B;\n",
    "- revenuePerDateB — суммарная выручка в выбранную дату в группе B;\n",
    "- ordersCummulativeA — суммарное число заказов до выбранной даты включительно в группе A;\n",
    "- revenueCummulativeA — суммарная выручка до выбранной даты включительно в группе A;\n",
    "- ordersCummulativeB — суммарное количество заказов до выбранной даты включительно в группе B;\n",
    "- revenueCummulativeB — суммарная выручка до выбранной даты включительно в группе B;\n",
    "- visitorsPerDateA — количество пользователей в выбранную дату в группе A;\n",
    "- visitorsPerDateB — количество пользователей в выбранную дату в группе B;\n",
    "- visitorsCummulativeA — количество пользователей до выбранной даты включительно в группе A;\n",
    "- visitorsCummulativeB — количество пользователей до выбранной даты включительно в группе B."
   ]
  },
  {
   "cell_type": "markdown",
   "metadata": {},
   "source": [
    "Теперь посчитаем статистическую значимость различия в конверсии между группами"
   ]
  },
  {
   "cell_type": "code",
   "execution_count": 39,
   "metadata": {},
   "outputs": [],
   "source": [
    "#создадим переменные ordersByUsersA и ordersByUsersB со столбцами ['userId', 'orders']. \n",
    "#в них для пользователей, которые заказывали хотя бы 1 раз, укажем число совершённых заказов.\n",
    "\n",
    "ordersByUsersA = (\n",
    "    orders[orders['group'] == 'A']\n",
    "    .groupby('visitorId', as_index=False)\n",
    "    .agg({'transactionId': pd.Series.nunique})\n",
    ")\n",
    "ordersByUsersA.columns = ['userId', 'orders']\n",
    "\n",
    "ordersByUsersB = (\n",
    "    orders[orders['group'] == 'B']\n",
    "    .groupby('visitorId', as_index=False)\n",
    "    .agg({'transactionId': pd.Series.nunique})\n",
    ")\n",
    "ordersByUsersB.columns = ['userId', 'orders']"
   ]
  },
  {
   "cell_type": "code",
   "execution_count": 40,
   "metadata": {},
   "outputs": [],
   "source": [
    "#объявим переменные sampleA и sampleB, в которых пользователям из разных групп \n",
    "#будет соответствовать количество заказов\n",
    "\n",
    "#тем, кто ничего не заказал, будут соответствовать нули\n",
    "\n",
    "sampleA = pd.concat( #объединить по строкам\n",
    "    [\n",
    "        ordersByUsersA['orders'], #список с количеством заказов для каждого из пользователей\n",
    "        pd.Series(\n",
    "            0,\n",
    "            index=np.arange(\n",
    "                data['visitorsPerDateA'].sum() - len(ordersByUsersA['orders']) #нули для пользователей, которые ничего не заказывали\n",
    "            ),\n",
    "            name='orders',\n",
    "        ),\n",
    "    ],\n",
    "    axis=0,\n",
    ")\n",
    "\n",
    "sampleB = pd.concat( #объединить по строкам\n",
    "    [\n",
    "        ordersByUsersB['orders'], #список с количеством заказов для каждого из пользователей\n",
    "        pd.Series(\n",
    "            0,\n",
    "            index=np.arange(\n",
    "                data['visitorsPerDateB'].sum() - len(ordersByUsersB['orders']) #нули для пользователей, которые ничего не заказывали\n",
    "            ),\n",
    "            name='orders',\n",
    "        ),\n",
    "    ],\n",
    "    axis=0,\n",
    ")"
   ]
  },
  {
   "cell_type": "markdown",
   "metadata": {},
   "source": [
    "**Значимость различий в конверсии по результатам проверки критерием Манна-Уитни:**"
   ]
  },
  {
   "cell_type": "code",
   "execution_count": 41,
   "metadata": {},
   "outputs": [
    {
     "data": {
      "text/plain": [
       "'0.017'"
      ]
     },
     "execution_count": 41,
     "metadata": {},
     "output_type": "execute_result"
    }
   ],
   "source": [
    "#p-value\n",
    "\"{0:.3f}\".format(stats.mannwhitneyu(sampleA, sampleB, alternative='two-sided')[1])"
   ]
  },
  {
   "cell_type": "code",
   "execution_count": 42,
   "metadata": {},
   "outputs": [
    {
     "data": {
      "text/plain": [
       "'0.138'"
      ]
     },
     "execution_count": 42,
     "metadata": {},
     "output_type": "execute_result"
    }
   ],
   "source": [
    "#относительный прирост конверсии группы B\n",
    "\"{0:.3f}\".format(sampleB.mean() / sampleA.mean() - 1)"
   ]
  },
  {
   "cell_type": "markdown",
   "metadata": {},
   "source": [
    "**ВЫВОД:**\n",
    "\n",
    "- По «сырым» данным различия в конверсии групп A и B есть.\n",
    "\n",
    "- Первое число — p-value = 0.017 < 0.05. Значит, нулевую гипотезу о том, что статистически значимых различий в конверсии между группами нет, отвергаем. \n",
    "\n",
    "- Относительный выигрыш группы B равен 13.8% — второе число в выводе.\n",
    "\n",
    "\n",
    "Выводы логичны. Ранее мы уже могли видеть, что графики конверсии групп сильно отличаются, в том числе, из-за сильных скачков в числе заказов у группы B."
   ]
  },
  {
   "cell_type": "markdown",
   "metadata": {},
   "source": [
    "---"
   ]
  },
  {
   "cell_type": "markdown",
   "metadata": {},
   "source": [
    "### Cтатистическая значимость различий в среднем чеке по \"сырым\" данным"
   ]
  },
  {
   "cell_type": "markdown",
   "metadata": {},
   "source": [
    "Чтобы рассчитать статистическую значимость различий в среднем чеке между сегментами, передадим критерию mannwhitneyu() данные о выручке с заказов.\n",
    "\n",
    "А также найдём относительные различия в среднем чеке между группами:"
   ]
  },
  {
   "cell_type": "markdown",
   "metadata": {},
   "source": [
    "Сформулируем гипотезы:\n",
    "    \n",
    "    Нулевая гипотеза: средний чек группы A и группы B не имеет статистически значимых различий\n",
    "    Альтернативная гипотеза: средний чек группы A и группы B имеет статистически значимые различия\n",
    "    \n",
    "Уровень статистической значимости для теста (p-value) = 0.05"
   ]
  },
  {
   "cell_type": "code",
   "execution_count": 55,
   "metadata": {},
   "outputs": [
    {
     "data": {
      "text/plain": [
       "'0.729'"
      ]
     },
     "execution_count": 55,
     "metadata": {},
     "output_type": "execute_result"
    }
   ],
   "source": [
    "#p-value\n",
    "'{0:.3f}'.format(stats.mannwhitneyu(orders[orders['group']=='A']['revenue'], \n",
    "                                    orders[orders['group']=='B']['revenue'], \n",
    "                                    alternative='two-sided')[1])"
   ]
  },
  {
   "cell_type": "code",
   "execution_count": 54,
   "metadata": {},
   "outputs": [
    {
     "data": {
      "text/plain": [
       "'0.259'"
      ]
     },
     "execution_count": 54,
     "metadata": {},
     "output_type": "execute_result"
    }
   ],
   "source": [
    "#относительный прирост среднего чека группы B\n",
    "'{0:.3f}'.format(orders[orders['group']=='B']['revenue'\n",
    "                                                   ].mean()/orders[orders['group']=='A']['revenue'].mean()-1)"
   ]
  },
  {
   "cell_type": "markdown",
   "metadata": {},
   "source": [
    "**ВЫВОД**\n",
    "\n",
    "- P-value значительно больше 0.05. Значит, причин отвергать нулевую гипотезу и считать, что в среднем чеке есть различия, нет\n",
    "\n",
    "- Однако, средний чек группы B значительно выше среднего чека группы A - более, чем на 25%"
   ]
  },
  {
   "cell_type": "markdown",
   "metadata": {},
   "source": [
    "---"
   ]
  },
  {
   "cell_type": "markdown",
   "metadata": {},
   "source": [
    "### Cтатистическая значимость различий в конверсии по \"очищенным\" данным"
   ]
  },
  {
   "cell_type": "markdown",
   "metadata": {},
   "source": [
    "- Примем за аномальных пользователей тех, кто совершил от 3 заказов или совершил заказ дороже 30000 рублей. Так мы уберём тот небольшой процент пользователей с наибольшим числом заказов и пользователей с дорогими заказами. \n",
    "\n",
    "- Сделаем срезы пользователей с числом заказов больше 3 — usersWithManyOrders и пользователей, совершивших заказы дороже 30 000 — usersWithExpensiveOrders. \n",
    "\n",
    "- Объединим их в таблице abnormalUsers.\n",
    "\n",
    "- Узнаем, сколько всего аномальных пользователей методом shape()"
   ]
  },
  {
   "cell_type": "code",
   "execution_count": 45,
   "metadata": {},
   "outputs": [],
   "source": [
    "usersWithManyOrders = pd.concat(\n",
    "    [\n",
    "        ordersByUsersA[ordersByUsersA['orders'] > 3]['userId'],\n",
    "        ordersByUsersB[ordersByUsersB['orders'] > 3]['userId'],\n",
    "    ],\n",
    "    axis=0,\n",
    ")\n",
    "usersWithExpensiveOrders = orders[orders['revenue'] > 30000]['visitorId']\n",
    "abnormalUsers = (\n",
    "    pd.concat([usersWithManyOrders, usersWithExpensiveOrders], axis=0)\n",
    "    .drop_duplicates()\n",
    "    .sort_values()\n",
    ")"
   ]
  },
  {
   "cell_type": "code",
   "execution_count": 46,
   "metadata": {},
   "outputs": [
    {
     "data": {
      "text/plain": [
       "1099    148427295\n",
       "18      199603092\n",
       "928     204675465\n",
       "23      237748145\n",
       "684     358944393\n",
       "dtype: int64"
      ]
     },
     "execution_count": 46,
     "metadata": {},
     "output_type": "execute_result"
    }
   ],
   "source": [
    "abnormalUsers.head(5)"
   ]
  },
  {
   "cell_type": "code",
   "execution_count": 47,
   "metadata": {},
   "outputs": [
    {
     "data": {
      "text/plain": [
       "(57,)"
      ]
     },
     "execution_count": 47,
     "metadata": {},
     "output_type": "execute_result"
    }
   ],
   "source": [
    "#всего аномальных пользователей\n",
    "abnormalUsers.shape"
   ]
  },
  {
   "cell_type": "markdown",
   "metadata": {},
   "source": [
    "**Всего 57 аномальных пользователей.**\n",
    "\n",
    "\n",
    "Узнаем, как их действия повлияли на результаты теста. Посчитаем статистическую значимость различий в конверсии между группами теста по очищенным данным. \n",
    "\n",
    "Сначала подготовим выборки количества заказов по пользователям по группам теста:"
   ]
  },
  {
   "cell_type": "code",
   "execution_count": 48,
   "metadata": {},
   "outputs": [],
   "source": [
    "sampleAFiltered = pd.concat(\n",
    "    [\n",
    "        ordersByUsersA[\n",
    "            np.logical_not(ordersByUsersA['userId'].isin(abnormalUsers)) \n",
    "        ]['orders'],\n",
    "        pd.Series(\n",
    "            0,\n",
    "            index=np.arange(\n",
    "                data['visitorsPerDateA'].sum() - len(ordersByUsersA['orders'])\n",
    "            ),\n",
    "            name='orders',\n",
    "        ),\n",
    "    ],\n",
    "    axis=0,\n",
    ")\n",
    "\n",
    "sampleBFiltered = pd.concat(\n",
    "    [\n",
    "        ordersByUsersB[\n",
    "            np.logical_not(ordersByUsersB['userId'].isin(abnormalUsers))\n",
    "        ]['orders'],\n",
    "        pd.Series(\n",
    "            0,\n",
    "            index=np.arange(\n",
    "                data['visitorsPerDateB'].sum() - len(ordersByUsersB['orders'])\n",
    "            ),\n",
    "            name='orders',\n",
    "        ),\n",
    "    ],\n",
    "    axis=0,\n",
    ")"
   ]
  },
  {
   "cell_type": "markdown",
   "metadata": {},
   "source": [
    "Сформулируем гипотезы:\n",
    "    \n",
    "    Нулевая гипотеза: конверсия группы A и группы B не имеет статистически значимых различий\n",
    "    Альтернативная гипотеза: конверсия группы A и группы B имеет статистически значимые различия\n",
    "    \n",
    "Уровень статистической значимости для теста (p-value) = 0.05"
   ]
  },
  {
   "cell_type": "code",
   "execution_count": 56,
   "metadata": {},
   "outputs": [
    {
     "data": {
      "text/plain": [
       "'0.018'"
      ]
     },
     "execution_count": 56,
     "metadata": {},
     "output_type": "execute_result"
    }
   ],
   "source": [
    "#p-value\n",
    "'{0:.3f}'.format(stats.mannwhitneyu(sampleAFiltered, sampleBFiltered, alternative='two-sided')[1])"
   ]
  },
  {
   "cell_type": "code",
   "execution_count": 57,
   "metadata": {},
   "outputs": [
    {
     "data": {
      "text/plain": [
       "'0.148'"
      ]
     },
     "execution_count": 57,
     "metadata": {},
     "output_type": "execute_result"
    }
   ],
   "source": [
    "#относительный прирост конверсии группы B\n",
    "'{0:.3f}'.format(sampleBFiltered.mean()/sampleAFiltered.mean()-1)"
   ]
  },
  {
   "cell_type": "markdown",
   "metadata": {},
   "source": [
    "**ВЫВОД**\n",
    "\n",
    "Результаты по конверсии практически не изменились. Аномалии не сильно повлияли на этот показатель."
   ]
  },
  {
   "cell_type": "markdown",
   "metadata": {},
   "source": [
    "---"
   ]
  },
  {
   "cell_type": "markdown",
   "metadata": {},
   "source": [
    "### Cтатистическая значимость различий в среднем чеке по \"очищенным\" данным"
   ]
  },
  {
   "cell_type": "markdown",
   "metadata": {},
   "source": [
    "Сформулируем гипотезы:\n",
    "    \n",
    "    Нулевая гипотеза: средний чек группы A и группы B не имеет статистически значимых различий\n",
    "    Альтернативная гипотеза: средний чек группы A и группы B имеет статистически значимые различия\n",
    "    \n",
    "Уровень статистической значимости для теста (p-value) = 0.05"
   ]
  },
  {
   "cell_type": "code",
   "execution_count": 58,
   "metadata": {},
   "outputs": [
    {
     "data": {
      "text/plain": [
       "'0.958'"
      ]
     },
     "execution_count": 58,
     "metadata": {},
     "output_type": "execute_result"
    }
   ],
   "source": [
    "#p-value\n",
    "\n",
    "'{0:.3f}'.format(\n",
    "        stats.mannwhitneyu(\n",
    "            orders[\n",
    "                np.logical_and(\n",
    "                    orders['group'] == 'A',\n",
    "                    np.logical_not(orders['visitorId'].isin(abnormalUsers)),\n",
    "                )\n",
    "            ]['revenue'],\n",
    "            orders[\n",
    "                np.logical_and(\n",
    "                    orders['group'] == 'B',\n",
    "                    np.logical_not(orders['visitorId'].isin(abnormalUsers)),\n",
    "                )\n",
    "            ]['revenue'], alternative='two-sided',\n",
    "        )[1]\n",
    "    )"
   ]
  },
  {
   "cell_type": "code",
   "execution_count": 59,
   "metadata": {},
   "outputs": [
    {
     "data": {
      "text/plain": [
       "'-0.020'"
      ]
     },
     "execution_count": 59,
     "metadata": {},
     "output_type": "execute_result"
    }
   ],
   "source": [
    "#относительный прирост среднего чека группы B\n",
    "\n",
    "\"{0:.3f}\".format(\n",
    "        orders[\n",
    "            np.logical_and(\n",
    "                orders['group'] == 'B',\n",
    "                np.logical_not(orders['visitorId'].isin(abnormalUsers)),\n",
    "            )\n",
    "        ]['revenue'].mean()\n",
    "        / orders[\n",
    "            np.logical_and(\n",
    "                orders['group'] == 'A',\n",
    "                np.logical_not(orders['visitorId'].isin(abnormalUsers)),\n",
    "            )\n",
    "        ]['revenue'].mean()\n",
    "        - 1\n",
    "    )"
   ]
  },
  {
   "cell_type": "markdown",
   "metadata": {},
   "source": [
    "**ВЫВОД:**\n",
    "\n",
    "- P-value сильно увеличился, а разница между группами изменилась практически с полной противоположностью - теперь прирост среднего чека группы B с преимуществом в 25% сменился преимуществом группы А на целых 20%.\n",
    "\n",
    "- Это хорошо показывает нам, как сильно могут влиять аномалии на показатели тестируемых групп. \n",
    "\n",
    "Таким образом, мы выяснили, что несмотря на прирост конверсии в группе B - суммы заказов там не увеличивались, а наоборот, падали, так как средний чек в итоге достаточно сильно проигрывает группе A. Теперь картина выглядит более полной: в группе B произошел резкий рост заказов, но, вероятно, со средним чеком ниже среднего."
   ]
  },
  {
   "cell_type": "markdown",
   "metadata": {},
   "source": [
    "---"
   ]
  },
  {
   "cell_type": "markdown",
   "metadata": {},
   "source": [
    "## ВЫВОД"
   ]
  },
  {
   "cell_type": "markdown",
   "metadata": {},
   "source": [
    "По результатам анализа:\n",
    "\n",
    "- Наблюдается статистически значимое различие по конверсии между группами и по «сырым», и по данным после фильтрации аномалий в пользу группы B (+14%). В этой группе произошел резкий скачок заказов, что привело к увеличению и закреплению такой конверсии. \n",
    "\n",
    "---\n",
    "\n",
    "- Статистически значимое различия по среднему чеку между группами:\n",
    "\n",
    " - по «сырым» данным: есть в пользу группы B (+25%)\n",
    " - после фильтрации аномалий: есть, но, наоборот, в пользу группы A (+20%)\n",
    " \n",
    "Очевидно, что такое изменение связано с очень сильными аномалиями в группе B - а именно два заказа (на сумму 1200000 и 200000), после фильтрации которых средний чек группы B упал так сильно, что группа А вырвала преимущество в 20%. \n",
    "\n",
    "---\n",
    "\n",
    "- График различия конверсии между группами показывает, что результаты группы B значительно лучше группы A и такая динамика закрепилась\n",
    "\n",
    "---\n",
    "\n",
    "- График различия среднего чека говорит о том, что результаты группы B имели резкий скачок и средний показатель на 25% лучше, чем в группе А. Однако, после фильтрации аномальных показателей показатель среднего чека в группе B упал и стал ниже на 20%, чем средний показатель чека в группе A. \n",
    "\n",
    "---\n",
    "\n",
    "\n",
    "\n",
    "\n",
    "Исходя из результатов теста мы можем сделать вывод о том, что: \n",
    "\n",
    "- группа B имеет однозначное преимущество: бóльшее количество заказов и бóльшую кумулятивную выручку (которая продолжает расти). Однако, также, группа B имеет более низкий средний чек.\n",
    "\n",
    "- группа A имеет более низкую конверсию и выручку, однако, вероятно, за счёт более высокого среднего чека выручка имеет также положительную динамику.\n",
    "\n",
    "**Исходя из обнаруженных фактов, тест можно признать успешным. Очевидно, что группа B имеет явные преимущества по ключевым показателям: конверсии и выручке.**\n",
    "\n",
    "**Что касается среднего чека, то при резком росте количества заказов - падение среднего чека, как мне кажется, вполне естественный процесс.**\n",
    "\n",
    "**На это можно посмотреть с другой стороны: выросшая конверсия, которая дала нам большое количество новых покупателей, принесла и новые задачи: теперь нужно стимулировать новых клиентов на совершение более дорогих заказов;**"
   ]
  }
 ],
 "metadata": {
  "ExecuteTimeLog": [
   {
    "duration": 949,
    "start_time": "2021-07-04T14:15:44.281Z"
   },
   {
    "duration": 512,
    "start_time": "2021-07-04T14:15:46.273Z"
   },
   {
    "duration": 16,
    "start_time": "2021-07-04T14:15:46.787Z"
   },
   {
    "duration": 12,
    "start_time": "2021-07-04T14:15:49.409Z"
   },
   {
    "duration": 8,
    "start_time": "2021-07-04T14:22:35.433Z"
   },
   {
    "duration": 8,
    "start_time": "2021-07-04T14:22:38.685Z"
   },
   {
    "duration": 83,
    "start_time": "2021-07-04T14:24:12.254Z"
   },
   {
    "duration": 4,
    "start_time": "2021-07-04T14:24:14.492Z"
   },
   {
    "duration": 314,
    "start_time": "2021-07-04T14:24:18.582Z"
   },
   {
    "duration": 8,
    "start_time": "2021-07-04T14:24:28.968Z"
   },
   {
    "duration": 4,
    "start_time": "2021-07-04T14:26:50.685Z"
   },
   {
    "duration": 8,
    "start_time": "2021-07-04T14:26:55.012Z"
   },
   {
    "duration": 3,
    "start_time": "2021-07-04T14:27:14.135Z"
   },
   {
    "duration": 8,
    "start_time": "2021-07-04T14:27:14.428Z"
   },
   {
    "duration": 268,
    "start_time": "2021-07-04T14:27:47.352Z"
   },
   {
    "duration": 10,
    "start_time": "2021-07-04T14:27:53.656Z"
   },
   {
    "duration": 3,
    "start_time": "2021-07-04T14:27:58.460Z"
   },
   {
    "duration": 9,
    "start_time": "2021-07-04T14:27:58.820Z"
   },
   {
    "duration": 8,
    "start_time": "2021-07-04T14:28:07.684Z"
   },
   {
    "duration": 2,
    "start_time": "2021-07-04T14:28:21.741Z"
   },
   {
    "duration": 16,
    "start_time": "2021-07-04T14:28:22.212Z"
   },
   {
    "duration": 8,
    "start_time": "2021-07-04T14:28:22.424Z"
   },
   {
    "duration": 4,
    "start_time": "2021-07-04T14:28:22.831Z"
   },
   {
    "duration": 8,
    "start_time": "2021-07-04T14:28:23.069Z"
   },
   {
    "duration": 539,
    "start_time": "2021-07-04T14:28:30.287Z"
   },
   {
    "duration": 17,
    "start_time": "2021-07-04T14:28:30.828Z"
   },
   {
    "duration": 18,
    "start_time": "2021-07-04T14:28:30.847Z"
   },
   {
    "duration": 5,
    "start_time": "2021-07-04T14:28:30.867Z"
   },
   {
    "duration": 17,
    "start_time": "2021-07-04T14:28:30.873Z"
   },
   {
    "duration": 4,
    "start_time": "2021-07-04T14:29:41.378Z"
   },
   {
    "duration": 294,
    "start_time": "2021-07-04T14:29:43.344Z"
   },
   {
    "duration": 8,
    "start_time": "2021-07-04T14:29:52.011Z"
   },
   {
    "duration": 9,
    "start_time": "2021-07-04T14:31:56.072Z"
   },
   {
    "duration": 9,
    "start_time": "2021-07-04T14:32:16.472Z"
   },
   {
    "duration": 2,
    "start_time": "2021-07-04T14:40:09.280Z"
   },
   {
    "duration": 15,
    "start_time": "2021-07-04T14:40:10.732Z"
   },
   {
    "duration": 7,
    "start_time": "2021-07-04T14:40:10.911Z"
   },
   {
    "duration": 4,
    "start_time": "2021-07-04T14:40:11.260Z"
   },
   {
    "duration": 9,
    "start_time": "2021-07-04T14:40:11.447Z"
   },
   {
    "duration": 3,
    "start_time": "2021-07-04T14:40:11.988Z"
   },
   {
    "duration": 10,
    "start_time": "2021-07-04T14:40:12.177Z"
   },
   {
    "duration": 8,
    "start_time": "2021-07-04T14:42:19.968Z"
   },
   {
    "duration": 7,
    "start_time": "2021-07-04T14:42:27.149Z"
   },
   {
    "duration": 8,
    "start_time": "2021-07-04T14:42:36.338Z"
   },
   {
    "duration": 9,
    "start_time": "2021-07-04T14:42:42.373Z"
   },
   {
    "duration": 8,
    "start_time": "2021-07-04T14:43:11.866Z"
   },
   {
    "duration": 8,
    "start_time": "2021-07-04T14:43:26.934Z"
   },
   {
    "duration": 52,
    "start_time": "2021-07-04T14:46:58.528Z"
   },
   {
    "duration": 15,
    "start_time": "2021-07-04T14:46:59.068Z"
   },
   {
    "duration": 11,
    "start_time": "2021-07-04T14:47:14.024Z"
   },
   {
    "duration": 6,
    "start_time": "2021-07-04T14:47:34.162Z"
   },
   {
    "duration": 6,
    "start_time": "2021-07-04T14:49:11.918Z"
   },
   {
    "duration": 84,
    "start_time": "2021-07-04T14:49:32.661Z"
   },
   {
    "duration": 1164,
    "start_time": "2021-07-04T14:51:33.335Z"
   },
   {
    "duration": 534,
    "start_time": "2021-07-04T14:52:01.369Z"
   },
   {
    "duration": 18,
    "start_time": "2021-07-04T14:52:01.905Z"
   },
   {
    "duration": 20,
    "start_time": "2021-07-04T14:52:01.925Z"
   },
   {
    "duration": 8,
    "start_time": "2021-07-04T14:52:01.947Z"
   },
   {
    "duration": 11,
    "start_time": "2021-07-04T14:52:01.956Z"
   },
   {
    "duration": 9,
    "start_time": "2021-07-04T14:52:01.969Z"
   },
   {
    "duration": 17,
    "start_time": "2021-07-04T14:52:01.979Z"
   },
   {
    "duration": 15,
    "start_time": "2021-07-04T14:52:01.998Z"
   },
   {
    "duration": 50,
    "start_time": "2021-07-04T14:52:02.014Z"
   },
   {
    "duration": 18,
    "start_time": "2021-07-04T14:52:02.065Z"
   },
   {
    "duration": 12,
    "start_time": "2021-07-04T14:52:02.084Z"
   },
   {
    "duration": 9,
    "start_time": "2021-07-04T14:52:02.097Z"
   },
   {
    "duration": 16,
    "start_time": "2021-07-04T14:52:02.108Z"
   },
   {
    "duration": 7,
    "start_time": "2021-07-04T14:53:28.247Z"
   },
   {
    "duration": 5,
    "start_time": "2021-07-04T14:53:39.408Z"
   },
   {
    "duration": 4,
    "start_time": "2021-07-04T14:54:01.452Z"
   },
   {
    "duration": 13,
    "start_time": "2021-07-04T14:57:52.630Z"
   },
   {
    "duration": 10,
    "start_time": "2021-07-04T14:57:56.914Z"
   },
   {
    "duration": 7,
    "start_time": "2021-07-04T14:58:08.126Z"
   },
   {
    "duration": 7,
    "start_time": "2021-07-04T14:58:08.337Z"
   },
   {
    "duration": 5,
    "start_time": "2021-07-04T14:58:55.075Z"
   },
   {
    "duration": 551,
    "start_time": "2021-07-04T15:01:06.932Z"
   },
   {
    "duration": 517,
    "start_time": "2021-07-04T15:01:19.266Z"
   },
   {
    "duration": 17,
    "start_time": "2021-07-04T15:01:19.785Z"
   },
   {
    "duration": 22,
    "start_time": "2021-07-04T15:01:19.803Z"
   },
   {
    "duration": 5,
    "start_time": "2021-07-04T15:01:19.827Z"
   },
   {
    "duration": 9,
    "start_time": "2021-07-04T15:01:19.833Z"
   },
   {
    "duration": 11,
    "start_time": "2021-07-04T15:01:19.844Z"
   },
   {
    "duration": 11,
    "start_time": "2021-07-04T15:01:19.856Z"
   },
   {
    "duration": 8,
    "start_time": "2021-07-04T15:01:19.868Z"
   },
   {
    "duration": 37,
    "start_time": "2021-07-04T15:01:19.879Z"
   },
   {
    "duration": 17,
    "start_time": "2021-07-04T15:01:19.917Z"
   },
   {
    "duration": 11,
    "start_time": "2021-07-04T15:01:19.935Z"
   },
   {
    "duration": 9,
    "start_time": "2021-07-04T15:01:19.947Z"
   },
   {
    "duration": 14,
    "start_time": "2021-07-04T15:01:19.958Z"
   },
   {
    "duration": 10,
    "start_time": "2021-07-04T15:01:19.974Z"
   },
   {
    "duration": 7,
    "start_time": "2021-07-04T15:01:19.985Z"
   },
   {
    "duration": 7,
    "start_time": "2021-07-04T15:01:19.994Z"
   },
   {
    "duration": 12,
    "start_time": "2021-07-04T15:01:20.002Z"
   },
   {
    "duration": 11,
    "start_time": "2021-07-04T15:01:20.015Z"
   },
   {
    "duration": 6837,
    "start_time": "2021-07-04T15:01:20.027Z"
   },
   {
    "duration": -244,
    "start_time": "2021-07-04T15:01:27.111Z"
   },
   {
    "duration": 316,
    "start_time": "2021-07-04T15:03:27.685Z"
   },
   {
    "duration": 9,
    "start_time": "2021-07-04T15:03:30.685Z"
   },
   {
    "duration": 310,
    "start_time": "2021-07-04T15:04:09.346Z"
   },
   {
    "duration": 8,
    "start_time": "2021-07-04T15:04:09.658Z"
   },
   {
    "duration": 261,
    "start_time": "2021-07-04T15:05:08.731Z"
   },
   {
    "duration": 973,
    "start_time": "2021-07-04T15:05:17.230Z"
   },
   {
    "duration": 134,
    "start_time": "2021-07-04T15:05:18.205Z"
   },
   {
    "duration": 18,
    "start_time": "2021-07-04T15:05:18.341Z"
   },
   {
    "duration": 16,
    "start_time": "2021-07-04T15:05:18.361Z"
   },
   {
    "duration": 13,
    "start_time": "2021-07-04T15:05:18.379Z"
   },
   {
    "duration": 9,
    "start_time": "2021-07-04T15:05:18.394Z"
   },
   {
    "duration": 15,
    "start_time": "2021-07-04T15:05:18.405Z"
   },
   {
    "duration": 16,
    "start_time": "2021-07-04T15:05:18.422Z"
   },
   {
    "duration": 39,
    "start_time": "2021-07-04T15:05:18.440Z"
   },
   {
    "duration": 22,
    "start_time": "2021-07-04T15:05:18.481Z"
   },
   {
    "duration": 20,
    "start_time": "2021-07-04T15:05:18.504Z"
   },
   {
    "duration": 16,
    "start_time": "2021-07-04T15:05:18.525Z"
   },
   {
    "duration": 24,
    "start_time": "2021-07-04T15:05:18.543Z"
   },
   {
    "duration": 18,
    "start_time": "2021-07-04T15:05:18.569Z"
   },
   {
    "duration": 19,
    "start_time": "2021-07-04T15:05:18.589Z"
   },
   {
    "duration": 23,
    "start_time": "2021-07-04T15:05:18.610Z"
   },
   {
    "duration": 28,
    "start_time": "2021-07-04T15:05:18.635Z"
   },
   {
    "duration": 13,
    "start_time": "2021-07-04T15:05:18.664Z"
   },
   {
    "duration": 377,
    "start_time": "2021-07-04T15:05:18.678Z"
   },
   {
    "duration": 8,
    "start_time": "2021-07-04T15:05:19.057Z"
   },
   {
    "duration": 209,
    "start_time": "2021-07-04T15:05:19.067Z"
   },
   {
    "duration": 169,
    "start_time": "2021-07-04T15:05:30.531Z"
   },
   {
    "duration": 248,
    "start_time": "2021-07-04T15:08:34.092Z"
   },
   {
    "duration": 633,
    "start_time": "2021-07-04T15:08:44.110Z"
   },
   {
    "duration": 15,
    "start_time": "2021-07-04T15:08:44.745Z"
   },
   {
    "duration": 14,
    "start_time": "2021-07-04T15:08:44.764Z"
   },
   {
    "duration": 8,
    "start_time": "2021-07-04T15:08:44.779Z"
   },
   {
    "duration": 9,
    "start_time": "2021-07-04T15:08:44.789Z"
   },
   {
    "duration": 8,
    "start_time": "2021-07-04T15:08:44.799Z"
   },
   {
    "duration": 11,
    "start_time": "2021-07-04T15:08:44.808Z"
   },
   {
    "duration": 7,
    "start_time": "2021-07-04T15:08:44.822Z"
   },
   {
    "duration": 37,
    "start_time": "2021-07-04T15:08:44.831Z"
   },
   {
    "duration": 16,
    "start_time": "2021-07-04T15:08:44.869Z"
   },
   {
    "duration": 14,
    "start_time": "2021-07-04T15:08:44.886Z"
   },
   {
    "duration": 17,
    "start_time": "2021-07-04T15:08:44.901Z"
   },
   {
    "duration": 22,
    "start_time": "2021-07-04T15:08:44.919Z"
   },
   {
    "duration": 9,
    "start_time": "2021-07-04T15:08:44.943Z"
   },
   {
    "duration": 7,
    "start_time": "2021-07-04T15:08:44.953Z"
   },
   {
    "duration": 8,
    "start_time": "2021-07-04T15:08:44.962Z"
   },
   {
    "duration": 11,
    "start_time": "2021-07-04T15:08:44.972Z"
   },
   {
    "duration": 8,
    "start_time": "2021-07-04T15:08:44.985Z"
   },
   {
    "duration": 316,
    "start_time": "2021-07-04T15:08:44.995Z"
   },
   {
    "duration": 7,
    "start_time": "2021-07-04T15:08:45.313Z"
   },
   {
    "duration": 190,
    "start_time": "2021-07-04T15:08:45.322Z"
   },
   {
    "duration": 171,
    "start_time": "2021-07-04T15:09:40.120Z"
   },
   {
    "duration": 285,
    "start_time": "2021-07-04T15:09:50.937Z"
   },
   {
    "duration": 554,
    "start_time": "2021-07-04T15:10:00.193Z"
   },
   {
    "duration": 172,
    "start_time": "2021-07-04T15:10:25.953Z"
   },
   {
    "duration": 214,
    "start_time": "2021-07-04T15:10:48.190Z"
   },
   {
    "duration": 165,
    "start_time": "2021-07-04T15:11:12.345Z"
   },
   {
    "duration": 561,
    "start_time": "2021-07-04T15:11:24.698Z"
   },
   {
    "duration": 15,
    "start_time": "2021-07-04T15:11:25.261Z"
   },
   {
    "duration": 24,
    "start_time": "2021-07-04T15:11:25.278Z"
   },
   {
    "duration": 5,
    "start_time": "2021-07-04T15:11:25.303Z"
   },
   {
    "duration": 10,
    "start_time": "2021-07-04T15:11:25.309Z"
   },
   {
    "duration": 10,
    "start_time": "2021-07-04T15:11:25.320Z"
   },
   {
    "duration": 11,
    "start_time": "2021-07-04T15:11:25.331Z"
   },
   {
    "duration": 10,
    "start_time": "2021-07-04T15:11:25.344Z"
   },
   {
    "duration": 34,
    "start_time": "2021-07-04T15:11:25.356Z"
   },
   {
    "duration": 16,
    "start_time": "2021-07-04T15:11:25.392Z"
   },
   {
    "duration": 11,
    "start_time": "2021-07-04T15:11:25.409Z"
   },
   {
    "duration": 8,
    "start_time": "2021-07-04T15:11:25.421Z"
   },
   {
    "duration": 14,
    "start_time": "2021-07-04T15:11:25.430Z"
   },
   {
    "duration": 11,
    "start_time": "2021-07-04T15:11:25.446Z"
   },
   {
    "duration": 10,
    "start_time": "2021-07-04T15:11:25.458Z"
   },
   {
    "duration": 13,
    "start_time": "2021-07-04T15:11:25.469Z"
   },
   {
    "duration": 14,
    "start_time": "2021-07-04T15:11:25.484Z"
   },
   {
    "duration": 9,
    "start_time": "2021-07-04T15:11:25.499Z"
   },
   {
    "duration": 309,
    "start_time": "2021-07-04T15:11:25.509Z"
   },
   {
    "duration": 7,
    "start_time": "2021-07-04T15:11:25.820Z"
   },
   {
    "duration": 180,
    "start_time": "2021-07-04T15:11:25.829Z"
   },
   {
    "duration": 163,
    "start_time": "2021-07-04T15:11:29.272Z"
   },
   {
    "duration": 443,
    "start_time": "2021-07-04T15:13:01.589Z"
   },
   {
    "duration": 369,
    "start_time": "2021-07-04T15:13:18.636Z"
   },
   {
    "duration": 239,
    "start_time": "2021-07-04T15:13:25.576Z"
   },
   {
    "duration": 282,
    "start_time": "2021-07-04T15:13:31.173Z"
   },
   {
    "duration": 283,
    "start_time": "2021-07-04T15:13:37.503Z"
   },
   {
    "duration": 294,
    "start_time": "2021-07-04T15:14:09.136Z"
   },
   {
    "duration": 304,
    "start_time": "2021-07-04T15:14:50.081Z"
   },
   {
    "duration": 307,
    "start_time": "2021-07-04T15:14:58.085Z"
   },
   {
    "duration": 310,
    "start_time": "2021-07-04T15:15:37.933Z"
   },
   {
    "duration": 159,
    "start_time": "2021-07-04T15:21:24.031Z"
   },
   {
    "duration": 292,
    "start_time": "2021-07-04T15:21:46.224Z"
   },
   {
    "duration": 291,
    "start_time": "2021-07-04T15:22:18.244Z"
   },
   {
    "duration": 80,
    "start_time": "2021-07-04T15:31:49.118Z"
   },
   {
    "duration": 352,
    "start_time": "2021-07-04T15:32:38.963Z"
   },
   {
    "duration": 413,
    "start_time": "2021-07-04T15:33:59.854Z"
   },
   {
    "duration": 389,
    "start_time": "2021-07-04T15:34:12.251Z"
   },
   {
    "duration": 5,
    "start_time": "2021-07-04T15:56:30.121Z"
   },
   {
    "duration": 5,
    "start_time": "2021-07-04T15:56:35.428Z"
   },
   {
    "duration": 4,
    "start_time": "2021-07-04T15:56:46.736Z"
   },
   {
    "duration": 182,
    "start_time": "2021-07-04T15:57:52.937Z"
   },
   {
    "duration": 11,
    "start_time": "2021-07-04T15:57:58.229Z"
   },
   {
    "duration": 5,
    "start_time": "2021-07-04T15:58:08.713Z"
   },
   {
    "duration": 159,
    "start_time": "2021-07-04T15:58:19.430Z"
   },
   {
    "duration": 169,
    "start_time": "2021-07-04T15:58:24.941Z"
   },
   {
    "duration": 4,
    "start_time": "2021-07-04T15:58:32.970Z"
   },
   {
    "duration": 163,
    "start_time": "2021-07-04T15:58:40.186Z"
   },
   {
    "duration": 158,
    "start_time": "2021-07-04T15:58:46.606Z"
   },
   {
    "duration": 177,
    "start_time": "2021-07-04T15:58:51.137Z"
   },
   {
    "duration": 273,
    "start_time": "2021-07-04T15:59:20.303Z"
   },
   {
    "duration": 299,
    "start_time": "2021-07-04T15:59:53.806Z"
   },
   {
    "duration": 339,
    "start_time": "2021-07-04T16:00:39.231Z"
   },
   {
    "duration": 296,
    "start_time": "2021-07-04T16:00:43.451Z"
   },
   {
    "duration": 312,
    "start_time": "2021-07-04T16:00:57.411Z"
   },
   {
    "duration": 299,
    "start_time": "2021-07-04T16:11:24.053Z"
   },
   {
    "duration": 293,
    "start_time": "2021-07-04T16:11:43.209Z"
   },
   {
    "duration": 268,
    "start_time": "2021-07-04T16:11:53.474Z"
   },
   {
    "duration": 480,
    "start_time": "2021-07-04T16:12:45.280Z"
   },
   {
    "duration": 308,
    "start_time": "2021-07-04T16:12:52.734Z"
   },
   {
    "duration": 267,
    "start_time": "2021-07-04T16:13:24.563Z"
   },
   {
    "duration": 275,
    "start_time": "2021-07-04T16:13:40.798Z"
   },
   {
    "duration": 462,
    "start_time": "2021-07-04T16:14:16.739Z"
   },
   {
    "duration": 429,
    "start_time": "2021-07-04T16:15:29.120Z"
   },
   {
    "duration": 327,
    "start_time": "2021-07-04T16:17:04.041Z"
   },
   {
    "duration": 374,
    "start_time": "2021-07-04T16:17:57.373Z"
   },
   {
    "duration": 397,
    "start_time": "2021-07-04T16:19:08.105Z"
   },
   {
    "duration": 295,
    "start_time": "2021-07-04T16:26:09.841Z"
   },
   {
    "duration": 11,
    "start_time": "2021-07-04T16:27:39.390Z"
   },
   {
    "duration": 240,
    "start_time": "2021-07-04T16:27:57.651Z"
   },
   {
    "duration": 91,
    "start_time": "2021-07-04T16:28:07.627Z"
   },
   {
    "duration": 215,
    "start_time": "2021-07-04T16:28:11.091Z"
   },
   {
    "duration": 7,
    "start_time": "2021-07-04T16:30:11.976Z"
   },
   {
    "duration": 275,
    "start_time": "2021-07-04T16:30:55.776Z"
   },
   {
    "duration": 322,
    "start_time": "2021-07-04T16:32:54.717Z"
   },
   {
    "duration": 270,
    "start_time": "2021-07-04T16:33:22.962Z"
   },
   {
    "duration": 411,
    "start_time": "2021-07-04T16:33:35.230Z"
   },
   {
    "duration": 399,
    "start_time": "2021-07-04T16:38:35.616Z"
   },
   {
    "duration": 5,
    "start_time": "2021-07-04T16:48:28.978Z"
   },
   {
    "duration": 5,
    "start_time": "2021-07-04T16:48:54.266Z"
   },
   {
    "duration": 302,
    "start_time": "2021-07-04T16:55:45.323Z"
   },
   {
    "duration": 463,
    "start_time": "2021-07-04T16:56:38.952Z"
   },
   {
    "duration": 405,
    "start_time": "2021-07-04T16:57:09.163Z"
   },
   {
    "duration": 584,
    "start_time": "2021-07-05T10:31:57.134Z"
   },
   {
    "duration": 925,
    "start_time": "2021-07-05T10:32:04.110Z"
   },
   {
    "duration": 18,
    "start_time": "2021-07-05T10:32:05.038Z"
   },
   {
    "duration": 20,
    "start_time": "2021-07-05T10:32:05.059Z"
   },
   {
    "duration": 29,
    "start_time": "2021-07-05T10:32:05.083Z"
   },
   {
    "duration": 26,
    "start_time": "2021-07-05T10:32:05.115Z"
   },
   {
    "duration": 9,
    "start_time": "2021-07-05T10:32:05.144Z"
   },
   {
    "duration": 18,
    "start_time": "2021-07-05T10:32:05.155Z"
   },
   {
    "duration": 34,
    "start_time": "2021-07-05T10:32:05.176Z"
   },
   {
    "duration": 34,
    "start_time": "2021-07-05T10:32:05.216Z"
   },
   {
    "duration": 52,
    "start_time": "2021-07-05T10:32:05.254Z"
   },
   {
    "duration": 19,
    "start_time": "2021-07-05T10:32:05.308Z"
   },
   {
    "duration": 31,
    "start_time": "2021-07-05T10:32:05.329Z"
   },
   {
    "duration": 45,
    "start_time": "2021-07-05T10:32:05.363Z"
   },
   {
    "duration": 20,
    "start_time": "2021-07-05T10:32:05.411Z"
   },
   {
    "duration": 27,
    "start_time": "2021-07-05T10:32:05.433Z"
   },
   {
    "duration": 11,
    "start_time": "2021-07-05T10:32:05.462Z"
   },
   {
    "duration": 21,
    "start_time": "2021-07-05T10:32:05.475Z"
   },
   {
    "duration": 27,
    "start_time": "2021-07-05T10:32:05.498Z"
   },
   {
    "duration": 629,
    "start_time": "2021-07-05T10:32:05.527Z"
   },
   {
    "duration": 13,
    "start_time": "2021-07-05T10:32:06.158Z"
   },
   {
    "duration": 617,
    "start_time": "2021-07-05T10:32:06.174Z"
   },
   {
    "duration": 687,
    "start_time": "2021-07-05T10:32:06.794Z"
   },
   {
    "duration": 667,
    "start_time": "2021-07-05T10:32:07.484Z"
   },
   {
    "duration": 654,
    "start_time": "2021-07-05T10:32:08.154Z"
   },
   {
    "duration": 652,
    "start_time": "2021-07-05T10:32:08.811Z"
   },
   {
    "duration": 200,
    "start_time": "2021-07-05T10:32:09.465Z"
   },
   {
    "duration": 10,
    "start_time": "2021-07-05T10:32:09.669Z"
   },
   {
    "duration": 639,
    "start_time": "2021-07-05T10:32:09.682Z"
   },
   {
    "duration": 6,
    "start_time": "2021-07-05T10:32:10.323Z"
   },
   {
    "duration": 739,
    "start_time": "2021-07-05T10:32:10.332Z"
   },
   {
    "duration": 654,
    "start_time": "2021-07-05T10:32:21.407Z"
   },
   {
    "duration": 13,
    "start_time": "2021-07-05T10:41:30.685Z"
   },
   {
    "duration": 436,
    "start_time": "2021-07-05T10:42:28.581Z"
   },
   {
    "duration": 8,
    "start_time": "2021-07-05T10:42:41.005Z"
   },
   {
    "duration": 593,
    "start_time": "2021-07-05T10:48:56.419Z"
   },
   {
    "duration": 498,
    "start_time": "2021-07-05T10:49:53.601Z"
   },
   {
    "duration": 1402,
    "start_time": "2021-07-05T10:49:59.396Z"
   },
   {
    "duration": 18,
    "start_time": "2021-07-05T10:50:00.801Z"
   },
   {
    "duration": 78,
    "start_time": "2021-07-05T10:50:00.823Z"
   },
   {
    "duration": 32,
    "start_time": "2021-07-05T10:50:00.904Z"
   },
   {
    "duration": 39,
    "start_time": "2021-07-05T10:50:00.938Z"
   },
   {
    "duration": 38,
    "start_time": "2021-07-05T10:50:00.979Z"
   },
   {
    "duration": 48,
    "start_time": "2021-07-05T10:50:01.020Z"
   },
   {
    "duration": 76,
    "start_time": "2021-07-05T10:50:01.072Z"
   },
   {
    "duration": 62,
    "start_time": "2021-07-05T10:50:01.151Z"
   },
   {
    "duration": 45,
    "start_time": "2021-07-05T10:50:01.215Z"
   },
   {
    "duration": 44,
    "start_time": "2021-07-05T10:50:01.262Z"
   },
   {
    "duration": 39,
    "start_time": "2021-07-05T10:50:01.308Z"
   },
   {
    "duration": 81,
    "start_time": "2021-07-05T10:50:01.350Z"
   },
   {
    "duration": 40,
    "start_time": "2021-07-05T10:50:01.433Z"
   },
   {
    "duration": 28,
    "start_time": "2021-07-05T10:50:01.476Z"
   },
   {
    "duration": 35,
    "start_time": "2021-07-05T10:50:01.507Z"
   },
   {
    "duration": 56,
    "start_time": "2021-07-05T10:50:01.545Z"
   },
   {
    "duration": 56,
    "start_time": "2021-07-05T10:50:01.603Z"
   },
   {
    "duration": 703,
    "start_time": "2021-07-05T10:50:01.662Z"
   },
   {
    "duration": 13,
    "start_time": "2021-07-05T10:50:02.367Z"
   },
   {
    "duration": 750,
    "start_time": "2021-07-05T10:50:02.382Z"
   },
   {
    "duration": 581,
    "start_time": "2021-07-05T10:50:03.134Z"
   },
   {
    "duration": 657,
    "start_time": "2021-07-05T10:50:03.719Z"
   },
   {
    "duration": 617,
    "start_time": "2021-07-05T10:50:04.379Z"
   },
   {
    "duration": 650,
    "start_time": "2021-07-05T10:50:04.999Z"
   },
   {
    "duration": 245,
    "start_time": "2021-07-05T10:50:05.651Z"
   },
   {
    "duration": 12,
    "start_time": "2021-07-05T10:50:05.908Z"
   },
   {
    "duration": 697,
    "start_time": "2021-07-05T10:50:05.923Z"
   },
   {
    "duration": 6,
    "start_time": "2021-07-05T10:50:06.622Z"
   },
   {
    "duration": 629,
    "start_time": "2021-07-05T10:50:06.631Z"
   },
   {
    "duration": 7,
    "start_time": "2021-07-05T10:50:07.263Z"
   },
   {
    "duration": 12,
    "start_time": "2021-07-05T10:59:19.154Z"
   },
   {
    "duration": 12,
    "start_time": "2021-07-05T10:59:26.218Z"
   },
   {
    "duration": 10334,
    "start_time": "2021-07-05T11:02:39.996Z"
   },
   {
    "duration": 468,
    "start_time": "2021-07-05T11:03:10.904Z"
   },
   {
    "duration": 18,
    "start_time": "2021-07-05T11:03:16.840Z"
   },
   {
    "duration": 132,
    "start_time": "2021-07-05T11:04:26.133Z"
   },
   {
    "duration": 24,
    "start_time": "2021-07-05T11:05:49.158Z"
   },
   {
    "duration": 305,
    "start_time": "2021-07-05T11:07:48.931Z"
   },
   {
    "duration": 346,
    "start_time": "2021-07-05T11:08:34.392Z"
   },
   {
    "duration": 10,
    "start_time": "2021-07-05T11:10:38.219Z"
   },
   {
    "duration": 8,
    "start_time": "2021-07-05T11:11:47.662Z"
   },
   {
    "duration": 10,
    "start_time": "2021-07-05T11:13:22.146Z"
   },
   {
    "duration": 12,
    "start_time": "2021-07-05T11:15:29.939Z"
   },
   {
    "duration": 400,
    "start_time": "2021-07-05T11:15:45.808Z"
   },
   {
    "duration": 400,
    "start_time": "2021-07-05T11:15:53.631Z"
   },
   {
    "duration": 9,
    "start_time": "2021-07-05T11:15:59.198Z"
   },
   {
    "duration": 7,
    "start_time": "2021-07-05T11:16:04.974Z"
   },
   {
    "duration": 8,
    "start_time": "2021-07-05T11:16:06.696Z"
   },
   {
    "duration": 7,
    "start_time": "2021-07-05T11:16:07.330Z"
   },
   {
    "duration": 134,
    "start_time": "2021-07-05T11:22:56.316Z"
   },
   {
    "duration": 12,
    "start_time": "2021-07-05T11:23:06.795Z"
   },
   {
    "duration": 13,
    "start_time": "2021-07-05T11:23:08.823Z"
   },
   {
    "duration": 7,
    "start_time": "2021-07-05T11:25:21.257Z"
   },
   {
    "duration": 10,
    "start_time": "2021-07-05T11:25:23.637Z"
   },
   {
    "duration": 11,
    "start_time": "2021-07-05T11:25:23.853Z"
   },
   {
    "duration": 12,
    "start_time": "2021-07-05T11:35:47.187Z"
   },
   {
    "duration": 6,
    "start_time": "2021-07-05T11:36:06.060Z"
   },
   {
    "duration": 5,
    "start_time": "2021-07-05T11:36:08.727Z"
   },
   {
    "duration": 12,
    "start_time": "2021-07-05T11:36:58.431Z"
   },
   {
    "duration": 6,
    "start_time": "2021-07-05T11:36:58.670Z"
   },
   {
    "duration": 5,
    "start_time": "2021-07-05T11:36:58.859Z"
   },
   {
    "duration": 12,
    "start_time": "2021-07-05T11:38:39.541Z"
   },
   {
    "duration": 9,
    "start_time": "2021-07-05T11:39:25.103Z"
   },
   {
    "duration": 7,
    "start_time": "2021-07-05T11:39:25.717Z"
   },
   {
    "duration": 9276,
    "start_time": "2021-07-05T11:42:03.618Z"
   },
   {
    "duration": 9599,
    "start_time": "2021-07-05T11:42:49.111Z"
   },
   {
    "duration": -160,
    "start_time": "2021-07-05T11:42:58.873Z"
   },
   {
    "duration": 18,
    "start_time": "2021-07-05T11:43:04.951Z"
   },
   {
    "duration": 17,
    "start_time": "2021-07-05T11:43:12.475Z"
   },
   {
    "duration": 15,
    "start_time": "2021-07-05T11:43:42.899Z"
   },
   {
    "duration": 1505,
    "start_time": "2021-07-05T12:40:51.671Z"
   },
   {
    "duration": 19,
    "start_time": "2021-07-05T12:40:53.179Z"
   },
   {
    "duration": 22,
    "start_time": "2021-07-05T12:40:53.202Z"
   },
   {
    "duration": 7,
    "start_time": "2021-07-05T12:40:53.227Z"
   },
   {
    "duration": 14,
    "start_time": "2021-07-05T12:40:53.236Z"
   },
   {
    "duration": 15,
    "start_time": "2021-07-05T12:40:53.252Z"
   },
   {
    "duration": 41,
    "start_time": "2021-07-05T12:40:53.270Z"
   },
   {
    "duration": 14,
    "start_time": "2021-07-05T12:40:53.314Z"
   },
   {
    "duration": 33,
    "start_time": "2021-07-05T12:40:53.331Z"
   },
   {
    "duration": 19,
    "start_time": "2021-07-05T12:40:53.367Z"
   },
   {
    "duration": 17,
    "start_time": "2021-07-05T12:40:53.389Z"
   },
   {
    "duration": 13,
    "start_time": "2021-07-05T12:40:53.409Z"
   },
   {
    "duration": 30,
    "start_time": "2021-07-05T12:40:53.424Z"
   },
   {
    "duration": 28,
    "start_time": "2021-07-05T12:40:53.457Z"
   },
   {
    "duration": 27,
    "start_time": "2021-07-05T12:40:53.487Z"
   },
   {
    "duration": 14,
    "start_time": "2021-07-05T12:40:53.516Z"
   },
   {
    "duration": 16,
    "start_time": "2021-07-05T12:40:53.532Z"
   },
   {
    "duration": 13,
    "start_time": "2021-07-05T12:40:53.550Z"
   },
   {
    "duration": 616,
    "start_time": "2021-07-05T12:40:53.565Z"
   },
   {
    "duration": 25,
    "start_time": "2021-07-05T12:40:54.184Z"
   },
   {
    "duration": 606,
    "start_time": "2021-07-05T12:40:54.212Z"
   },
   {
    "duration": 570,
    "start_time": "2021-07-05T12:40:54.821Z"
   },
   {
    "duration": 680,
    "start_time": "2021-07-05T12:40:55.411Z"
   },
   {
    "duration": 584,
    "start_time": "2021-07-05T12:40:56.093Z"
   },
   {
    "duration": 668,
    "start_time": "2021-07-05T12:40:56.679Z"
   },
   {
    "duration": 213,
    "start_time": "2021-07-05T12:40:57.350Z"
   },
   {
    "duration": 10,
    "start_time": "2021-07-05T12:40:57.566Z"
   },
   {
    "duration": 639,
    "start_time": "2021-07-05T12:40:57.578Z"
   },
   {
    "duration": 6,
    "start_time": "2021-07-05T12:40:58.220Z"
   },
   {
    "duration": 629,
    "start_time": "2021-07-05T12:40:58.228Z"
   },
   {
    "duration": 6,
    "start_time": "2021-07-05T12:40:58.859Z"
   },
   {
    "duration": 472,
    "start_time": "2021-07-05T12:40:58.867Z"
   },
   {
    "duration": 16,
    "start_time": "2021-07-05T12:40:59.341Z"
   },
   {
    "duration": 247,
    "start_time": "2021-07-05T12:40:59.359Z"
   },
   {
    "duration": 8,
    "start_time": "2021-07-05T12:40:59.609Z"
   },
   {
    "duration": 29,
    "start_time": "2021-07-05T12:40:59.620Z"
   },
   {
    "duration": 12,
    "start_time": "2021-07-05T12:40:59.651Z"
   },
   {
    "duration": 21,
    "start_time": "2021-07-05T12:40:59.666Z"
   },
   {
    "duration": 21,
    "start_time": "2021-07-05T12:40:59.689Z"
   },
   {
    "duration": 11,
    "start_time": "2021-07-05T12:40:59.713Z"
   },
   {
    "duration": 11,
    "start_time": "2021-07-05T12:40:59.726Z"
   },
   {
    "duration": 7,
    "start_time": "2021-07-05T12:40:59.739Z"
   },
   {
    "duration": 13,
    "start_time": "2021-07-05T12:40:59.748Z"
   },
   {
    "duration": 10,
    "start_time": "2021-07-05T12:40:59.763Z"
   },
   {
    "duration": 39,
    "start_time": "2021-07-05T12:40:59.775Z"
   },
   {
    "duration": 13,
    "start_time": "2021-07-05T12:40:59.817Z"
   },
   {
    "duration": 13,
    "start_time": "2021-07-05T12:40:59.833Z"
   },
   {
    "duration": 1373,
    "start_time": "2021-07-05T13:23:59.369Z"
   },
   {
    "duration": 19,
    "start_time": "2021-07-05T13:24:00.746Z"
   },
   {
    "duration": 28,
    "start_time": "2021-07-05T13:24:00.768Z"
   },
   {
    "duration": 6,
    "start_time": "2021-07-05T13:24:00.799Z"
   },
   {
    "duration": 22,
    "start_time": "2021-07-05T13:24:00.808Z"
   },
   {
    "duration": 18,
    "start_time": "2021-07-05T13:24:00.832Z"
   },
   {
    "duration": 35,
    "start_time": "2021-07-05T13:24:00.852Z"
   },
   {
    "duration": 18,
    "start_time": "2021-07-05T13:24:00.891Z"
   },
   {
    "duration": 85,
    "start_time": "2021-07-05T13:24:00.912Z"
   },
   {
    "duration": 52,
    "start_time": "2021-07-05T13:24:01.000Z"
   },
   {
    "duration": 17,
    "start_time": "2021-07-05T13:24:01.055Z"
   },
   {
    "duration": 19,
    "start_time": "2021-07-05T13:24:01.075Z"
   },
   {
    "duration": 24,
    "start_time": "2021-07-05T13:24:01.096Z"
   },
   {
    "duration": 27,
    "start_time": "2021-07-05T13:24:01.123Z"
   },
   {
    "duration": 22,
    "start_time": "2021-07-05T13:24:01.153Z"
   },
   {
    "duration": 12,
    "start_time": "2021-07-05T13:24:01.178Z"
   },
   {
    "duration": 19,
    "start_time": "2021-07-05T13:24:01.193Z"
   },
   {
    "duration": 17,
    "start_time": "2021-07-05T13:24:01.214Z"
   },
   {
    "duration": 599,
    "start_time": "2021-07-05T13:24:01.234Z"
   },
   {
    "duration": 13,
    "start_time": "2021-07-05T13:24:01.836Z"
   },
   {
    "duration": 702,
    "start_time": "2021-07-05T13:24:01.852Z"
   },
   {
    "duration": 565,
    "start_time": "2021-07-05T13:24:02.557Z"
   },
   {
    "duration": 695,
    "start_time": "2021-07-05T13:24:03.130Z"
   },
   {
    "duration": 677,
    "start_time": "2021-07-05T13:24:03.830Z"
   },
   {
    "duration": 627,
    "start_time": "2021-07-05T13:24:04.509Z"
   },
   {
    "duration": 215,
    "start_time": "2021-07-05T13:24:05.139Z"
   },
   {
    "duration": 11,
    "start_time": "2021-07-05T13:24:05.357Z"
   },
   {
    "duration": 657,
    "start_time": "2021-07-05T13:24:05.370Z"
   },
   {
    "duration": 7,
    "start_time": "2021-07-05T13:24:06.029Z"
   },
   {
    "duration": 696,
    "start_time": "2021-07-05T13:24:06.038Z"
   },
   {
    "duration": 7,
    "start_time": "2021-07-05T13:24:06.736Z"
   },
   {
    "duration": 486,
    "start_time": "2021-07-05T13:24:06.746Z"
   },
   {
    "duration": 22,
    "start_time": "2021-07-05T13:24:07.235Z"
   },
   {
    "duration": 222,
    "start_time": "2021-07-05T13:24:07.260Z"
   },
   {
    "duration": 9,
    "start_time": "2021-07-05T13:24:07.486Z"
   },
   {
    "duration": 15,
    "start_time": "2021-07-05T13:24:07.497Z"
   },
   {
    "duration": 6,
    "start_time": "2021-07-05T13:24:07.514Z"
   },
   {
    "duration": 12,
    "start_time": "2021-07-05T13:24:07.522Z"
   },
   {
    "duration": 51,
    "start_time": "2021-07-05T13:24:07.536Z"
   },
   {
    "duration": 13,
    "start_time": "2021-07-05T13:24:07.589Z"
   },
   {
    "duration": 10,
    "start_time": "2021-07-05T13:24:07.604Z"
   },
   {
    "duration": 11,
    "start_time": "2021-07-05T13:24:07.616Z"
   },
   {
    "duration": 13,
    "start_time": "2021-07-05T13:24:07.629Z"
   },
   {
    "duration": 41,
    "start_time": "2021-07-05T13:24:07.644Z"
   },
   {
    "duration": 6,
    "start_time": "2021-07-05T13:24:07.688Z"
   },
   {
    "duration": 20,
    "start_time": "2021-07-05T13:24:07.696Z"
   },
   {
    "duration": 19,
    "start_time": "2021-07-05T13:24:07.718Z"
   },
   {
    "duration": 1316,
    "start_time": "2021-07-06T17:24:31.663Z"
   },
   {
    "duration": 17,
    "start_time": "2021-07-06T17:24:35.853Z"
   },
   {
    "duration": 10,
    "start_time": "2021-07-06T17:24:36.098Z"
   },
   {
    "duration": 8,
    "start_time": "2021-07-06T17:24:39.402Z"
   },
   {
    "duration": 8,
    "start_time": "2021-07-06T17:24:40.006Z"
   },
   {
    "duration": 85,
    "start_time": "2021-07-06T17:25:09.273Z"
   },
   {
    "duration": 3,
    "start_time": "2021-07-06T17:25:18.353Z"
   },
   {
    "duration": 4,
    "start_time": "2021-07-06T17:25:38.177Z"
   },
   {
    "duration": 11,
    "start_time": "2021-07-06T17:25:38.414Z"
   },
   {
    "duration": 6,
    "start_time": "2021-07-06T17:26:11.792Z"
   },
   {
    "duration": 9,
    "start_time": "2021-07-06T17:26:12.094Z"
   },
   {
    "duration": 9,
    "start_time": "2021-07-06T17:26:13.362Z"
   },
   {
    "duration": 230,
    "start_time": "2021-07-06T17:30:19.997Z"
   },
   {
    "duration": 241,
    "start_time": "2021-07-06T17:30:38.686Z"
   },
   {
    "duration": 313,
    "start_time": "2021-07-06T17:33:05.533Z"
   },
   {
    "duration": 339,
    "start_time": "2021-07-06T17:33:07.569Z"
   },
   {
    "duration": 35,
    "start_time": "2021-07-06T17:33:10.856Z"
   },
   {
    "duration": 15,
    "start_time": "2021-07-06T17:33:11.204Z"
   },
   {
    "duration": 7,
    "start_time": "2021-07-06T17:33:12.478Z"
   },
   {
    "duration": 5,
    "start_time": "2021-07-06T17:33:15.228Z"
   },
   {
    "duration": 238,
    "start_time": "2021-07-06T17:33:29.459Z"
   },
   {
    "duration": 6,
    "start_time": "2021-07-06T17:33:35.898Z"
   },
   {
    "duration": 248,
    "start_time": "2021-07-06T17:33:56.670Z"
   },
   {
    "duration": 269,
    "start_time": "2021-07-06T17:34:01.901Z"
   },
   {
    "duration": 7464,
    "start_time": "2021-07-06T17:34:06.196Z"
   },
   {
    "duration": 253,
    "start_time": "2021-07-06T17:35:40.391Z"
   },
   {
    "duration": 13,
    "start_time": "2021-07-06T17:35:52.145Z"
   },
   {
    "duration": 408,
    "start_time": "2021-07-06T17:36:07.269Z"
   },
   {
    "duration": 250,
    "start_time": "2021-07-06T17:36:15.074Z"
   },
   {
    "duration": 266,
    "start_time": "2021-07-06T17:36:32.793Z"
   },
   {
    "duration": 12,
    "start_time": "2021-07-06T17:36:42.637Z"
   },
   {
    "duration": 251,
    "start_time": "2021-07-06T17:36:51.965Z"
   },
   {
    "duration": 15,
    "start_time": "2021-07-06T17:37:09.652Z"
   },
   {
    "duration": 294,
    "start_time": "2021-07-06T17:40:35.815Z"
   },
   {
    "duration": 7,
    "start_time": "2021-07-06T17:40:41.300Z"
   },
   {
    "duration": 7,
    "start_time": "2021-07-06T17:40:41.557Z"
   },
   {
    "duration": 287,
    "start_time": "2021-07-06T17:40:41.789Z"
   },
   {
    "duration": 8,
    "start_time": "2021-07-06T17:40:42.481Z"
   },
   {
    "duration": 379,
    "start_time": "2021-07-06T17:40:43.330Z"
   },
   {
    "duration": 430,
    "start_time": "2021-07-06T17:40:54.446Z"
   },
   {
    "duration": 957,
    "start_time": "2021-07-06T17:41:38.341Z"
   },
   {
    "duration": 16,
    "start_time": "2021-07-06T17:41:39.300Z"
   },
   {
    "duration": 11,
    "start_time": "2021-07-06T17:41:39.318Z"
   },
   {
    "duration": 15,
    "start_time": "2021-07-06T17:41:39.331Z"
   },
   {
    "duration": 10,
    "start_time": "2021-07-06T17:41:39.347Z"
   },
   {
    "duration": 19,
    "start_time": "2021-07-06T17:41:39.358Z"
   },
   {
    "duration": 8,
    "start_time": "2021-07-06T17:41:39.379Z"
   },
   {
    "duration": 16,
    "start_time": "2021-07-06T17:41:39.390Z"
   },
   {
    "duration": 18,
    "start_time": "2021-07-06T17:41:39.408Z"
   },
   {
    "duration": 278,
    "start_time": "2021-07-06T17:41:39.427Z"
   },
   {
    "duration": 35,
    "start_time": "2021-07-06T17:41:39.706Z"
   },
   {
    "duration": 23,
    "start_time": "2021-07-06T17:41:39.743Z"
   },
   {
    "duration": 24,
    "start_time": "2021-07-06T17:41:39.767Z"
   },
   {
    "duration": 15,
    "start_time": "2021-07-06T17:41:39.792Z"
   },
   {
    "duration": 15,
    "start_time": "2021-07-06T17:41:39.808Z"
   },
   {
    "duration": 13,
    "start_time": "2021-07-06T17:41:39.824Z"
   },
   {
    "duration": 15,
    "start_time": "2021-07-06T17:41:39.839Z"
   },
   {
    "duration": 12,
    "start_time": "2021-07-06T17:41:39.855Z"
   },
   {
    "duration": 15,
    "start_time": "2021-07-06T17:41:39.868Z"
   },
   {
    "duration": 16,
    "start_time": "2021-07-06T17:41:39.884Z"
   },
   {
    "duration": 317,
    "start_time": "2021-07-06T17:41:39.902Z"
   },
   {
    "duration": 8,
    "start_time": "2021-07-06T17:41:40.221Z"
   },
   {
    "duration": 317,
    "start_time": "2021-07-06T17:41:40.240Z"
   },
   {
    "duration": 407,
    "start_time": "2021-07-06T17:41:40.559Z"
   },
   {
    "duration": 490,
    "start_time": "2021-07-06T17:41:40.968Z"
   },
   {
    "duration": 310,
    "start_time": "2021-07-06T17:41:41.459Z"
   },
   {
    "duration": 393,
    "start_time": "2021-07-06T17:41:41.771Z"
   },
   {
    "duration": 103,
    "start_time": "2021-07-06T17:41:42.165Z"
   },
   {
    "duration": 7,
    "start_time": "2021-07-06T17:41:42.269Z"
   },
   {
    "duration": 359,
    "start_time": "2021-07-06T17:41:42.277Z"
   },
   {
    "duration": 4,
    "start_time": "2021-07-06T17:41:42.638Z"
   },
   {
    "duration": 399,
    "start_time": "2021-07-06T17:41:42.644Z"
   },
   {
    "duration": 5,
    "start_time": "2021-07-06T17:41:43.044Z"
   },
   {
    "duration": 300,
    "start_time": "2021-07-06T17:41:43.051Z"
   },
   {
    "duration": 10,
    "start_time": "2021-07-06T17:41:43.353Z"
   },
   {
    "duration": 111,
    "start_time": "2021-07-06T17:41:43.364Z"
   },
   {
    "duration": 5,
    "start_time": "2021-07-06T17:41:43.477Z"
   },
   {
    "duration": 15,
    "start_time": "2021-07-06T17:41:43.484Z"
   },
   {
    "duration": 8,
    "start_time": "2021-07-06T17:41:43.500Z"
   },
   {
    "duration": 13,
    "start_time": "2021-07-06T17:41:43.509Z"
   },
   {
    "duration": 6,
    "start_time": "2021-07-06T17:41:43.524Z"
   },
   {
    "duration": 6,
    "start_time": "2021-07-06T17:41:43.541Z"
   },
   {
    "duration": 8,
    "start_time": "2021-07-06T17:41:43.548Z"
   },
   {
    "duration": 10,
    "start_time": "2021-07-06T17:41:43.557Z"
   },
   {
    "duration": 7,
    "start_time": "2021-07-06T17:41:43.569Z"
   },
   {
    "duration": 8,
    "start_time": "2021-07-06T17:41:43.577Z"
   },
   {
    "duration": 5,
    "start_time": "2021-07-06T17:41:43.587Z"
   },
   {
    "duration": 9,
    "start_time": "2021-07-06T17:41:43.593Z"
   },
   {
    "duration": 15,
    "start_time": "2021-07-06T17:41:43.604Z"
   },
   {
    "duration": 307,
    "start_time": "2021-07-06T17:41:52.586Z"
   },
   {
    "duration": 312,
    "start_time": "2021-07-06T17:41:59.211Z"
   },
   {
    "duration": 339,
    "start_time": "2021-07-06T17:45:28.065Z"
   },
   {
    "duration": 275,
    "start_time": "2021-07-06T17:45:41.888Z"
   },
   {
    "duration": 268,
    "start_time": "2021-07-06T17:45:58.217Z"
   },
   {
    "duration": 247,
    "start_time": "2021-07-06T17:46:01.440Z"
   },
   {
    "duration": 97,
    "start_time": "2021-07-06T17:46:27.247Z"
   },
   {
    "duration": 7,
    "start_time": "2021-07-06T17:46:27.911Z"
   },
   {
    "duration": 97,
    "start_time": "2021-07-06T17:46:43.554Z"
   },
   {
    "duration": 8,
    "start_time": "2021-07-06T17:46:43.880Z"
   },
   {
    "duration": 183,
    "start_time": "2021-07-06T17:46:59.305Z"
   },
   {
    "duration": 256,
    "start_time": "2021-07-06T17:46:59.764Z"
   },
   {
    "duration": 1050,
    "start_time": "2021-07-06T17:47:20.447Z"
   },
   {
    "duration": 96,
    "start_time": "2021-07-06T17:47:40.915Z"
   },
   {
    "duration": 7,
    "start_time": "2021-07-06T17:47:42.045Z"
   },
   {
    "duration": 84,
    "start_time": "2021-07-06T17:47:44.300Z"
   },
   {
    "duration": 1082,
    "start_time": "2021-07-06T17:48:39.532Z"
   },
   {
    "duration": 99,
    "start_time": "2021-07-06T17:48:50.722Z"
   },
   {
    "duration": 91,
    "start_time": "2021-07-06T17:48:56.566Z"
   },
   {
    "duration": 1241,
    "start_time": "2021-07-06T17:48:59.688Z"
   },
   {
    "duration": 93,
    "start_time": "2021-07-06T17:49:01.927Z"
   },
   {
    "duration": 8,
    "start_time": "2021-07-06T17:49:04.182Z"
   },
   {
    "duration": 11,
    "start_time": "2021-07-06T17:49:30.214Z"
   },
   {
    "duration": 247,
    "start_time": "2021-07-06T17:49:45.238Z"
   },
   {
    "duration": 245,
    "start_time": "2021-07-06T17:49:57.136Z"
   },
   {
    "duration": 91,
    "start_time": "2021-07-06T17:50:01.667Z"
   },
   {
    "duration": 7,
    "start_time": "2021-07-06T17:50:03.877Z"
   },
   {
    "duration": 116,
    "start_time": "2021-07-06T17:50:20.339Z"
   },
   {
    "duration": 85,
    "start_time": "2021-07-06T17:50:27.997Z"
   },
   {
    "duration": 7,
    "start_time": "2021-07-06T17:50:29.879Z"
   },
   {
    "duration": 118,
    "start_time": "2021-07-06T17:50:32.405Z"
   },
   {
    "duration": 104,
    "start_time": "2021-07-06T17:51:30.882Z"
   },
   {
    "duration": 85,
    "start_time": "2021-07-06T17:51:38.117Z"
   },
   {
    "duration": 252,
    "start_time": "2021-07-06T17:51:42.317Z"
   },
   {
    "duration": 117,
    "start_time": "2021-07-06T17:51:48.873Z"
   },
   {
    "duration": 77,
    "start_time": "2021-07-06T17:52:10.739Z"
   },
   {
    "duration": 107,
    "start_time": "2021-07-06T17:52:18.243Z"
   },
   {
    "duration": 80,
    "start_time": "2021-07-06T17:53:25.634Z"
   },
   {
    "duration": 363,
    "start_time": "2021-07-06T17:53:34.646Z"
   },
   {
    "duration": 102,
    "start_time": "2021-07-06T17:55:22.200Z"
   },
   {
    "duration": 6,
    "start_time": "2021-07-06T17:55:34.777Z"
   },
   {
    "duration": 99,
    "start_time": "2021-07-06T17:55:40.577Z"
   },
   {
    "duration": 78,
    "start_time": "2021-07-06T17:56:14.165Z"
   },
   {
    "duration": 121,
    "start_time": "2021-07-06T17:56:17.405Z"
   },
   {
    "duration": 98,
    "start_time": "2021-07-06T17:56:34.070Z"
   },
   {
    "duration": 107,
    "start_time": "2021-07-06T17:56:38.197Z"
   },
   {
    "duration": 1114,
    "start_time": "2021-07-06T17:57:02.219Z"
   },
   {
    "duration": 99,
    "start_time": "2021-07-06T17:57:14.681Z"
   },
   {
    "duration": 9,
    "start_time": "2021-07-06T17:57:16.831Z"
   },
   {
    "duration": 244,
    "start_time": "2021-07-06T17:57:43.771Z"
   },
   {
    "duration": 251,
    "start_time": "2021-07-06T17:57:53.725Z"
   },
   {
    "duration": 262,
    "start_time": "2021-07-06T17:58:09.866Z"
   },
   {
    "duration": 256,
    "start_time": "2021-07-06T17:59:05.805Z"
   },
   {
    "duration": 100,
    "start_time": "2021-07-06T18:01:18.860Z"
   },
   {
    "duration": 8,
    "start_time": "2021-07-06T18:01:19.131Z"
   },
   {
    "duration": 403,
    "start_time": "2021-07-06T18:02:06.412Z"
   },
   {
    "duration": 4,
    "start_time": "2021-07-06T18:04:30.221Z"
   },
   {
    "duration": 392,
    "start_time": "2021-07-06T18:04:49.360Z"
   },
   {
    "duration": 246,
    "start_time": "2021-07-06T18:05:01.393Z"
   },
   {
    "duration": 249,
    "start_time": "2021-07-06T18:06:48.678Z"
   },
   {
    "duration": 249,
    "start_time": "2021-07-06T18:07:10.238Z"
   },
   {
    "duration": 417,
    "start_time": "2021-07-06T18:07:46.925Z"
   },
   {
    "duration": 5,
    "start_time": "2021-07-06T18:09:03.726Z"
   },
   {
    "duration": 487,
    "start_time": "2021-07-06T18:12:11.825Z"
   },
   {
    "duration": 375,
    "start_time": "2021-07-06T18:13:39.363Z"
   },
   {
    "duration": 316,
    "start_time": "2021-07-06T18:13:54.814Z"
   },
   {
    "duration": 379,
    "start_time": "2021-07-06T18:14:05.856Z"
   },
   {
    "duration": 447,
    "start_time": "2021-07-06T18:14:46.714Z"
   },
   {
    "duration": 386,
    "start_time": "2021-07-06T18:18:21.480Z"
   },
   {
    "duration": 393,
    "start_time": "2021-07-06T18:18:29.490Z"
   },
   {
    "duration": 4,
    "start_time": "2021-07-06T18:21:05.265Z"
   },
   {
    "duration": 374,
    "start_time": "2021-07-06T18:21:06.983Z"
   },
   {
    "duration": 399,
    "start_time": "2021-07-06T18:22:26.200Z"
   },
   {
    "duration": 295,
    "start_time": "2021-07-06T18:26:48.752Z"
   },
   {
    "duration": 314,
    "start_time": "2021-07-06T18:26:55.540Z"
   },
   {
    "duration": 416,
    "start_time": "2021-07-06T18:28:00.384Z"
   },
   {
    "duration": 113,
    "start_time": "2021-07-06T18:28:35.765Z"
   },
   {
    "duration": 595,
    "start_time": "2021-07-06T18:28:40.050Z"
   },
   {
    "duration": 697,
    "start_time": "2021-07-06T18:28:47.529Z"
   },
   {
    "duration": 969,
    "start_time": "2021-07-06T18:28:52.917Z"
   },
   {
    "duration": 479,
    "start_time": "2021-07-06T18:30:14.088Z"
   },
   {
    "duration": 455,
    "start_time": "2021-07-06T18:31:12.397Z"
   },
   {
    "duration": 497,
    "start_time": "2021-07-06T18:32:13.432Z"
   },
   {
    "duration": 965,
    "start_time": "2021-07-07T12:16:15.792Z"
   },
   {
    "duration": 18,
    "start_time": "2021-07-07T12:16:16.759Z"
   },
   {
    "duration": 7,
    "start_time": "2021-07-07T12:16:16.780Z"
   },
   {
    "duration": 16,
    "start_time": "2021-07-07T12:16:16.789Z"
   },
   {
    "duration": 7,
    "start_time": "2021-07-07T12:16:16.807Z"
   },
   {
    "duration": 8,
    "start_time": "2021-07-07T12:16:16.816Z"
   },
   {
    "duration": 7,
    "start_time": "2021-07-07T12:16:16.826Z"
   },
   {
    "duration": 10,
    "start_time": "2021-07-07T12:16:16.835Z"
   },
   {
    "duration": 9,
    "start_time": "2021-07-07T12:16:16.847Z"
   },
   {
    "duration": 271,
    "start_time": "2021-07-07T12:16:16.858Z"
   },
   {
    "duration": 37,
    "start_time": "2021-07-07T12:16:17.131Z"
   },
   {
    "duration": 18,
    "start_time": "2021-07-07T12:16:17.170Z"
   },
   {
    "duration": 13,
    "start_time": "2021-07-07T12:16:17.189Z"
   },
   {
    "duration": 11,
    "start_time": "2021-07-07T12:16:17.203Z"
   },
   {
    "duration": 13,
    "start_time": "2021-07-07T12:16:17.216Z"
   },
   {
    "duration": 10,
    "start_time": "2021-07-07T12:16:17.231Z"
   },
   {
    "duration": 8,
    "start_time": "2021-07-07T12:16:17.242Z"
   },
   {
    "duration": 9,
    "start_time": "2021-07-07T12:16:17.251Z"
   },
   {
    "duration": 13,
    "start_time": "2021-07-07T12:16:17.262Z"
   },
   {
    "duration": 10,
    "start_time": "2021-07-07T12:16:17.276Z"
   },
   {
    "duration": 311,
    "start_time": "2021-07-07T12:16:17.287Z"
   },
   {
    "duration": 8,
    "start_time": "2021-07-07T12:16:17.599Z"
   },
   {
    "duration": 320,
    "start_time": "2021-07-07T12:16:17.610Z"
   },
   {
    "duration": 299,
    "start_time": "2021-07-07T12:16:17.932Z"
   },
   {
    "duration": 401,
    "start_time": "2021-07-07T12:16:18.233Z"
   },
   {
    "duration": 298,
    "start_time": "2021-07-07T12:16:18.635Z"
   },
   {
    "duration": 387,
    "start_time": "2021-07-07T12:16:18.934Z"
   },
   {
    "duration": 108,
    "start_time": "2021-07-07T12:16:19.323Z"
   },
   {
    "duration": 8,
    "start_time": "2021-07-07T12:16:19.433Z"
   },
   {
    "duration": 442,
    "start_time": "2021-07-07T12:16:19.442Z"
   },
   {
    "duration": 8,
    "start_time": "2021-07-07T12:16:19.885Z"
   },
   {
    "duration": 457,
    "start_time": "2021-07-07T12:16:19.895Z"
   },
   {
    "duration": 4,
    "start_time": "2021-07-07T12:16:20.354Z"
   },
   {
    "duration": 322,
    "start_time": "2021-07-07T12:16:20.359Z"
   },
   {
    "duration": 13,
    "start_time": "2021-07-07T12:16:20.683Z"
   },
   {
    "duration": 105,
    "start_time": "2021-07-07T12:16:20.698Z"
   },
   {
    "duration": 5,
    "start_time": "2021-07-07T12:16:20.804Z"
   },
   {
    "duration": 28,
    "start_time": "2021-07-07T12:16:20.811Z"
   },
   {
    "duration": 6,
    "start_time": "2021-07-07T12:16:20.840Z"
   },
   {
    "duration": 19,
    "start_time": "2021-07-07T12:16:20.848Z"
   },
   {
    "duration": 14,
    "start_time": "2021-07-07T12:16:20.869Z"
   },
   {
    "duration": 27,
    "start_time": "2021-07-07T12:16:20.885Z"
   },
   {
    "duration": 20,
    "start_time": "2021-07-07T12:16:20.914Z"
   },
   {
    "duration": 22,
    "start_time": "2021-07-07T12:16:20.936Z"
   },
   {
    "duration": 29,
    "start_time": "2021-07-07T12:16:20.959Z"
   },
   {
    "duration": 17,
    "start_time": "2021-07-07T12:16:20.989Z"
   },
   {
    "duration": 11,
    "start_time": "2021-07-07T12:16:21.008Z"
   },
   {
    "duration": 19,
    "start_time": "2021-07-07T12:16:21.021Z"
   },
   {
    "duration": 14,
    "start_time": "2021-07-07T12:16:21.041Z"
   },
   {
    "duration": 2,
    "start_time": "2021-07-07T12:23:40.424Z"
   },
   {
    "duration": 21,
    "start_time": "2021-07-07T12:23:40.430Z"
   },
   {
    "duration": 7,
    "start_time": "2021-07-07T12:23:40.453Z"
   },
   {
    "duration": 13,
    "start_time": "2021-07-07T12:23:40.461Z"
   },
   {
    "duration": 13,
    "start_time": "2021-07-07T12:23:40.476Z"
   },
   {
    "duration": 14,
    "start_time": "2021-07-07T12:23:40.491Z"
   },
   {
    "duration": 7,
    "start_time": "2021-07-07T12:23:40.507Z"
   },
   {
    "duration": 14,
    "start_time": "2021-07-07T12:23:40.515Z"
   },
   {
    "duration": 14,
    "start_time": "2021-07-07T12:23:40.531Z"
   },
   {
    "duration": 248,
    "start_time": "2021-07-07T12:23:40.547Z"
   },
   {
    "duration": 36,
    "start_time": "2021-07-07T12:23:40.796Z"
   },
   {
    "duration": 22,
    "start_time": "2021-07-07T12:23:40.833Z"
   },
   {
    "duration": 16,
    "start_time": "2021-07-07T12:23:40.856Z"
   },
   {
    "duration": 8,
    "start_time": "2021-07-07T12:23:40.873Z"
   },
   {
    "duration": 14,
    "start_time": "2021-07-07T12:23:40.882Z"
   },
   {
    "duration": 11,
    "start_time": "2021-07-07T12:23:40.898Z"
   },
   {
    "duration": 10,
    "start_time": "2021-07-07T12:23:40.910Z"
   },
   {
    "duration": 14,
    "start_time": "2021-07-07T12:23:40.922Z"
   },
   {
    "duration": 14,
    "start_time": "2021-07-07T12:23:40.937Z"
   },
   {
    "duration": 13,
    "start_time": "2021-07-07T12:23:40.952Z"
   },
   {
    "duration": 314,
    "start_time": "2021-07-07T12:23:40.966Z"
   },
   {
    "duration": 19,
    "start_time": "2021-07-07T12:23:41.281Z"
   },
   {
    "duration": 328,
    "start_time": "2021-07-07T12:23:41.302Z"
   },
   {
    "duration": 296,
    "start_time": "2021-07-07T12:23:41.633Z"
   },
   {
    "duration": 395,
    "start_time": "2021-07-07T12:23:41.931Z"
   },
   {
    "duration": 301,
    "start_time": "2021-07-07T12:23:42.327Z"
   },
   {
    "duration": 385,
    "start_time": "2021-07-07T12:23:42.629Z"
   },
   {
    "duration": 110,
    "start_time": "2021-07-07T12:23:43.016Z"
   },
   {
    "duration": 8,
    "start_time": "2021-07-07T12:23:43.127Z"
   },
   {
    "duration": 446,
    "start_time": "2021-07-07T12:23:43.136Z"
   },
   {
    "duration": 9,
    "start_time": "2021-07-07T12:23:43.584Z"
   },
   {
    "duration": 472,
    "start_time": "2021-07-07T12:23:43.594Z"
   },
   {
    "duration": 3,
    "start_time": "2021-07-07T12:23:44.068Z"
   },
   {
    "duration": 245,
    "start_time": "2021-07-07T12:23:44.073Z"
   },
   {
    "duration": 10,
    "start_time": "2021-07-07T12:23:44.319Z"
   },
   {
    "duration": 108,
    "start_time": "2021-07-07T12:23:44.330Z"
   },
   {
    "duration": 6,
    "start_time": "2021-07-07T12:23:44.439Z"
   },
   {
    "duration": 20,
    "start_time": "2021-07-07T12:23:44.446Z"
   },
   {
    "duration": 9,
    "start_time": "2021-07-07T12:23:44.467Z"
   },
   {
    "duration": 13,
    "start_time": "2021-07-07T12:23:44.477Z"
   },
   {
    "duration": 11,
    "start_time": "2021-07-07T12:23:44.491Z"
   },
   {
    "duration": 11,
    "start_time": "2021-07-07T12:23:44.503Z"
   },
   {
    "duration": 13,
    "start_time": "2021-07-07T12:23:44.516Z"
   },
   {
    "duration": 15,
    "start_time": "2021-07-07T12:23:44.530Z"
   },
   {
    "duration": 10,
    "start_time": "2021-07-07T12:23:44.547Z"
   },
   {
    "duration": 17,
    "start_time": "2021-07-07T12:23:44.559Z"
   },
   {
    "duration": 15,
    "start_time": "2021-07-07T12:23:44.577Z"
   },
   {
    "duration": 17,
    "start_time": "2021-07-07T12:23:44.593Z"
   },
   {
    "duration": 16,
    "start_time": "2021-07-07T12:23:44.611Z"
   },
   {
    "duration": 12,
    "start_time": "2021-07-07T13:29:25.799Z"
   },
   {
    "duration": 7,
    "start_time": "2021-07-07T13:30:21.609Z"
   },
   {
    "duration": 6,
    "start_time": "2021-07-07T13:31:23.485Z"
   },
   {
    "duration": 5,
    "start_time": "2021-07-07T13:32:03.854Z"
   },
   {
    "duration": 5,
    "start_time": "2021-07-07T13:32:07.948Z"
   },
   {
    "duration": 4,
    "start_time": "2021-07-07T13:32:15.535Z"
   },
   {
    "duration": 5,
    "start_time": "2021-07-07T13:32:21.854Z"
   },
   {
    "duration": 3,
    "start_time": "2021-07-07T13:32:22.456Z"
   },
   {
    "duration": 4,
    "start_time": "2021-07-07T13:32:26.588Z"
   },
   {
    "duration": 14,
    "start_time": "2021-07-07T13:35:30.218Z"
   },
   {
    "duration": 6,
    "start_time": "2021-07-07T13:35:41.322Z"
   },
   {
    "duration": 10,
    "start_time": "2021-07-07T13:39:30.430Z"
   },
   {
    "duration": 448,
    "start_time": "2021-07-07T13:40:57.383Z"
   },
   {
    "duration": 333,
    "start_time": "2021-07-07T13:41:37.958Z"
   },
   {
    "duration": 448,
    "start_time": "2021-07-07T13:42:17.376Z"
   },
   {
    "duration": 530,
    "start_time": "2021-07-07T13:42:21.364Z"
   },
   {
    "duration": 468,
    "start_time": "2021-07-07T13:42:24.192Z"
   },
   {
    "duration": 441,
    "start_time": "2021-07-07T13:45:55.384Z"
   },
   {
    "duration": 454,
    "start_time": "2021-07-07T13:46:48.388Z"
   },
   {
    "duration": 398,
    "start_time": "2021-07-07T13:59:58.872Z"
   },
   {
    "duration": 450,
    "start_time": "2021-07-07T14:00:52.126Z"
   },
   {
    "duration": 511,
    "start_time": "2021-07-07T14:01:01.557Z"
   },
   {
    "duration": 527,
    "start_time": "2021-07-07T14:02:10.411Z"
   },
   {
    "duration": 662,
    "start_time": "2021-07-07T14:02:30.587Z"
   },
   {
    "duration": 702,
    "start_time": "2021-07-07T14:02:53.290Z"
   },
   {
    "duration": 660,
    "start_time": "2021-07-07T14:03:00.442Z"
   },
   {
    "duration": 211,
    "start_time": "2021-07-07T16:02:21.039Z"
   },
   {
    "duration": 965,
    "start_time": "2021-07-07T16:02:29.642Z"
   },
   {
    "duration": 18,
    "start_time": "2021-07-07T16:02:30.609Z"
   },
   {
    "duration": 12,
    "start_time": "2021-07-07T16:02:30.629Z"
   },
   {
    "duration": 17,
    "start_time": "2021-07-07T16:02:30.642Z"
   },
   {
    "duration": 7,
    "start_time": "2021-07-07T16:02:30.661Z"
   },
   {
    "duration": 13,
    "start_time": "2021-07-07T16:02:30.669Z"
   },
   {
    "duration": 8,
    "start_time": "2021-07-07T16:02:30.684Z"
   },
   {
    "duration": 13,
    "start_time": "2021-07-07T16:02:30.695Z"
   },
   {
    "duration": 13,
    "start_time": "2021-07-07T16:02:30.710Z"
   },
   {
    "duration": 283,
    "start_time": "2021-07-07T16:02:30.724Z"
   },
   {
    "duration": 74,
    "start_time": "2021-07-07T16:02:31.009Z"
   },
   {
    "duration": 17,
    "start_time": "2021-07-07T16:02:31.085Z"
   },
   {
    "duration": 14,
    "start_time": "2021-07-07T16:02:31.103Z"
   },
   {
    "duration": 13,
    "start_time": "2021-07-07T16:02:31.119Z"
   },
   {
    "duration": 24,
    "start_time": "2021-07-07T16:02:31.133Z"
   },
   {
    "duration": 16,
    "start_time": "2021-07-07T16:02:31.159Z"
   },
   {
    "duration": 20,
    "start_time": "2021-07-07T16:02:31.176Z"
   },
   {
    "duration": 9,
    "start_time": "2021-07-07T16:02:31.198Z"
   },
   {
    "duration": 15,
    "start_time": "2021-07-07T16:02:31.209Z"
   },
   {
    "duration": 18,
    "start_time": "2021-07-07T16:02:31.226Z"
   },
   {
    "duration": 9,
    "start_time": "2021-07-07T16:02:31.246Z"
   },
   {
    "duration": 346,
    "start_time": "2021-07-07T16:02:31.256Z"
   },
   {
    "duration": 9,
    "start_time": "2021-07-07T16:02:31.605Z"
   },
   {
    "duration": 369,
    "start_time": "2021-07-07T16:02:31.616Z"
   },
   {
    "duration": 338,
    "start_time": "2021-07-07T16:02:31.986Z"
   },
   {
    "duration": 410,
    "start_time": "2021-07-07T16:02:32.325Z"
   },
   {
    "duration": 346,
    "start_time": "2021-07-07T16:02:32.736Z"
   },
   {
    "duration": 432,
    "start_time": "2021-07-07T16:02:33.084Z"
   },
   {
    "duration": 110,
    "start_time": "2021-07-07T16:02:33.518Z"
   },
   {
    "duration": 7,
    "start_time": "2021-07-07T16:02:33.630Z"
   },
   {
    "duration": 458,
    "start_time": "2021-07-07T16:02:33.639Z"
   },
   {
    "duration": 541,
    "start_time": "2021-07-07T16:02:34.098Z"
   },
   {
    "duration": 4,
    "start_time": "2021-07-07T16:02:34.640Z"
   },
   {
    "duration": 557,
    "start_time": "2021-07-07T16:02:34.646Z"
   },
   {
    "duration": 679,
    "start_time": "2021-07-07T16:02:35.205Z"
   },
   {
    "duration": 5,
    "start_time": "2021-07-07T16:02:35.886Z"
   },
   {
    "duration": 268,
    "start_time": "2021-07-07T16:02:35.893Z"
   },
   {
    "duration": 10,
    "start_time": "2021-07-07T16:02:36.163Z"
   },
   {
    "duration": 109,
    "start_time": "2021-07-07T16:02:36.185Z"
   },
   {
    "duration": 6,
    "start_time": "2021-07-07T16:02:36.296Z"
   },
   {
    "duration": 13,
    "start_time": "2021-07-07T16:02:36.304Z"
   },
   {
    "duration": 8,
    "start_time": "2021-07-07T16:02:36.319Z"
   },
   {
    "duration": 8,
    "start_time": "2021-07-07T16:02:36.329Z"
   },
   {
    "duration": 6,
    "start_time": "2021-07-07T16:02:36.339Z"
   },
   {
    "duration": 38,
    "start_time": "2021-07-07T16:02:36.347Z"
   },
   {
    "duration": 5,
    "start_time": "2021-07-07T16:02:36.386Z"
   },
   {
    "duration": 10,
    "start_time": "2021-07-07T16:02:36.393Z"
   },
   {
    "duration": 10,
    "start_time": "2021-07-07T16:02:36.405Z"
   },
   {
    "duration": 7,
    "start_time": "2021-07-07T16:02:36.416Z"
   },
   {
    "duration": 4,
    "start_time": "2021-07-07T16:02:36.425Z"
   },
   {
    "duration": 11,
    "start_time": "2021-07-07T16:02:36.431Z"
   },
   {
    "duration": 8,
    "start_time": "2021-07-07T16:02:36.444Z"
   },
   {
    "duration": 9,
    "start_time": "2021-07-07T16:06:43.481Z"
   },
   {
    "duration": 8,
    "start_time": "2021-07-07T16:06:46.521Z"
   },
   {
    "duration": 8,
    "start_time": "2021-07-07T16:08:51.542Z"
   },
   {
    "duration": 6,
    "start_time": "2021-07-07T16:09:13.586Z"
   },
   {
    "duration": 5,
    "start_time": "2021-07-07T16:09:15.218Z"
   },
   {
    "duration": 10,
    "start_time": "2021-07-07T16:10:29.971Z"
   },
   {
    "duration": 10,
    "start_time": "2021-07-07T16:10:34.839Z"
   }
  ],
  "kernelspec": {
   "display_name": "Python 3",
   "language": "python",
   "name": "python3"
  },
  "language_info": {
   "codemirror_mode": {
    "name": "ipython",
    "version": 3
   },
   "file_extension": ".py",
   "mimetype": "text/x-python",
   "name": "python",
   "nbconvert_exporter": "python",
   "pygments_lexer": "ipython3",
   "version": "3.7.8"
  },
  "toc": {
   "base_numbering": 1,
   "nav_menu": {},
   "number_sections": true,
   "sideBar": true,
   "skip_h1_title": true,
   "title_cell": "Table of Contents",
   "title_sidebar": "Contents",
   "toc_cell": false,
   "toc_position": {
    "height": "calc(100% - 180px)",
    "left": "10px",
    "top": "150px",
    "width": "649.473px"
   },
   "toc_section_display": true,
   "toc_window_display": false
  }
 },
 "nbformat": 4,
 "nbformat_minor": 2
}
