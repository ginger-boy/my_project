{
 "cells": [
  {
   "cell_type": "markdown",
   "metadata": {},
   "source": [
    "# Исследование объявлений о продаже квартир\n",
    "\n",
    "В вашем распоряжении данные сервиса Яндекс.Недвижимость — архив объявлений о продаже квартир в Санкт-Петербурге и соседних населённых пунктов за несколько лет. Нужно научиться определять рыночную стоимость объектов недвижимости. Ваша задача — установить параметры. Это позволит построить автоматизированную систему: она отследит аномалии и мошенническую деятельность. \n",
    "\n",
    "По каждой квартире на продажу доступны два вида данных. Первые вписаны пользователем, вторые — получены автоматически на основе картографических данных. Например, расстояние до центра, аэропорта, ближайшего парка и водоёма. "
   ]
  },
  {
   "cell_type": "markdown",
   "metadata": {},
   "source": [
    "### Шаг 1. Откройте файл с данными и изучите общую информацию. "
   ]
  },
  {
   "cell_type": "code",
   "execution_count": 1,
   "metadata": {},
   "outputs": [
    {
     "data": {
      "text/html": [
       "<div>\n",
       "<style scoped>\n",
       "    .dataframe tbody tr th:only-of-type {\n",
       "        vertical-align: middle;\n",
       "    }\n",
       "\n",
       "    .dataframe tbody tr th {\n",
       "        vertical-align: top;\n",
       "    }\n",
       "\n",
       "    .dataframe thead th {\n",
       "        text-align: right;\n",
       "    }\n",
       "</style>\n",
       "<table border=\"1\" class=\"dataframe\">\n",
       "  <thead>\n",
       "    <tr style=\"text-align: right;\">\n",
       "      <th></th>\n",
       "      <th>total_images</th>\n",
       "      <th>last_price</th>\n",
       "      <th>total_area</th>\n",
       "      <th>first_day_exposition</th>\n",
       "      <th>rooms</th>\n",
       "      <th>ceiling_height</th>\n",
       "      <th>floors_total</th>\n",
       "      <th>living_area</th>\n",
       "      <th>floor</th>\n",
       "      <th>is_apartment</th>\n",
       "      <th>...</th>\n",
       "      <th>kitchen_area</th>\n",
       "      <th>balcony</th>\n",
       "      <th>locality_name</th>\n",
       "      <th>airports_nearest</th>\n",
       "      <th>cityCenters_nearest</th>\n",
       "      <th>parks_around3000</th>\n",
       "      <th>parks_nearest</th>\n",
       "      <th>ponds_around3000</th>\n",
       "      <th>ponds_nearest</th>\n",
       "      <th>days_exposition</th>\n",
       "    </tr>\n",
       "  </thead>\n",
       "  <tbody>\n",
       "    <tr>\n",
       "      <td>0</td>\n",
       "      <td>20</td>\n",
       "      <td>13000000.0</td>\n",
       "      <td>108.0</td>\n",
       "      <td>2019-03-07T00:00:00</td>\n",
       "      <td>3</td>\n",
       "      <td>2.70</td>\n",
       "      <td>16.0</td>\n",
       "      <td>51.0</td>\n",
       "      <td>8</td>\n",
       "      <td>NaN</td>\n",
       "      <td>...</td>\n",
       "      <td>25.0</td>\n",
       "      <td>NaN</td>\n",
       "      <td>Санкт-Петербург</td>\n",
       "      <td>18863.0</td>\n",
       "      <td>16028.0</td>\n",
       "      <td>1.0</td>\n",
       "      <td>482.0</td>\n",
       "      <td>2.0</td>\n",
       "      <td>755.0</td>\n",
       "      <td>NaN</td>\n",
       "    </tr>\n",
       "    <tr>\n",
       "      <td>1</td>\n",
       "      <td>7</td>\n",
       "      <td>3350000.0</td>\n",
       "      <td>40.4</td>\n",
       "      <td>2018-12-04T00:00:00</td>\n",
       "      <td>1</td>\n",
       "      <td>NaN</td>\n",
       "      <td>11.0</td>\n",
       "      <td>18.6</td>\n",
       "      <td>1</td>\n",
       "      <td>NaN</td>\n",
       "      <td>...</td>\n",
       "      <td>11.0</td>\n",
       "      <td>2.0</td>\n",
       "      <td>посёлок Шушары</td>\n",
       "      <td>12817.0</td>\n",
       "      <td>18603.0</td>\n",
       "      <td>0.0</td>\n",
       "      <td>NaN</td>\n",
       "      <td>0.0</td>\n",
       "      <td>NaN</td>\n",
       "      <td>81.0</td>\n",
       "    </tr>\n",
       "    <tr>\n",
       "      <td>2</td>\n",
       "      <td>10</td>\n",
       "      <td>5196000.0</td>\n",
       "      <td>56.0</td>\n",
       "      <td>2015-08-20T00:00:00</td>\n",
       "      <td>2</td>\n",
       "      <td>NaN</td>\n",
       "      <td>5.0</td>\n",
       "      <td>34.3</td>\n",
       "      <td>4</td>\n",
       "      <td>NaN</td>\n",
       "      <td>...</td>\n",
       "      <td>8.3</td>\n",
       "      <td>0.0</td>\n",
       "      <td>Санкт-Петербург</td>\n",
       "      <td>21741.0</td>\n",
       "      <td>13933.0</td>\n",
       "      <td>1.0</td>\n",
       "      <td>90.0</td>\n",
       "      <td>2.0</td>\n",
       "      <td>574.0</td>\n",
       "      <td>558.0</td>\n",
       "    </tr>\n",
       "    <tr>\n",
       "      <td>3</td>\n",
       "      <td>0</td>\n",
       "      <td>64900000.0</td>\n",
       "      <td>159.0</td>\n",
       "      <td>2015-07-24T00:00:00</td>\n",
       "      <td>3</td>\n",
       "      <td>NaN</td>\n",
       "      <td>14.0</td>\n",
       "      <td>NaN</td>\n",
       "      <td>9</td>\n",
       "      <td>NaN</td>\n",
       "      <td>...</td>\n",
       "      <td>NaN</td>\n",
       "      <td>0.0</td>\n",
       "      <td>Санкт-Петербург</td>\n",
       "      <td>28098.0</td>\n",
       "      <td>6800.0</td>\n",
       "      <td>2.0</td>\n",
       "      <td>84.0</td>\n",
       "      <td>3.0</td>\n",
       "      <td>234.0</td>\n",
       "      <td>424.0</td>\n",
       "    </tr>\n",
       "    <tr>\n",
       "      <td>4</td>\n",
       "      <td>2</td>\n",
       "      <td>10000000.0</td>\n",
       "      <td>100.0</td>\n",
       "      <td>2018-06-19T00:00:00</td>\n",
       "      <td>2</td>\n",
       "      <td>3.03</td>\n",
       "      <td>14.0</td>\n",
       "      <td>32.0</td>\n",
       "      <td>13</td>\n",
       "      <td>NaN</td>\n",
       "      <td>...</td>\n",
       "      <td>41.0</td>\n",
       "      <td>NaN</td>\n",
       "      <td>Санкт-Петербург</td>\n",
       "      <td>31856.0</td>\n",
       "      <td>8098.0</td>\n",
       "      <td>2.0</td>\n",
       "      <td>112.0</td>\n",
       "      <td>1.0</td>\n",
       "      <td>48.0</td>\n",
       "      <td>121.0</td>\n",
       "    </tr>\n",
       "  </tbody>\n",
       "</table>\n",
       "<p>5 rows × 22 columns</p>\n",
       "</div>"
      ],
      "text/plain": [
       "   total_images  last_price  total_area first_day_exposition  rooms  \\\n",
       "0            20  13000000.0       108.0  2019-03-07T00:00:00      3   \n",
       "1             7   3350000.0        40.4  2018-12-04T00:00:00      1   \n",
       "2            10   5196000.0        56.0  2015-08-20T00:00:00      2   \n",
       "3             0  64900000.0       159.0  2015-07-24T00:00:00      3   \n",
       "4             2  10000000.0       100.0  2018-06-19T00:00:00      2   \n",
       "\n",
       "   ceiling_height  floors_total  living_area  floor is_apartment  ...  \\\n",
       "0            2.70          16.0         51.0      8          NaN  ...   \n",
       "1             NaN          11.0         18.6      1          NaN  ...   \n",
       "2             NaN           5.0         34.3      4          NaN  ...   \n",
       "3             NaN          14.0          NaN      9          NaN  ...   \n",
       "4            3.03          14.0         32.0     13          NaN  ...   \n",
       "\n",
       "   kitchen_area  balcony    locality_name  airports_nearest  \\\n",
       "0          25.0      NaN  Санкт-Петербург           18863.0   \n",
       "1          11.0      2.0   посёлок Шушары           12817.0   \n",
       "2           8.3      0.0  Санкт-Петербург           21741.0   \n",
       "3           NaN      0.0  Санкт-Петербург           28098.0   \n",
       "4          41.0      NaN  Санкт-Петербург           31856.0   \n",
       "\n",
       "  cityCenters_nearest  parks_around3000  parks_nearest  ponds_around3000  \\\n",
       "0             16028.0               1.0          482.0               2.0   \n",
       "1             18603.0               0.0            NaN               0.0   \n",
       "2             13933.0               1.0           90.0               2.0   \n",
       "3              6800.0               2.0           84.0               3.0   \n",
       "4              8098.0               2.0          112.0               1.0   \n",
       "\n",
       "   ponds_nearest  days_exposition  \n",
       "0          755.0              NaN  \n",
       "1            NaN             81.0  \n",
       "2          574.0            558.0  \n",
       "3          234.0            424.0  \n",
       "4           48.0            121.0  \n",
       "\n",
       "[5 rows x 22 columns]"
      ]
     },
     "execution_count": 1,
     "metadata": {},
     "output_type": "execute_result"
    }
   ],
   "source": [
    "import pandas as pd\n",
    "data = pd.read_csv('/datasets/real_estate_data.csv', sep='\\t')\n",
    "data.head()"
   ]
  },
  {
   "cell_type": "code",
   "execution_count": 2,
   "metadata": {},
   "outputs": [
    {
     "name": "stdout",
     "output_type": "stream",
     "text": [
      "<class 'pandas.core.frame.DataFrame'>\n",
      "RangeIndex: 23699 entries, 0 to 23698\n",
      "Data columns (total 22 columns):\n",
      "total_images            23699 non-null int64\n",
      "last_price              23699 non-null float64\n",
      "total_area              23699 non-null float64\n",
      "first_day_exposition    23699 non-null object\n",
      "rooms                   23699 non-null int64\n",
      "ceiling_height          14504 non-null float64\n",
      "floors_total            23613 non-null float64\n",
      "living_area             21796 non-null float64\n",
      "floor                   23699 non-null int64\n",
      "is_apartment            2775 non-null object\n",
      "studio                  23699 non-null bool\n",
      "open_plan               23699 non-null bool\n",
      "kitchen_area            21421 non-null float64\n",
      "balcony                 12180 non-null float64\n",
      "locality_name           23650 non-null object\n",
      "airports_nearest        18157 non-null float64\n",
      "cityCenters_nearest     18180 non-null float64\n",
      "parks_around3000        18181 non-null float64\n",
      "parks_nearest           8079 non-null float64\n",
      "ponds_around3000        18181 non-null float64\n",
      "ponds_nearest           9110 non-null float64\n",
      "days_exposition         20518 non-null float64\n",
      "dtypes: bool(2), float64(14), int64(3), object(3)\n",
      "memory usage: 3.7+ MB\n"
     ]
    },
    {
     "data": {
      "text/html": [
       "<style  type=\"text/css\" >\n",
       "    #T_c882800c_e550_11eb_b57e_02420a39a9adrow0_col0 {\n",
       "            background-color:  #3b4cc0;\n",
       "            color:  #f1f1f1;\n",
       "        }    #T_c882800c_e550_11eb_b57e_02420a39a9adrow1_col0 {\n",
       "            background-color:  #3b4cc0;\n",
       "            color:  #f1f1f1;\n",
       "        }    #T_c882800c_e550_11eb_b57e_02420a39a9adrow2_col0 {\n",
       "            background-color:  #3b4cc0;\n",
       "            color:  #f1f1f1;\n",
       "        }    #T_c882800c_e550_11eb_b57e_02420a39a9adrow3_col0 {\n",
       "            background-color:  #3b4cc0;\n",
       "            color:  #f1f1f1;\n",
       "        }    #T_c882800c_e550_11eb_b57e_02420a39a9adrow4_col0 {\n",
       "            background-color:  #3b4cc0;\n",
       "            color:  #f1f1f1;\n",
       "        }    #T_c882800c_e550_11eb_b57e_02420a39a9adrow5_col0 {\n",
       "            background-color:  #ccd9ed;\n",
       "            color:  #000000;\n",
       "        }    #T_c882800c_e550_11eb_b57e_02420a39a9adrow6_col0 {\n",
       "            background-color:  #3c4ec2;\n",
       "            color:  #f1f1f1;\n",
       "        }    #T_c882800c_e550_11eb_b57e_02420a39a9adrow7_col0 {\n",
       "            background-color:  #5673e0;\n",
       "            color:  #000000;\n",
       "        }    #T_c882800c_e550_11eb_b57e_02420a39a9adrow8_col0 {\n",
       "            background-color:  #3b4cc0;\n",
       "            color:  #f1f1f1;\n",
       "        }    #T_c882800c_e550_11eb_b57e_02420a39a9adrow9_col0 {\n",
       "            background-color:  #b40426;\n",
       "            color:  #f1f1f1;\n",
       "        }    #T_c882800c_e550_11eb_b57e_02420a39a9adrow10_col0 {\n",
       "            background-color:  #3b4cc0;\n",
       "            color:  #f1f1f1;\n",
       "        }    #T_c882800c_e550_11eb_b57e_02420a39a9adrow11_col0 {\n",
       "            background-color:  #3b4cc0;\n",
       "            color:  #f1f1f1;\n",
       "        }    #T_c882800c_e550_11eb_b57e_02420a39a9adrow12_col0 {\n",
       "            background-color:  #5b7ae5;\n",
       "            color:  #000000;\n",
       "        }    #T_c882800c_e550_11eb_b57e_02420a39a9adrow13_col0 {\n",
       "            background-color:  #e9d5cb;\n",
       "            color:  #000000;\n",
       "        }    #T_c882800c_e550_11eb_b57e_02420a39a9adrow14_col0 {\n",
       "            background-color:  #3b4cc0;\n",
       "            color:  #f1f1f1;\n",
       "        }    #T_c882800c_e550_11eb_b57e_02420a39a9adrow15_col0 {\n",
       "            background-color:  #92b4fe;\n",
       "            color:  #000000;\n",
       "        }    #T_c882800c_e550_11eb_b57e_02420a39a9adrow16_col0 {\n",
       "            background-color:  #92b4fe;\n",
       "            color:  #000000;\n",
       "        }    #T_c882800c_e550_11eb_b57e_02420a39a9adrow17_col0 {\n",
       "            background-color:  #92b4fe;\n",
       "            color:  #000000;\n",
       "        }    #T_c882800c_e550_11eb_b57e_02420a39a9adrow18_col0 {\n",
       "            background-color:  #f49a7b;\n",
       "            color:  #000000;\n",
       "        }    #T_c882800c_e550_11eb_b57e_02420a39a9adrow19_col0 {\n",
       "            background-color:  #92b4fe;\n",
       "            color:  #000000;\n",
       "        }    #T_c882800c_e550_11eb_b57e_02420a39a9adrow20_col0 {\n",
       "            background-color:  #f7ad90;\n",
       "            color:  #000000;\n",
       "        }    #T_c882800c_e550_11eb_b57e_02420a39a9adrow21_col0 {\n",
       "            background-color:  #6a8bef;\n",
       "            color:  #000000;\n",
       "        }</style><table id=\"T_c882800c_e550_11eb_b57e_02420a39a9ad\" ><thead>    <tr>        <th class=\"blank level0\" ></th>        <th class=\"col_heading level0 col0\" >0</th>    </tr></thead><tbody>\n",
       "                <tr>\n",
       "                        <th id=\"T_c882800c_e550_11eb_b57e_02420a39a9adlevel0_row0\" class=\"row_heading level0 row0\" >total_images</th>\n",
       "                        <td id=\"T_c882800c_e550_11eb_b57e_02420a39a9adrow0_col0\" class=\"data row0 col0\" >0</td>\n",
       "            </tr>\n",
       "            <tr>\n",
       "                        <th id=\"T_c882800c_e550_11eb_b57e_02420a39a9adlevel0_row1\" class=\"row_heading level0 row1\" >last_price</th>\n",
       "                        <td id=\"T_c882800c_e550_11eb_b57e_02420a39a9adrow1_col0\" class=\"data row1 col0\" >0</td>\n",
       "            </tr>\n",
       "            <tr>\n",
       "                        <th id=\"T_c882800c_e550_11eb_b57e_02420a39a9adlevel0_row2\" class=\"row_heading level0 row2\" >total_area</th>\n",
       "                        <td id=\"T_c882800c_e550_11eb_b57e_02420a39a9adrow2_col0\" class=\"data row2 col0\" >0</td>\n",
       "            </tr>\n",
       "            <tr>\n",
       "                        <th id=\"T_c882800c_e550_11eb_b57e_02420a39a9adlevel0_row3\" class=\"row_heading level0 row3\" >first_day_exposition</th>\n",
       "                        <td id=\"T_c882800c_e550_11eb_b57e_02420a39a9adrow3_col0\" class=\"data row3 col0\" >0</td>\n",
       "            </tr>\n",
       "            <tr>\n",
       "                        <th id=\"T_c882800c_e550_11eb_b57e_02420a39a9adlevel0_row4\" class=\"row_heading level0 row4\" >rooms</th>\n",
       "                        <td id=\"T_c882800c_e550_11eb_b57e_02420a39a9adrow4_col0\" class=\"data row4 col0\" >0</td>\n",
       "            </tr>\n",
       "            <tr>\n",
       "                        <th id=\"T_c882800c_e550_11eb_b57e_02420a39a9adlevel0_row5\" class=\"row_heading level0 row5\" >ceiling_height</th>\n",
       "                        <td id=\"T_c882800c_e550_11eb_b57e_02420a39a9adrow5_col0\" class=\"data row5 col0\" >38.8</td>\n",
       "            </tr>\n",
       "            <tr>\n",
       "                        <th id=\"T_c882800c_e550_11eb_b57e_02420a39a9adlevel0_row6\" class=\"row_heading level0 row6\" >floors_total</th>\n",
       "                        <td id=\"T_c882800c_e550_11eb_b57e_02420a39a9adrow6_col0\" class=\"data row6 col0\" >0.36</td>\n",
       "            </tr>\n",
       "            <tr>\n",
       "                        <th id=\"T_c882800c_e550_11eb_b57e_02420a39a9adlevel0_row7\" class=\"row_heading level0 row7\" >living_area</th>\n",
       "                        <td id=\"T_c882800c_e550_11eb_b57e_02420a39a9adrow7_col0\" class=\"data row7 col0\" >8.03</td>\n",
       "            </tr>\n",
       "            <tr>\n",
       "                        <th id=\"T_c882800c_e550_11eb_b57e_02420a39a9adlevel0_row8\" class=\"row_heading level0 row8\" >floor</th>\n",
       "                        <td id=\"T_c882800c_e550_11eb_b57e_02420a39a9adrow8_col0\" class=\"data row8 col0\" >0</td>\n",
       "            </tr>\n",
       "            <tr>\n",
       "                        <th id=\"T_c882800c_e550_11eb_b57e_02420a39a9adlevel0_row9\" class=\"row_heading level0 row9\" >is_apartment</th>\n",
       "                        <td id=\"T_c882800c_e550_11eb_b57e_02420a39a9adrow9_col0\" class=\"data row9 col0\" >88.29</td>\n",
       "            </tr>\n",
       "            <tr>\n",
       "                        <th id=\"T_c882800c_e550_11eb_b57e_02420a39a9adlevel0_row10\" class=\"row_heading level0 row10\" >studio</th>\n",
       "                        <td id=\"T_c882800c_e550_11eb_b57e_02420a39a9adrow10_col0\" class=\"data row10 col0\" >0</td>\n",
       "            </tr>\n",
       "            <tr>\n",
       "                        <th id=\"T_c882800c_e550_11eb_b57e_02420a39a9adlevel0_row11\" class=\"row_heading level0 row11\" >open_plan</th>\n",
       "                        <td id=\"T_c882800c_e550_11eb_b57e_02420a39a9adrow11_col0\" class=\"data row11 col0\" >0</td>\n",
       "            </tr>\n",
       "            <tr>\n",
       "                        <th id=\"T_c882800c_e550_11eb_b57e_02420a39a9adlevel0_row12\" class=\"row_heading level0 row12\" >kitchen_area</th>\n",
       "                        <td id=\"T_c882800c_e550_11eb_b57e_02420a39a9adrow12_col0\" class=\"data row12 col0\" >9.61</td>\n",
       "            </tr>\n",
       "            <tr>\n",
       "                        <th id=\"T_c882800c_e550_11eb_b57e_02420a39a9adlevel0_row13\" class=\"row_heading level0 row13\" >balcony</th>\n",
       "                        <td id=\"T_c882800c_e550_11eb_b57e_02420a39a9adrow13_col0\" class=\"data row13 col0\" >48.61</td>\n",
       "            </tr>\n",
       "            <tr>\n",
       "                        <th id=\"T_c882800c_e550_11eb_b57e_02420a39a9adlevel0_row14\" class=\"row_heading level0 row14\" >locality_name</th>\n",
       "                        <td id=\"T_c882800c_e550_11eb_b57e_02420a39a9adrow14_col0\" class=\"data row14 col0\" >0.21</td>\n",
       "            </tr>\n",
       "            <tr>\n",
       "                        <th id=\"T_c882800c_e550_11eb_b57e_02420a39a9adlevel0_row15\" class=\"row_heading level0 row15\" >airports_nearest</th>\n",
       "                        <td id=\"T_c882800c_e550_11eb_b57e_02420a39a9adrow15_col0\" class=\"data row15 col0\" >23.38</td>\n",
       "            </tr>\n",
       "            <tr>\n",
       "                        <th id=\"T_c882800c_e550_11eb_b57e_02420a39a9adlevel0_row16\" class=\"row_heading level0 row16\" >cityCenters_nearest</th>\n",
       "                        <td id=\"T_c882800c_e550_11eb_b57e_02420a39a9adrow16_col0\" class=\"data row16 col0\" >23.29</td>\n",
       "            </tr>\n",
       "            <tr>\n",
       "                        <th id=\"T_c882800c_e550_11eb_b57e_02420a39a9adlevel0_row17\" class=\"row_heading level0 row17\" >parks_around3000</th>\n",
       "                        <td id=\"T_c882800c_e550_11eb_b57e_02420a39a9adrow17_col0\" class=\"data row17 col0\" >23.28</td>\n",
       "            </tr>\n",
       "            <tr>\n",
       "                        <th id=\"T_c882800c_e550_11eb_b57e_02420a39a9adlevel0_row18\" class=\"row_heading level0 row18\" >parks_nearest</th>\n",
       "                        <td id=\"T_c882800c_e550_11eb_b57e_02420a39a9adrow18_col0\" class=\"data row18 col0\" >65.91</td>\n",
       "            </tr>\n",
       "            <tr>\n",
       "                        <th id=\"T_c882800c_e550_11eb_b57e_02420a39a9adlevel0_row19\" class=\"row_heading level0 row19\" >ponds_around3000</th>\n",
       "                        <td id=\"T_c882800c_e550_11eb_b57e_02420a39a9adrow19_col0\" class=\"data row19 col0\" >23.28</td>\n",
       "            </tr>\n",
       "            <tr>\n",
       "                        <th id=\"T_c882800c_e550_11eb_b57e_02420a39a9adlevel0_row20\" class=\"row_heading level0 row20\" >ponds_nearest</th>\n",
       "                        <td id=\"T_c882800c_e550_11eb_b57e_02420a39a9adrow20_col0\" class=\"data row20 col0\" >61.56</td>\n",
       "            </tr>\n",
       "            <tr>\n",
       "                        <th id=\"T_c882800c_e550_11eb_b57e_02420a39a9adlevel0_row21\" class=\"row_heading level0 row21\" >days_exposition</th>\n",
       "                        <td id=\"T_c882800c_e550_11eb_b57e_02420a39a9adrow21_col0\" class=\"data row21 col0\" >13.42</td>\n",
       "            </tr>\n",
       "    </tbody></table>"
      ],
      "text/plain": [
       "<pandas.io.formats.style.Styler at 0x7ffa78afd190>"
      ]
     },
     "execution_count": 2,
     "metadata": {},
     "output_type": "execute_result"
    }
   ],
   "source": [
    "#общая информация о данных\n",
    "data.info()\n",
    "#определим долю пропусков в каждом столбце и красиво раскрасим\n",
    "pd.DataFrame(round((data.isna().mean()*100),2)).style.background_gradient('coolwarm')"
   ]
  },
  {
   "cell_type": "markdown",
   "metadata": {},
   "source": [
    "### Вывод"
   ]
  },
  {
   "cell_type": "markdown",
   "metadata": {},
   "source": [
    "Мы видим большое количество пропущенных значений в большинстве столбцов таблицы. \n",
    "Для некоторых из них можно предложить логичную замену - найти медиану по данным в других столбцах.\n",
    "\n",
    "Построим таблицу корелляции для того, чтобы использовать для нахождения медианы те столбцы, от которых у столбцов с пропущенными значениями наибольшая зависимость. Конечно, мы будем руководствоваться, прежде всего, соображениями логики, а таблица корелляции лишь поможет нам подтвердить собственные догадки. "
   ]
  },
  {
   "cell_type": "code",
   "execution_count": 3,
   "metadata": {
    "scrolled": false
   },
   "outputs": [
    {
     "data": {
      "text/html": [
       "<style  type=\"text/css\" >\n",
       "    #T_c8a9e52a_e550_11eb_b57e_02420a39a9adrow0_col0 {\n",
       "            background-color:  #023858;\n",
       "            color:  #f1f1f1;\n",
       "        }    #T_c8a9e52a_e550_11eb_b57e_02420a39a9adrow0_col1 {\n",
       "            background-color:  #cdd0e5;\n",
       "            color:  #000000;\n",
       "        }    #T_c8a9e52a_e550_11eb_b57e_02420a39a9adrow0_col2 {\n",
       "            background-color:  #c5cce3;\n",
       "            color:  #000000;\n",
       "        }    #T_c8a9e52a_e550_11eb_b57e_02420a39a9adrow0_col3 {\n",
       "            background-color:  #cacee5;\n",
       "            color:  #000000;\n",
       "        }    #T_c8a9e52a_e550_11eb_b57e_02420a39a9adrow0_col4 {\n",
       "            background-color:  #f2ecf5;\n",
       "            color:  #000000;\n",
       "        }    #T_c8a9e52a_e550_11eb_b57e_02420a39a9adrow0_col5 {\n",
       "            background-color:  #d9d8ea;\n",
       "            color:  #000000;\n",
       "        }    #T_c8a9e52a_e550_11eb_b57e_02420a39a9adrow0_col6 {\n",
       "            background-color:  #c9cee4;\n",
       "            color:  #000000;\n",
       "        }    #T_c8a9e52a_e550_11eb_b57e_02420a39a9adrow0_col7 {\n",
       "            background-color:  #e3e0ee;\n",
       "            color:  #000000;\n",
       "        }    #T_c8a9e52a_e550_11eb_b57e_02420a39a9adrow0_col8 {\n",
       "            background-color:  #fff7fb;\n",
       "            color:  #000000;\n",
       "        }    #T_c8a9e52a_e550_11eb_b57e_02420a39a9adrow0_col9 {\n",
       "            background-color:  #fff7fb;\n",
       "            color:  #000000;\n",
       "        }    #T_c8a9e52a_e550_11eb_b57e_02420a39a9adrow0_col10 {\n",
       "            background-color:  #fff7fb;\n",
       "            color:  #000000;\n",
       "        }    #T_c8a9e52a_e550_11eb_b57e_02420a39a9adrow0_col11 {\n",
       "            background-color:  #dedcec;\n",
       "            color:  #000000;\n",
       "        }    #T_c8a9e52a_e550_11eb_b57e_02420a39a9adrow0_col12 {\n",
       "            background-color:  #f5eff6;\n",
       "            color:  #000000;\n",
       "        }    #T_c8a9e52a_e550_11eb_b57e_02420a39a9adrow0_col13 {\n",
       "            background-color:  #e7e3f0;\n",
       "            color:  #000000;\n",
       "        }    #T_c8a9e52a_e550_11eb_b57e_02420a39a9adrow0_col14 {\n",
       "            background-color:  #d6d6e9;\n",
       "            color:  #000000;\n",
       "        }    #T_c8a9e52a_e550_11eb_b57e_02420a39a9adrow0_col15 {\n",
       "            background-color:  #dbdaeb;\n",
       "            color:  #000000;\n",
       "        }    #T_c8a9e52a_e550_11eb_b57e_02420a39a9adrow0_col16 {\n",
       "            background-color:  #d1d2e6;\n",
       "            color:  #000000;\n",
       "        }    #T_c8a9e52a_e550_11eb_b57e_02420a39a9adrow0_col17 {\n",
       "            background-color:  #d0d1e6;\n",
       "            color:  #000000;\n",
       "        }    #T_c8a9e52a_e550_11eb_b57e_02420a39a9adrow0_col18 {\n",
       "            background-color:  #f8f1f8;\n",
       "            color:  #000000;\n",
       "        }    #T_c8a9e52a_e550_11eb_b57e_02420a39a9adrow1_col0 {\n",
       "            background-color:  #e7e3f0;\n",
       "            color:  #000000;\n",
       "        }    #T_c8a9e52a_e550_11eb_b57e_02420a39a9adrow1_col1 {\n",
       "            background-color:  #023858;\n",
       "            color:  #f1f1f1;\n",
       "        }    #T_c8a9e52a_e550_11eb_b57e_02420a39a9adrow1_col2 {\n",
       "            background-color:  #1077b4;\n",
       "            color:  #f1f1f1;\n",
       "        }    #T_c8a9e52a_e550_11eb_b57e_02420a39a9adrow1_col3 {\n",
       "            background-color:  #7bacd1;\n",
       "            color:  #000000;\n",
       "        }    #T_c8a9e52a_e550_11eb_b57e_02420a39a9adrow1_col4 {\n",
       "            background-color:  #e4e1ef;\n",
       "            color:  #000000;\n",
       "        }    #T_c8a9e52a_e550_11eb_b57e_02420a39a9adrow1_col5 {\n",
       "            background-color:  #dcdaeb;\n",
       "            color:  #000000;\n",
       "        }    #T_c8a9e52a_e550_11eb_b57e_02420a39a9adrow1_col6 {\n",
       "            background-color:  #2d8abd;\n",
       "            color:  #000000;\n",
       "        }    #T_c8a9e52a_e550_11eb_b57e_02420a39a9adrow1_col7 {\n",
       "            background-color:  #e4e1ef;\n",
       "            color:  #000000;\n",
       "        }    #T_c8a9e52a_e550_11eb_b57e_02420a39a9adrow1_col8 {\n",
       "            background-color:  #fff7fb;\n",
       "            color:  #000000;\n",
       "        }    #T_c8a9e52a_e550_11eb_b57e_02420a39a9adrow1_col9 {\n",
       "            background-color:  #fff7fb;\n",
       "            color:  #000000;\n",
       "        }    #T_c8a9e52a_e550_11eb_b57e_02420a39a9adrow1_col10 {\n",
       "            background-color:  #fff7fb;\n",
       "            color:  #000000;\n",
       "        }    #T_c8a9e52a_e550_11eb_b57e_02420a39a9adrow1_col11 {\n",
       "            background-color:  #f0eaf4;\n",
       "            color:  #000000;\n",
       "        }    #T_c8a9e52a_e550_11eb_b57e_02420a39a9adrow1_col12 {\n",
       "            background-color:  #f9f2f8;\n",
       "            color:  #000000;\n",
       "        }    #T_c8a9e52a_e550_11eb_b57e_02420a39a9adrow1_col13 {\n",
       "            background-color:  #fcf4fa;\n",
       "            color:  #000000;\n",
       "        }    #T_c8a9e52a_e550_11eb_b57e_02420a39a9adrow1_col14 {\n",
       "            background-color:  #b7c5df;\n",
       "            color:  #000000;\n",
       "        }    #T_c8a9e52a_e550_11eb_b57e_02420a39a9adrow1_col15 {\n",
       "            background-color:  #dddbec;\n",
       "            color:  #000000;\n",
       "        }    #T_c8a9e52a_e550_11eb_b57e_02420a39a9adrow1_col16 {\n",
       "            background-color:  #a7bddb;\n",
       "            color:  #000000;\n",
       "        }    #T_c8a9e52a_e550_11eb_b57e_02420a39a9adrow1_col17 {\n",
       "            background-color:  #dddbec;\n",
       "            color:  #000000;\n",
       "        }    #T_c8a9e52a_e550_11eb_b57e_02420a39a9adrow1_col18 {\n",
       "            background-color:  #e7e3f0;\n",
       "            color:  #000000;\n",
       "        }    #T_c8a9e52a_e550_11eb_b57e_02420a39a9adrow2_col0 {\n",
       "            background-color:  #e6e2ef;\n",
       "            color:  #000000;\n",
       "        }    #T_c8a9e52a_e550_11eb_b57e_02420a39a9adrow2_col1 {\n",
       "            background-color:  #1379b5;\n",
       "            color:  #f1f1f1;\n",
       "        }    #T_c8a9e52a_e550_11eb_b57e_02420a39a9adrow2_col2 {\n",
       "            background-color:  #023858;\n",
       "            color:  #f1f1f1;\n",
       "        }    #T_c8a9e52a_e550_11eb_b57e_02420a39a9adrow2_col3 {\n",
       "            background-color:  #0567a1;\n",
       "            color:  #f1f1f1;\n",
       "        }    #T_c8a9e52a_e550_11eb_b57e_02420a39a9adrow2_col4 {\n",
       "            background-color:  #e2dfee;\n",
       "            color:  #000000;\n",
       "        }    #T_c8a9e52a_e550_11eb_b57e_02420a39a9adrow2_col5 {\n",
       "            background-color:  #e8e4f0;\n",
       "            color:  #000000;\n",
       "        }    #T_c8a9e52a_e550_11eb_b57e_02420a39a9adrow2_col6 {\n",
       "            background-color:  #03456c;\n",
       "            color:  #f1f1f1;\n",
       "        }    #T_c8a9e52a_e550_11eb_b57e_02420a39a9adrow2_col7 {\n",
       "            background-color:  #ede8f3;\n",
       "            color:  #000000;\n",
       "        }    #T_c8a9e52a_e550_11eb_b57e_02420a39a9adrow2_col8 {\n",
       "            background-color:  #fff7fb;\n",
       "            color:  #000000;\n",
       "        }    #T_c8a9e52a_e550_11eb_b57e_02420a39a9adrow2_col9 {\n",
       "            background-color:  #fff7fb;\n",
       "            color:  #000000;\n",
       "        }    #T_c8a9e52a_e550_11eb_b57e_02420a39a9adrow2_col10 {\n",
       "            background-color:  #fff7fb;\n",
       "            color:  #000000;\n",
       "        }    #T_c8a9e52a_e550_11eb_b57e_02420a39a9adrow2_col11 {\n",
       "            background-color:  #ede8f3;\n",
       "            color:  #000000;\n",
       "        }    #T_c8a9e52a_e550_11eb_b57e_02420a39a9adrow2_col12 {\n",
       "            background-color:  #faf2f8;\n",
       "            color:  #000000;\n",
       "        }    #T_c8a9e52a_e550_11eb_b57e_02420a39a9adrow2_col13 {\n",
       "            background-color:  #fff7fb;\n",
       "            color:  #000000;\n",
       "        }    #T_c8a9e52a_e550_11eb_b57e_02420a39a9adrow2_col14 {\n",
       "            background-color:  #b3c3de;\n",
       "            color:  #000000;\n",
       "        }    #T_c8a9e52a_e550_11eb_b57e_02420a39a9adrow2_col15 {\n",
       "            background-color:  #dedcec;\n",
       "            color:  #000000;\n",
       "        }    #T_c8a9e52a_e550_11eb_b57e_02420a39a9adrow2_col16 {\n",
       "            background-color:  #a5bddb;\n",
       "            color:  #000000;\n",
       "        }    #T_c8a9e52a_e550_11eb_b57e_02420a39a9adrow2_col17 {\n",
       "            background-color:  #e0dded;\n",
       "            color:  #000000;\n",
       "        }    #T_c8a9e52a_e550_11eb_b57e_02420a39a9adrow2_col18 {\n",
       "            background-color:  #d9d8ea;\n",
       "            color:  #000000;\n",
       "        }    #T_c8a9e52a_e550_11eb_b57e_02420a39a9adrow3_col0 {\n",
       "            background-color:  #e9e5f1;\n",
       "            color:  #000000;\n",
       "        }    #T_c8a9e52a_e550_11eb_b57e_02420a39a9adrow3_col1 {\n",
       "            background-color:  #80aed2;\n",
       "            color:  #000000;\n",
       "        }    #T_c8a9e52a_e550_11eb_b57e_02420a39a9adrow3_col2 {\n",
       "            background-color:  #0567a1;\n",
       "            color:  #f1f1f1;\n",
       "        }    #T_c8a9e52a_e550_11eb_b57e_02420a39a9adrow3_col3 {\n",
       "            background-color:  #023858;\n",
       "            color:  #f1f1f1;\n",
       "        }    #T_c8a9e52a_e550_11eb_b57e_02420a39a9adrow3_col4 {\n",
       "            background-color:  #eae6f1;\n",
       "            color:  #000000;\n",
       "        }    #T_c8a9e52a_e550_11eb_b57e_02420a39a9adrow3_col5 {\n",
       "            background-color:  #fcf4fa;\n",
       "            color:  #000000;\n",
       "        }    #T_c8a9e52a_e550_11eb_b57e_02420a39a9adrow3_col6 {\n",
       "            background-color:  #045a8d;\n",
       "            color:  #f1f1f1;\n",
       "        }    #T_c8a9e52a_e550_11eb_b57e_02420a39a9adrow3_col7 {\n",
       "            background-color:  #fef6fa;\n",
       "            color:  #000000;\n",
       "        }    #T_c8a9e52a_e550_11eb_b57e_02420a39a9adrow3_col8 {\n",
       "            background-color:  #fff7fb;\n",
       "            color:  #000000;\n",
       "        }    #T_c8a9e52a_e550_11eb_b57e_02420a39a9adrow3_col9 {\n",
       "            background-color:  #fff7fb;\n",
       "            color:  #000000;\n",
       "        }    #T_c8a9e52a_e550_11eb_b57e_02420a39a9adrow3_col10 {\n",
       "            background-color:  #fff7fb;\n",
       "            color:  #000000;\n",
       "        }    #T_c8a9e52a_e550_11eb_b57e_02420a39a9adrow3_col11 {\n",
       "            background-color:  #f1ebf5;\n",
       "            color:  #000000;\n",
       "        }    #T_c8a9e52a_e550_11eb_b57e_02420a39a9adrow3_col12 {\n",
       "            background-color:  #fef6fa;\n",
       "            color:  #000000;\n",
       "        }    #T_c8a9e52a_e550_11eb_b57e_02420a39a9adrow3_col13 {\n",
       "            background-color:  #faf2f8;\n",
       "            color:  #000000;\n",
       "        }    #T_c8a9e52a_e550_11eb_b57e_02420a39a9adrow3_col14 {\n",
       "            background-color:  #bbc7e0;\n",
       "            color:  #000000;\n",
       "        }    #T_c8a9e52a_e550_11eb_b57e_02420a39a9adrow3_col15 {\n",
       "            background-color:  #e4e1ef;\n",
       "            color:  #000000;\n",
       "        }    #T_c8a9e52a_e550_11eb_b57e_02420a39a9adrow3_col16 {\n",
       "            background-color:  #b8c6e0;\n",
       "            color:  #000000;\n",
       "        }    #T_c8a9e52a_e550_11eb_b57e_02420a39a9adrow3_col17 {\n",
       "            background-color:  #d9d8ea;\n",
       "            color:  #000000;\n",
       "        }    #T_c8a9e52a_e550_11eb_b57e_02420a39a9adrow3_col18 {\n",
       "            background-color:  #dedcec;\n",
       "            color:  #000000;\n",
       "        }    #T_c8a9e52a_e550_11eb_b57e_02420a39a9adrow4_col0 {\n",
       "            background-color:  #f8f1f8;\n",
       "            color:  #000000;\n",
       "        }    #T_c8a9e52a_e550_11eb_b57e_02420a39a9adrow4_col1 {\n",
       "            background-color:  #d2d3e7;\n",
       "            color:  #000000;\n",
       "        }    #T_c8a9e52a_e550_11eb_b57e_02420a39a9adrow4_col2 {\n",
       "            background-color:  #cccfe5;\n",
       "            color:  #000000;\n",
       "        }    #T_c8a9e52a_e550_11eb_b57e_02420a39a9adrow4_col3 {\n",
       "            background-color:  #d5d5e8;\n",
       "            color:  #000000;\n",
       "        }    #T_c8a9e52a_e550_11eb_b57e_02420a39a9adrow4_col4 {\n",
       "            background-color:  #023858;\n",
       "            color:  #f1f1f1;\n",
       "        }    #T_c8a9e52a_e550_11eb_b57e_02420a39a9adrow4_col5 {\n",
       "            background-color:  #e0deed;\n",
       "            color:  #000000;\n",
       "        }    #T_c8a9e52a_e550_11eb_b57e_02420a39a9adrow4_col6 {\n",
       "            background-color:  #cdd0e5;\n",
       "            color:  #000000;\n",
       "        }    #T_c8a9e52a_e550_11eb_b57e_02420a39a9adrow4_col7 {\n",
       "            background-color:  #ebe6f2;\n",
       "            color:  #000000;\n",
       "        }    #T_c8a9e52a_e550_11eb_b57e_02420a39a9adrow4_col8 {\n",
       "            background-color:  #fff7fb;\n",
       "            color:  #000000;\n",
       "        }    #T_c8a9e52a_e550_11eb_b57e_02420a39a9adrow4_col9 {\n",
       "            background-color:  #fff7fb;\n",
       "            color:  #000000;\n",
       "        }    #T_c8a9e52a_e550_11eb_b57e_02420a39a9adrow4_col10 {\n",
       "            background-color:  #fff7fb;\n",
       "            color:  #000000;\n",
       "        }    #T_c8a9e52a_e550_11eb_b57e_02420a39a9adrow4_col11 {\n",
       "            background-color:  #eee8f3;\n",
       "            color:  #000000;\n",
       "        }    #T_c8a9e52a_e550_11eb_b57e_02420a39a9adrow4_col12 {\n",
       "            background-color:  #f8f1f8;\n",
       "            color:  #000000;\n",
       "        }    #T_c8a9e52a_e550_11eb_b57e_02420a39a9adrow4_col13 {\n",
       "            background-color:  #eee8f3;\n",
       "            color:  #000000;\n",
       "        }    #T_c8a9e52a_e550_11eb_b57e_02420a39a9adrow4_col14 {\n",
       "            background-color:  #cdd0e5;\n",
       "            color:  #000000;\n",
       "        }    #T_c8a9e52a_e550_11eb_b57e_02420a39a9adrow4_col15 {\n",
       "            background-color:  #dedcec;\n",
       "            color:  #000000;\n",
       "        }    #T_c8a9e52a_e550_11eb_b57e_02420a39a9adrow4_col16 {\n",
       "            background-color:  #bbc7e0;\n",
       "            color:  #000000;\n",
       "        }    #T_c8a9e52a_e550_11eb_b57e_02420a39a9adrow4_col17 {\n",
       "            background-color:  #d9d8ea;\n",
       "            color:  #000000;\n",
       "        }    #T_c8a9e52a_e550_11eb_b57e_02420a39a9adrow4_col18 {\n",
       "            background-color:  #f1ebf5;\n",
       "            color:  #000000;\n",
       "        }    #T_c8a9e52a_e550_11eb_b57e_02420a39a9adrow5_col0 {\n",
       "            background-color:  #f7f0f7;\n",
       "            color:  #000000;\n",
       "        }    #T_c8a9e52a_e550_11eb_b57e_02420a39a9adrow5_col1 {\n",
       "            background-color:  #e3e0ee;\n",
       "            color:  #000000;\n",
       "        }    #T_c8a9e52a_e550_11eb_b57e_02420a39a9adrow5_col2 {\n",
       "            background-color:  #ece7f2;\n",
       "            color:  #000000;\n",
       "        }    #T_c8a9e52a_e550_11eb_b57e_02420a39a9adrow5_col3 {\n",
       "            background-color:  #fff7fb;\n",
       "            color:  #000000;\n",
       "        }    #T_c8a9e52a_e550_11eb_b57e_02420a39a9adrow5_col4 {\n",
       "            background-color:  #f7f0f7;\n",
       "            color:  #000000;\n",
       "        }    #T_c8a9e52a_e550_11eb_b57e_02420a39a9adrow5_col5 {\n",
       "            background-color:  #023858;\n",
       "            color:  #f1f1f1;\n",
       "        }    #T_c8a9e52a_e550_11eb_b57e_02420a39a9adrow5_col6 {\n",
       "            background-color:  #f8f1f8;\n",
       "            color:  #000000;\n",
       "        }    #T_c8a9e52a_e550_11eb_b57e_02420a39a9adrow5_col7 {\n",
       "            background-color:  #0f76b3;\n",
       "            color:  #f1f1f1;\n",
       "        }    #T_c8a9e52a_e550_11eb_b57e_02420a39a9adrow5_col8 {\n",
       "            background-color:  #fff7fb;\n",
       "            color:  #000000;\n",
       "        }    #T_c8a9e52a_e550_11eb_b57e_02420a39a9adrow5_col9 {\n",
       "            background-color:  #fff7fb;\n",
       "            color:  #000000;\n",
       "        }    #T_c8a9e52a_e550_11eb_b57e_02420a39a9adrow5_col10 {\n",
       "            background-color:  #fff7fb;\n",
       "            color:  #000000;\n",
       "        }    #T_c8a9e52a_e550_11eb_b57e_02420a39a9adrow5_col11 {\n",
       "            background-color:  #ced0e6;\n",
       "            color:  #000000;\n",
       "        }    #T_c8a9e52a_e550_11eb_b57e_02420a39a9adrow5_col12 {\n",
       "            background-color:  #e3e0ee;\n",
       "            color:  #000000;\n",
       "        }    #T_c8a9e52a_e550_11eb_b57e_02420a39a9adrow5_col13 {\n",
       "            background-color:  #dad9ea;\n",
       "            color:  #000000;\n",
       "        }    #T_c8a9e52a_e550_11eb_b57e_02420a39a9adrow5_col14 {\n",
       "            background-color:  #fef6fb;\n",
       "            color:  #000000;\n",
       "        }    #T_c8a9e52a_e550_11eb_b57e_02420a39a9adrow5_col15 {\n",
       "            background-color:  #c5cce3;\n",
       "            color:  #000000;\n",
       "        }    #T_c8a9e52a_e550_11eb_b57e_02420a39a9adrow5_col16 {\n",
       "            background-color:  #e4e1ef;\n",
       "            color:  #000000;\n",
       "        }    #T_c8a9e52a_e550_11eb_b57e_02420a39a9adrow5_col17 {\n",
       "            background-color:  #c5cce3;\n",
       "            color:  #000000;\n",
       "        }    #T_c8a9e52a_e550_11eb_b57e_02420a39a9adrow5_col18 {\n",
       "            background-color:  #fbf4f9;\n",
       "            color:  #000000;\n",
       "        }    #T_c8a9e52a_e550_11eb_b57e_02420a39a9adrow6_col0 {\n",
       "            background-color:  #e7e3f0;\n",
       "            color:  #000000;\n",
       "        }    #T_c8a9e52a_e550_11eb_b57e_02420a39a9adrow6_col1 {\n",
       "            background-color:  #2f8bbe;\n",
       "            color:  #000000;\n",
       "        }    #T_c8a9e52a_e550_11eb_b57e_02420a39a9adrow6_col2 {\n",
       "            background-color:  #03456c;\n",
       "            color:  #f1f1f1;\n",
       "        }    #T_c8a9e52a_e550_11eb_b57e_02420a39a9adrow6_col3 {\n",
       "            background-color:  #045a8d;\n",
       "            color:  #f1f1f1;\n",
       "        }    #T_c8a9e52a_e550_11eb_b57e_02420a39a9adrow6_col4 {\n",
       "            background-color:  #e3e0ee;\n",
       "            color:  #000000;\n",
       "        }    #T_c8a9e52a_e550_11eb_b57e_02420a39a9adrow6_col5 {\n",
       "            background-color:  #f5eef6;\n",
       "            color:  #000000;\n",
       "        }    #T_c8a9e52a_e550_11eb_b57e_02420a39a9adrow6_col6 {\n",
       "            background-color:  #023858;\n",
       "            color:  #f1f1f1;\n",
       "        }    #T_c8a9e52a_e550_11eb_b57e_02420a39a9adrow6_col7 {\n",
       "            background-color:  #f7f0f7;\n",
       "            color:  #000000;\n",
       "        }    #T_c8a9e52a_e550_11eb_b57e_02420a39a9adrow6_col8 {\n",
       "            background-color:  #fff7fb;\n",
       "            color:  #000000;\n",
       "        }    #T_c8a9e52a_e550_11eb_b57e_02420a39a9adrow6_col9 {\n",
       "            background-color:  #fff7fb;\n",
       "            color:  #000000;\n",
       "        }    #T_c8a9e52a_e550_11eb_b57e_02420a39a9adrow6_col10 {\n",
       "            background-color:  #fff7fb;\n",
       "            color:  #000000;\n",
       "        }    #T_c8a9e52a_e550_11eb_b57e_02420a39a9adrow6_col11 {\n",
       "            background-color:  #f1ebf4;\n",
       "            color:  #000000;\n",
       "        }    #T_c8a9e52a_e550_11eb_b57e_02420a39a9adrow6_col12 {\n",
       "            background-color:  #fef6fa;\n",
       "            color:  #000000;\n",
       "        }    #T_c8a9e52a_e550_11eb_b57e_02420a39a9adrow6_col13 {\n",
       "            background-color:  #fff7fb;\n",
       "            color:  #000000;\n",
       "        }    #T_c8a9e52a_e550_11eb_b57e_02420a39a9adrow6_col14 {\n",
       "            background-color:  #adc1dd;\n",
       "            color:  #000000;\n",
       "        }    #T_c8a9e52a_e550_11eb_b57e_02420a39a9adrow6_col15 {\n",
       "            background-color:  #e3e0ee;\n",
       "            color:  #000000;\n",
       "        }    #T_c8a9e52a_e550_11eb_b57e_02420a39a9adrow6_col16 {\n",
       "            background-color:  #a9bfdc;\n",
       "            color:  #000000;\n",
       "        }    #T_c8a9e52a_e550_11eb_b57e_02420a39a9adrow6_col17 {\n",
       "            background-color:  #dddbec;\n",
       "            color:  #000000;\n",
       "        }    #T_c8a9e52a_e550_11eb_b57e_02420a39a9adrow6_col18 {\n",
       "            background-color:  #dad9ea;\n",
       "            color:  #000000;\n",
       "        }    #T_c8a9e52a_e550_11eb_b57e_02420a39a9adrow7_col0 {\n",
       "            background-color:  #f4edf6;\n",
       "            color:  #000000;\n",
       "        }    #T_c8a9e52a_e550_11eb_b57e_02420a39a9adrow7_col1 {\n",
       "            background-color:  #dddbec;\n",
       "            color:  #000000;\n",
       "        }    #T_c8a9e52a_e550_11eb_b57e_02420a39a9adrow7_col2 {\n",
       "            background-color:  #e3e0ee;\n",
       "            color:  #000000;\n",
       "        }    #T_c8a9e52a_e550_11eb_b57e_02420a39a9adrow7_col3 {\n",
       "            background-color:  #f5eff6;\n",
       "            color:  #000000;\n",
       "        }    #T_c8a9e52a_e550_11eb_b57e_02420a39a9adrow7_col4 {\n",
       "            background-color:  #f4eef6;\n",
       "            color:  #000000;\n",
       "        }    #T_c8a9e52a_e550_11eb_b57e_02420a39a9adrow7_col5 {\n",
       "            background-color:  #0771b1;\n",
       "            color:  #f1f1f1;\n",
       "        }    #T_c8a9e52a_e550_11eb_b57e_02420a39a9adrow7_col6 {\n",
       "            background-color:  #efe9f3;\n",
       "            color:  #000000;\n",
       "        }    #T_c8a9e52a_e550_11eb_b57e_02420a39a9adrow7_col7 {\n",
       "            background-color:  #023858;\n",
       "            color:  #f1f1f1;\n",
       "        }    #T_c8a9e52a_e550_11eb_b57e_02420a39a9adrow7_col8 {\n",
       "            background-color:  #fff7fb;\n",
       "            color:  #000000;\n",
       "        }    #T_c8a9e52a_e550_11eb_b57e_02420a39a9adrow7_col9 {\n",
       "            background-color:  #fff7fb;\n",
       "            color:  #000000;\n",
       "        }    #T_c8a9e52a_e550_11eb_b57e_02420a39a9adrow7_col10 {\n",
       "            background-color:  #fff7fb;\n",
       "            color:  #000000;\n",
       "        }    #T_c8a9e52a_e550_11eb_b57e_02420a39a9adrow7_col11 {\n",
       "            background-color:  #d4d4e8;\n",
       "            color:  #000000;\n",
       "        }    #T_c8a9e52a_e550_11eb_b57e_02420a39a9adrow7_col12 {\n",
       "            background-color:  #ebe6f2;\n",
       "            color:  #000000;\n",
       "        }    #T_c8a9e52a_e550_11eb_b57e_02420a39a9adrow7_col13 {\n",
       "            background-color:  #dcdaeb;\n",
       "            color:  #000000;\n",
       "        }    #T_c8a9e52a_e550_11eb_b57e_02420a39a9adrow7_col14 {\n",
       "            background-color:  #f4edf6;\n",
       "            color:  #000000;\n",
       "        }    #T_c8a9e52a_e550_11eb_b57e_02420a39a9adrow7_col15 {\n",
       "            background-color:  #cccfe5;\n",
       "            color:  #000000;\n",
       "        }    #T_c8a9e52a_e550_11eb_b57e_02420a39a9adrow7_col16 {\n",
       "            background-color:  #dcdaeb;\n",
       "            color:  #000000;\n",
       "        }    #T_c8a9e52a_e550_11eb_b57e_02420a39a9adrow7_col17 {\n",
       "            background-color:  #c9cee4;\n",
       "            color:  #000000;\n",
       "        }    #T_c8a9e52a_e550_11eb_b57e_02420a39a9adrow7_col18 {\n",
       "            background-color:  #faf2f8;\n",
       "            color:  #000000;\n",
       "        }    #T_c8a9e52a_e550_11eb_b57e_02420a39a9adrow8_col0 {\n",
       "            background-color:  #fdf5fa;\n",
       "            color:  #000000;\n",
       "        }    #T_c8a9e52a_e550_11eb_b57e_02420a39a9adrow8_col1 {\n",
       "            background-color:  #e7e3f0;\n",
       "            color:  #000000;\n",
       "        }    #T_c8a9e52a_e550_11eb_b57e_02420a39a9adrow8_col2 {\n",
       "            background-color:  #ebe6f2;\n",
       "            color:  #000000;\n",
       "        }    #T_c8a9e52a_e550_11eb_b57e_02420a39a9adrow8_col3 {\n",
       "            background-color:  #f5eff6;\n",
       "            color:  #000000;\n",
       "        }    #T_c8a9e52a_e550_11eb_b57e_02420a39a9adrow8_col4 {\n",
       "            background-color:  #f2ecf5;\n",
       "            color:  #000000;\n",
       "        }    #T_c8a9e52a_e550_11eb_b57e_02420a39a9adrow8_col5 {\n",
       "            background-color:  #ced0e6;\n",
       "            color:  #000000;\n",
       "        }    #T_c8a9e52a_e550_11eb_b57e_02420a39a9adrow8_col6 {\n",
       "            background-color:  #e8e4f0;\n",
       "            color:  #000000;\n",
       "        }    #T_c8a9e52a_e550_11eb_b57e_02420a39a9adrow8_col7 {\n",
       "            background-color:  #e1dfed;\n",
       "            color:  #000000;\n",
       "        }    #T_c8a9e52a_e550_11eb_b57e_02420a39a9adrow8_col8 {\n",
       "            background-color:  #fff7fb;\n",
       "            color:  #000000;\n",
       "        }    #T_c8a9e52a_e550_11eb_b57e_02420a39a9adrow8_col9 {\n",
       "            background-color:  #fff7fb;\n",
       "            color:  #000000;\n",
       "        }    #T_c8a9e52a_e550_11eb_b57e_02420a39a9adrow8_col10 {\n",
       "            background-color:  #fff7fb;\n",
       "            color:  #000000;\n",
       "        }    #T_c8a9e52a_e550_11eb_b57e_02420a39a9adrow8_col11 {\n",
       "            background-color:  #efe9f3;\n",
       "            color:  #000000;\n",
       "        }    #T_c8a9e52a_e550_11eb_b57e_02420a39a9adrow8_col12 {\n",
       "            background-color:  #f8f1f8;\n",
       "            color:  #000000;\n",
       "        }    #T_c8a9e52a_e550_11eb_b57e_02420a39a9adrow8_col13 {\n",
       "            background-color:  #e0dded;\n",
       "            color:  #000000;\n",
       "        }    #T_c8a9e52a_e550_11eb_b57e_02420a39a9adrow8_col14 {\n",
       "            background-color:  #e0dded;\n",
       "            color:  #000000;\n",
       "        }    #T_c8a9e52a_e550_11eb_b57e_02420a39a9adrow8_col15 {\n",
       "            background-color:  #d9d8ea;\n",
       "            color:  #000000;\n",
       "        }    #T_c8a9e52a_e550_11eb_b57e_02420a39a9adrow8_col16 {\n",
       "            background-color:  #ced0e6;\n",
       "            color:  #000000;\n",
       "        }    #T_c8a9e52a_e550_11eb_b57e_02420a39a9adrow8_col17 {\n",
       "            background-color:  #ced0e6;\n",
       "            color:  #000000;\n",
       "        }    #T_c8a9e52a_e550_11eb_b57e_02420a39a9adrow8_col18 {\n",
       "            background-color:  #f7f0f7;\n",
       "            color:  #000000;\n",
       "        }    #T_c8a9e52a_e550_11eb_b57e_02420a39a9adrow9_col0 {\n",
       "            background-color:  #fcf4fa;\n",
       "            color:  #000000;\n",
       "        }    #T_c8a9e52a_e550_11eb_b57e_02420a39a9adrow9_col1 {\n",
       "            background-color:  #e4e1ef;\n",
       "            color:  #000000;\n",
       "        }    #T_c8a9e52a_e550_11eb_b57e_02420a39a9adrow9_col2 {\n",
       "            background-color:  #e5e1ef;\n",
       "            color:  #000000;\n",
       "        }    #T_c8a9e52a_e550_11eb_b57e_02420a39a9adrow9_col3 {\n",
       "            background-color:  #eee8f3;\n",
       "            color:  #000000;\n",
       "        }    #T_c8a9e52a_e550_11eb_b57e_02420a39a9adrow9_col4 {\n",
       "            background-color:  #ede7f2;\n",
       "            color:  #000000;\n",
       "        }    #T_c8a9e52a_e550_11eb_b57e_02420a39a9adrow9_col5 {\n",
       "            background-color:  #d2d2e7;\n",
       "            color:  #000000;\n",
       "        }    #T_c8a9e52a_e550_11eb_b57e_02420a39a9adrow9_col6 {\n",
       "            background-color:  #e4e1ef;\n",
       "            color:  #000000;\n",
       "        }    #T_c8a9e52a_e550_11eb_b57e_02420a39a9adrow9_col7 {\n",
       "            background-color:  #e2dfee;\n",
       "            color:  #000000;\n",
       "        }    #T_c8a9e52a_e550_11eb_b57e_02420a39a9adrow9_col8 {\n",
       "            background-color:  #fff7fb;\n",
       "            color:  #000000;\n",
       "        }    #T_c8a9e52a_e550_11eb_b57e_02420a39a9adrow9_col9 {\n",
       "            background-color:  #fff7fb;\n",
       "            color:  #000000;\n",
       "        }    #T_c8a9e52a_e550_11eb_b57e_02420a39a9adrow9_col10 {\n",
       "            background-color:  #fff7fb;\n",
       "            color:  #000000;\n",
       "        }    #T_c8a9e52a_e550_11eb_b57e_02420a39a9adrow9_col11 {\n",
       "            background-color:  #f1ebf4;\n",
       "            color:  #000000;\n",
       "        }    #T_c8a9e52a_e550_11eb_b57e_02420a39a9adrow9_col12 {\n",
       "            background-color:  #f7f0f7;\n",
       "            color:  #000000;\n",
       "        }    #T_c8a9e52a_e550_11eb_b57e_02420a39a9adrow9_col13 {\n",
       "            background-color:  #dfddec;\n",
       "            color:  #000000;\n",
       "        }    #T_c8a9e52a_e550_11eb_b57e_02420a39a9adrow9_col14 {\n",
       "            background-color:  #dcdaeb;\n",
       "            color:  #000000;\n",
       "        }    #T_c8a9e52a_e550_11eb_b57e_02420a39a9adrow9_col15 {\n",
       "            background-color:  #d9d8ea;\n",
       "            color:  #000000;\n",
       "        }    #T_c8a9e52a_e550_11eb_b57e_02420a39a9adrow9_col16 {\n",
       "            background-color:  #cdd0e5;\n",
       "            color:  #000000;\n",
       "        }    #T_c8a9e52a_e550_11eb_b57e_02420a39a9adrow9_col17 {\n",
       "            background-color:  #d0d1e6;\n",
       "            color:  #000000;\n",
       "        }    #T_c8a9e52a_e550_11eb_b57e_02420a39a9adrow9_col18 {\n",
       "            background-color:  #f8f1f8;\n",
       "            color:  #000000;\n",
       "        }    #T_c8a9e52a_e550_11eb_b57e_02420a39a9adrow10_col0 {\n",
       "            background-color:  #e7e3f0;\n",
       "            color:  #000000;\n",
       "        }    #T_c8a9e52a_e550_11eb_b57e_02420a39a9adrow10_col1 {\n",
       "            background-color:  #4094c3;\n",
       "            color:  #000000;\n",
       "        }    #T_c8a9e52a_e550_11eb_b57e_02420a39a9adrow10_col2 {\n",
       "            background-color:  #2081b9;\n",
       "            color:  #000000;\n",
       "        }    #T_c8a9e52a_e550_11eb_b57e_02420a39a9adrow10_col3 {\n",
       "            background-color:  #9ab8d8;\n",
       "            color:  #000000;\n",
       "        }    #T_c8a9e52a_e550_11eb_b57e_02420a39a9adrow10_col4 {\n",
       "            background-color:  #e3e0ee;\n",
       "            color:  #000000;\n",
       "        }    #T_c8a9e52a_e550_11eb_b57e_02420a39a9adrow10_col5 {\n",
       "            background-color:  #b4c4df;\n",
       "            color:  #000000;\n",
       "        }    #T_c8a9e52a_e550_11eb_b57e_02420a39a9adrow10_col6 {\n",
       "            background-color:  #62a2cb;\n",
       "            color:  #000000;\n",
       "        }    #T_c8a9e52a_e550_11eb_b57e_02420a39a9adrow10_col7 {\n",
       "            background-color:  #ced0e6;\n",
       "            color:  #000000;\n",
       "        }    #T_c8a9e52a_e550_11eb_b57e_02420a39a9adrow10_col8 {\n",
       "            background-color:  #fff7fb;\n",
       "            color:  #000000;\n",
       "        }    #T_c8a9e52a_e550_11eb_b57e_02420a39a9adrow10_col9 {\n",
       "            background-color:  #fff7fb;\n",
       "            color:  #000000;\n",
       "        }    #T_c8a9e52a_e550_11eb_b57e_02420a39a9adrow10_col10 {\n",
       "            background-color:  #fff7fb;\n",
       "            color:  #000000;\n",
       "        }    #T_c8a9e52a_e550_11eb_b57e_02420a39a9adrow10_col11 {\n",
       "            background-color:  #e3e0ee;\n",
       "            color:  #000000;\n",
       "        }    #T_c8a9e52a_e550_11eb_b57e_02420a39a9adrow10_col12 {\n",
       "            background-color:  #f4eef6;\n",
       "            color:  #000000;\n",
       "        }    #T_c8a9e52a_e550_11eb_b57e_02420a39a9adrow10_col13 {\n",
       "            background-color:  #faf3f9;\n",
       "            color:  #000000;\n",
       "        }    #T_c8a9e52a_e550_11eb_b57e_02420a39a9adrow10_col14 {\n",
       "            background-color:  #c8cde4;\n",
       "            color:  #000000;\n",
       "        }    #T_c8a9e52a_e550_11eb_b57e_02420a39a9adrow10_col15 {\n",
       "            background-color:  #d5d5e8;\n",
       "            color:  #000000;\n",
       "        }    #T_c8a9e52a_e550_11eb_b57e_02420a39a9adrow10_col16 {\n",
       "            background-color:  #a9bfdc;\n",
       "            color:  #000000;\n",
       "        }    #T_c8a9e52a_e550_11eb_b57e_02420a39a9adrow10_col17 {\n",
       "            background-color:  #e0deed;\n",
       "            color:  #000000;\n",
       "        }    #T_c8a9e52a_e550_11eb_b57e_02420a39a9adrow10_col18 {\n",
       "            background-color:  #e3e0ee;\n",
       "            color:  #000000;\n",
       "        }    #T_c8a9e52a_e550_11eb_b57e_02420a39a9adrow11_col0 {\n",
       "            background-color:  #e4e1ef;\n",
       "            color:  #000000;\n",
       "        }    #T_c8a9e52a_e550_11eb_b57e_02420a39a9adrow11_col1 {\n",
       "            background-color:  #dcdaeb;\n",
       "            color:  #000000;\n",
       "        }    #T_c8a9e52a_e550_11eb_b57e_02420a39a9adrow11_col2 {\n",
       "            background-color:  #d5d5e8;\n",
       "            color:  #000000;\n",
       "        }    #T_c8a9e52a_e550_11eb_b57e_02420a39a9adrow11_col3 {\n",
       "            background-color:  #dbdaeb;\n",
       "            color:  #000000;\n",
       "        }    #T_c8a9e52a_e550_11eb_b57e_02420a39a9adrow11_col4 {\n",
       "            background-color:  #ede7f2;\n",
       "            color:  #000000;\n",
       "        }    #T_c8a9e52a_e550_11eb_b57e_02420a39a9adrow11_col5 {\n",
       "            background-color:  #acc0dd;\n",
       "            color:  #000000;\n",
       "        }    #T_c8a9e52a_e550_11eb_b57e_02420a39a9adrow11_col6 {\n",
       "            background-color:  #dad9ea;\n",
       "            color:  #000000;\n",
       "        }    #T_c8a9e52a_e550_11eb_b57e_02420a39a9adrow11_col7 {\n",
       "            background-color:  #c4cbe3;\n",
       "            color:  #000000;\n",
       "        }    #T_c8a9e52a_e550_11eb_b57e_02420a39a9adrow11_col8 {\n",
       "            background-color:  #fff7fb;\n",
       "            color:  #000000;\n",
       "        }    #T_c8a9e52a_e550_11eb_b57e_02420a39a9adrow11_col9 {\n",
       "            background-color:  #fff7fb;\n",
       "            color:  #000000;\n",
       "        }    #T_c8a9e52a_e550_11eb_b57e_02420a39a9adrow11_col10 {\n",
       "            background-color:  #fff7fb;\n",
       "            color:  #000000;\n",
       "        }    #T_c8a9e52a_e550_11eb_b57e_02420a39a9adrow11_col11 {\n",
       "            background-color:  #023858;\n",
       "            color:  #f1f1f1;\n",
       "        }    #T_c8a9e52a_e550_11eb_b57e_02420a39a9adrow11_col12 {\n",
       "            background-color:  #ece7f2;\n",
       "            color:  #000000;\n",
       "        }    #T_c8a9e52a_e550_11eb_b57e_02420a39a9adrow11_col13 {\n",
       "            background-color:  #d5d5e8;\n",
       "            color:  #000000;\n",
       "        }    #T_c8a9e52a_e550_11eb_b57e_02420a39a9adrow11_col14 {\n",
       "            background-color:  #e9e5f1;\n",
       "            color:  #000000;\n",
       "        }    #T_c8a9e52a_e550_11eb_b57e_02420a39a9adrow11_col15 {\n",
       "            background-color:  #d1d2e6;\n",
       "            color:  #000000;\n",
       "        }    #T_c8a9e52a_e550_11eb_b57e_02420a39a9adrow11_col16 {\n",
       "            background-color:  #d5d5e8;\n",
       "            color:  #000000;\n",
       "        }    #T_c8a9e52a_e550_11eb_b57e_02420a39a9adrow11_col17 {\n",
       "            background-color:  #cccfe5;\n",
       "            color:  #000000;\n",
       "        }    #T_c8a9e52a_e550_11eb_b57e_02420a39a9adrow11_col18 {\n",
       "            background-color:  #f9f2f8;\n",
       "            color:  #000000;\n",
       "        }    #T_c8a9e52a_e550_11eb_b57e_02420a39a9adrow12_col0 {\n",
       "            background-color:  #f8f1f8;\n",
       "            color:  #000000;\n",
       "        }    #T_c8a9e52a_e550_11eb_b57e_02420a39a9adrow12_col1 {\n",
       "            background-color:  #e7e3f0;\n",
       "            color:  #000000;\n",
       "        }    #T_c8a9e52a_e550_11eb_b57e_02420a39a9adrow12_col2 {\n",
       "            background-color:  #e4e1ef;\n",
       "            color:  #000000;\n",
       "        }    #T_c8a9e52a_e550_11eb_b57e_02420a39a9adrow12_col3 {\n",
       "            background-color:  #eae6f1;\n",
       "            color:  #000000;\n",
       "        }    #T_c8a9e52a_e550_11eb_b57e_02420a39a9adrow12_col4 {\n",
       "            background-color:  #f6eff7;\n",
       "            color:  #000000;\n",
       "        }    #T_c8a9e52a_e550_11eb_b57e_02420a39a9adrow12_col5 {\n",
       "            background-color:  #c4cbe3;\n",
       "            color:  #000000;\n",
       "        }    #T_c8a9e52a_e550_11eb_b57e_02420a39a9adrow12_col6 {\n",
       "            background-color:  #e8e4f0;\n",
       "            color:  #000000;\n",
       "        }    #T_c8a9e52a_e550_11eb_b57e_02420a39a9adrow12_col7 {\n",
       "            background-color:  #dbdaeb;\n",
       "            color:  #000000;\n",
       "        }    #T_c8a9e52a_e550_11eb_b57e_02420a39a9adrow12_col8 {\n",
       "            background-color:  #fff7fb;\n",
       "            color:  #000000;\n",
       "        }    #T_c8a9e52a_e550_11eb_b57e_02420a39a9adrow12_col9 {\n",
       "            background-color:  #fff7fb;\n",
       "            color:  #000000;\n",
       "        }    #T_c8a9e52a_e550_11eb_b57e_02420a39a9adrow12_col10 {\n",
       "            background-color:  #fff7fb;\n",
       "            color:  #000000;\n",
       "        }    #T_c8a9e52a_e550_11eb_b57e_02420a39a9adrow12_col11 {\n",
       "            background-color:  #e9e5f1;\n",
       "            color:  #000000;\n",
       "        }    #T_c8a9e52a_e550_11eb_b57e_02420a39a9adrow12_col12 {\n",
       "            background-color:  #023858;\n",
       "            color:  #f1f1f1;\n",
       "        }    #T_c8a9e52a_e550_11eb_b57e_02420a39a9adrow12_col13 {\n",
       "            background-color:  #99b8d8;\n",
       "            color:  #000000;\n",
       "        }    #T_c8a9e52a_e550_11eb_b57e_02420a39a9adrow12_col14 {\n",
       "            background-color:  #dad9ea;\n",
       "            color:  #000000;\n",
       "        }    #T_c8a9e52a_e550_11eb_b57e_02420a39a9adrow12_col15 {\n",
       "            background-color:  #e7e3f0;\n",
       "            color:  #000000;\n",
       "        }    #T_c8a9e52a_e550_11eb_b57e_02420a39a9adrow12_col16 {\n",
       "            background-color:  #d8d7e9;\n",
       "            color:  #000000;\n",
       "        }    #T_c8a9e52a_e550_11eb_b57e_02420a39a9adrow12_col17 {\n",
       "            background-color:  #cccfe5;\n",
       "            color:  #000000;\n",
       "        }    #T_c8a9e52a_e550_11eb_b57e_02420a39a9adrow12_col18 {\n",
       "            background-color:  #f7f0f7;\n",
       "            color:  #000000;\n",
       "        }    #T_c8a9e52a_e550_11eb_b57e_02420a39a9adrow13_col0 {\n",
       "            background-color:  #fff7fb;\n",
       "            color:  #000000;\n",
       "        }    #T_c8a9e52a_e550_11eb_b57e_02420a39a9adrow13_col1 {\n",
       "            background-color:  #fff7fb;\n",
       "            color:  #000000;\n",
       "        }    #T_c8a9e52a_e550_11eb_b57e_02420a39a9adrow13_col2 {\n",
       "            background-color:  #fff7fb;\n",
       "            color:  #000000;\n",
       "        }    #T_c8a9e52a_e550_11eb_b57e_02420a39a9adrow13_col3 {\n",
       "            background-color:  #faf2f8;\n",
       "            color:  #000000;\n",
       "        }    #T_c8a9e52a_e550_11eb_b57e_02420a39a9adrow13_col4 {\n",
       "            background-color:  #fff7fb;\n",
       "            color:  #000000;\n",
       "        }    #T_c8a9e52a_e550_11eb_b57e_02420a39a9adrow13_col5 {\n",
       "            background-color:  #d8d7e9;\n",
       "            color:  #000000;\n",
       "        }    #T_c8a9e52a_e550_11eb_b57e_02420a39a9adrow13_col6 {\n",
       "            background-color:  #fff7fb;\n",
       "            color:  #000000;\n",
       "        }    #T_c8a9e52a_e550_11eb_b57e_02420a39a9adrow13_col7 {\n",
       "            background-color:  #e7e3f0;\n",
       "            color:  #000000;\n",
       "        }    #T_c8a9e52a_e550_11eb_b57e_02420a39a9adrow13_col8 {\n",
       "            background-color:  #fff7fb;\n",
       "            color:  #000000;\n",
       "        }    #T_c8a9e52a_e550_11eb_b57e_02420a39a9adrow13_col9 {\n",
       "            background-color:  #fff7fb;\n",
       "            color:  #000000;\n",
       "        }    #T_c8a9e52a_e550_11eb_b57e_02420a39a9adrow13_col10 {\n",
       "            background-color:  #fff7fb;\n",
       "            color:  #000000;\n",
       "        }    #T_c8a9e52a_e550_11eb_b57e_02420a39a9adrow13_col11 {\n",
       "            background-color:  #ede7f2;\n",
       "            color:  #000000;\n",
       "        }    #T_c8a9e52a_e550_11eb_b57e_02420a39a9adrow13_col12 {\n",
       "            background-color:  #b9c6e0;\n",
       "            color:  #000000;\n",
       "        }    #T_c8a9e52a_e550_11eb_b57e_02420a39a9adrow13_col13 {\n",
       "            background-color:  #023858;\n",
       "            color:  #f1f1f1;\n",
       "        }    #T_c8a9e52a_e550_11eb_b57e_02420a39a9adrow13_col14 {\n",
       "            background-color:  #f4edf6;\n",
       "            color:  #000000;\n",
       "        }    #T_c8a9e52a_e550_11eb_b57e_02420a39a9adrow13_col15 {\n",
       "            background-color:  #e1dfed;\n",
       "            color:  #000000;\n",
       "        }    #T_c8a9e52a_e550_11eb_b57e_02420a39a9adrow13_col16 {\n",
       "            background-color:  #dcdaeb;\n",
       "            color:  #000000;\n",
       "        }    #T_c8a9e52a_e550_11eb_b57e_02420a39a9adrow13_col17 {\n",
       "            background-color:  #c8cde4;\n",
       "            color:  #000000;\n",
       "        }    #T_c8a9e52a_e550_11eb_b57e_02420a39a9adrow13_col18 {\n",
       "            background-color:  #fdf5fa;\n",
       "            color:  #000000;\n",
       "        }    #T_c8a9e52a_e550_11eb_b57e_02420a39a9adrow14_col0 {\n",
       "            background-color:  #f5eff6;\n",
       "            color:  #000000;\n",
       "        }    #T_c8a9e52a_e550_11eb_b57e_02420a39a9adrow14_col1 {\n",
       "            background-color:  #c1cae2;\n",
       "            color:  #000000;\n",
       "        }    #T_c8a9e52a_e550_11eb_b57e_02420a39a9adrow14_col2 {\n",
       "            background-color:  #b8c6e0;\n",
       "            color:  #000000;\n",
       "        }    #T_c8a9e52a_e550_11eb_b57e_02420a39a9adrow14_col3 {\n",
       "            background-color:  #c0c9e2;\n",
       "            color:  #000000;\n",
       "        }    #T_c8a9e52a_e550_11eb_b57e_02420a39a9adrow14_col4 {\n",
       "            background-color:  #e8e4f0;\n",
       "            color:  #000000;\n",
       "        }    #T_c8a9e52a_e550_11eb_b57e_02420a39a9adrow14_col5 {\n",
       "            background-color:  #fff7fb;\n",
       "            color:  #000000;\n",
       "        }    #T_c8a9e52a_e550_11eb_b57e_02420a39a9adrow14_col6 {\n",
       "            background-color:  #b3c3de;\n",
       "            color:  #000000;\n",
       "        }    #T_c8a9e52a_e550_11eb_b57e_02420a39a9adrow14_col7 {\n",
       "            background-color:  #fff7fb;\n",
       "            color:  #000000;\n",
       "        }    #T_c8a9e52a_e550_11eb_b57e_02420a39a9adrow14_col8 {\n",
       "            background-color:  #fff7fb;\n",
       "            color:  #000000;\n",
       "        }    #T_c8a9e52a_e550_11eb_b57e_02420a39a9adrow14_col9 {\n",
       "            background-color:  #fff7fb;\n",
       "            color:  #000000;\n",
       "        }    #T_c8a9e52a_e550_11eb_b57e_02420a39a9adrow14_col10 {\n",
       "            background-color:  #fff7fb;\n",
       "            color:  #000000;\n",
       "        }    #T_c8a9e52a_e550_11eb_b57e_02420a39a9adrow14_col11 {\n",
       "            background-color:  #fff7fb;\n",
       "            color:  #000000;\n",
       "        }    #T_c8a9e52a_e550_11eb_b57e_02420a39a9adrow14_col12 {\n",
       "            background-color:  #f5eff6;\n",
       "            color:  #000000;\n",
       "        }    #T_c8a9e52a_e550_11eb_b57e_02420a39a9adrow14_col13 {\n",
       "            background-color:  #f7f0f7;\n",
       "            color:  #000000;\n",
       "        }    #T_c8a9e52a_e550_11eb_b57e_02420a39a9adrow14_col14 {\n",
       "            background-color:  #023858;\n",
       "            color:  #f1f1f1;\n",
       "        }    #T_c8a9e52a_e550_11eb_b57e_02420a39a9adrow14_col15 {\n",
       "            background-color:  #fff7fb;\n",
       "            color:  #000000;\n",
       "        }    #T_c8a9e52a_e550_11eb_b57e_02420a39a9adrow14_col16 {\n",
       "            background-color:  #7bacd1;\n",
       "            color:  #000000;\n",
       "        }    #T_c8a9e52a_e550_11eb_b57e_02420a39a9adrow14_col17 {\n",
       "            background-color:  #ebe6f2;\n",
       "            color:  #000000;\n",
       "        }    #T_c8a9e52a_e550_11eb_b57e_02420a39a9adrow14_col18 {\n",
       "            background-color:  #ece7f2;\n",
       "            color:  #000000;\n",
       "        }    #T_c8a9e52a_e550_11eb_b57e_02420a39a9adrow15_col0 {\n",
       "            background-color:  #faf2f8;\n",
       "            color:  #000000;\n",
       "        }    #T_c8a9e52a_e550_11eb_b57e_02420a39a9adrow15_col1 {\n",
       "            background-color:  #e5e1ef;\n",
       "            color:  #000000;\n",
       "        }    #T_c8a9e52a_e550_11eb_b57e_02420a39a9adrow15_col2 {\n",
       "            background-color:  #e2dfee;\n",
       "            color:  #000000;\n",
       "        }    #T_c8a9e52a_e550_11eb_b57e_02420a39a9adrow15_col3 {\n",
       "            background-color:  #e8e4f0;\n",
       "            color:  #000000;\n",
       "        }    #T_c8a9e52a_e550_11eb_b57e_02420a39a9adrow15_col4 {\n",
       "            background-color:  #f5eef6;\n",
       "            color:  #000000;\n",
       "        }    #T_c8a9e52a_e550_11eb_b57e_02420a39a9adrow15_col5 {\n",
       "            background-color:  #c6cce3;\n",
       "            color:  #000000;\n",
       "        }    #T_c8a9e52a_e550_11eb_b57e_02420a39a9adrow15_col6 {\n",
       "            background-color:  #e7e3f0;\n",
       "            color:  #000000;\n",
       "        }    #T_c8a9e52a_e550_11eb_b57e_02420a39a9adrow15_col7 {\n",
       "            background-color:  #dad9ea;\n",
       "            color:  #000000;\n",
       "        }    #T_c8a9e52a_e550_11eb_b57e_02420a39a9adrow15_col8 {\n",
       "            background-color:  #fff7fb;\n",
       "            color:  #000000;\n",
       "        }    #T_c8a9e52a_e550_11eb_b57e_02420a39a9adrow15_col9 {\n",
       "            background-color:  #fff7fb;\n",
       "            color:  #000000;\n",
       "        }    #T_c8a9e52a_e550_11eb_b57e_02420a39a9adrow15_col10 {\n",
       "            background-color:  #fff7fb;\n",
       "            color:  #000000;\n",
       "        }    #T_c8a9e52a_e550_11eb_b57e_02420a39a9adrow15_col11 {\n",
       "            background-color:  #ede7f2;\n",
       "            color:  #000000;\n",
       "        }    #T_c8a9e52a_e550_11eb_b57e_02420a39a9adrow15_col12 {\n",
       "            background-color:  #fff7fb;\n",
       "            color:  #000000;\n",
       "        }    #T_c8a9e52a_e550_11eb_b57e_02420a39a9adrow15_col13 {\n",
       "            background-color:  #e6e2ef;\n",
       "            color:  #000000;\n",
       "        }    #T_c8a9e52a_e550_11eb_b57e_02420a39a9adrow15_col14 {\n",
       "            background-color:  #fff7fb;\n",
       "            color:  #000000;\n",
       "        }    #T_c8a9e52a_e550_11eb_b57e_02420a39a9adrow15_col15 {\n",
       "            background-color:  #023858;\n",
       "            color:  #f1f1f1;\n",
       "        }    #T_c8a9e52a_e550_11eb_b57e_02420a39a9adrow15_col16 {\n",
       "            background-color:  #bcc7e1;\n",
       "            color:  #000000;\n",
       "        }    #T_c8a9e52a_e550_11eb_b57e_02420a39a9adrow15_col17 {\n",
       "            background-color:  #ced0e6;\n",
       "            color:  #000000;\n",
       "        }    #T_c8a9e52a_e550_11eb_b57e_02420a39a9adrow15_col18 {\n",
       "            background-color:  #f1ebf4;\n",
       "            color:  #000000;\n",
       "        }    #T_c8a9e52a_e550_11eb_b57e_02420a39a9adrow16_col0 {\n",
       "            background-color:  #faf3f9;\n",
       "            color:  #000000;\n",
       "        }    #T_c8a9e52a_e550_11eb_b57e_02420a39a9adrow16_col1 {\n",
       "            background-color:  #bfc9e1;\n",
       "            color:  #000000;\n",
       "        }    #T_c8a9e52a_e550_11eb_b57e_02420a39a9adrow16_col2 {\n",
       "            background-color:  #b9c6e0;\n",
       "            color:  #000000;\n",
       "        }    #T_c8a9e52a_e550_11eb_b57e_02420a39a9adrow16_col3 {\n",
       "            background-color:  #cdd0e5;\n",
       "            color:  #000000;\n",
       "        }    #T_c8a9e52a_e550_11eb_b57e_02420a39a9adrow16_col4 {\n",
       "            background-color:  #e6e2ef;\n",
       "            color:  #000000;\n",
       "        }    #T_c8a9e52a_e550_11eb_b57e_02420a39a9adrow16_col5 {\n",
       "            background-color:  #f0eaf4;\n",
       "            color:  #000000;\n",
       "        }    #T_c8a9e52a_e550_11eb_b57e_02420a39a9adrow16_col6 {\n",
       "            background-color:  #bcc7e1;\n",
       "            color:  #000000;\n",
       "        }    #T_c8a9e52a_e550_11eb_b57e_02420a39a9adrow16_col7 {\n",
       "            background-color:  #f4edf6;\n",
       "            color:  #000000;\n",
       "        }    #T_c8a9e52a_e550_11eb_b57e_02420a39a9adrow16_col8 {\n",
       "            background-color:  #fff7fb;\n",
       "            color:  #000000;\n",
       "        }    #T_c8a9e52a_e550_11eb_b57e_02420a39a9adrow16_col9 {\n",
       "            background-color:  #fff7fb;\n",
       "            color:  #000000;\n",
       "        }    #T_c8a9e52a_e550_11eb_b57e_02420a39a9adrow16_col10 {\n",
       "            background-color:  #fff7fb;\n",
       "            color:  #000000;\n",
       "        }    #T_c8a9e52a_e550_11eb_b57e_02420a39a9adrow16_col11 {\n",
       "            background-color:  #f8f1f8;\n",
       "            color:  #000000;\n",
       "        }    #T_c8a9e52a_e550_11eb_b57e_02420a39a9adrow16_col12 {\n",
       "            background-color:  #fdf5fa;\n",
       "            color:  #000000;\n",
       "        }    #T_c8a9e52a_e550_11eb_b57e_02420a39a9adrow16_col13 {\n",
       "            background-color:  #ece7f2;\n",
       "            color:  #000000;\n",
       "        }    #T_c8a9e52a_e550_11eb_b57e_02420a39a9adrow16_col14 {\n",
       "            background-color:  #89b1d4;\n",
       "            color:  #000000;\n",
       "        }    #T_c8a9e52a_e550_11eb_b57e_02420a39a9adrow16_col15 {\n",
       "            background-color:  #cacee5;\n",
       "            color:  #000000;\n",
       "        }    #T_c8a9e52a_e550_11eb_b57e_02420a39a9adrow16_col16 {\n",
       "            background-color:  #023858;\n",
       "            color:  #f1f1f1;\n",
       "        }    #T_c8a9e52a_e550_11eb_b57e_02420a39a9adrow16_col17 {\n",
       "            background-color:  #fff7fb;\n",
       "            color:  #000000;\n",
       "        }    #T_c8a9e52a_e550_11eb_b57e_02420a39a9adrow16_col18 {\n",
       "            background-color:  #e9e5f1;\n",
       "            color:  #000000;\n",
       "        }    #T_c8a9e52a_e550_11eb_b57e_02420a39a9adrow17_col0 {\n",
       "            background-color:  #f9f2f8;\n",
       "            color:  #000000;\n",
       "        }    #T_c8a9e52a_e550_11eb_b57e_02420a39a9adrow17_col1 {\n",
       "            background-color:  #f0eaf4;\n",
       "            color:  #000000;\n",
       "        }    #T_c8a9e52a_e550_11eb_b57e_02420a39a9adrow17_col2 {\n",
       "            background-color:  #efe9f3;\n",
       "            color:  #000000;\n",
       "        }    #T_c8a9e52a_e550_11eb_b57e_02420a39a9adrow17_col3 {\n",
       "            background-color:  #e9e5f1;\n",
       "            color:  #000000;\n",
       "        }    #T_c8a9e52a_e550_11eb_b57e_02420a39a9adrow17_col4 {\n",
       "            background-color:  #fbf3f9;\n",
       "            color:  #000000;\n",
       "        }    #T_c8a9e52a_e550_11eb_b57e_02420a39a9adrow17_col5 {\n",
       "            background-color:  #d4d4e8;\n",
       "            color:  #000000;\n",
       "        }    #T_c8a9e52a_e550_11eb_b57e_02420a39a9adrow17_col6 {\n",
       "            background-color:  #ede7f2;\n",
       "            color:  #000000;\n",
       "        }    #T_c8a9e52a_e550_11eb_b57e_02420a39a9adrow17_col7 {\n",
       "            background-color:  #e4e1ef;\n",
       "            color:  #000000;\n",
       "        }    #T_c8a9e52a_e550_11eb_b57e_02420a39a9adrow17_col8 {\n",
       "            background-color:  #fff7fb;\n",
       "            color:  #000000;\n",
       "        }    #T_c8a9e52a_e550_11eb_b57e_02420a39a9adrow17_col9 {\n",
       "            background-color:  #fff7fb;\n",
       "            color:  #000000;\n",
       "        }    #T_c8a9e52a_e550_11eb_b57e_02420a39a9adrow17_col10 {\n",
       "            background-color:  #fff7fb;\n",
       "            color:  #000000;\n",
       "        }    #T_c8a9e52a_e550_11eb_b57e_02420a39a9adrow17_col11 {\n",
       "            background-color:  #f2ecf5;\n",
       "            color:  #000000;\n",
       "        }    #T_c8a9e52a_e550_11eb_b57e_02420a39a9adrow17_col12 {\n",
       "            background-color:  #f3edf5;\n",
       "            color:  #000000;\n",
       "        }    #T_c8a9e52a_e550_11eb_b57e_02420a39a9adrow17_col13 {\n",
       "            background-color:  #d9d8ea;\n",
       "            color:  #000000;\n",
       "        }    #T_c8a9e52a_e550_11eb_b57e_02420a39a9adrow17_col14 {\n",
       "            background-color:  #f4eef6;\n",
       "            color:  #000000;\n",
       "        }    #T_c8a9e52a_e550_11eb_b57e_02420a39a9adrow17_col15 {\n",
       "            background-color:  #dad9ea;\n",
       "            color:  #000000;\n",
       "        }    #T_c8a9e52a_e550_11eb_b57e_02420a39a9adrow17_col16 {\n",
       "            background-color:  #fff7fb;\n",
       "            color:  #000000;\n",
       "        }    #T_c8a9e52a_e550_11eb_b57e_02420a39a9adrow17_col17 {\n",
       "            background-color:  #023858;\n",
       "            color:  #f1f1f1;\n",
       "        }    #T_c8a9e52a_e550_11eb_b57e_02420a39a9adrow17_col18 {\n",
       "            background-color:  #fff7fb;\n",
       "            color:  #000000;\n",
       "        }    #T_c8a9e52a_e550_11eb_b57e_02420a39a9adrow18_col0 {\n",
       "            background-color:  #fcf4fa;\n",
       "            color:  #000000;\n",
       "        }    #T_c8a9e52a_e550_11eb_b57e_02420a39a9adrow18_col1 {\n",
       "            background-color:  #d2d3e7;\n",
       "            color:  #000000;\n",
       "        }    #T_c8a9e52a_e550_11eb_b57e_02420a39a9adrow18_col2 {\n",
       "            background-color:  #bcc7e1;\n",
       "            color:  #000000;\n",
       "        }    #T_c8a9e52a_e550_11eb_b57e_02420a39a9adrow18_col3 {\n",
       "            background-color:  #c2cbe2;\n",
       "            color:  #000000;\n",
       "        }    #T_c8a9e52a_e550_11eb_b57e_02420a39a9adrow18_col4 {\n",
       "            background-color:  #f0eaf4;\n",
       "            color:  #000000;\n",
       "        }    #T_c8a9e52a_e550_11eb_b57e_02420a39a9adrow18_col5 {\n",
       "            background-color:  #e5e1ef;\n",
       "            color:  #000000;\n",
       "        }    #T_c8a9e52a_e550_11eb_b57e_02420a39a9adrow18_col6 {\n",
       "            background-color:  #bfc9e1;\n",
       "            color:  #000000;\n",
       "        }    #T_c8a9e52a_e550_11eb_b57e_02420a39a9adrow18_col7 {\n",
       "            background-color:  #efe9f3;\n",
       "            color:  #000000;\n",
       "        }    #T_c8a9e52a_e550_11eb_b57e_02420a39a9adrow18_col8 {\n",
       "            background-color:  #fff7fb;\n",
       "            color:  #000000;\n",
       "        }    #T_c8a9e52a_e550_11eb_b57e_02420a39a9adrow18_col9 {\n",
       "            background-color:  #fff7fb;\n",
       "            color:  #000000;\n",
       "        }    #T_c8a9e52a_e550_11eb_b57e_02420a39a9adrow18_col10 {\n",
       "            background-color:  #fff7fb;\n",
       "            color:  #000000;\n",
       "        }    #T_c8a9e52a_e550_11eb_b57e_02420a39a9adrow18_col11 {\n",
       "            background-color:  #f8f1f8;\n",
       "            color:  #000000;\n",
       "        }    #T_c8a9e52a_e550_11eb_b57e_02420a39a9adrow18_col12 {\n",
       "            background-color:  #f8f1f8;\n",
       "            color:  #000000;\n",
       "        }    #T_c8a9e52a_e550_11eb_b57e_02420a39a9adrow18_col13 {\n",
       "            background-color:  #e9e5f1;\n",
       "            color:  #000000;\n",
       "        }    #T_c8a9e52a_e550_11eb_b57e_02420a39a9adrow18_col14 {\n",
       "            background-color:  #ced0e6;\n",
       "            color:  #000000;\n",
       "        }    #T_c8a9e52a_e550_11eb_b57e_02420a39a9adrow18_col15 {\n",
       "            background-color:  #d6d6e9;\n",
       "            color:  #000000;\n",
       "        }    #T_c8a9e52a_e550_11eb_b57e_02420a39a9adrow18_col16 {\n",
       "            background-color:  #bcc7e1;\n",
       "            color:  #000000;\n",
       "        }    #T_c8a9e52a_e550_11eb_b57e_02420a39a9adrow18_col17 {\n",
       "            background-color:  #dcdaeb;\n",
       "            color:  #000000;\n",
       "        }    #T_c8a9e52a_e550_11eb_b57e_02420a39a9adrow18_col18 {\n",
       "            background-color:  #023858;\n",
       "            color:  #f1f1f1;\n",
       "        }</style><table id=\"T_c8a9e52a_e550_11eb_b57e_02420a39a9ad\" ><thead>    <tr>        <th class=\"blank level0\" ></th>        <th class=\"col_heading level0 col0\" >total_images</th>        <th class=\"col_heading level0 col1\" >last_price</th>        <th class=\"col_heading level0 col2\" >total_area</th>        <th class=\"col_heading level0 col3\" >rooms</th>        <th class=\"col_heading level0 col4\" >ceiling_height</th>        <th class=\"col_heading level0 col5\" >floors_total</th>        <th class=\"col_heading level0 col6\" >living_area</th>        <th class=\"col_heading level0 col7\" >floor</th>        <th class=\"col_heading level0 col8\" >studio</th>        <th class=\"col_heading level0 col9\" >open_plan</th>        <th class=\"col_heading level0 col10\" >kitchen_area</th>        <th class=\"col_heading level0 col11\" >balcony</th>        <th class=\"col_heading level0 col12\" >airports_nearest</th>        <th class=\"col_heading level0 col13\" >cityCenters_nearest</th>        <th class=\"col_heading level0 col14\" >parks_around3000</th>        <th class=\"col_heading level0 col15\" >parks_nearest</th>        <th class=\"col_heading level0 col16\" >ponds_around3000</th>        <th class=\"col_heading level0 col17\" >ponds_nearest</th>        <th class=\"col_heading level0 col18\" >days_exposition</th>    </tr></thead><tbody>\n",
       "                <tr>\n",
       "                        <th id=\"T_c8a9e52a_e550_11eb_b57e_02420a39a9adlevel0_row0\" class=\"row_heading level0 row0\" >total_images</th>\n",
       "                        <td id=\"T_c8a9e52a_e550_11eb_b57e_02420a39a9adrow0_col0\" class=\"data row0 col0\" >1</td>\n",
       "                        <td id=\"T_c8a9e52a_e550_11eb_b57e_02420a39a9adrow0_col1\" class=\"data row0 col1\" >0.1</td>\n",
       "                        <td id=\"T_c8a9e52a_e550_11eb_b57e_02420a39a9adrow0_col2\" class=\"data row0 col2\" >0.12</td>\n",
       "                        <td id=\"T_c8a9e52a_e550_11eb_b57e_02420a39a9adrow0_col3\" class=\"data row0 col3\" >0.099</td>\n",
       "                        <td id=\"T_c8a9e52a_e550_11eb_b57e_02420a39a9adrow0_col4\" class=\"data row0 col4\" >-0.002</td>\n",
       "                        <td id=\"T_c8a9e52a_e550_11eb_b57e_02420a39a9adrow0_col5\" class=\"data row0 col5\" >0.01</td>\n",
       "                        <td id=\"T_c8a9e52a_e550_11eb_b57e_02420a39a9adrow0_col6\" class=\"data row0 col6\" >0.1</td>\n",
       "                        <td id=\"T_c8a9e52a_e550_11eb_b57e_02420a39a9adrow0_col7\" class=\"data row0 col7\" >0.031</td>\n",
       "                        <td id=\"T_c8a9e52a_e550_11eb_b57e_02420a39a9adrow0_col8\" class=\"data row0 col8\" >-0.029</td>\n",
       "                        <td id=\"T_c8a9e52a_e550_11eb_b57e_02420a39a9adrow0_col9\" class=\"data row0 col9\" >-0.024</td>\n",
       "                        <td id=\"T_c8a9e52a_e550_11eb_b57e_02420a39a9adrow0_col10\" class=\"data row0 col10\" >0.1</td>\n",
       "                        <td id=\"T_c8a9e52a_e550_11eb_b57e_02420a39a9adrow0_col11\" class=\"data row0 col11\" >0.12</td>\n",
       "                        <td id=\"T_c8a9e52a_e550_11eb_b57e_02420a39a9adrow0_col12\" class=\"data row0 col12\" >-0.0023</td>\n",
       "                        <td id=\"T_c8a9e52a_e550_11eb_b57e_02420a39a9adrow0_col13\" class=\"data row0 col13\" >-0.048</td>\n",
       "                        <td id=\"T_c8a9e52a_e550_11eb_b57e_02420a39a9adrow0_col14\" class=\"data row0 col14\" >0.021</td>\n",
       "                        <td id=\"T_c8a9e52a_e550_11eb_b57e_02420a39a9adrow0_col15\" class=\"data row0 col15\" >-0.0083</td>\n",
       "                        <td id=\"T_c8a9e52a_e550_11eb_b57e_02420a39a9adrow0_col16\" class=\"data row0 col16\" >-0.012</td>\n",
       "                        <td id=\"T_c8a9e52a_e550_11eb_b57e_02420a39a9adrow0_col17\" class=\"data row0 col17\" >-0.003</td>\n",
       "                        <td id=\"T_c8a9e52a_e550_11eb_b57e_02420a39a9adrow0_col18\" class=\"data row0 col18\" >-0.027</td>\n",
       "            </tr>\n",
       "            <tr>\n",
       "                        <th id=\"T_c8a9e52a_e550_11eb_b57e_02420a39a9adlevel0_row1\" class=\"row_heading level0 row1\" >last_price</th>\n",
       "                        <td id=\"T_c8a9e52a_e550_11eb_b57e_02420a39a9adrow1_col0\" class=\"data row1 col0\" >0.1</td>\n",
       "                        <td id=\"T_c8a9e52a_e550_11eb_b57e_02420a39a9adrow1_col1\" class=\"data row1 col1\" >1</td>\n",
       "                        <td id=\"T_c8a9e52a_e550_11eb_b57e_02420a39a9adrow1_col2\" class=\"data row1 col2\" >0.65</td>\n",
       "                        <td id=\"T_c8a9e52a_e550_11eb_b57e_02420a39a9adrow1_col3\" class=\"data row1 col3\" >0.36</td>\n",
       "                        <td id=\"T_c8a9e52a_e550_11eb_b57e_02420a39a9adrow1_col4\" class=\"data row1 col4\" >0.085</td>\n",
       "                        <td id=\"T_c8a9e52a_e550_11eb_b57e_02420a39a9adrow1_col5\" class=\"data row1 col5\" >-0.007</td>\n",
       "                        <td id=\"T_c8a9e52a_e550_11eb_b57e_02420a39a9adrow1_col6\" class=\"data row1 col6\" >0.57</td>\n",
       "                        <td id=\"T_c8a9e52a_e550_11eb_b57e_02420a39a9adrow1_col7\" class=\"data row1 col7\" >0.027</td>\n",
       "                        <td id=\"T_c8a9e52a_e550_11eb_b57e_02420a39a9adrow1_col8\" class=\"data row1 col8\" >-0.025</td>\n",
       "                        <td id=\"T_c8a9e52a_e550_11eb_b57e_02420a39a9adrow1_col9\" class=\"data row1 col9\" >-0.0088</td>\n",
       "                        <td id=\"T_c8a9e52a_e550_11eb_b57e_02420a39a9adrow1_col10\" class=\"data row1 col10\" >0.52</td>\n",
       "                        <td id=\"T_c8a9e52a_e550_11eb_b57e_02420a39a9adrow1_col11\" class=\"data row1 col11\" >0.03</td>\n",
       "                        <td id=\"T_c8a9e52a_e550_11eb_b57e_02420a39a9adrow1_col12\" class=\"data row1 col12\" >-0.026</td>\n",
       "                        <td id=\"T_c8a9e52a_e550_11eb_b57e_02420a39a9adrow1_col13\" class=\"data row1 col13\" >-0.21</td>\n",
       "                        <td id=\"T_c8a9e52a_e550_11eb_b57e_02420a39a9adrow1_col14\" class=\"data row1 col14\" >0.15</td>\n",
       "                        <td id=\"T_c8a9e52a_e550_11eb_b57e_02420a39a9adrow1_col15\" class=\"data row1 col15\" >-0.016</td>\n",
       "                        <td id=\"T_c8a9e52a_e550_11eb_b57e_02420a39a9adrow1_col16\" class=\"data row1 col16\" >0.16</td>\n",
       "                        <td id=\"T_c8a9e52a_e550_11eb_b57e_02420a39a9adrow1_col17\" class=\"data row1 col17\" >-0.085</td>\n",
       "                        <td id=\"T_c8a9e52a_e550_11eb_b57e_02420a39a9adrow1_col18\" class=\"data row1 col18\" >0.081</td>\n",
       "            </tr>\n",
       "            <tr>\n",
       "                        <th id=\"T_c8a9e52a_e550_11eb_b57e_02420a39a9adlevel0_row2\" class=\"row_heading level0 row2\" >total_area</th>\n",
       "                        <td id=\"T_c8a9e52a_e550_11eb_b57e_02420a39a9adrow2_col0\" class=\"data row2 col0\" >0.12</td>\n",
       "                        <td id=\"T_c8a9e52a_e550_11eb_b57e_02420a39a9adrow2_col1\" class=\"data row2 col1\" >0.65</td>\n",
       "                        <td id=\"T_c8a9e52a_e550_11eb_b57e_02420a39a9adrow2_col2\" class=\"data row2 col2\" >1</td>\n",
       "                        <td id=\"T_c8a9e52a_e550_11eb_b57e_02420a39a9adrow2_col3\" class=\"data row2 col3\" >0.76</td>\n",
       "                        <td id=\"T_c8a9e52a_e550_11eb_b57e_02420a39a9adrow2_col4\" class=\"data row2 col4\" >0.095</td>\n",
       "                        <td id=\"T_c8a9e52a_e550_11eb_b57e_02420a39a9adrow2_col5\" class=\"data row2 col5\" >-0.076</td>\n",
       "                        <td id=\"T_c8a9e52a_e550_11eb_b57e_02420a39a9adrow2_col6\" class=\"data row2 col6\" >0.94</td>\n",
       "                        <td id=\"T_c8a9e52a_e550_11eb_b57e_02420a39a9adrow2_col7\" class=\"data row2 col7\" >-0.025</td>\n",
       "                        <td id=\"T_c8a9e52a_e550_11eb_b57e_02420a39a9adrow2_col8\" class=\"data row2 col8\" >-0.073</td>\n",
       "                        <td id=\"T_c8a9e52a_e550_11eb_b57e_02420a39a9adrow2_col9\" class=\"data row2 col9\" >-0.035</td>\n",
       "                        <td id=\"T_c8a9e52a_e550_11eb_b57e_02420a39a9adrow2_col10\" class=\"data row2 col10\" >0.61</td>\n",
       "                        <td id=\"T_c8a9e52a_e550_11eb_b57e_02420a39a9adrow2_col11\" class=\"data row2 col11\" >0.048</td>\n",
       "                        <td id=\"T_c8a9e52a_e550_11eb_b57e_02420a39a9adrow2_col12\" class=\"data row2 col12\" >-0.031</td>\n",
       "                        <td id=\"T_c8a9e52a_e550_11eb_b57e_02420a39a9adrow2_col13\" class=\"data row2 col13\" >-0.23</td>\n",
       "                        <td id=\"T_c8a9e52a_e550_11eb_b57e_02420a39a9adrow2_col14\" class=\"data row2 col14\" >0.16</td>\n",
       "                        <td id=\"T_c8a9e52a_e550_11eb_b57e_02420a39a9adrow2_col15\" class=\"data row2 col15\" >-0.021</td>\n",
       "                        <td id=\"T_c8a9e52a_e550_11eb_b57e_02420a39a9adrow2_col16\" class=\"data row2 col16\" >0.16</td>\n",
       "                        <td id=\"T_c8a9e52a_e550_11eb_b57e_02420a39a9adrow2_col17\" class=\"data row2 col17\" >-0.098</td>\n",
       "                        <td id=\"T_c8a9e52a_e550_11eb_b57e_02420a39a9adrow2_col18\" class=\"data row2 col18\" >0.15</td>\n",
       "            </tr>\n",
       "            <tr>\n",
       "                        <th id=\"T_c8a9e52a_e550_11eb_b57e_02420a39a9adlevel0_row3\" class=\"row_heading level0 row3\" >rooms</th>\n",
       "                        <td id=\"T_c8a9e52a_e550_11eb_b57e_02420a39a9adrow3_col0\" class=\"data row3 col0\" >0.099</td>\n",
       "                        <td id=\"T_c8a9e52a_e550_11eb_b57e_02420a39a9adrow3_col1\" class=\"data row3 col1\" >0.36</td>\n",
       "                        <td id=\"T_c8a9e52a_e550_11eb_b57e_02420a39a9adrow3_col2\" class=\"data row3 col2\" >0.76</td>\n",
       "                        <td id=\"T_c8a9e52a_e550_11eb_b57e_02420a39a9adrow3_col3\" class=\"data row3 col3\" >1</td>\n",
       "                        <td id=\"T_c8a9e52a_e550_11eb_b57e_02420a39a9adrow3_col4\" class=\"data row3 col4\" >0.054</td>\n",
       "                        <td id=\"T_c8a9e52a_e550_11eb_b57e_02420a39a9adrow3_col5\" class=\"data row3 col5\" >-0.23</td>\n",
       "                        <td id=\"T_c8a9e52a_e550_11eb_b57e_02420a39a9adrow3_col6\" class=\"data row3 col6\" >0.85</td>\n",
       "                        <td id=\"T_c8a9e52a_e550_11eb_b57e_02420a39a9adrow3_col7\" class=\"data row3 col7\" >-0.15</td>\n",
       "                        <td id=\"T_c8a9e52a_e550_11eb_b57e_02420a39a9adrow3_col8\" class=\"data row3 col8\" >-0.15</td>\n",
       "                        <td id=\"T_c8a9e52a_e550_11eb_b57e_02420a39a9adrow3_col9\" class=\"data row3 col9\" >-0.088</td>\n",
       "                        <td id=\"T_c8a9e52a_e550_11eb_b57e_02420a39a9adrow3_col10\" class=\"data row3 col10\" >0.27</td>\n",
       "                        <td id=\"T_c8a9e52a_e550_11eb_b57e_02420a39a9adrow3_col11\" class=\"data row3 col11\" >0.018</td>\n",
       "                        <td id=\"T_c8a9e52a_e550_11eb_b57e_02420a39a9adrow3_col12\" class=\"data row3 col12\" >-0.061</td>\n",
       "                        <td id=\"T_c8a9e52a_e550_11eb_b57e_02420a39a9adrow3_col13\" class=\"data row3 col13\" >-0.18</td>\n",
       "                        <td id=\"T_c8a9e52a_e550_11eb_b57e_02420a39a9adrow3_col14\" class=\"data row3 col14\" >0.14</td>\n",
       "                        <td id=\"T_c8a9e52a_e550_11eb_b57e_02420a39a9adrow3_col15\" class=\"data row3 col15\" >-0.055</td>\n",
       "                        <td id=\"T_c8a9e52a_e550_11eb_b57e_02420a39a9adrow3_col16\" class=\"data row3 col16\" >0.093</td>\n",
       "                        <td id=\"T_c8a9e52a_e550_11eb_b57e_02420a39a9adrow3_col17\" class=\"data row3 col17\" >-0.058</td>\n",
       "                        <td id=\"T_c8a9e52a_e550_11eb_b57e_02420a39a9adrow3_col18\" class=\"data row3 col18\" >0.13</td>\n",
       "            </tr>\n",
       "            <tr>\n",
       "                        <th id=\"T_c8a9e52a_e550_11eb_b57e_02420a39a9adlevel0_row4\" class=\"row_heading level0 row4\" >ceiling_height</th>\n",
       "                        <td id=\"T_c8a9e52a_e550_11eb_b57e_02420a39a9adrow4_col0\" class=\"data row4 col0\" >-0.002</td>\n",
       "                        <td id=\"T_c8a9e52a_e550_11eb_b57e_02420a39a9adrow4_col1\" class=\"data row4 col1\" >0.085</td>\n",
       "                        <td id=\"T_c8a9e52a_e550_11eb_b57e_02420a39a9adrow4_col2\" class=\"data row4 col2\" >0.095</td>\n",
       "                        <td id=\"T_c8a9e52a_e550_11eb_b57e_02420a39a9adrow4_col3\" class=\"data row4 col3\" >0.054</td>\n",
       "                        <td id=\"T_c8a9e52a_e550_11eb_b57e_02420a39a9adrow4_col4\" class=\"data row4 col4\" >1</td>\n",
       "                        <td id=\"T_c8a9e52a_e550_11eb_b57e_02420a39a9adrow4_col5\" class=\"data row4 col5\" >-0.029</td>\n",
       "                        <td id=\"T_c8a9e52a_e550_11eb_b57e_02420a39a9adrow4_col6\" class=\"data row4 col6\" >0.091</td>\n",
       "                        <td id=\"T_c8a9e52a_e550_11eb_b57e_02420a39a9adrow4_col7\" class=\"data row4 col7\" >-0.012</td>\n",
       "                        <td id=\"T_c8a9e52a_e550_11eb_b57e_02420a39a9adrow4_col8\" class=\"data row4 col8\" >0.0017</td>\n",
       "                        <td id=\"T_c8a9e52a_e550_11eb_b57e_02420a39a9adrow4_col9\" class=\"data row4 col9\" >0.043</td>\n",
       "                        <td id=\"T_c8a9e52a_e550_11eb_b57e_02420a39a9adrow4_col10\" class=\"data row4 col10\" >0.088</td>\n",
       "                        <td id=\"T_c8a9e52a_e550_11eb_b57e_02420a39a9adrow4_col11\" class=\"data row4 col11\" >0.041</td>\n",
       "                        <td id=\"T_c8a9e52a_e550_11eb_b57e_02420a39a9adrow4_col12\" class=\"data row4 col12\" >-0.024</td>\n",
       "                        <td id=\"T_c8a9e52a_e550_11eb_b57e_02420a39a9adrow4_col13\" class=\"data row4 col13\" >-0.092</td>\n",
       "                        <td id=\"T_c8a9e52a_e550_11eb_b57e_02420a39a9adrow4_col14\" class=\"data row4 col14\" >0.066</td>\n",
       "                        <td id=\"T_c8a9e52a_e550_11eb_b57e_02420a39a9adrow4_col15\" class=\"data row4 col15\" >-0.019</td>\n",
       "                        <td id=\"T_c8a9e52a_e550_11eb_b57e_02420a39a9adrow4_col16\" class=\"data row4 col16\" >0.078</td>\n",
       "                        <td id=\"T_c8a9e52a_e550_11eb_b57e_02420a39a9adrow4_col17\" class=\"data row4 col17\" >-0.059</td>\n",
       "                        <td id=\"T_c8a9e52a_e550_11eb_b57e_02420a39a9adrow4_col18\" class=\"data row4 col18\" >0.019</td>\n",
       "            </tr>\n",
       "            <tr>\n",
       "                        <th id=\"T_c8a9e52a_e550_11eb_b57e_02420a39a9adlevel0_row5\" class=\"row_heading level0 row5\" >floors_total</th>\n",
       "                        <td id=\"T_c8a9e52a_e550_11eb_b57e_02420a39a9adrow5_col0\" class=\"data row5 col0\" >0.01</td>\n",
       "                        <td id=\"T_c8a9e52a_e550_11eb_b57e_02420a39a9adrow5_col1\" class=\"data row5 col1\" >-0.007</td>\n",
       "                        <td id=\"T_c8a9e52a_e550_11eb_b57e_02420a39a9adrow5_col2\" class=\"data row5 col2\" >-0.076</td>\n",
       "                        <td id=\"T_c8a9e52a_e550_11eb_b57e_02420a39a9adrow5_col3\" class=\"data row5 col3\" >-0.23</td>\n",
       "                        <td id=\"T_c8a9e52a_e550_11eb_b57e_02420a39a9adrow5_col4\" class=\"data row5 col4\" >-0.029</td>\n",
       "                        <td id=\"T_c8a9e52a_e550_11eb_b57e_02420a39a9adrow5_col5\" class=\"data row5 col5\" >1</td>\n",
       "                        <td id=\"T_c8a9e52a_e550_11eb_b57e_02420a39a9adrow5_col6\" class=\"data row5 col6\" >-0.17</td>\n",
       "                        <td id=\"T_c8a9e52a_e550_11eb_b57e_02420a39a9adrow5_col7\" class=\"data row5 col7\" >0.68</td>\n",
       "                        <td id=\"T_c8a9e52a_e550_11eb_b57e_02420a39a9adrow5_col8\" class=\"data row5 col8\" >0.07</td>\n",
       "                        <td id=\"T_c8a9e52a_e550_11eb_b57e_02420a39a9adrow5_col9\" class=\"data row5 col9\" >0.051</td>\n",
       "                        <td id=\"T_c8a9e52a_e550_11eb_b57e_02420a39a9adrow5_col10\" class=\"data row5 col10\" >0.16</td>\n",
       "                        <td id=\"T_c8a9e52a_e550_11eb_b57e_02420a39a9adrow5_col11\" class=\"data row5 col11\" >0.19</td>\n",
       "                        <td id=\"T_c8a9e52a_e550_11eb_b57e_02420a39a9adrow5_col12\" class=\"data row5 col12\" >0.11</td>\n",
       "                        <td id=\"T_c8a9e52a_e550_11eb_b57e_02420a39a9adrow5_col13\" class=\"data row5 col13\" >0.02</td>\n",
       "                        <td id=\"T_c8a9e52a_e550_11eb_b57e_02420a39a9adrow5_col14\" class=\"data row5 col14\" >-0.25</td>\n",
       "                        <td id=\"T_c8a9e52a_e550_11eb_b57e_02420a39a9adrow5_col15\" class=\"data row5 col15\" >0.098</td>\n",
       "                        <td id=\"T_c8a9e52a_e550_11eb_b57e_02420a39a9adrow5_col16\" class=\"data row5 col16\" >-0.12</td>\n",
       "                        <td id=\"T_c8a9e52a_e550_11eb_b57e_02420a39a9adrow5_col17\" class=\"data row5 col17\" >0.039</td>\n",
       "                        <td id=\"T_c8a9e52a_e550_11eb_b57e_02420a39a9adrow5_col18\" class=\"data row5 col18\" >-0.052</td>\n",
       "            </tr>\n",
       "            <tr>\n",
       "                        <th id=\"T_c8a9e52a_e550_11eb_b57e_02420a39a9adlevel0_row6\" class=\"row_heading level0 row6\" >living_area</th>\n",
       "                        <td id=\"T_c8a9e52a_e550_11eb_b57e_02420a39a9adrow6_col0\" class=\"data row6 col0\" >0.1</td>\n",
       "                        <td id=\"T_c8a9e52a_e550_11eb_b57e_02420a39a9adrow6_col1\" class=\"data row6 col1\" >0.57</td>\n",
       "                        <td id=\"T_c8a9e52a_e550_11eb_b57e_02420a39a9adrow6_col2\" class=\"data row6 col2\" >0.94</td>\n",
       "                        <td id=\"T_c8a9e52a_e550_11eb_b57e_02420a39a9adrow6_col3\" class=\"data row6 col3\" >0.85</td>\n",
       "                        <td id=\"T_c8a9e52a_e550_11eb_b57e_02420a39a9adrow6_col4\" class=\"data row6 col4\" >0.091</td>\n",
       "                        <td id=\"T_c8a9e52a_e550_11eb_b57e_02420a39a9adrow6_col5\" class=\"data row6 col5\" >-0.17</td>\n",
       "                        <td id=\"T_c8a9e52a_e550_11eb_b57e_02420a39a9adrow6_col6\" class=\"data row6 col6\" >1</td>\n",
       "                        <td id=\"T_c8a9e52a_e550_11eb_b57e_02420a39a9adrow6_col7\" class=\"data row6 col7\" >-0.097</td>\n",
       "                        <td id=\"T_c8a9e52a_e550_11eb_b57e_02420a39a9adrow6_col8\" class=\"data row6 col8\" >-0.056</td>\n",
       "                        <td id=\"T_c8a9e52a_e550_11eb_b57e_02420a39a9adrow6_col9\" class=\"data row6 col9\" >-0.034</td>\n",
       "                        <td id=\"T_c8a9e52a_e550_11eb_b57e_02420a39a9adrow6_col10\" class=\"data row6 col10\" >0.43</td>\n",
       "                        <td id=\"T_c8a9e52a_e550_11eb_b57e_02420a39a9adrow6_col11\" class=\"data row6 col11\" >0.019</td>\n",
       "                        <td id=\"T_c8a9e52a_e550_11eb_b57e_02420a39a9adrow6_col12\" class=\"data row6 col12\" >-0.058</td>\n",
       "                        <td id=\"T_c8a9e52a_e550_11eb_b57e_02420a39a9adrow6_col13\" class=\"data row6 col13\" >-0.23</td>\n",
       "                        <td id=\"T_c8a9e52a_e550_11eb_b57e_02420a39a9adrow6_col14\" class=\"data row6 col14\" >0.18</td>\n",
       "                        <td id=\"T_c8a9e52a_e550_11eb_b57e_02420a39a9adrow6_col15\" class=\"data row6 col15\" >-0.05</td>\n",
       "                        <td id=\"T_c8a9e52a_e550_11eb_b57e_02420a39a9adrow6_col16\" class=\"data row6 col16\" >0.15</td>\n",
       "                        <td id=\"T_c8a9e52a_e550_11eb_b57e_02420a39a9adrow6_col17\" class=\"data row6 col17\" >-0.082</td>\n",
       "                        <td id=\"T_c8a9e52a_e550_11eb_b57e_02420a39a9adrow6_col18\" class=\"data row6 col18\" >0.14</td>\n",
       "            </tr>\n",
       "            <tr>\n",
       "                        <th id=\"T_c8a9e52a_e550_11eb_b57e_02420a39a9adlevel0_row7\" class=\"row_heading level0 row7\" >floor</th>\n",
       "                        <td id=\"T_c8a9e52a_e550_11eb_b57e_02420a39a9adrow7_col0\" class=\"data row7 col0\" >0.031</td>\n",
       "                        <td id=\"T_c8a9e52a_e550_11eb_b57e_02420a39a9adrow7_col1\" class=\"data row7 col1\" >0.027</td>\n",
       "                        <td id=\"T_c8a9e52a_e550_11eb_b57e_02420a39a9adrow7_col2\" class=\"data row7 col2\" >-0.025</td>\n",
       "                        <td id=\"T_c8a9e52a_e550_11eb_b57e_02420a39a9adrow7_col3\" class=\"data row7 col3\" >-0.15</td>\n",
       "                        <td id=\"T_c8a9e52a_e550_11eb_b57e_02420a39a9adrow7_col4\" class=\"data row7 col4\" >-0.012</td>\n",
       "                        <td id=\"T_c8a9e52a_e550_11eb_b57e_02420a39a9adrow7_col5\" class=\"data row7 col5\" >0.68</td>\n",
       "                        <td id=\"T_c8a9e52a_e550_11eb_b57e_02420a39a9adrow7_col6\" class=\"data row7 col6\" >-0.097</td>\n",
       "                        <td id=\"T_c8a9e52a_e550_11eb_b57e_02420a39a9adrow7_col7\" class=\"data row7 col7\" >1</td>\n",
       "                        <td id=\"T_c8a9e52a_e550_11eb_b57e_02420a39a9adrow7_col8\" class=\"data row7 col8\" >0.037</td>\n",
       "                        <td id=\"T_c8a9e52a_e550_11eb_b57e_02420a39a9adrow7_col9\" class=\"data row7 col9\" >0.036</td>\n",
       "                        <td id=\"T_c8a9e52a_e550_11eb_b57e_02420a39a9adrow7_col10\" class=\"data row7 col10\" >0.14</td>\n",
       "                        <td id=\"T_c8a9e52a_e550_11eb_b57e_02420a39a9adrow7_col11\" class=\"data row7 col11\" >0.17</td>\n",
       "                        <td id=\"T_c8a9e52a_e550_11eb_b57e_02420a39a9adrow7_col12\" class=\"data row7 col12\" >0.072</td>\n",
       "                        <td id=\"T_c8a9e52a_e550_11eb_b57e_02420a39a9adrow7_col13\" class=\"data row7 col13\" >0.0091</td>\n",
       "                        <td id=\"T_c8a9e52a_e550_11eb_b57e_02420a39a9adrow7_col14\" class=\"data row7 col14\" >-0.16</td>\n",
       "                        <td id=\"T_c8a9e52a_e550_11eb_b57e_02420a39a9adrow7_col15\" class=\"data row7 col15\" >0.073</td>\n",
       "                        <td id=\"T_c8a9e52a_e550_11eb_b57e_02420a39a9adrow7_col16\" class=\"data row7 col16\" >-0.076</td>\n",
       "                        <td id=\"T_c8a9e52a_e550_11eb_b57e_02420a39a9adrow7_col17\" class=\"data row7 col17\" >0.025</td>\n",
       "                        <td id=\"T_c8a9e52a_e550_11eb_b57e_02420a39a9adrow7_col18\" class=\"data row7 col18\" >-0.039</td>\n",
       "            </tr>\n",
       "            <tr>\n",
       "                        <th id=\"T_c8a9e52a_e550_11eb_b57e_02420a39a9adlevel0_row8\" class=\"row_heading level0 row8\" >studio</th>\n",
       "                        <td id=\"T_c8a9e52a_e550_11eb_b57e_02420a39a9adrow8_col0\" class=\"data row8 col0\" >-0.029</td>\n",
       "                        <td id=\"T_c8a9e52a_e550_11eb_b57e_02420a39a9adrow8_col1\" class=\"data row8 col1\" >-0.025</td>\n",
       "                        <td id=\"T_c8a9e52a_e550_11eb_b57e_02420a39a9adrow8_col2\" class=\"data row8 col2\" >-0.073</td>\n",
       "                        <td id=\"T_c8a9e52a_e550_11eb_b57e_02420a39a9adrow8_col3\" class=\"data row8 col3\" >-0.15</td>\n",
       "                        <td id=\"T_c8a9e52a_e550_11eb_b57e_02420a39a9adrow8_col4\" class=\"data row8 col4\" >0.0017</td>\n",
       "                        <td id=\"T_c8a9e52a_e550_11eb_b57e_02420a39a9adrow8_col5\" class=\"data row8 col5\" >0.07</td>\n",
       "                        <td id=\"T_c8a9e52a_e550_11eb_b57e_02420a39a9adrow8_col6\" class=\"data row8 col6\" >-0.056</td>\n",
       "                        <td id=\"T_c8a9e52a_e550_11eb_b57e_02420a39a9adrow8_col7\" class=\"data row8 col7\" >0.037</td>\n",
       "                        <td id=\"T_c8a9e52a_e550_11eb_b57e_02420a39a9adrow8_col8\" class=\"data row8 col8\" >1</td>\n",
       "                        <td id=\"T_c8a9e52a_e550_11eb_b57e_02420a39a9adrow8_col9\" class=\"data row8 col9\" >-0.0042</td>\n",
       "                        <td id=\"T_c8a9e52a_e550_11eb_b57e_02420a39a9adrow8_col10\" class=\"data row8 col10\" >nan</td>\n",
       "                        <td id=\"T_c8a9e52a_e550_11eb_b57e_02420a39a9adrow8_col11\" class=\"data row8 col11\" >0.031</td>\n",
       "                        <td id=\"T_c8a9e52a_e550_11eb_b57e_02420a39a9adrow8_col12\" class=\"data row8 col12\" >-0.022</td>\n",
       "                        <td id=\"T_c8a9e52a_e550_11eb_b57e_02420a39a9adrow8_col13\" class=\"data row8 col13\" >-0.007</td>\n",
       "                        <td id=\"T_c8a9e52a_e550_11eb_b57e_02420a39a9adrow8_col14\" class=\"data row8 col14\" >-0.03</td>\n",
       "                        <td id=\"T_c8a9e52a_e550_11eb_b57e_02420a39a9adrow8_col15\" class=\"data row8 col15\" >0.0091</td>\n",
       "                        <td id=\"T_c8a9e52a_e550_11eb_b57e_02420a39a9adrow8_col16\" class=\"data row8 col16\" >0.00094</td>\n",
       "                        <td id=\"T_c8a9e52a_e550_11eb_b57e_02420a39a9adrow8_col17\" class=\"data row8 col17\" >0.0026</td>\n",
       "                        <td id=\"T_c8a9e52a_e550_11eb_b57e_02420a39a9adrow8_col18\" class=\"data row8 col18\" >-0.022</td>\n",
       "            </tr>\n",
       "            <tr>\n",
       "                        <th id=\"T_c8a9e52a_e550_11eb_b57e_02420a39a9adlevel0_row9\" class=\"row_heading level0 row9\" >open_plan</th>\n",
       "                        <td id=\"T_c8a9e52a_e550_11eb_b57e_02420a39a9adrow9_col0\" class=\"data row9 col0\" >-0.024</td>\n",
       "                        <td id=\"T_c8a9e52a_e550_11eb_b57e_02420a39a9adrow9_col1\" class=\"data row9 col1\" >-0.0088</td>\n",
       "                        <td id=\"T_c8a9e52a_e550_11eb_b57e_02420a39a9adrow9_col2\" class=\"data row9 col2\" >-0.035</td>\n",
       "                        <td id=\"T_c8a9e52a_e550_11eb_b57e_02420a39a9adrow9_col3\" class=\"data row9 col3\" >-0.088</td>\n",
       "                        <td id=\"T_c8a9e52a_e550_11eb_b57e_02420a39a9adrow9_col4\" class=\"data row9 col4\" >0.043</td>\n",
       "                        <td id=\"T_c8a9e52a_e550_11eb_b57e_02420a39a9adrow9_col5\" class=\"data row9 col5\" >0.051</td>\n",
       "                        <td id=\"T_c8a9e52a_e550_11eb_b57e_02420a39a9adrow9_col6\" class=\"data row9 col6\" >-0.034</td>\n",
       "                        <td id=\"T_c8a9e52a_e550_11eb_b57e_02420a39a9adrow9_col7\" class=\"data row9 col7\" >0.036</td>\n",
       "                        <td id=\"T_c8a9e52a_e550_11eb_b57e_02420a39a9adrow9_col8\" class=\"data row9 col8\" >-0.0042</td>\n",
       "                        <td id=\"T_c8a9e52a_e550_11eb_b57e_02420a39a9adrow9_col9\" class=\"data row9 col9\" >1</td>\n",
       "                        <td id=\"T_c8a9e52a_e550_11eb_b57e_02420a39a9adrow9_col10\" class=\"data row9 col10\" >nan</td>\n",
       "                        <td id=\"T_c8a9e52a_e550_11eb_b57e_02420a39a9adrow9_col11\" class=\"data row9 col11\" >0.019</td>\n",
       "                        <td id=\"T_c8a9e52a_e550_11eb_b57e_02420a39a9adrow9_col12\" class=\"data row9 col12\" >-0.014</td>\n",
       "                        <td id=\"T_c8a9e52a_e550_11eb_b57e_02420a39a9adrow9_col13\" class=\"data row9 col13\" >-0.0042</td>\n",
       "                        <td id=\"T_c8a9e52a_e550_11eb_b57e_02420a39a9adrow9_col14\" class=\"data row9 col14\" >-0.01</td>\n",
       "                        <td id=\"T_c8a9e52a_e550_11eb_b57e_02420a39a9adrow9_col15\" class=\"data row9 col15\" >0.011</td>\n",
       "                        <td id=\"T_c8a9e52a_e550_11eb_b57e_02420a39a9adrow9_col16\" class=\"data row9 col16\" >0.0085</td>\n",
       "                        <td id=\"T_c8a9e52a_e550_11eb_b57e_02420a39a9adrow9_col17\" class=\"data row9 col17\" >-0.0033</td>\n",
       "                        <td id=\"T_c8a9e52a_e550_11eb_b57e_02420a39a9adrow9_col18\" class=\"data row9 col18\" >-0.024</td>\n",
       "            </tr>\n",
       "            <tr>\n",
       "                        <th id=\"T_c8a9e52a_e550_11eb_b57e_02420a39a9adlevel0_row10\" class=\"row_heading level0 row10\" >kitchen_area</th>\n",
       "                        <td id=\"T_c8a9e52a_e550_11eb_b57e_02420a39a9adrow10_col0\" class=\"data row10 col0\" >0.1</td>\n",
       "                        <td id=\"T_c8a9e52a_e550_11eb_b57e_02420a39a9adrow10_col1\" class=\"data row10 col1\" >0.52</td>\n",
       "                        <td id=\"T_c8a9e52a_e550_11eb_b57e_02420a39a9adrow10_col2\" class=\"data row10 col2\" >0.61</td>\n",
       "                        <td id=\"T_c8a9e52a_e550_11eb_b57e_02420a39a9adrow10_col3\" class=\"data row10 col3\" >0.27</td>\n",
       "                        <td id=\"T_c8a9e52a_e550_11eb_b57e_02420a39a9adrow10_col4\" class=\"data row10 col4\" >0.088</td>\n",
       "                        <td id=\"T_c8a9e52a_e550_11eb_b57e_02420a39a9adrow10_col5\" class=\"data row10 col5\" >0.16</td>\n",
       "                        <td id=\"T_c8a9e52a_e550_11eb_b57e_02420a39a9adrow10_col6\" class=\"data row10 col6\" >0.43</td>\n",
       "                        <td id=\"T_c8a9e52a_e550_11eb_b57e_02420a39a9adrow10_col7\" class=\"data row10 col7\" >0.14</td>\n",
       "                        <td id=\"T_c8a9e52a_e550_11eb_b57e_02420a39a9adrow10_col8\" class=\"data row10 col8\" >nan</td>\n",
       "                        <td id=\"T_c8a9e52a_e550_11eb_b57e_02420a39a9adrow10_col9\" class=\"data row10 col9\" >nan</td>\n",
       "                        <td id=\"T_c8a9e52a_e550_11eb_b57e_02420a39a9adrow10_col10\" class=\"data row10 col10\" >1</td>\n",
       "                        <td id=\"T_c8a9e52a_e550_11eb_b57e_02420a39a9adrow10_col11\" class=\"data row10 col11\" >0.099</td>\n",
       "                        <td id=\"T_c8a9e52a_e550_11eb_b57e_02420a39a9adrow10_col12\" class=\"data row10 col12\" >0.0082</td>\n",
       "                        <td id=\"T_c8a9e52a_e550_11eb_b57e_02420a39a9adrow10_col13\" class=\"data row10 col13\" >-0.19</td>\n",
       "                        <td id=\"T_c8a9e52a_e550_11eb_b57e_02420a39a9adrow10_col14\" class=\"data row10 col14\" >0.088</td>\n",
       "                        <td id=\"T_c8a9e52a_e550_11eb_b57e_02420a39a9adrow10_col15\" class=\"data row10 col15\" >0.03</td>\n",
       "                        <td id=\"T_c8a9e52a_e550_11eb_b57e_02420a39a9adrow10_col16\" class=\"data row10 col16\" >0.15</td>\n",
       "                        <td id=\"T_c8a9e52a_e550_11eb_b57e_02420a39a9adrow10_col17\" class=\"data row10 col17\" >-0.11</td>\n",
       "                        <td id=\"T_c8a9e52a_e550_11eb_b57e_02420a39a9adrow10_col18\" class=\"data row10 col18\" >0.1</td>\n",
       "            </tr>\n",
       "            <tr>\n",
       "                        <th id=\"T_c8a9e52a_e550_11eb_b57e_02420a39a9adlevel0_row11\" class=\"row_heading level0 row11\" >balcony</th>\n",
       "                        <td id=\"T_c8a9e52a_e550_11eb_b57e_02420a39a9adrow11_col0\" class=\"data row11 col0\" >0.12</td>\n",
       "                        <td id=\"T_c8a9e52a_e550_11eb_b57e_02420a39a9adrow11_col1\" class=\"data row11 col1\" >0.03</td>\n",
       "                        <td id=\"T_c8a9e52a_e550_11eb_b57e_02420a39a9adrow11_col2\" class=\"data row11 col2\" >0.048</td>\n",
       "                        <td id=\"T_c8a9e52a_e550_11eb_b57e_02420a39a9adrow11_col3\" class=\"data row11 col3\" >0.018</td>\n",
       "                        <td id=\"T_c8a9e52a_e550_11eb_b57e_02420a39a9adrow11_col4\" class=\"data row11 col4\" >0.041</td>\n",
       "                        <td id=\"T_c8a9e52a_e550_11eb_b57e_02420a39a9adrow11_col5\" class=\"data row11 col5\" >0.19</td>\n",
       "                        <td id=\"T_c8a9e52a_e550_11eb_b57e_02420a39a9adrow11_col6\" class=\"data row11 col6\" >0.019</td>\n",
       "                        <td id=\"T_c8a9e52a_e550_11eb_b57e_02420a39a9adrow11_col7\" class=\"data row11 col7\" >0.17</td>\n",
       "                        <td id=\"T_c8a9e52a_e550_11eb_b57e_02420a39a9adrow11_col8\" class=\"data row11 col8\" >0.031</td>\n",
       "                        <td id=\"T_c8a9e52a_e550_11eb_b57e_02420a39a9adrow11_col9\" class=\"data row11 col9\" >0.019</td>\n",
       "                        <td id=\"T_c8a9e52a_e550_11eb_b57e_02420a39a9adrow11_col10\" class=\"data row11 col10\" >0.099</td>\n",
       "                        <td id=\"T_c8a9e52a_e550_11eb_b57e_02420a39a9adrow11_col11\" class=\"data row11 col11\" >1</td>\n",
       "                        <td id=\"T_c8a9e52a_e550_11eb_b57e_02420a39a9adrow11_col12\" class=\"data row11 col12\" >0.067</td>\n",
       "                        <td id=\"T_c8a9e52a_e550_11eb_b57e_02420a39a9adrow11_col13\" class=\"data row11 col13\" >0.051</td>\n",
       "                        <td id=\"T_c8a9e52a_e550_11eb_b57e_02420a39a9adrow11_col14\" class=\"data row11 col14\" >-0.083</td>\n",
       "                        <td id=\"T_c8a9e52a_e550_11eb_b57e_02420a39a9adrow11_col15\" class=\"data row11 col15\" >0.052</td>\n",
       "                        <td id=\"T_c8a9e52a_e550_11eb_b57e_02420a39a9adrow11_col16\" class=\"data row11 col16\" >-0.033</td>\n",
       "                        <td id=\"T_c8a9e52a_e550_11eb_b57e_02420a39a9adrow11_col17\" class=\"data row11 col17\" >0.011</td>\n",
       "                        <td id=\"T_c8a9e52a_e550_11eb_b57e_02420a39a9adrow11_col18\" class=\"data row11 col18\" >-0.033</td>\n",
       "            </tr>\n",
       "            <tr>\n",
       "                        <th id=\"T_c8a9e52a_e550_11eb_b57e_02420a39a9adlevel0_row12\" class=\"row_heading level0 row12\" >airports_nearest</th>\n",
       "                        <td id=\"T_c8a9e52a_e550_11eb_b57e_02420a39a9adrow12_col0\" class=\"data row12 col0\" >-0.0023</td>\n",
       "                        <td id=\"T_c8a9e52a_e550_11eb_b57e_02420a39a9adrow12_col1\" class=\"data row12 col1\" >-0.026</td>\n",
       "                        <td id=\"T_c8a9e52a_e550_11eb_b57e_02420a39a9adrow12_col2\" class=\"data row12 col2\" >-0.031</td>\n",
       "                        <td id=\"T_c8a9e52a_e550_11eb_b57e_02420a39a9adrow12_col3\" class=\"data row12 col3\" >-0.061</td>\n",
       "                        <td id=\"T_c8a9e52a_e550_11eb_b57e_02420a39a9adrow12_col4\" class=\"data row12 col4\" >-0.024</td>\n",
       "                        <td id=\"T_c8a9e52a_e550_11eb_b57e_02420a39a9adrow12_col5\" class=\"data row12 col5\" >0.11</td>\n",
       "                        <td id=\"T_c8a9e52a_e550_11eb_b57e_02420a39a9adrow12_col6\" class=\"data row12 col6\" >-0.058</td>\n",
       "                        <td id=\"T_c8a9e52a_e550_11eb_b57e_02420a39a9adrow12_col7\" class=\"data row12 col7\" >0.072</td>\n",
       "                        <td id=\"T_c8a9e52a_e550_11eb_b57e_02420a39a9adrow12_col8\" class=\"data row12 col8\" >-0.022</td>\n",
       "                        <td id=\"T_c8a9e52a_e550_11eb_b57e_02420a39a9adrow12_col9\" class=\"data row12 col9\" >-0.014</td>\n",
       "                        <td id=\"T_c8a9e52a_e550_11eb_b57e_02420a39a9adrow12_col10\" class=\"data row12 col10\" >0.0082</td>\n",
       "                        <td id=\"T_c8a9e52a_e550_11eb_b57e_02420a39a9adrow12_col11\" class=\"data row12 col11\" >0.067</td>\n",
       "                        <td id=\"T_c8a9e52a_e550_11eb_b57e_02420a39a9adrow12_col12\" class=\"data row12 col12\" >1</td>\n",
       "                        <td id=\"T_c8a9e52a_e550_11eb_b57e_02420a39a9adrow12_col13\" class=\"data row12 col13\" >0.27</td>\n",
       "                        <td id=\"T_c8a9e52a_e550_11eb_b57e_02420a39a9adrow12_col14\" class=\"data row12 col14\" >0.00076</td>\n",
       "                        <td id=\"T_c8a9e52a_e550_11eb_b57e_02420a39a9adrow12_col15\" class=\"data row12 col15\" >-0.07</td>\n",
       "                        <td id=\"T_c8a9e52a_e550_11eb_b57e_02420a39a9adrow12_col16\" class=\"data row12 col16\" >-0.05</td>\n",
       "                        <td id=\"T_c8a9e52a_e550_11eb_b57e_02420a39a9adrow12_col17\" class=\"data row12 col17\" >0.014</td>\n",
       "                        <td id=\"T_c8a9e52a_e550_11eb_b57e_02420a39a9adrow12_col18\" class=\"data row12 col18\" >-0.018</td>\n",
       "            </tr>\n",
       "            <tr>\n",
       "                        <th id=\"T_c8a9e52a_e550_11eb_b57e_02420a39a9adlevel0_row13\" class=\"row_heading level0 row13\" >cityCenters_nearest</th>\n",
       "                        <td id=\"T_c8a9e52a_e550_11eb_b57e_02420a39a9adrow13_col0\" class=\"data row13 col0\" >-0.048</td>\n",
       "                        <td id=\"T_c8a9e52a_e550_11eb_b57e_02420a39a9adrow13_col1\" class=\"data row13 col1\" >-0.21</td>\n",
       "                        <td id=\"T_c8a9e52a_e550_11eb_b57e_02420a39a9adrow13_col2\" class=\"data row13 col2\" >-0.23</td>\n",
       "                        <td id=\"T_c8a9e52a_e550_11eb_b57e_02420a39a9adrow13_col3\" class=\"data row13 col3\" >-0.18</td>\n",
       "                        <td id=\"T_c8a9e52a_e550_11eb_b57e_02420a39a9adrow13_col4\" class=\"data row13 col4\" >-0.092</td>\n",
       "                        <td id=\"T_c8a9e52a_e550_11eb_b57e_02420a39a9adrow13_col5\" class=\"data row13 col5\" >0.02</td>\n",
       "                        <td id=\"T_c8a9e52a_e550_11eb_b57e_02420a39a9adrow13_col6\" class=\"data row13 col6\" >-0.23</td>\n",
       "                        <td id=\"T_c8a9e52a_e550_11eb_b57e_02420a39a9adrow13_col7\" class=\"data row13 col7\" >0.0091</td>\n",
       "                        <td id=\"T_c8a9e52a_e550_11eb_b57e_02420a39a9adrow13_col8\" class=\"data row13 col8\" >-0.007</td>\n",
       "                        <td id=\"T_c8a9e52a_e550_11eb_b57e_02420a39a9adrow13_col9\" class=\"data row13 col9\" >-0.0042</td>\n",
       "                        <td id=\"T_c8a9e52a_e550_11eb_b57e_02420a39a9adrow13_col10\" class=\"data row13 col10\" >-0.19</td>\n",
       "                        <td id=\"T_c8a9e52a_e550_11eb_b57e_02420a39a9adrow13_col11\" class=\"data row13 col11\" >0.051</td>\n",
       "                        <td id=\"T_c8a9e52a_e550_11eb_b57e_02420a39a9adrow13_col12\" class=\"data row13 col12\" >0.27</td>\n",
       "                        <td id=\"T_c8a9e52a_e550_11eb_b57e_02420a39a9adrow13_col13\" class=\"data row13 col13\" >1</td>\n",
       "                        <td id=\"T_c8a9e52a_e550_11eb_b57e_02420a39a9adrow13_col14\" class=\"data row13 col14\" >-0.16</td>\n",
       "                        <td id=\"T_c8a9e52a_e550_11eb_b57e_02420a39a9adrow13_col15\" class=\"data row13 col15\" >-0.041</td>\n",
       "                        <td id=\"T_c8a9e52a_e550_11eb_b57e_02420a39a9adrow13_col16\" class=\"data row13 col16\" >-0.075</td>\n",
       "                        <td id=\"T_c8a9e52a_e550_11eb_b57e_02420a39a9adrow13_col17\" class=\"data row13 col17\" >0.029</td>\n",
       "                        <td id=\"T_c8a9e52a_e550_11eb_b57e_02420a39a9adrow13_col18\" class=\"data row13 col18\" >-0.061</td>\n",
       "            </tr>\n",
       "            <tr>\n",
       "                        <th id=\"T_c8a9e52a_e550_11eb_b57e_02420a39a9adlevel0_row14\" class=\"row_heading level0 row14\" >parks_around3000</th>\n",
       "                        <td id=\"T_c8a9e52a_e550_11eb_b57e_02420a39a9adrow14_col0\" class=\"data row14 col0\" >0.021</td>\n",
       "                        <td id=\"T_c8a9e52a_e550_11eb_b57e_02420a39a9adrow14_col1\" class=\"data row14 col1\" >0.15</td>\n",
       "                        <td id=\"T_c8a9e52a_e550_11eb_b57e_02420a39a9adrow14_col2\" class=\"data row14 col2\" >0.16</td>\n",
       "                        <td id=\"T_c8a9e52a_e550_11eb_b57e_02420a39a9adrow14_col3\" class=\"data row14 col3\" >0.14</td>\n",
       "                        <td id=\"T_c8a9e52a_e550_11eb_b57e_02420a39a9adrow14_col4\" class=\"data row14 col4\" >0.066</td>\n",
       "                        <td id=\"T_c8a9e52a_e550_11eb_b57e_02420a39a9adrow14_col5\" class=\"data row14 col5\" >-0.25</td>\n",
       "                        <td id=\"T_c8a9e52a_e550_11eb_b57e_02420a39a9adrow14_col6\" class=\"data row14 col6\" >0.18</td>\n",
       "                        <td id=\"T_c8a9e52a_e550_11eb_b57e_02420a39a9adrow14_col7\" class=\"data row14 col7\" >-0.16</td>\n",
       "                        <td id=\"T_c8a9e52a_e550_11eb_b57e_02420a39a9adrow14_col8\" class=\"data row14 col8\" >-0.03</td>\n",
       "                        <td id=\"T_c8a9e52a_e550_11eb_b57e_02420a39a9adrow14_col9\" class=\"data row14 col9\" >-0.01</td>\n",
       "                        <td id=\"T_c8a9e52a_e550_11eb_b57e_02420a39a9adrow14_col10\" class=\"data row14 col10\" >0.088</td>\n",
       "                        <td id=\"T_c8a9e52a_e550_11eb_b57e_02420a39a9adrow14_col11\" class=\"data row14 col11\" >-0.083</td>\n",
       "                        <td id=\"T_c8a9e52a_e550_11eb_b57e_02420a39a9adrow14_col12\" class=\"data row14 col12\" >0.00076</td>\n",
       "                        <td id=\"T_c8a9e52a_e550_11eb_b57e_02420a39a9adrow14_col13\" class=\"data row14 col13\" >-0.16</td>\n",
       "                        <td id=\"T_c8a9e52a_e550_11eb_b57e_02420a39a9adrow14_col14\" class=\"data row14 col14\" >1</td>\n",
       "                        <td id=\"T_c8a9e52a_e550_11eb_b57e_02420a39a9adrow14_col15\" class=\"data row14 col15\" >-0.26</td>\n",
       "                        <td id=\"T_c8a9e52a_e550_11eb_b57e_02420a39a9adrow14_col16\" class=\"data row14 col16\" >0.3</td>\n",
       "                        <td id=\"T_c8a9e52a_e550_11eb_b57e_02420a39a9adrow14_col17\" class=\"data row14 col17\" >-0.17</td>\n",
       "                        <td id=\"T_c8a9e52a_e550_11eb_b57e_02420a39a9adrow14_col18\" class=\"data row14 col18\" >0.06</td>\n",
       "            </tr>\n",
       "            <tr>\n",
       "                        <th id=\"T_c8a9e52a_e550_11eb_b57e_02420a39a9adlevel0_row15\" class=\"row_heading level0 row15\" >parks_nearest</th>\n",
       "                        <td id=\"T_c8a9e52a_e550_11eb_b57e_02420a39a9adrow15_col0\" class=\"data row15 col0\" >-0.0083</td>\n",
       "                        <td id=\"T_c8a9e52a_e550_11eb_b57e_02420a39a9adrow15_col1\" class=\"data row15 col1\" >-0.016</td>\n",
       "                        <td id=\"T_c8a9e52a_e550_11eb_b57e_02420a39a9adrow15_col2\" class=\"data row15 col2\" >-0.021</td>\n",
       "                        <td id=\"T_c8a9e52a_e550_11eb_b57e_02420a39a9adrow15_col3\" class=\"data row15 col3\" >-0.055</td>\n",
       "                        <td id=\"T_c8a9e52a_e550_11eb_b57e_02420a39a9adrow15_col4\" class=\"data row15 col4\" >-0.019</td>\n",
       "                        <td id=\"T_c8a9e52a_e550_11eb_b57e_02420a39a9adrow15_col5\" class=\"data row15 col5\" >0.098</td>\n",
       "                        <td id=\"T_c8a9e52a_e550_11eb_b57e_02420a39a9adrow15_col6\" class=\"data row15 col6\" >-0.05</td>\n",
       "                        <td id=\"T_c8a9e52a_e550_11eb_b57e_02420a39a9adrow15_col7\" class=\"data row15 col7\" >0.073</td>\n",
       "                        <td id=\"T_c8a9e52a_e550_11eb_b57e_02420a39a9adrow15_col8\" class=\"data row15 col8\" >0.0091</td>\n",
       "                        <td id=\"T_c8a9e52a_e550_11eb_b57e_02420a39a9adrow15_col9\" class=\"data row15 col9\" >0.011</td>\n",
       "                        <td id=\"T_c8a9e52a_e550_11eb_b57e_02420a39a9adrow15_col10\" class=\"data row15 col10\" >0.03</td>\n",
       "                        <td id=\"T_c8a9e52a_e550_11eb_b57e_02420a39a9adrow15_col11\" class=\"data row15 col11\" >0.052</td>\n",
       "                        <td id=\"T_c8a9e52a_e550_11eb_b57e_02420a39a9adrow15_col12\" class=\"data row15 col12\" >-0.07</td>\n",
       "                        <td id=\"T_c8a9e52a_e550_11eb_b57e_02420a39a9adrow15_col13\" class=\"data row15 col13\" >-0.041</td>\n",
       "                        <td id=\"T_c8a9e52a_e550_11eb_b57e_02420a39a9adrow15_col14\" class=\"data row15 col14\" >-0.26</td>\n",
       "                        <td id=\"T_c8a9e52a_e550_11eb_b57e_02420a39a9adrow15_col15\" class=\"data row15 col15\" >1</td>\n",
       "                        <td id=\"T_c8a9e52a_e550_11eb_b57e_02420a39a9adrow15_col16\" class=\"data row15 col16\" >0.077</td>\n",
       "                        <td id=\"T_c8a9e52a_e550_11eb_b57e_02420a39a9adrow15_col17\" class=\"data row15 col17\" >0.00069</td>\n",
       "                        <td id=\"T_c8a9e52a_e550_11eb_b57e_02420a39a9adrow15_col18\" class=\"data row15 col18\" >0.023</td>\n",
       "            </tr>\n",
       "            <tr>\n",
       "                        <th id=\"T_c8a9e52a_e550_11eb_b57e_02420a39a9adlevel0_row16\" class=\"row_heading level0 row16\" >ponds_around3000</th>\n",
       "                        <td id=\"T_c8a9e52a_e550_11eb_b57e_02420a39a9adrow16_col0\" class=\"data row16 col0\" >-0.012</td>\n",
       "                        <td id=\"T_c8a9e52a_e550_11eb_b57e_02420a39a9adrow16_col1\" class=\"data row16 col1\" >0.16</td>\n",
       "                        <td id=\"T_c8a9e52a_e550_11eb_b57e_02420a39a9adrow16_col2\" class=\"data row16 col2\" >0.16</td>\n",
       "                        <td id=\"T_c8a9e52a_e550_11eb_b57e_02420a39a9adrow16_col3\" class=\"data row16 col3\" >0.093</td>\n",
       "                        <td id=\"T_c8a9e52a_e550_11eb_b57e_02420a39a9adrow16_col4\" class=\"data row16 col4\" >0.078</td>\n",
       "                        <td id=\"T_c8a9e52a_e550_11eb_b57e_02420a39a9adrow16_col5\" class=\"data row16 col5\" >-0.12</td>\n",
       "                        <td id=\"T_c8a9e52a_e550_11eb_b57e_02420a39a9adrow16_col6\" class=\"data row16 col6\" >0.15</td>\n",
       "                        <td id=\"T_c8a9e52a_e550_11eb_b57e_02420a39a9adrow16_col7\" class=\"data row16 col7\" >-0.076</td>\n",
       "                        <td id=\"T_c8a9e52a_e550_11eb_b57e_02420a39a9adrow16_col8\" class=\"data row16 col8\" >0.00094</td>\n",
       "                        <td id=\"T_c8a9e52a_e550_11eb_b57e_02420a39a9adrow16_col9\" class=\"data row16 col9\" >0.0085</td>\n",
       "                        <td id=\"T_c8a9e52a_e550_11eb_b57e_02420a39a9adrow16_col10\" class=\"data row16 col10\" >0.15</td>\n",
       "                        <td id=\"T_c8a9e52a_e550_11eb_b57e_02420a39a9adrow16_col11\" class=\"data row16 col11\" >-0.033</td>\n",
       "                        <td id=\"T_c8a9e52a_e550_11eb_b57e_02420a39a9adrow16_col12\" class=\"data row16 col12\" >-0.05</td>\n",
       "                        <td id=\"T_c8a9e52a_e550_11eb_b57e_02420a39a9adrow16_col13\" class=\"data row16 col13\" >-0.075</td>\n",
       "                        <td id=\"T_c8a9e52a_e550_11eb_b57e_02420a39a9adrow16_col14\" class=\"data row16 col14\" >0.3</td>\n",
       "                        <td id=\"T_c8a9e52a_e550_11eb_b57e_02420a39a9adrow16_col15\" class=\"data row16 col15\" >0.077</td>\n",
       "                        <td id=\"T_c8a9e52a_e550_11eb_b57e_02420a39a9adrow16_col16\" class=\"data row16 col16\" >1</td>\n",
       "                        <td id=\"T_c8a9e52a_e550_11eb_b57e_02420a39a9adrow16_col17\" class=\"data row16 col17\" >-0.34</td>\n",
       "                        <td id=\"T_c8a9e52a_e550_11eb_b57e_02420a39a9adrow16_col18\" class=\"data row16 col18\" >0.073</td>\n",
       "            </tr>\n",
       "            <tr>\n",
       "                        <th id=\"T_c8a9e52a_e550_11eb_b57e_02420a39a9adlevel0_row17\" class=\"row_heading level0 row17\" >ponds_nearest</th>\n",
       "                        <td id=\"T_c8a9e52a_e550_11eb_b57e_02420a39a9adrow17_col0\" class=\"data row17 col0\" >-0.003</td>\n",
       "                        <td id=\"T_c8a9e52a_e550_11eb_b57e_02420a39a9adrow17_col1\" class=\"data row17 col1\" >-0.085</td>\n",
       "                        <td id=\"T_c8a9e52a_e550_11eb_b57e_02420a39a9adrow17_col2\" class=\"data row17 col2\" >-0.098</td>\n",
       "                        <td id=\"T_c8a9e52a_e550_11eb_b57e_02420a39a9adrow17_col3\" class=\"data row17 col3\" >-0.058</td>\n",
       "                        <td id=\"T_c8a9e52a_e550_11eb_b57e_02420a39a9adrow17_col4\" class=\"data row17 col4\" >-0.059</td>\n",
       "                        <td id=\"T_c8a9e52a_e550_11eb_b57e_02420a39a9adrow17_col5\" class=\"data row17 col5\" >0.039</td>\n",
       "                        <td id=\"T_c8a9e52a_e550_11eb_b57e_02420a39a9adrow17_col6\" class=\"data row17 col6\" >-0.082</td>\n",
       "                        <td id=\"T_c8a9e52a_e550_11eb_b57e_02420a39a9adrow17_col7\" class=\"data row17 col7\" >0.025</td>\n",
       "                        <td id=\"T_c8a9e52a_e550_11eb_b57e_02420a39a9adrow17_col8\" class=\"data row17 col8\" >0.0026</td>\n",
       "                        <td id=\"T_c8a9e52a_e550_11eb_b57e_02420a39a9adrow17_col9\" class=\"data row17 col9\" >-0.0033</td>\n",
       "                        <td id=\"T_c8a9e52a_e550_11eb_b57e_02420a39a9adrow17_col10\" class=\"data row17 col10\" >-0.11</td>\n",
       "                        <td id=\"T_c8a9e52a_e550_11eb_b57e_02420a39a9adrow17_col11\" class=\"data row17 col11\" >0.011</td>\n",
       "                        <td id=\"T_c8a9e52a_e550_11eb_b57e_02420a39a9adrow17_col12\" class=\"data row17 col12\" >0.014</td>\n",
       "                        <td id=\"T_c8a9e52a_e550_11eb_b57e_02420a39a9adrow17_col13\" class=\"data row17 col13\" >0.029</td>\n",
       "                        <td id=\"T_c8a9e52a_e550_11eb_b57e_02420a39a9adrow17_col14\" class=\"data row17 col14\" >-0.17</td>\n",
       "                        <td id=\"T_c8a9e52a_e550_11eb_b57e_02420a39a9adrow17_col15\" class=\"data row17 col15\" >0.00069</td>\n",
       "                        <td id=\"T_c8a9e52a_e550_11eb_b57e_02420a39a9adrow17_col16\" class=\"data row17 col16\" >-0.34</td>\n",
       "                        <td id=\"T_c8a9e52a_e550_11eb_b57e_02420a39a9adrow17_col17\" class=\"data row17 col17\" >1</td>\n",
       "                        <td id=\"T_c8a9e52a_e550_11eb_b57e_02420a39a9adrow17_col18\" class=\"data row17 col18\" >-0.078</td>\n",
       "            </tr>\n",
       "            <tr>\n",
       "                        <th id=\"T_c8a9e52a_e550_11eb_b57e_02420a39a9adlevel0_row18\" class=\"row_heading level0 row18\" >days_exposition</th>\n",
       "                        <td id=\"T_c8a9e52a_e550_11eb_b57e_02420a39a9adrow18_col0\" class=\"data row18 col0\" >-0.027</td>\n",
       "                        <td id=\"T_c8a9e52a_e550_11eb_b57e_02420a39a9adrow18_col1\" class=\"data row18 col1\" >0.081</td>\n",
       "                        <td id=\"T_c8a9e52a_e550_11eb_b57e_02420a39a9adrow18_col2\" class=\"data row18 col2\" >0.15</td>\n",
       "                        <td id=\"T_c8a9e52a_e550_11eb_b57e_02420a39a9adrow18_col3\" class=\"data row18 col3\" >0.13</td>\n",
       "                        <td id=\"T_c8a9e52a_e550_11eb_b57e_02420a39a9adrow18_col4\" class=\"data row18 col4\" >0.019</td>\n",
       "                        <td id=\"T_c8a9e52a_e550_11eb_b57e_02420a39a9adrow18_col5\" class=\"data row18 col5\" >-0.052</td>\n",
       "                        <td id=\"T_c8a9e52a_e550_11eb_b57e_02420a39a9adrow18_col6\" class=\"data row18 col6\" >0.14</td>\n",
       "                        <td id=\"T_c8a9e52a_e550_11eb_b57e_02420a39a9adrow18_col7\" class=\"data row18 col7\" >-0.039</td>\n",
       "                        <td id=\"T_c8a9e52a_e550_11eb_b57e_02420a39a9adrow18_col8\" class=\"data row18 col8\" >-0.022</td>\n",
       "                        <td id=\"T_c8a9e52a_e550_11eb_b57e_02420a39a9adrow18_col9\" class=\"data row18 col9\" >-0.024</td>\n",
       "                        <td id=\"T_c8a9e52a_e550_11eb_b57e_02420a39a9adrow18_col10\" class=\"data row18 col10\" >0.1</td>\n",
       "                        <td id=\"T_c8a9e52a_e550_11eb_b57e_02420a39a9adrow18_col11\" class=\"data row18 col11\" >-0.033</td>\n",
       "                        <td id=\"T_c8a9e52a_e550_11eb_b57e_02420a39a9adrow18_col12\" class=\"data row18 col12\" >-0.018</td>\n",
       "                        <td id=\"T_c8a9e52a_e550_11eb_b57e_02420a39a9adrow18_col13\" class=\"data row18 col13\" >-0.061</td>\n",
       "                        <td id=\"T_c8a9e52a_e550_11eb_b57e_02420a39a9adrow18_col14\" class=\"data row18 col14\" >0.06</td>\n",
       "                        <td id=\"T_c8a9e52a_e550_11eb_b57e_02420a39a9adrow18_col15\" class=\"data row18 col15\" >0.023</td>\n",
       "                        <td id=\"T_c8a9e52a_e550_11eb_b57e_02420a39a9adrow18_col16\" class=\"data row18 col16\" >0.073</td>\n",
       "                        <td id=\"T_c8a9e52a_e550_11eb_b57e_02420a39a9adrow18_col17\" class=\"data row18 col17\" >-0.078</td>\n",
       "                        <td id=\"T_c8a9e52a_e550_11eb_b57e_02420a39a9adrow18_col18\" class=\"data row18 col18\" >1</td>\n",
       "            </tr>\n",
       "    </tbody></table>"
      ],
      "text/plain": [
       "<pandas.io.formats.style.Styler at 0x7ffa79688450>"
      ]
     },
     "execution_count": 3,
     "metadata": {},
     "output_type": "execute_result"
    }
   ],
   "source": [
    "corr = data.corr()\n",
    "corr.style.background_gradient(cmap='PuBu').set_precision(2)"
   ]
  },
  {
   "cell_type": "markdown",
   "metadata": {},
   "source": [
    "### Шаг 2. Предобработка данных"
   ]
  },
  {
   "cell_type": "code",
   "execution_count": 4,
   "metadata": {},
   "outputs": [
    {
     "data": {
      "text/html": [
       "<style  type=\"text/css\" >\n",
       "    #T_c8b269f2_e550_11eb_b57e_02420a39a9adrow0_col0 {\n",
       "            background-color:  #3b4cc0;\n",
       "            color:  #f1f1f1;\n",
       "        }    #T_c8b269f2_e550_11eb_b57e_02420a39a9adrow1_col0 {\n",
       "            background-color:  #3b4cc0;\n",
       "            color:  #f1f1f1;\n",
       "        }    #T_c8b269f2_e550_11eb_b57e_02420a39a9adrow2_col0 {\n",
       "            background-color:  #3b4cc0;\n",
       "            color:  #f1f1f1;\n",
       "        }    #T_c8b269f2_e550_11eb_b57e_02420a39a9adrow3_col0 {\n",
       "            background-color:  #3b4cc0;\n",
       "            color:  #f1f1f1;\n",
       "        }    #T_c8b269f2_e550_11eb_b57e_02420a39a9adrow4_col0 {\n",
       "            background-color:  #3b4cc0;\n",
       "            color:  #f1f1f1;\n",
       "        }    #T_c8b269f2_e550_11eb_b57e_02420a39a9adrow5_col0 {\n",
       "            background-color:  #ccd9ed;\n",
       "            color:  #000000;\n",
       "        }    #T_c8b269f2_e550_11eb_b57e_02420a39a9adrow6_col0 {\n",
       "            background-color:  #3c4ec2;\n",
       "            color:  #f1f1f1;\n",
       "        }    #T_c8b269f2_e550_11eb_b57e_02420a39a9adrow7_col0 {\n",
       "            background-color:  #5673e0;\n",
       "            color:  #000000;\n",
       "        }    #T_c8b269f2_e550_11eb_b57e_02420a39a9adrow8_col0 {\n",
       "            background-color:  #3b4cc0;\n",
       "            color:  #f1f1f1;\n",
       "        }    #T_c8b269f2_e550_11eb_b57e_02420a39a9adrow9_col0 {\n",
       "            background-color:  #b40426;\n",
       "            color:  #f1f1f1;\n",
       "        }    #T_c8b269f2_e550_11eb_b57e_02420a39a9adrow10_col0 {\n",
       "            background-color:  #3b4cc0;\n",
       "            color:  #f1f1f1;\n",
       "        }    #T_c8b269f2_e550_11eb_b57e_02420a39a9adrow11_col0 {\n",
       "            background-color:  #3b4cc0;\n",
       "            color:  #f1f1f1;\n",
       "        }    #T_c8b269f2_e550_11eb_b57e_02420a39a9adrow12_col0 {\n",
       "            background-color:  #5b7ae5;\n",
       "            color:  #000000;\n",
       "        }    #T_c8b269f2_e550_11eb_b57e_02420a39a9adrow13_col0 {\n",
       "            background-color:  #e9d5cb;\n",
       "            color:  #000000;\n",
       "        }    #T_c8b269f2_e550_11eb_b57e_02420a39a9adrow14_col0 {\n",
       "            background-color:  #3b4cc0;\n",
       "            color:  #f1f1f1;\n",
       "        }    #T_c8b269f2_e550_11eb_b57e_02420a39a9adrow15_col0 {\n",
       "            background-color:  #92b4fe;\n",
       "            color:  #000000;\n",
       "        }    #T_c8b269f2_e550_11eb_b57e_02420a39a9adrow16_col0 {\n",
       "            background-color:  #92b4fe;\n",
       "            color:  #000000;\n",
       "        }    #T_c8b269f2_e550_11eb_b57e_02420a39a9adrow17_col0 {\n",
       "            background-color:  #92b4fe;\n",
       "            color:  #000000;\n",
       "        }    #T_c8b269f2_e550_11eb_b57e_02420a39a9adrow18_col0 {\n",
       "            background-color:  #f49a7b;\n",
       "            color:  #000000;\n",
       "        }    #T_c8b269f2_e550_11eb_b57e_02420a39a9adrow19_col0 {\n",
       "            background-color:  #92b4fe;\n",
       "            color:  #000000;\n",
       "        }    #T_c8b269f2_e550_11eb_b57e_02420a39a9adrow20_col0 {\n",
       "            background-color:  #f7ad90;\n",
       "            color:  #000000;\n",
       "        }    #T_c8b269f2_e550_11eb_b57e_02420a39a9adrow21_col0 {\n",
       "            background-color:  #6a8bef;\n",
       "            color:  #000000;\n",
       "        }</style><table id=\"T_c8b269f2_e550_11eb_b57e_02420a39a9ad\" ><thead>    <tr>        <th class=\"blank level0\" ></th>        <th class=\"col_heading level0 col0\" >0</th>    </tr></thead><tbody>\n",
       "                <tr>\n",
       "                        <th id=\"T_c8b269f2_e550_11eb_b57e_02420a39a9adlevel0_row0\" class=\"row_heading level0 row0\" >total_images</th>\n",
       "                        <td id=\"T_c8b269f2_e550_11eb_b57e_02420a39a9adrow0_col0\" class=\"data row0 col0\" >0</td>\n",
       "            </tr>\n",
       "            <tr>\n",
       "                        <th id=\"T_c8b269f2_e550_11eb_b57e_02420a39a9adlevel0_row1\" class=\"row_heading level0 row1\" >last_price</th>\n",
       "                        <td id=\"T_c8b269f2_e550_11eb_b57e_02420a39a9adrow1_col0\" class=\"data row1 col0\" >0</td>\n",
       "            </tr>\n",
       "            <tr>\n",
       "                        <th id=\"T_c8b269f2_e550_11eb_b57e_02420a39a9adlevel0_row2\" class=\"row_heading level0 row2\" >total_area</th>\n",
       "                        <td id=\"T_c8b269f2_e550_11eb_b57e_02420a39a9adrow2_col0\" class=\"data row2 col0\" >0</td>\n",
       "            </tr>\n",
       "            <tr>\n",
       "                        <th id=\"T_c8b269f2_e550_11eb_b57e_02420a39a9adlevel0_row3\" class=\"row_heading level0 row3\" >first_day_exposition</th>\n",
       "                        <td id=\"T_c8b269f2_e550_11eb_b57e_02420a39a9adrow3_col0\" class=\"data row3 col0\" >0</td>\n",
       "            </tr>\n",
       "            <tr>\n",
       "                        <th id=\"T_c8b269f2_e550_11eb_b57e_02420a39a9adlevel0_row4\" class=\"row_heading level0 row4\" >rooms</th>\n",
       "                        <td id=\"T_c8b269f2_e550_11eb_b57e_02420a39a9adrow4_col0\" class=\"data row4 col0\" >0</td>\n",
       "            </tr>\n",
       "            <tr>\n",
       "                        <th id=\"T_c8b269f2_e550_11eb_b57e_02420a39a9adlevel0_row5\" class=\"row_heading level0 row5\" >ceiling_height</th>\n",
       "                        <td id=\"T_c8b269f2_e550_11eb_b57e_02420a39a9adrow5_col0\" class=\"data row5 col0\" >38.8</td>\n",
       "            </tr>\n",
       "            <tr>\n",
       "                        <th id=\"T_c8b269f2_e550_11eb_b57e_02420a39a9adlevel0_row6\" class=\"row_heading level0 row6\" >floors_total</th>\n",
       "                        <td id=\"T_c8b269f2_e550_11eb_b57e_02420a39a9adrow6_col0\" class=\"data row6 col0\" >0.36</td>\n",
       "            </tr>\n",
       "            <tr>\n",
       "                        <th id=\"T_c8b269f2_e550_11eb_b57e_02420a39a9adlevel0_row7\" class=\"row_heading level0 row7\" >living_area</th>\n",
       "                        <td id=\"T_c8b269f2_e550_11eb_b57e_02420a39a9adrow7_col0\" class=\"data row7 col0\" >8.03</td>\n",
       "            </tr>\n",
       "            <tr>\n",
       "                        <th id=\"T_c8b269f2_e550_11eb_b57e_02420a39a9adlevel0_row8\" class=\"row_heading level0 row8\" >floor</th>\n",
       "                        <td id=\"T_c8b269f2_e550_11eb_b57e_02420a39a9adrow8_col0\" class=\"data row8 col0\" >0</td>\n",
       "            </tr>\n",
       "            <tr>\n",
       "                        <th id=\"T_c8b269f2_e550_11eb_b57e_02420a39a9adlevel0_row9\" class=\"row_heading level0 row9\" >is_apartment</th>\n",
       "                        <td id=\"T_c8b269f2_e550_11eb_b57e_02420a39a9adrow9_col0\" class=\"data row9 col0\" >88.29</td>\n",
       "            </tr>\n",
       "            <tr>\n",
       "                        <th id=\"T_c8b269f2_e550_11eb_b57e_02420a39a9adlevel0_row10\" class=\"row_heading level0 row10\" >studio</th>\n",
       "                        <td id=\"T_c8b269f2_e550_11eb_b57e_02420a39a9adrow10_col0\" class=\"data row10 col0\" >0</td>\n",
       "            </tr>\n",
       "            <tr>\n",
       "                        <th id=\"T_c8b269f2_e550_11eb_b57e_02420a39a9adlevel0_row11\" class=\"row_heading level0 row11\" >open_plan</th>\n",
       "                        <td id=\"T_c8b269f2_e550_11eb_b57e_02420a39a9adrow11_col0\" class=\"data row11 col0\" >0</td>\n",
       "            </tr>\n",
       "            <tr>\n",
       "                        <th id=\"T_c8b269f2_e550_11eb_b57e_02420a39a9adlevel0_row12\" class=\"row_heading level0 row12\" >kitchen_area</th>\n",
       "                        <td id=\"T_c8b269f2_e550_11eb_b57e_02420a39a9adrow12_col0\" class=\"data row12 col0\" >9.61</td>\n",
       "            </tr>\n",
       "            <tr>\n",
       "                        <th id=\"T_c8b269f2_e550_11eb_b57e_02420a39a9adlevel0_row13\" class=\"row_heading level0 row13\" >balcony</th>\n",
       "                        <td id=\"T_c8b269f2_e550_11eb_b57e_02420a39a9adrow13_col0\" class=\"data row13 col0\" >48.61</td>\n",
       "            </tr>\n",
       "            <tr>\n",
       "                        <th id=\"T_c8b269f2_e550_11eb_b57e_02420a39a9adlevel0_row14\" class=\"row_heading level0 row14\" >locality_name</th>\n",
       "                        <td id=\"T_c8b269f2_e550_11eb_b57e_02420a39a9adrow14_col0\" class=\"data row14 col0\" >0.21</td>\n",
       "            </tr>\n",
       "            <tr>\n",
       "                        <th id=\"T_c8b269f2_e550_11eb_b57e_02420a39a9adlevel0_row15\" class=\"row_heading level0 row15\" >airports_nearest</th>\n",
       "                        <td id=\"T_c8b269f2_e550_11eb_b57e_02420a39a9adrow15_col0\" class=\"data row15 col0\" >23.38</td>\n",
       "            </tr>\n",
       "            <tr>\n",
       "                        <th id=\"T_c8b269f2_e550_11eb_b57e_02420a39a9adlevel0_row16\" class=\"row_heading level0 row16\" >cityCenters_nearest</th>\n",
       "                        <td id=\"T_c8b269f2_e550_11eb_b57e_02420a39a9adrow16_col0\" class=\"data row16 col0\" >23.29</td>\n",
       "            </tr>\n",
       "            <tr>\n",
       "                        <th id=\"T_c8b269f2_e550_11eb_b57e_02420a39a9adlevel0_row17\" class=\"row_heading level0 row17\" >parks_around3000</th>\n",
       "                        <td id=\"T_c8b269f2_e550_11eb_b57e_02420a39a9adrow17_col0\" class=\"data row17 col0\" >23.28</td>\n",
       "            </tr>\n",
       "            <tr>\n",
       "                        <th id=\"T_c8b269f2_e550_11eb_b57e_02420a39a9adlevel0_row18\" class=\"row_heading level0 row18\" >parks_nearest</th>\n",
       "                        <td id=\"T_c8b269f2_e550_11eb_b57e_02420a39a9adrow18_col0\" class=\"data row18 col0\" >65.91</td>\n",
       "            </tr>\n",
       "            <tr>\n",
       "                        <th id=\"T_c8b269f2_e550_11eb_b57e_02420a39a9adlevel0_row19\" class=\"row_heading level0 row19\" >ponds_around3000</th>\n",
       "                        <td id=\"T_c8b269f2_e550_11eb_b57e_02420a39a9adrow19_col0\" class=\"data row19 col0\" >23.28</td>\n",
       "            </tr>\n",
       "            <tr>\n",
       "                        <th id=\"T_c8b269f2_e550_11eb_b57e_02420a39a9adlevel0_row20\" class=\"row_heading level0 row20\" >ponds_nearest</th>\n",
       "                        <td id=\"T_c8b269f2_e550_11eb_b57e_02420a39a9adrow20_col0\" class=\"data row20 col0\" >61.56</td>\n",
       "            </tr>\n",
       "            <tr>\n",
       "                        <th id=\"T_c8b269f2_e550_11eb_b57e_02420a39a9adlevel0_row21\" class=\"row_heading level0 row21\" >days_exposition</th>\n",
       "                        <td id=\"T_c8b269f2_e550_11eb_b57e_02420a39a9adrow21_col0\" class=\"data row21 col0\" >13.42</td>\n",
       "            </tr>\n",
       "    </tbody></table>"
      ],
      "text/plain": [
       "<pandas.io.formats.style.Styler at 0x7ffa1414a2d0>"
      ]
     },
     "execution_count": 4,
     "metadata": {},
     "output_type": "execute_result"
    }
   ],
   "source": [
    "pd.DataFrame(round((data.isna().mean()*100),2)).style.background_gradient('coolwarm')"
   ]
  },
  {
   "cell_type": "code",
   "execution_count": 5,
   "metadata": {},
   "outputs": [],
   "source": [
    "#удалим строки с пропущенными значениями в столбцах, \n",
    "#где пропущенные значения составляют менее 1%\n",
    "data.dropna(subset=['floors_total', 'locality_name'], inplace=True)"
   ]
  },
  {
   "cell_type": "code",
   "execution_count": 6,
   "metadata": {},
   "outputs": [
    {
     "data": {
      "text/plain": [
       "0"
      ]
     },
     "execution_count": 6,
     "metadata": {},
     "output_type": "execute_result"
    }
   ],
   "source": [
    "#посмотрим на результат обработки\n",
    "data['floors_total'].isnull().sum()"
   ]
  },
  {
   "cell_type": "code",
   "execution_count": 7,
   "metadata": {},
   "outputs": [
    {
     "data": {
      "text/plain": [
       "0"
      ]
     },
     "execution_count": 7,
     "metadata": {},
     "output_type": "execute_result"
    }
   ],
   "source": [
    "#посмотрим на результат обработки\n",
    "data['locality_name'].isnull().sum()"
   ]
  },
  {
   "cell_type": "code",
   "execution_count": 8,
   "metadata": {},
   "outputs": [
    {
     "data": {
      "text/plain": [
       "0"
      ]
     },
     "execution_count": 8,
     "metadata": {},
     "output_type": "execute_result"
    }
   ],
   "source": [
    "#заполним пропуске в столбце ceiling_height медианой\n",
    "data['ceiling_height'] = data['ceiling_height'].fillna(data['ceiling_height'].median())\n",
    "#посмотрим на результат обработки\n",
    "data['ceiling_height'].isnull().sum()"
   ]
  },
  {
   "cell_type": "markdown",
   "metadata": {},
   "source": [
    "Столбец is_apartment возвращает True/False в зависимости от того, является ли недвижимость апаратаменами. Можно предположить, что пропуски означают то, что изначально собственником не была указана принадлежность недвижимости к типу \"апартаменты\", так как она таковым типом просто не является. В соответствии с этой логикой заполним все пропуски значеним False."
   ]
  },
  {
   "cell_type": "code",
   "execution_count": 9,
   "metadata": {},
   "outputs": [
    {
     "data": {
      "text/plain": [
       "0"
      ]
     },
     "execution_count": 9,
     "metadata": {},
     "output_type": "execute_result"
    }
   ],
   "source": [
    "data['is_apartment'] = data['is_apartment'].fillna(False)\n",
    "#проверим столбец на наличие пропусков после обработки\n",
    "data['is_apartment'].isnull().sum()"
   ]
  },
  {
   "cell_type": "markdown",
   "metadata": {},
   "source": [
    "Руководствуясь этой логикой, аналогичным образом избавимся от пропусков в столбце balcony"
   ]
  },
  {
   "cell_type": "code",
   "execution_count": 10,
   "metadata": {},
   "outputs": [
    {
     "data": {
      "text/plain": [
       "0"
      ]
     },
     "execution_count": 10,
     "metadata": {},
     "output_type": "execute_result"
    }
   ],
   "source": [
    "data['balcony'] = data['balcony'].fillna(0)\n",
    "data['is_apartment'].isnull().sum()"
   ]
  },
  {
   "cell_type": "markdown",
   "metadata": {},
   "source": [
    "Заполним пропуски в столбцах kitchen_area (площадь кухни), living_area(жилая площадь). \n",
    "\n",
    "Из таблицы корелляции наиболее очевидная зависимость у показателя жилой площади - от общей площади и количества комнат. В случае с кухней - от общей площади и цены недвижимости. "
   ]
  },
  {
   "cell_type": "markdown",
   "metadata": {},
   "source": [
    "Заполним пропуски в kitchen_area медианой по столбцу total_area:"
   ]
  },
  {
   "cell_type": "code",
   "execution_count": 11,
   "metadata": {},
   "outputs": [],
   "source": [
    "#создадим категории для показателя total_area, чтобы найти медиану по каждой из категорий:\n",
    "data['total_area_cat'] = pd.qcut(x = data['total_area'], \n",
    "                                 q = [0, .25, .5, .75, .99, 1.], \n",
    "                                 labels = ['очень маленькая', 'маленькая', \n",
    "                                           'средняя', 'большая', 'очень большая'])"
   ]
  },
  {
   "cell_type": "code",
   "execution_count": 12,
   "metadata": {},
   "outputs": [],
   "source": [
    "#словарь с медианами на основе созданной категоризации:\n",
    "total_area_dict = data.groupby('total_area_cat')['total_area'].median().to_dict()\n",
    "total_area_dict\n",
    "data['total_area_cat'] = data['total_area_cat'].astype('str')"
   ]
  },
  {
   "cell_type": "code",
   "execution_count": 13,
   "metadata": {},
   "outputs": [
    {
     "data": {
      "text/plain": [
       "0"
      ]
     },
     "execution_count": 13,
     "metadata": {},
     "output_type": "execute_result"
    }
   ],
   "source": [
    "#заменим пропуски в kitchen_area:\n",
    "data['kitchen_area'] = data['kitchen_area'].fillna(\n",
    "    data['total_area_cat'].map(total_area_dict))\n",
    "##проверим столбец на наличие пропусков после обработки\n",
    "data['kitchen_area'].isnull().sum()"
   ]
  },
  {
   "cell_type": "markdown",
   "metadata": {},
   "source": [
    "Заполним пропуски в living_area медианой по столбцу total_area:"
   ]
  },
  {
   "cell_type": "code",
   "execution_count": 14,
   "metadata": {},
   "outputs": [
    {
     "data": {
      "text/plain": [
       "0"
      ]
     },
     "execution_count": 14,
     "metadata": {},
     "output_type": "execute_result"
    }
   ],
   "source": [
    "#заменим пропуски в living_area:\n",
    "data['living_area'] = data['living_area'].fillna(\n",
    "    data['total_area_cat'].map(total_area_dict))\n",
    "##проверим столбец на наличие пропусков после обработки\n",
    "data['living_area'].isnull().sum()"
   ]
  },
  {
   "cell_type": "code",
   "execution_count": 15,
   "metadata": {},
   "outputs": [
    {
     "data": {
      "text/html": [
       "<style  type=\"text/css\" >\n",
       "    #T_c8dca780_e550_11eb_b57e_02420a39a9adrow0_col0 {\n",
       "            background-color:  #3b4cc0;\n",
       "            color:  #f1f1f1;\n",
       "        }    #T_c8dca780_e550_11eb_b57e_02420a39a9adrow1_col0 {\n",
       "            background-color:  #3b4cc0;\n",
       "            color:  #f1f1f1;\n",
       "        }    #T_c8dca780_e550_11eb_b57e_02420a39a9adrow2_col0 {\n",
       "            background-color:  #3b4cc0;\n",
       "            color:  #f1f1f1;\n",
       "        }    #T_c8dca780_e550_11eb_b57e_02420a39a9adrow3_col0 {\n",
       "            background-color:  #3b4cc0;\n",
       "            color:  #f1f1f1;\n",
       "        }    #T_c8dca780_e550_11eb_b57e_02420a39a9adrow4_col0 {\n",
       "            background-color:  #3b4cc0;\n",
       "            color:  #f1f1f1;\n",
       "        }    #T_c8dca780_e550_11eb_b57e_02420a39a9adrow5_col0 {\n",
       "            background-color:  #3b4cc0;\n",
       "            color:  #f1f1f1;\n",
       "        }    #T_c8dca780_e550_11eb_b57e_02420a39a9adrow6_col0 {\n",
       "            background-color:  #3b4cc0;\n",
       "            color:  #f1f1f1;\n",
       "        }    #T_c8dca780_e550_11eb_b57e_02420a39a9adrow7_col0 {\n",
       "            background-color:  #3b4cc0;\n",
       "            color:  #f1f1f1;\n",
       "        }    #T_c8dca780_e550_11eb_b57e_02420a39a9adrow8_col0 {\n",
       "            background-color:  #3b4cc0;\n",
       "            color:  #f1f1f1;\n",
       "        }    #T_c8dca780_e550_11eb_b57e_02420a39a9adrow9_col0 {\n",
       "            background-color:  #3b4cc0;\n",
       "            color:  #f1f1f1;\n",
       "        }    #T_c8dca780_e550_11eb_b57e_02420a39a9adrow10_col0 {\n",
       "            background-color:  #3b4cc0;\n",
       "            color:  #f1f1f1;\n",
       "        }    #T_c8dca780_e550_11eb_b57e_02420a39a9adrow11_col0 {\n",
       "            background-color:  #3b4cc0;\n",
       "            color:  #f1f1f1;\n",
       "        }    #T_c8dca780_e550_11eb_b57e_02420a39a9adrow12_col0 {\n",
       "            background-color:  #3b4cc0;\n",
       "            color:  #f1f1f1;\n",
       "        }    #T_c8dca780_e550_11eb_b57e_02420a39a9adrow13_col0 {\n",
       "            background-color:  #3b4cc0;\n",
       "            color:  #f1f1f1;\n",
       "        }    #T_c8dca780_e550_11eb_b57e_02420a39a9adrow14_col0 {\n",
       "            background-color:  #3b4cc0;\n",
       "            color:  #f1f1f1;\n",
       "        }    #T_c8dca780_e550_11eb_b57e_02420a39a9adrow15_col0 {\n",
       "            background-color:  #b2ccfb;\n",
       "            color:  #000000;\n",
       "        }    #T_c8dca780_e550_11eb_b57e_02420a39a9adrow16_col0 {\n",
       "            background-color:  #b1cbfc;\n",
       "            color:  #000000;\n",
       "        }    #T_c8dca780_e550_11eb_b57e_02420a39a9adrow17_col0 {\n",
       "            background-color:  #b1cbfc;\n",
       "            color:  #000000;\n",
       "        }    #T_c8dca780_e550_11eb_b57e_02420a39a9adrow18_col0 {\n",
       "            background-color:  #b40426;\n",
       "            color:  #f1f1f1;\n",
       "        }    #T_c8dca780_e550_11eb_b57e_02420a39a9adrow19_col0 {\n",
       "            background-color:  #b1cbfc;\n",
       "            color:  #000000;\n",
       "        }    #T_c8dca780_e550_11eb_b57e_02420a39a9adrow20_col0 {\n",
       "            background-color:  #cb3e38;\n",
       "            color:  #f1f1f1;\n",
       "        }    #T_c8dca780_e550_11eb_b57e_02420a39a9adrow21_col0 {\n",
       "            background-color:  #7da0f9;\n",
       "            color:  #000000;\n",
       "        }    #T_c8dca780_e550_11eb_b57e_02420a39a9adrow22_col0 {\n",
       "            background-color:  #3b4cc0;\n",
       "            color:  #f1f1f1;\n",
       "        }</style><table id=\"T_c8dca780_e550_11eb_b57e_02420a39a9ad\" ><thead>    <tr>        <th class=\"blank level0\" ></th>        <th class=\"col_heading level0 col0\" >0</th>    </tr></thead><tbody>\n",
       "                <tr>\n",
       "                        <th id=\"T_c8dca780_e550_11eb_b57e_02420a39a9adlevel0_row0\" class=\"row_heading level0 row0\" >total_images</th>\n",
       "                        <td id=\"T_c8dca780_e550_11eb_b57e_02420a39a9adrow0_col0\" class=\"data row0 col0\" >0</td>\n",
       "            </tr>\n",
       "            <tr>\n",
       "                        <th id=\"T_c8dca780_e550_11eb_b57e_02420a39a9adlevel0_row1\" class=\"row_heading level0 row1\" >last_price</th>\n",
       "                        <td id=\"T_c8dca780_e550_11eb_b57e_02420a39a9adrow1_col0\" class=\"data row1 col0\" >0</td>\n",
       "            </tr>\n",
       "            <tr>\n",
       "                        <th id=\"T_c8dca780_e550_11eb_b57e_02420a39a9adlevel0_row2\" class=\"row_heading level0 row2\" >total_area</th>\n",
       "                        <td id=\"T_c8dca780_e550_11eb_b57e_02420a39a9adrow2_col0\" class=\"data row2 col0\" >0</td>\n",
       "            </tr>\n",
       "            <tr>\n",
       "                        <th id=\"T_c8dca780_e550_11eb_b57e_02420a39a9adlevel0_row3\" class=\"row_heading level0 row3\" >first_day_exposition</th>\n",
       "                        <td id=\"T_c8dca780_e550_11eb_b57e_02420a39a9adrow3_col0\" class=\"data row3 col0\" >0</td>\n",
       "            </tr>\n",
       "            <tr>\n",
       "                        <th id=\"T_c8dca780_e550_11eb_b57e_02420a39a9adlevel0_row4\" class=\"row_heading level0 row4\" >rooms</th>\n",
       "                        <td id=\"T_c8dca780_e550_11eb_b57e_02420a39a9adrow4_col0\" class=\"data row4 col0\" >0</td>\n",
       "            </tr>\n",
       "            <tr>\n",
       "                        <th id=\"T_c8dca780_e550_11eb_b57e_02420a39a9adlevel0_row5\" class=\"row_heading level0 row5\" >ceiling_height</th>\n",
       "                        <td id=\"T_c8dca780_e550_11eb_b57e_02420a39a9adrow5_col0\" class=\"data row5 col0\" >0</td>\n",
       "            </tr>\n",
       "            <tr>\n",
       "                        <th id=\"T_c8dca780_e550_11eb_b57e_02420a39a9adlevel0_row6\" class=\"row_heading level0 row6\" >floors_total</th>\n",
       "                        <td id=\"T_c8dca780_e550_11eb_b57e_02420a39a9adrow6_col0\" class=\"data row6 col0\" >0</td>\n",
       "            </tr>\n",
       "            <tr>\n",
       "                        <th id=\"T_c8dca780_e550_11eb_b57e_02420a39a9adlevel0_row7\" class=\"row_heading level0 row7\" >living_area</th>\n",
       "                        <td id=\"T_c8dca780_e550_11eb_b57e_02420a39a9adrow7_col0\" class=\"data row7 col0\" >0</td>\n",
       "            </tr>\n",
       "            <tr>\n",
       "                        <th id=\"T_c8dca780_e550_11eb_b57e_02420a39a9adlevel0_row8\" class=\"row_heading level0 row8\" >floor</th>\n",
       "                        <td id=\"T_c8dca780_e550_11eb_b57e_02420a39a9adrow8_col0\" class=\"data row8 col0\" >0</td>\n",
       "            </tr>\n",
       "            <tr>\n",
       "                        <th id=\"T_c8dca780_e550_11eb_b57e_02420a39a9adlevel0_row9\" class=\"row_heading level0 row9\" >is_apartment</th>\n",
       "                        <td id=\"T_c8dca780_e550_11eb_b57e_02420a39a9adrow9_col0\" class=\"data row9 col0\" >0</td>\n",
       "            </tr>\n",
       "            <tr>\n",
       "                        <th id=\"T_c8dca780_e550_11eb_b57e_02420a39a9adlevel0_row10\" class=\"row_heading level0 row10\" >studio</th>\n",
       "                        <td id=\"T_c8dca780_e550_11eb_b57e_02420a39a9adrow10_col0\" class=\"data row10 col0\" >0</td>\n",
       "            </tr>\n",
       "            <tr>\n",
       "                        <th id=\"T_c8dca780_e550_11eb_b57e_02420a39a9adlevel0_row11\" class=\"row_heading level0 row11\" >open_plan</th>\n",
       "                        <td id=\"T_c8dca780_e550_11eb_b57e_02420a39a9adrow11_col0\" class=\"data row11 col0\" >0</td>\n",
       "            </tr>\n",
       "            <tr>\n",
       "                        <th id=\"T_c8dca780_e550_11eb_b57e_02420a39a9adlevel0_row12\" class=\"row_heading level0 row12\" >kitchen_area</th>\n",
       "                        <td id=\"T_c8dca780_e550_11eb_b57e_02420a39a9adrow12_col0\" class=\"data row12 col0\" >0</td>\n",
       "            </tr>\n",
       "            <tr>\n",
       "                        <th id=\"T_c8dca780_e550_11eb_b57e_02420a39a9adlevel0_row13\" class=\"row_heading level0 row13\" >balcony</th>\n",
       "                        <td id=\"T_c8dca780_e550_11eb_b57e_02420a39a9adrow13_col0\" class=\"data row13 col0\" >0</td>\n",
       "            </tr>\n",
       "            <tr>\n",
       "                        <th id=\"T_c8dca780_e550_11eb_b57e_02420a39a9adlevel0_row14\" class=\"row_heading level0 row14\" >locality_name</th>\n",
       "                        <td id=\"T_c8dca780_e550_11eb_b57e_02420a39a9adrow14_col0\" class=\"data row14 col0\" >0</td>\n",
       "            </tr>\n",
       "            <tr>\n",
       "                        <th id=\"T_c8dca780_e550_11eb_b57e_02420a39a9adlevel0_row15\" class=\"row_heading level0 row15\" >airports_nearest</th>\n",
       "                        <td id=\"T_c8dca780_e550_11eb_b57e_02420a39a9adrow15_col0\" class=\"data row15 col0\" >23.44</td>\n",
       "            </tr>\n",
       "            <tr>\n",
       "                        <th id=\"T_c8dca780_e550_11eb_b57e_02420a39a9adlevel0_row16\" class=\"row_heading level0 row16\" >cityCenters_nearest</th>\n",
       "                        <td id=\"T_c8dca780_e550_11eb_b57e_02420a39a9adrow16_col0\" class=\"data row16 col0\" >23.34</td>\n",
       "            </tr>\n",
       "            <tr>\n",
       "                        <th id=\"T_c8dca780_e550_11eb_b57e_02420a39a9adlevel0_row17\" class=\"row_heading level0 row17\" >parks_around3000</th>\n",
       "                        <td id=\"T_c8dca780_e550_11eb_b57e_02420a39a9adrow17_col0\" class=\"data row17 col0\" >23.34</td>\n",
       "            </tr>\n",
       "            <tr>\n",
       "                        <th id=\"T_c8dca780_e550_11eb_b57e_02420a39a9adlevel0_row18\" class=\"row_heading level0 row18\" >parks_nearest</th>\n",
       "                        <td id=\"T_c8dca780_e550_11eb_b57e_02420a39a9adrow18_col0\" class=\"data row18 col0\" >65.92</td>\n",
       "            </tr>\n",
       "            <tr>\n",
       "                        <th id=\"T_c8dca780_e550_11eb_b57e_02420a39a9adlevel0_row19\" class=\"row_heading level0 row19\" >ponds_around3000</th>\n",
       "                        <td id=\"T_c8dca780_e550_11eb_b57e_02420a39a9adrow19_col0\" class=\"data row19 col0\" >23.34</td>\n",
       "            </tr>\n",
       "            <tr>\n",
       "                        <th id=\"T_c8dca780_e550_11eb_b57e_02420a39a9adlevel0_row20\" class=\"row_heading level0 row20\" >ponds_nearest</th>\n",
       "                        <td id=\"T_c8dca780_e550_11eb_b57e_02420a39a9adrow20_col0\" class=\"data row20 col0\" >61.65</td>\n",
       "            </tr>\n",
       "            <tr>\n",
       "                        <th id=\"T_c8dca780_e550_11eb_b57e_02420a39a9adlevel0_row21\" class=\"row_heading level0 row21\" >days_exposition</th>\n",
       "                        <td id=\"T_c8dca780_e550_11eb_b57e_02420a39a9adrow21_col0\" class=\"data row21 col0\" >13.46</td>\n",
       "            </tr>\n",
       "            <tr>\n",
       "                        <th id=\"T_c8dca780_e550_11eb_b57e_02420a39a9adlevel0_row22\" class=\"row_heading level0 row22\" >total_area_cat</th>\n",
       "                        <td id=\"T_c8dca780_e550_11eb_b57e_02420a39a9adrow22_col0\" class=\"data row22 col0\" >0</td>\n",
       "            </tr>\n",
       "    </tbody></table>"
      ],
      "text/plain": [
       "<pandas.io.formats.style.Styler at 0x7ffa1350d4d0>"
      ]
     },
     "execution_count": 15,
     "metadata": {},
     "output_type": "execute_result"
    }
   ],
   "source": [
    "pd.DataFrame(round((data.isna().mean()*100),2)).style.background_gradient('coolwarm')"
   ]
  },
  {
   "cell_type": "markdown",
   "metadata": {},
   "source": [
    "У нас осталось несколько столбцов с пропущенными данными - их объединяет то, что так или иначе их значение связано с локацией. Мы можем заполнить их по медиане от locality_name.\n",
    "\n",
    "Но для начала давайте разберемся со столбцом locality_name"
   ]
  },
  {
   "cell_type": "code",
   "execution_count": 16,
   "metadata": {
    "scrolled": true
   },
   "outputs": [
    {
     "data": {
      "text/plain": [
       "array(['Санкт-Петербург', 'посёлок Шушары', 'городской посёлок Янино-1',\n",
       "       'посёлок Парголово', 'посёлок Мурино', 'Ломоносов', 'Сертолово',\n",
       "       'Петергоф', 'Пушкин', 'деревня Кудрово', 'Коммунар', 'Колпино',\n",
       "       'поселок городского типа Красный Бор', 'Гатчина', 'поселок Мурино',\n",
       "       'деревня Фёдоровское', 'Выборг', 'Кронштадт', 'Кировск',\n",
       "       'деревня Новое Девяткино', 'посёлок Металлострой',\n",
       "       'посёлок городского типа Лебяжье',\n",
       "       'посёлок городского типа Сиверский', 'поселок Молодцово',\n",
       "       'поселок городского типа Кузьмоловский',\n",
       "       'садовое товарищество Новая Ропша', 'Павловск',\n",
       "       'деревня Пикколово', 'Всеволожск', 'Волхов', 'Кингисепп',\n",
       "       'Приозерск', 'Сестрорецк', 'деревня Куттузи', 'посёлок Аннино',\n",
       "       'поселок городского типа Ефимовский', 'посёлок Плодовое',\n",
       "       'деревня Заклинье', 'поселок Торковичи', 'поселок Первомайское',\n",
       "       'Красное Село', 'посёлок Понтонный', 'Сясьстрой', 'деревня Старая',\n",
       "       'деревня Лесколово', 'посёлок Новый Свет', 'Сланцы',\n",
       "       'село Путилово', 'Ивангород', 'Мурино', 'Шлиссельбург',\n",
       "       'Никольское', 'Зеленогорск', 'Сосновый Бор', 'поселок Новый Свет',\n",
       "       'деревня Оржицы', 'деревня Кальтино', 'Кудрово',\n",
       "       'поселок Романовка', 'посёлок Бугры', 'поселок Бугры',\n",
       "       'поселок городского типа Рощино', 'Кириши', 'Луга', 'Волосово',\n",
       "       'Отрадное', 'село Павлово', 'поселок Оредеж', 'село Копорье',\n",
       "       'посёлок городского типа Красный Бор', 'посёлок Молодёжное',\n",
       "       'Тихвин', 'посёлок Победа', 'деревня Нурма',\n",
       "       'поселок городского типа Синявино', 'Тосно',\n",
       "       'посёлок городского типа Кузьмоловский', 'посёлок Стрельна',\n",
       "       'Бокситогорск', 'посёлок Александровская', 'деревня Лопухинка',\n",
       "       'Пикалёво', 'поселок Терволово',\n",
       "       'поселок городского типа Советский', 'Подпорожье',\n",
       "       'посёлок Петровское', 'посёлок городского типа Токсово',\n",
       "       'поселок Сельцо', 'посёлок городского типа Вырица',\n",
       "       'деревня Кипень', 'деревня Келози', 'деревня Вартемяги',\n",
       "       'посёлок Тельмана', 'поселок Севастьяново',\n",
       "       'городской поселок Большая Ижора', 'городской посёлок Павлово',\n",
       "       'деревня Агалатово', 'посёлок Новогорелово',\n",
       "       'городской посёлок Лесогорский', 'деревня Лаголово',\n",
       "       'поселок Цвелодубово', 'поселок городского типа Рахья',\n",
       "       'поселок городского типа Вырица', 'деревня Белогорка',\n",
       "       'поселок Заводской', 'городской посёлок Новоселье',\n",
       "       'деревня Большие Колпаны', 'деревня Горбунки', 'деревня Батово',\n",
       "       'деревня Заневка', 'деревня Иссад', 'Приморск',\n",
       "       'городской посёлок Фёдоровское', 'деревня Мистолово',\n",
       "       'Новая Ладога', 'поселок Зимитицы', 'поселок Барышево',\n",
       "       'деревня Разметелево', 'поселок городского типа имени Свердлова',\n",
       "       'деревня Пеники', 'поселок Рябово', 'деревня Пудомяги',\n",
       "       'поселок станции Корнево', 'деревня Низино', 'деревня Бегуницы',\n",
       "       'посёлок Поляны', 'городской посёлок Мга', 'поселок Елизаветино',\n",
       "       'посёлок городского типа Кузнечное', 'деревня Колтуши',\n",
       "       'поселок Запорожское', 'посёлок городского типа Рощино',\n",
       "       'деревня Гостилицы', 'деревня Малое Карлино',\n",
       "       'посёлок Мичуринское', 'посёлок городского типа имени Морозова',\n",
       "       'посёлок Песочный', 'посёлок Сосново', 'деревня Аро',\n",
       "       'поселок Ильичёво', 'посёлок городского типа Тайцы',\n",
       "       'деревня Малое Верево', 'деревня Извара', 'поселок станции Вещево',\n",
       "       'село Паша', 'деревня Калитино',\n",
       "       'посёлок городского типа Ульяновка', 'деревня Чудской Бор',\n",
       "       'поселок городского типа Дубровка', 'деревня Мины',\n",
       "       'поселок Войсковицы', 'посёлок городского типа имени Свердлова',\n",
       "       'деревня Коркино', 'посёлок Ропша',\n",
       "       'поселок городского типа Приладожский', 'посёлок Щеглово',\n",
       "       'посёлок Гаврилово', 'Лодейное Поле', 'деревня Рабитицы',\n",
       "       'поселок городского типа Никольский', 'деревня Кузьмолово',\n",
       "       'деревня Малые Колпаны', 'поселок Тельмана',\n",
       "       'посёлок Петро-Славянка', 'городской посёлок Назия',\n",
       "       'посёлок Репино', 'посёлок Ильичёво', 'поселок Углово',\n",
       "       'поселок Старая Малукса', 'садовое товарищество Рахья',\n",
       "       'поселок Аннино', 'поселок Победа', 'деревня Меньково',\n",
       "       'деревня Старые Бегуницы', 'посёлок Сапёрный', 'поселок Семрино',\n",
       "       'поселок Гаврилово', 'поселок Глажево', 'поселок Кобринское',\n",
       "       'деревня Гарболово', 'деревня Юкки',\n",
       "       'поселок станции Приветнинское', 'деревня Мануйлово',\n",
       "       'деревня Пчева', 'поселок Поляны', 'поселок Цвылёво',\n",
       "       'поселок Мельниково', 'посёлок Пудость', 'посёлок Усть-Луга',\n",
       "       'Светогорск', 'Любань', 'поселок Селезнёво',\n",
       "       'поселок городского типа Рябово', 'Каменногорск', 'деревня Кривко',\n",
       "       'поселок Глебычево', 'деревня Парицы', 'поселок Жилпосёлок',\n",
       "       'посёлок городского типа Мга', 'городской поселок Янино-1',\n",
       "       'посёлок Войскорово', 'село Никольское', 'посёлок Терволово',\n",
       "       'поселок Стеклянный', 'посёлок городского типа Важины',\n",
       "       'посёлок Мыза-Ивановка', 'село Русско-Высоцкое',\n",
       "       'поселок городского типа Лебяжье',\n",
       "       'поселок городского типа Форносово', 'село Старая Ладога',\n",
       "       'поселок Житково', 'городской посёлок Виллози', 'деревня Лампово',\n",
       "       'деревня Шпаньково', 'деревня Лаврики', 'посёлок Сумино',\n",
       "       'посёлок Возрождение', 'деревня Старосиверская',\n",
       "       'посёлок Кикерино', 'поселок Возрождение',\n",
       "       'деревня Старое Хинколово', 'посёлок Пригородный',\n",
       "       'посёлок Торфяное', 'городской посёлок Будогощь',\n",
       "       'поселок Суходолье', 'поселок Красная Долина', 'деревня Хапо-Ое',\n",
       "       'поселок городского типа Дружная Горка', 'поселок Лисий Нос',\n",
       "       'деревня Яльгелево', 'посёлок Стеклянный', 'село Рождествено',\n",
       "       'деревня Старополье', 'посёлок Левашово', 'деревня Сяськелево',\n",
       "       'деревня Камышовка',\n",
       "       'садоводческое некоммерческое товарищество Лесная Поляна',\n",
       "       'деревня Хязельки', 'поселок Жилгородок',\n",
       "       'посёлок городского типа Павлово', 'деревня Ялгино',\n",
       "       'поселок Новый Учхоз', 'городской посёлок Рощино',\n",
       "       'поселок Гончарово', 'поселок Почап', 'посёлок Сапёрное',\n",
       "       'посёлок Платформа 69-й километр', 'поселок Каложицы',\n",
       "       'деревня Фалилеево', 'деревня Пельгора',\n",
       "       'поселок городского типа Лесогорский', 'деревня Торошковичи',\n",
       "       'посёлок Белоостров', 'посёлок Алексеевка', 'поселок Серебрянский',\n",
       "       'поселок Лукаши', 'поселок Петровское', 'деревня Щеглово',\n",
       "       'поселок Мичуринское', 'деревня Тарасово', 'поселок Кингисеппский',\n",
       "       'посёлок при железнодорожной станции Вещево', 'поселок Ушаки',\n",
       "       'деревня Котлы', 'деревня Сижно', 'деревня Торосово',\n",
       "       'посёлок Форт Красная Горка', 'деревня Новолисино',\n",
       "       'посёлок станции Громово', 'деревня Глинка', 'посёлок Мельниково',\n",
       "       'поселок городского типа Назия', 'деревня Старая Пустошь',\n",
       "       'поселок Коммунары', 'поселок Починок',\n",
       "       'посёлок городского типа Вознесенье', 'деревня Разбегаево',\n",
       "       'посёлок городского типа Рябово', 'поселок Гладкое',\n",
       "       'посёлок при железнодорожной станции Приветнинское',\n",
       "       'поселок Тёсово-4', 'посёлок Жилгородок', 'деревня Бор',\n",
       "       'посёлок Коробицыно', 'деревня Большая Вруда', 'деревня Курковицы',\n",
       "       'посёлок Лисий Нос', 'городской посёлок Советский',\n",
       "       'посёлок Кобралово', 'деревня Суоранда', 'поселок Кобралово',\n",
       "       'поселок городского типа Кондратьево',\n",
       "       'коттеджный поселок Счастье', 'поселок Любань', 'деревня Реброво',\n",
       "       'деревня Зимитицы', 'деревня Тойворово', 'поселок Семиозерье',\n",
       "       'поселок Лесное', 'поселок Совхозный', 'поселок Усть-Луга',\n",
       "       'посёлок Ленинское', 'посёлок Суйда',\n",
       "       'посёлок городского типа Форносово', 'деревня Нижние Осельки',\n",
       "       'посёлок станции Свирь', 'поселок Перово', 'Высоцк',\n",
       "       'поселок Гарболово', 'село Шум', 'поселок Котельский',\n",
       "       'поселок станции Лужайка', 'деревня Большая Пустомержа',\n",
       "       'поселок Красносельское', 'деревня Вахнова Кара', 'деревня Пижма',\n",
       "       'коттеджный поселок Кивеннапа Север', 'поселок Коробицыно',\n",
       "       'поселок Ромашки', 'посёлок Перово', 'деревня Каськово',\n",
       "       'деревня Куровицы', 'посёлок Плоское', 'поселок Сумино',\n",
       "       'поселок городского типа Большая Ижора', 'поселок Кирпичное',\n",
       "       'деревня Ям-Тесово', 'деревня Раздолье', 'деревня Терпилицы',\n",
       "       'поселок городского типа Токсово', 'посёлок Шугозеро',\n",
       "       'деревня Ваганово', 'поселок Пушное', 'садовое товарищество Садко',\n",
       "       'посёлок Усть-Ижора', 'деревня Выскатка',\n",
       "       'городской посёлок Свирьстрой', 'поселок Громово',\n",
       "       'деревня Кисельня', 'посёлок Старая Малукса',\n",
       "       'деревня Трубников Бор', 'поселок Калитино',\n",
       "       'посёлок Высокоключевой', 'садовое товарищество Приладожский',\n",
       "       'посёлок Пансионат Зелёный Бор', 'деревня Ненимяки',\n",
       "       'поселок Пансионат Зелёный Бор', 'деревня Снегирёвка',\n",
       "       'деревня Рапполово', 'деревня Пустынка', 'поселок Рабитицы',\n",
       "       'деревня Большой Сабск', 'деревня Русско', 'деревня Лупполово',\n",
       "       'деревня Большое Рейзино', 'деревня Малая Романовка',\n",
       "       'поселок Дружноселье', 'поселок Пчевжа', 'поселок Володарское',\n",
       "       'деревня Нижняя', 'коттеджный посёлок Лесное', 'деревня Тихковицы',\n",
       "       'деревня Борисова Грива', 'посёлок Дзержинского'], dtype=object)"
      ]
     },
     "execution_count": 16,
     "metadata": {},
     "output_type": "execute_result"
    }
   ],
   "source": [
    "data['locality_name'].unique()"
   ]
  },
  {
   "cell_type": "markdown",
   "metadata": {},
   "source": [
    "Мы видим большое количество дублирующихся значений: для каждого значения, начинающегося с \"деревня\", \"село\" и. т.п. мы имеем дубликат, в названии которого отсутствует тип поселения. Избавимся от таких дубликатов!"
   ]
  },
  {
   "cell_type": "code",
   "execution_count": 17,
   "metadata": {},
   "outputs": [],
   "source": [
    "#оставим только те слова, которые начинаются с большой буквы\n",
    "#напишем следующую функцию\n",
    "def new_loc (string):\n",
    "    for i in range (len(string)):\n",
    "        #для каждого знака аргумента в каждой строке\n",
    "        if string[i].isupper():\n",
    "            #если знак аргумента начинается с большой буквы\n",
    "            return string[i:len(string)]\n",
    "                #возвращаем все его оставшиеся знаки"
   ]
  },
  {
   "cell_type": "code",
   "execution_count": 18,
   "metadata": {},
   "outputs": [],
   "source": [
    "#применим функцию к столбцу с данными\n",
    "data['locality_name'] = data['locality_name'].apply(new_loc)"
   ]
  },
  {
   "cell_type": "code",
   "execution_count": 19,
   "metadata": {
    "scrolled": true
   },
   "outputs": [
    {
     "data": {
      "text/plain": [
       "array(['Санкт-Петербург', 'Шушары', 'Янино-1', 'Парголово', 'Мурино',\n",
       "       'Ломоносов', 'Сертолово', 'Петергоф', 'Пушкин', 'Кудрово',\n",
       "       'Коммунар', 'Колпино', 'Красный Бор', 'Гатчина', 'Фёдоровское',\n",
       "       'Выборг', 'Кронштадт', 'Кировск', 'Новое Девяткино',\n",
       "       'Металлострой', 'Лебяжье', 'Сиверский', 'Молодцово',\n",
       "       'Кузьмоловский', 'Новая Ропша', 'Павловск', 'Пикколово',\n",
       "       'Всеволожск', 'Волхов', 'Кингисепп', 'Приозерск', 'Сестрорецк',\n",
       "       'Куттузи', 'Аннино', 'Ефимовский', 'Плодовое', 'Заклинье',\n",
       "       'Торковичи', 'Первомайское', 'Красное Село', 'Понтонный',\n",
       "       'Сясьстрой', 'Старая', 'Лесколово', 'Новый Свет', 'Сланцы',\n",
       "       'Путилово', 'Ивангород', 'Шлиссельбург', 'Никольское',\n",
       "       'Зеленогорск', 'Сосновый Бор', 'Оржицы', 'Кальтино', 'Романовка',\n",
       "       'Бугры', 'Рощино', 'Кириши', 'Луга', 'Волосово', 'Отрадное',\n",
       "       'Павлово', 'Оредеж', 'Копорье', 'Молодёжное', 'Тихвин', 'Победа',\n",
       "       'Нурма', 'Синявино', 'Тосно', 'Стрельна', 'Бокситогорск',\n",
       "       'Александровская', 'Лопухинка', 'Пикалёво', 'Терволово',\n",
       "       'Советский', 'Подпорожье', 'Петровское', 'Токсово', 'Сельцо',\n",
       "       'Вырица', 'Кипень', 'Келози', 'Вартемяги', 'Тельмана',\n",
       "       'Севастьяново', 'Большая Ижора', 'Агалатово', 'Новогорелово',\n",
       "       'Лесогорский', 'Лаголово', 'Цвелодубово', 'Рахья', 'Белогорка',\n",
       "       'Заводской', 'Новоселье', 'Большие Колпаны', 'Горбунки', 'Батово',\n",
       "       'Заневка', 'Иссад', 'Приморск', 'Мистолово', 'Новая Ладога',\n",
       "       'Зимитицы', 'Барышево', 'Разметелево', 'Свердлова', 'Пеники',\n",
       "       'Рябово', 'Пудомяги', 'Корнево', 'Низино', 'Бегуницы', 'Поляны',\n",
       "       'Мга', 'Елизаветино', 'Кузнечное', 'Колтуши', 'Запорожское',\n",
       "       'Гостилицы', 'Малое Карлино', 'Мичуринское', 'Морозова',\n",
       "       'Песочный', 'Сосново', 'Аро', 'Ильичёво', 'Тайцы', 'Малое Верево',\n",
       "       'Извара', 'Вещево', 'Паша', 'Калитино', 'Ульяновка', 'Чудской Бор',\n",
       "       'Дубровка', 'Мины', 'Войсковицы', 'Коркино', 'Ропша',\n",
       "       'Приладожский', 'Щеглово', 'Гаврилово', 'Лодейное Поле',\n",
       "       'Рабитицы', 'Никольский', 'Кузьмолово', 'Малые Колпаны',\n",
       "       'Петро-Славянка', 'Назия', 'Репино', 'Углово', 'Старая Малукса',\n",
       "       'Меньково', 'Старые Бегуницы', 'Сапёрный', 'Семрино', 'Глажево',\n",
       "       'Кобринское', 'Гарболово', 'Юкки', 'Приветнинское', 'Мануйлово',\n",
       "       'Пчева', 'Цвылёво', 'Мельниково', 'Пудость', 'Усть-Луга',\n",
       "       'Светогорск', 'Любань', 'Селезнёво', 'Каменногорск', 'Кривко',\n",
       "       'Глебычево', 'Парицы', 'Жилпосёлок', 'Войскорово', 'Стеклянный',\n",
       "       'Важины', 'Мыза-Ивановка', 'Русско-Высоцкое', 'Форносово',\n",
       "       'Старая Ладога', 'Житково', 'Виллози', 'Лампово', 'Шпаньково',\n",
       "       'Лаврики', 'Сумино', 'Возрождение', 'Старосиверская', 'Кикерино',\n",
       "       'Старое Хинколово', 'Пригородный', 'Торфяное', 'Будогощь',\n",
       "       'Суходолье', 'Красная Долина', 'Хапо-Ое', 'Дружная Горка',\n",
       "       'Лисий Нос', 'Яльгелево', 'Рождествено', 'Старополье', 'Левашово',\n",
       "       'Сяськелево', 'Камышовка', 'Лесная Поляна', 'Хязельки',\n",
       "       'Жилгородок', 'Ялгино', 'Новый Учхоз', 'Гончарово', 'Почап',\n",
       "       'Сапёрное', 'Платформа 69-й километр', 'Каложицы', 'Фалилеево',\n",
       "       'Пельгора', 'Торошковичи', 'Белоостров', 'Алексеевка',\n",
       "       'Серебрянский', 'Лукаши', 'Тарасово', 'Кингисеппский', 'Ушаки',\n",
       "       'Котлы', 'Сижно', 'Торосово', 'Форт Красная Горка', 'Новолисино',\n",
       "       'Громово', 'Глинка', 'Старая Пустошь', 'Коммунары', 'Починок',\n",
       "       'Вознесенье', 'Разбегаево', 'Гладкое', 'Тёсово-4', 'Бор',\n",
       "       'Коробицыно', 'Большая Вруда', 'Курковицы', 'Кобралово',\n",
       "       'Суоранда', 'Кондратьево', 'Счастье', 'Реброво', 'Тойворово',\n",
       "       'Семиозерье', 'Лесное', 'Совхозный', 'Ленинское', 'Суйда',\n",
       "       'Нижние Осельки', 'Свирь', 'Перово', 'Высоцк', 'Шум', 'Котельский',\n",
       "       'Лужайка', 'Большая Пустомержа', 'Красносельское', 'Вахнова Кара',\n",
       "       'Пижма', 'Кивеннапа Север', 'Ромашки', 'Каськово', 'Куровицы',\n",
       "       'Плоское', 'Кирпичное', 'Ям-Тесово', 'Раздолье', 'Терпилицы',\n",
       "       'Шугозеро', 'Ваганово', 'Пушное', 'Садко', 'Усть-Ижора',\n",
       "       'Выскатка', 'Свирьстрой', 'Кисельня', 'Трубников Бор',\n",
       "       'Высокоключевой', 'Пансионат Зелёный Бор', 'Ненимяки',\n",
       "       'Снегирёвка', 'Рапполово', 'Пустынка', 'Большой Сабск', 'Русско',\n",
       "       'Лупполово', 'Большое Рейзино', 'Малая Романовка', 'Дружноселье',\n",
       "       'Пчевжа', 'Володарское', 'Нижняя', 'Тихковицы', 'Борисова Грива',\n",
       "       'Дзержинского'], dtype=object)"
      ]
     },
     "execution_count": 19,
     "metadata": {},
     "output_type": "execute_result"
    }
   ],
   "source": [
    "#посмотрим на результат обработки\n",
    "data['locality_name'].unique()"
   ]
  },
  {
   "cell_type": "markdown",
   "metadata": {},
   "source": [
    "Заполним пропущенные значения в столбцах airports_nearest, cityCenters_nearest, parks_around3000, parks_nearest, ponds_around3000, ponds_nearest медианой по столбцу "
   ]
  },
  {
   "cell_type": "code",
   "execution_count": 20,
   "metadata": {},
   "outputs": [],
   "source": [
    "data['airports_nearest'] = data['airports_nearest'].fillna(data['airports_nearest'].median())\n",
    "data['cityCenters_nearest'] = data['cityCenters_nearest'].fillna(data['cityCenters_nearest'].median())\n",
    "data['parks_around3000'] = data['parks_around3000'].fillna(data['parks_around3000'].median())\n",
    "data['parks_nearest'] = data['parks_nearest'].fillna(data['parks_nearest'].median())\n",
    "data['ponds_around3000'] = data['ponds_around3000'].fillna(data['ponds_around3000'].median())\n",
    "data['ponds_nearest'] = data['ponds_nearest'].fillna(data['ponds_nearest'].median())"
   ]
  },
  {
   "cell_type": "code",
   "execution_count": 21,
   "metadata": {},
   "outputs": [
    {
     "data": {
      "text/html": [
       "<style  type=\"text/css\" >\n",
       "    #T_c8f8b3b2_e550_11eb_b57e_02420a39a9adrow0_col0 {\n",
       "            background-color:  #3b4cc0;\n",
       "            color:  #f1f1f1;\n",
       "        }    #T_c8f8b3b2_e550_11eb_b57e_02420a39a9adrow1_col0 {\n",
       "            background-color:  #3b4cc0;\n",
       "            color:  #f1f1f1;\n",
       "        }    #T_c8f8b3b2_e550_11eb_b57e_02420a39a9adrow2_col0 {\n",
       "            background-color:  #3b4cc0;\n",
       "            color:  #f1f1f1;\n",
       "        }    #T_c8f8b3b2_e550_11eb_b57e_02420a39a9adrow3_col0 {\n",
       "            background-color:  #3b4cc0;\n",
       "            color:  #f1f1f1;\n",
       "        }    #T_c8f8b3b2_e550_11eb_b57e_02420a39a9adrow4_col0 {\n",
       "            background-color:  #3b4cc0;\n",
       "            color:  #f1f1f1;\n",
       "        }    #T_c8f8b3b2_e550_11eb_b57e_02420a39a9adrow5_col0 {\n",
       "            background-color:  #3b4cc0;\n",
       "            color:  #f1f1f1;\n",
       "        }    #T_c8f8b3b2_e550_11eb_b57e_02420a39a9adrow6_col0 {\n",
       "            background-color:  #3b4cc0;\n",
       "            color:  #f1f1f1;\n",
       "        }    #T_c8f8b3b2_e550_11eb_b57e_02420a39a9adrow7_col0 {\n",
       "            background-color:  #3b4cc0;\n",
       "            color:  #f1f1f1;\n",
       "        }    #T_c8f8b3b2_e550_11eb_b57e_02420a39a9adrow8_col0 {\n",
       "            background-color:  #3b4cc0;\n",
       "            color:  #f1f1f1;\n",
       "        }    #T_c8f8b3b2_e550_11eb_b57e_02420a39a9adrow9_col0 {\n",
       "            background-color:  #3b4cc0;\n",
       "            color:  #f1f1f1;\n",
       "        }    #T_c8f8b3b2_e550_11eb_b57e_02420a39a9adrow10_col0 {\n",
       "            background-color:  #3b4cc0;\n",
       "            color:  #f1f1f1;\n",
       "        }    #T_c8f8b3b2_e550_11eb_b57e_02420a39a9adrow11_col0 {\n",
       "            background-color:  #3b4cc0;\n",
       "            color:  #f1f1f1;\n",
       "        }    #T_c8f8b3b2_e550_11eb_b57e_02420a39a9adrow12_col0 {\n",
       "            background-color:  #3b4cc0;\n",
       "            color:  #f1f1f1;\n",
       "        }    #T_c8f8b3b2_e550_11eb_b57e_02420a39a9adrow13_col0 {\n",
       "            background-color:  #3b4cc0;\n",
       "            color:  #f1f1f1;\n",
       "        }    #T_c8f8b3b2_e550_11eb_b57e_02420a39a9adrow14_col0 {\n",
       "            background-color:  #3b4cc0;\n",
       "            color:  #f1f1f1;\n",
       "        }    #T_c8f8b3b2_e550_11eb_b57e_02420a39a9adrow15_col0 {\n",
       "            background-color:  #3b4cc0;\n",
       "            color:  #f1f1f1;\n",
       "        }    #T_c8f8b3b2_e550_11eb_b57e_02420a39a9adrow16_col0 {\n",
       "            background-color:  #3b4cc0;\n",
       "            color:  #f1f1f1;\n",
       "        }    #T_c8f8b3b2_e550_11eb_b57e_02420a39a9adrow17_col0 {\n",
       "            background-color:  #3b4cc0;\n",
       "            color:  #f1f1f1;\n",
       "        }    #T_c8f8b3b2_e550_11eb_b57e_02420a39a9adrow18_col0 {\n",
       "            background-color:  #3b4cc0;\n",
       "            color:  #f1f1f1;\n",
       "        }    #T_c8f8b3b2_e550_11eb_b57e_02420a39a9adrow19_col0 {\n",
       "            background-color:  #3b4cc0;\n",
       "            color:  #f1f1f1;\n",
       "        }    #T_c8f8b3b2_e550_11eb_b57e_02420a39a9adrow20_col0 {\n",
       "            background-color:  #3b4cc0;\n",
       "            color:  #f1f1f1;\n",
       "        }    #T_c8f8b3b2_e550_11eb_b57e_02420a39a9adrow21_col0 {\n",
       "            background-color:  #b40426;\n",
       "            color:  #f1f1f1;\n",
       "        }    #T_c8f8b3b2_e550_11eb_b57e_02420a39a9adrow22_col0 {\n",
       "            background-color:  #3b4cc0;\n",
       "            color:  #f1f1f1;\n",
       "        }</style><table id=\"T_c8f8b3b2_e550_11eb_b57e_02420a39a9ad\" ><thead>    <tr>        <th class=\"blank level0\" ></th>        <th class=\"col_heading level0 col0\" >0</th>    </tr></thead><tbody>\n",
       "                <tr>\n",
       "                        <th id=\"T_c8f8b3b2_e550_11eb_b57e_02420a39a9adlevel0_row0\" class=\"row_heading level0 row0\" >total_images</th>\n",
       "                        <td id=\"T_c8f8b3b2_e550_11eb_b57e_02420a39a9adrow0_col0\" class=\"data row0 col0\" >0</td>\n",
       "            </tr>\n",
       "            <tr>\n",
       "                        <th id=\"T_c8f8b3b2_e550_11eb_b57e_02420a39a9adlevel0_row1\" class=\"row_heading level0 row1\" >last_price</th>\n",
       "                        <td id=\"T_c8f8b3b2_e550_11eb_b57e_02420a39a9adrow1_col0\" class=\"data row1 col0\" >0</td>\n",
       "            </tr>\n",
       "            <tr>\n",
       "                        <th id=\"T_c8f8b3b2_e550_11eb_b57e_02420a39a9adlevel0_row2\" class=\"row_heading level0 row2\" >total_area</th>\n",
       "                        <td id=\"T_c8f8b3b2_e550_11eb_b57e_02420a39a9adrow2_col0\" class=\"data row2 col0\" >0</td>\n",
       "            </tr>\n",
       "            <tr>\n",
       "                        <th id=\"T_c8f8b3b2_e550_11eb_b57e_02420a39a9adlevel0_row3\" class=\"row_heading level0 row3\" >first_day_exposition</th>\n",
       "                        <td id=\"T_c8f8b3b2_e550_11eb_b57e_02420a39a9adrow3_col0\" class=\"data row3 col0\" >0</td>\n",
       "            </tr>\n",
       "            <tr>\n",
       "                        <th id=\"T_c8f8b3b2_e550_11eb_b57e_02420a39a9adlevel0_row4\" class=\"row_heading level0 row4\" >rooms</th>\n",
       "                        <td id=\"T_c8f8b3b2_e550_11eb_b57e_02420a39a9adrow4_col0\" class=\"data row4 col0\" >0</td>\n",
       "            </tr>\n",
       "            <tr>\n",
       "                        <th id=\"T_c8f8b3b2_e550_11eb_b57e_02420a39a9adlevel0_row5\" class=\"row_heading level0 row5\" >ceiling_height</th>\n",
       "                        <td id=\"T_c8f8b3b2_e550_11eb_b57e_02420a39a9adrow5_col0\" class=\"data row5 col0\" >0</td>\n",
       "            </tr>\n",
       "            <tr>\n",
       "                        <th id=\"T_c8f8b3b2_e550_11eb_b57e_02420a39a9adlevel0_row6\" class=\"row_heading level0 row6\" >floors_total</th>\n",
       "                        <td id=\"T_c8f8b3b2_e550_11eb_b57e_02420a39a9adrow6_col0\" class=\"data row6 col0\" >0</td>\n",
       "            </tr>\n",
       "            <tr>\n",
       "                        <th id=\"T_c8f8b3b2_e550_11eb_b57e_02420a39a9adlevel0_row7\" class=\"row_heading level0 row7\" >living_area</th>\n",
       "                        <td id=\"T_c8f8b3b2_e550_11eb_b57e_02420a39a9adrow7_col0\" class=\"data row7 col0\" >0</td>\n",
       "            </tr>\n",
       "            <tr>\n",
       "                        <th id=\"T_c8f8b3b2_e550_11eb_b57e_02420a39a9adlevel0_row8\" class=\"row_heading level0 row8\" >floor</th>\n",
       "                        <td id=\"T_c8f8b3b2_e550_11eb_b57e_02420a39a9adrow8_col0\" class=\"data row8 col0\" >0</td>\n",
       "            </tr>\n",
       "            <tr>\n",
       "                        <th id=\"T_c8f8b3b2_e550_11eb_b57e_02420a39a9adlevel0_row9\" class=\"row_heading level0 row9\" >is_apartment</th>\n",
       "                        <td id=\"T_c8f8b3b2_e550_11eb_b57e_02420a39a9adrow9_col0\" class=\"data row9 col0\" >0</td>\n",
       "            </tr>\n",
       "            <tr>\n",
       "                        <th id=\"T_c8f8b3b2_e550_11eb_b57e_02420a39a9adlevel0_row10\" class=\"row_heading level0 row10\" >studio</th>\n",
       "                        <td id=\"T_c8f8b3b2_e550_11eb_b57e_02420a39a9adrow10_col0\" class=\"data row10 col0\" >0</td>\n",
       "            </tr>\n",
       "            <tr>\n",
       "                        <th id=\"T_c8f8b3b2_e550_11eb_b57e_02420a39a9adlevel0_row11\" class=\"row_heading level0 row11\" >open_plan</th>\n",
       "                        <td id=\"T_c8f8b3b2_e550_11eb_b57e_02420a39a9adrow11_col0\" class=\"data row11 col0\" >0</td>\n",
       "            </tr>\n",
       "            <tr>\n",
       "                        <th id=\"T_c8f8b3b2_e550_11eb_b57e_02420a39a9adlevel0_row12\" class=\"row_heading level0 row12\" >kitchen_area</th>\n",
       "                        <td id=\"T_c8f8b3b2_e550_11eb_b57e_02420a39a9adrow12_col0\" class=\"data row12 col0\" >0</td>\n",
       "            </tr>\n",
       "            <tr>\n",
       "                        <th id=\"T_c8f8b3b2_e550_11eb_b57e_02420a39a9adlevel0_row13\" class=\"row_heading level0 row13\" >balcony</th>\n",
       "                        <td id=\"T_c8f8b3b2_e550_11eb_b57e_02420a39a9adrow13_col0\" class=\"data row13 col0\" >0</td>\n",
       "            </tr>\n",
       "            <tr>\n",
       "                        <th id=\"T_c8f8b3b2_e550_11eb_b57e_02420a39a9adlevel0_row14\" class=\"row_heading level0 row14\" >locality_name</th>\n",
       "                        <td id=\"T_c8f8b3b2_e550_11eb_b57e_02420a39a9adrow14_col0\" class=\"data row14 col0\" >0</td>\n",
       "            </tr>\n",
       "            <tr>\n",
       "                        <th id=\"T_c8f8b3b2_e550_11eb_b57e_02420a39a9adlevel0_row15\" class=\"row_heading level0 row15\" >airports_nearest</th>\n",
       "                        <td id=\"T_c8f8b3b2_e550_11eb_b57e_02420a39a9adrow15_col0\" class=\"data row15 col0\" >0</td>\n",
       "            </tr>\n",
       "            <tr>\n",
       "                        <th id=\"T_c8f8b3b2_e550_11eb_b57e_02420a39a9adlevel0_row16\" class=\"row_heading level0 row16\" >cityCenters_nearest</th>\n",
       "                        <td id=\"T_c8f8b3b2_e550_11eb_b57e_02420a39a9adrow16_col0\" class=\"data row16 col0\" >0</td>\n",
       "            </tr>\n",
       "            <tr>\n",
       "                        <th id=\"T_c8f8b3b2_e550_11eb_b57e_02420a39a9adlevel0_row17\" class=\"row_heading level0 row17\" >parks_around3000</th>\n",
       "                        <td id=\"T_c8f8b3b2_e550_11eb_b57e_02420a39a9adrow17_col0\" class=\"data row17 col0\" >0</td>\n",
       "            </tr>\n",
       "            <tr>\n",
       "                        <th id=\"T_c8f8b3b2_e550_11eb_b57e_02420a39a9adlevel0_row18\" class=\"row_heading level0 row18\" >parks_nearest</th>\n",
       "                        <td id=\"T_c8f8b3b2_e550_11eb_b57e_02420a39a9adrow18_col0\" class=\"data row18 col0\" >0</td>\n",
       "            </tr>\n",
       "            <tr>\n",
       "                        <th id=\"T_c8f8b3b2_e550_11eb_b57e_02420a39a9adlevel0_row19\" class=\"row_heading level0 row19\" >ponds_around3000</th>\n",
       "                        <td id=\"T_c8f8b3b2_e550_11eb_b57e_02420a39a9adrow19_col0\" class=\"data row19 col0\" >0</td>\n",
       "            </tr>\n",
       "            <tr>\n",
       "                        <th id=\"T_c8f8b3b2_e550_11eb_b57e_02420a39a9adlevel0_row20\" class=\"row_heading level0 row20\" >ponds_nearest</th>\n",
       "                        <td id=\"T_c8f8b3b2_e550_11eb_b57e_02420a39a9adrow20_col0\" class=\"data row20 col0\" >0</td>\n",
       "            </tr>\n",
       "            <tr>\n",
       "                        <th id=\"T_c8f8b3b2_e550_11eb_b57e_02420a39a9adlevel0_row21\" class=\"row_heading level0 row21\" >days_exposition</th>\n",
       "                        <td id=\"T_c8f8b3b2_e550_11eb_b57e_02420a39a9adrow21_col0\" class=\"data row21 col0\" >13.46</td>\n",
       "            </tr>\n",
       "            <tr>\n",
       "                        <th id=\"T_c8f8b3b2_e550_11eb_b57e_02420a39a9adlevel0_row22\" class=\"row_heading level0 row22\" >total_area_cat</th>\n",
       "                        <td id=\"T_c8f8b3b2_e550_11eb_b57e_02420a39a9adrow22_col0\" class=\"data row22 col0\" >0</td>\n",
       "            </tr>\n",
       "    </tbody></table>"
      ],
      "text/plain": [
       "<pandas.io.formats.style.Styler at 0x7ffa5d815f10>"
      ]
     },
     "execution_count": 21,
     "metadata": {},
     "output_type": "execute_result"
    }
   ],
   "source": [
    "pd.DataFrame(round((data.isna().mean()*100),2)).style.background_gradient('coolwarm')"
   ]
  },
  {
   "cell_type": "markdown",
   "metadata": {},
   "source": [
    "Перейдем к пропущенным значениям в days_exposition. Вероятно, они связаны с тем, что соответствующее объявление просто не было снято с публикации (квартира до сих пор в продаже). Заполнить данные пропуски невозможно, так как они являются обоснованными. "
   ]
  },
  {
   "cell_type": "markdown",
   "metadata": {},
   "source": [
    "Изменим типы данных там, где это необходимо. Приведем к целым числам значения в следующих столбцах: floors_total, balcony, airports_nearest, cityCenters_nearest, parks_around3000, parks_nearest, ponds_around3000, ponds_nearest, days_exposition."
   ]
  },
  {
   "cell_type": "code",
   "execution_count": 22,
   "metadata": {},
   "outputs": [
    {
     "data": {
      "text/plain": [
       "<bound method Series.round of 0          NaN\n",
       "1         81.0\n",
       "2        558.0\n",
       "3        424.0\n",
       "4        121.0\n",
       "         ...  \n",
       "23694      NaN\n",
       "23695     45.0\n",
       "23696      NaN\n",
       "23697    602.0\n",
       "23698      NaN\n",
       "Name: days_exposition, Length: 23565, dtype: float64>"
      ]
     },
     "execution_count": 22,
     "metadata": {},
     "output_type": "execute_result"
    }
   ],
   "source": [
    "data['floors_total'].round\n",
    "data['balcony'].round\n",
    "data['airports_nearest'].round\n",
    "data['cityCenters_nearest'].round\n",
    "data['parks_around3000'].round\n",
    "data['parks_nearest'].round\n",
    "data['ponds_around3000'].round\n",
    "data['ponds_nearest'].round\n",
    "data['days_exposition'].round"
   ]
  },
  {
   "cell_type": "markdown",
   "metadata": {},
   "source": [
    "<div class=\"alert alert-info\">\n",
    "Приведем данные к типу int   \n",
    "</div>"
   ]
  },
  {
   "cell_type": "code",
   "execution_count": 23,
   "metadata": {},
   "outputs": [
    {
     "name": "stdout",
     "output_type": "stream",
     "text": [
      "<class 'pandas.core.frame.DataFrame'>\n",
      "Int64Index: 23565 entries, 0 to 23698\n",
      "Data columns (total 23 columns):\n",
      "total_images            23565 non-null int64\n",
      "last_price              23565 non-null float64\n",
      "total_area              23565 non-null float64\n",
      "first_day_exposition    23565 non-null object\n",
      "rooms                   23565 non-null int64\n",
      "ceiling_height          23565 non-null float64\n",
      "floors_total            23565 non-null float64\n",
      "living_area             23565 non-null float64\n",
      "floor                   23565 non-null int64\n",
      "is_apartment            23565 non-null bool\n",
      "studio                  23565 non-null bool\n",
      "open_plan               23565 non-null bool\n",
      "kitchen_area            23565 non-null float64\n",
      "balcony                 23565 non-null float64\n",
      "locality_name           23565 non-null object\n",
      "airports_nearest        23565 non-null float64\n",
      "cityCenters_nearest     23565 non-null float64\n",
      "parks_around3000        23565 non-null float64\n",
      "parks_nearest           23565 non-null float64\n",
      "ponds_around3000        23565 non-null float64\n",
      "ponds_nearest           23565 non-null float64\n",
      "days_exposition         20394 non-null float64\n",
      "total_area_cat          23565 non-null object\n",
      "dtypes: bool(3), float64(14), int64(3), object(3)\n",
      "memory usage: 3.8+ MB\n"
     ]
    }
   ],
   "source": [
    "data['floors_total'].astype('int64')\n",
    "data['balcony'].astype('int64')\n",
    "data['airports_nearest'].astype('int64')\n",
    "data['cityCenters_nearest'].astype('int64')\n",
    "data['parks_around3000'].astype('int64')\n",
    "data['parks_nearest'].astype('int64')\n",
    "data['ponds_around3000'].astype('int64')\n",
    "data['ponds_nearest'].astype('int64')\n",
    "\n",
    "data.info()"
   ]
  },
  {
   "cell_type": "markdown",
   "metadata": {},
   "source": [
    "Мы заполнили пропуски в данных там, где это было необходимо и возможно было логически. Где логика не работала - я применил медиану по столбцу. Возможно, это и правда не лучшее решение, когда количество пропусков составляет порядка 20% от общего количества данных - стоит внимательней отнестись к таким исходным и проверить характер пропусков, а также внимательно разоробраться в их причинах. \n",
    "    \n",
    "От себя отмечу, что, конечно, такой способ заполнения пропусков совсем не идеален, тем более когда есть высокая корелляция сразу по нескольким показателям. В таких случаях, мне кажется, стоит рассчитывать данные для заполнения пропусков, учитывая все имеющиеся связи. "
   ]
  },
  {
   "cell_type": "markdown",
   "metadata": {},
   "source": [
    "Мы избавились от дубликатов в столце locality_name, убрав слова, указывающие на тип поселения. \n",
    "\n",
    "Также, заполнили/удалили пропуски в следущих столбцах:\n",
    "    \n",
    "- floors_total, locality_name - удалили пропуски, так их количество составляло менее 1% и не искажало общую картину\n",
    "    \n",
    "- kitchen_area, living_area - заполнили пропуски медианой по total_area, так как данные сильно кореллируют со значениями из этого столбца\n",
    "    \n",
    "- пропущенные значения в столбцах airports_nearest, cityCenters_nearest, parks_around3000, parks_nearest, ponds_around3000, ponds_nearest заполнили медианой по собственным значениям столбцов\n",
    "    \n",
    "- пропуски в столбцах days_exposition оставил без изменения, так как отсутствие данных указывает на то, что объявление не снято с публикации"
   ]
  },
  {
   "cell_type": "code",
   "execution_count": 24,
   "metadata": {},
   "outputs": [
    {
     "name": "stdout",
     "output_type": "stream",
     "text": [
      "<class 'pandas.core.frame.DataFrame'>\n",
      "Int64Index: 23565 entries, 0 to 23698\n",
      "Data columns (total 23 columns):\n",
      "total_images            23565 non-null int64\n",
      "last_price              23565 non-null float64\n",
      "total_area              23565 non-null float64\n",
      "first_day_exposition    23565 non-null object\n",
      "rooms                   23565 non-null int64\n",
      "ceiling_height          23565 non-null float64\n",
      "floors_total            23565 non-null float64\n",
      "living_area             23565 non-null float64\n",
      "floor                   23565 non-null int64\n",
      "is_apartment            23565 non-null bool\n",
      "studio                  23565 non-null bool\n",
      "open_plan               23565 non-null bool\n",
      "kitchen_area            23565 non-null float64\n",
      "balcony                 23565 non-null float64\n",
      "locality_name           23565 non-null object\n",
      "airports_nearest        23565 non-null float64\n",
      "cityCenters_nearest     23565 non-null float64\n",
      "parks_around3000        23565 non-null float64\n",
      "parks_nearest           23565 non-null float64\n",
      "ponds_around3000        23565 non-null float64\n",
      "ponds_nearest           23565 non-null float64\n",
      "days_exposition         20394 non-null float64\n",
      "total_area_cat          23565 non-null object\n",
      "dtypes: bool(3), float64(14), int64(3), object(3)\n",
      "memory usage: 3.8+ MB\n"
     ]
    }
   ],
   "source": [
    "data.info()"
   ]
  },
  {
   "cell_type": "markdown",
   "metadata": {},
   "source": [
    "### Шаг 3. Посчитайте и добавьте в таблицу"
   ]
  },
  {
   "cell_type": "markdown",
   "metadata": {},
   "source": [
    "Добавим в таблицу цену квадратного метра."
   ]
  },
  {
   "cell_type": "code",
   "execution_count": 25,
   "metadata": {},
   "outputs": [],
   "source": [
    "data['m_price'] = data['last_price'] / data['total_area']"
   ]
  },
  {
   "cell_type": "markdown",
   "metadata": {},
   "source": [
    "Добавим день недели, месяц и год публикации."
   ]
  },
  {
   "cell_type": "code",
   "execution_count": 26,
   "metadata": {},
   "outputs": [],
   "source": [
    "data['weekday'] = pd.DatetimeIndex(data['first_day_exposition']).weekday\n",
    "data['month'] = pd.DatetimeIndex(data['first_day_exposition']).month\n",
    "data['year'] = pd.DatetimeIndex(data['first_day_exposition']).year"
   ]
  },
  {
   "cell_type": "markdown",
   "metadata": {},
   "source": [
    "Добавим в таблицу категории этажей: первый, последний или другой. "
   ]
  },
  {
   "cell_type": "code",
   "execution_count": 27,
   "metadata": {},
   "outputs": [
    {
     "data": {
      "text/html": [
       "<div>\n",
       "<style scoped>\n",
       "    .dataframe tbody tr th:only-of-type {\n",
       "        vertical-align: middle;\n",
       "    }\n",
       "\n",
       "    .dataframe tbody tr th {\n",
       "        vertical-align: top;\n",
       "    }\n",
       "\n",
       "    .dataframe thead th {\n",
       "        text-align: right;\n",
       "    }\n",
       "</style>\n",
       "<table border=\"1\" class=\"dataframe\">\n",
       "  <thead>\n",
       "    <tr style=\"text-align: right;\">\n",
       "      <th></th>\n",
       "      <th>total_images</th>\n",
       "      <th>last_price</th>\n",
       "      <th>total_area</th>\n",
       "      <th>first_day_exposition</th>\n",
       "      <th>rooms</th>\n",
       "      <th>ceiling_height</th>\n",
       "      <th>floors_total</th>\n",
       "      <th>living_area</th>\n",
       "      <th>floor</th>\n",
       "      <th>is_apartment</th>\n",
       "      <th>...</th>\n",
       "      <th>parks_nearest</th>\n",
       "      <th>ponds_around3000</th>\n",
       "      <th>ponds_nearest</th>\n",
       "      <th>days_exposition</th>\n",
       "      <th>total_area_cat</th>\n",
       "      <th>m_price</th>\n",
       "      <th>weekday</th>\n",
       "      <th>month</th>\n",
       "      <th>year</th>\n",
       "      <th>floor_type</th>\n",
       "    </tr>\n",
       "  </thead>\n",
       "  <tbody>\n",
       "    <tr>\n",
       "      <td>0</td>\n",
       "      <td>20</td>\n",
       "      <td>13000000.0</td>\n",
       "      <td>108.00</td>\n",
       "      <td>2019-03-07T00:00:00</td>\n",
       "      <td>3</td>\n",
       "      <td>2.70</td>\n",
       "      <td>16.0</td>\n",
       "      <td>51.0</td>\n",
       "      <td>8</td>\n",
       "      <td>False</td>\n",
       "      <td>...</td>\n",
       "      <td>482.0</td>\n",
       "      <td>2.0</td>\n",
       "      <td>755.0</td>\n",
       "      <td>NaN</td>\n",
       "      <td>большая</td>\n",
       "      <td>120370.370370</td>\n",
       "      <td>3</td>\n",
       "      <td>3</td>\n",
       "      <td>2019</td>\n",
       "      <td>Другой</td>\n",
       "    </tr>\n",
       "    <tr>\n",
       "      <td>1</td>\n",
       "      <td>7</td>\n",
       "      <td>3350000.0</td>\n",
       "      <td>40.40</td>\n",
       "      <td>2018-12-04T00:00:00</td>\n",
       "      <td>1</td>\n",
       "      <td>2.65</td>\n",
       "      <td>11.0</td>\n",
       "      <td>18.6</td>\n",
       "      <td>1</td>\n",
       "      <td>False</td>\n",
       "      <td>...</td>\n",
       "      <td>455.0</td>\n",
       "      <td>0.0</td>\n",
       "      <td>503.0</td>\n",
       "      <td>81.0</td>\n",
       "      <td>маленькая</td>\n",
       "      <td>82920.792079</td>\n",
       "      <td>1</td>\n",
       "      <td>12</td>\n",
       "      <td>2018</td>\n",
       "      <td>Первый</td>\n",
       "    </tr>\n",
       "    <tr>\n",
       "      <td>2</td>\n",
       "      <td>10</td>\n",
       "      <td>5196000.0</td>\n",
       "      <td>56.00</td>\n",
       "      <td>2015-08-20T00:00:00</td>\n",
       "      <td>2</td>\n",
       "      <td>2.65</td>\n",
       "      <td>5.0</td>\n",
       "      <td>34.3</td>\n",
       "      <td>4</td>\n",
       "      <td>False</td>\n",
       "      <td>...</td>\n",
       "      <td>90.0</td>\n",
       "      <td>2.0</td>\n",
       "      <td>574.0</td>\n",
       "      <td>558.0</td>\n",
       "      <td>средняя</td>\n",
       "      <td>92785.714286</td>\n",
       "      <td>3</td>\n",
       "      <td>8</td>\n",
       "      <td>2015</td>\n",
       "      <td>Другой</td>\n",
       "    </tr>\n",
       "    <tr>\n",
       "      <td>3</td>\n",
       "      <td>0</td>\n",
       "      <td>64900000.0</td>\n",
       "      <td>159.00</td>\n",
       "      <td>2015-07-24T00:00:00</td>\n",
       "      <td>3</td>\n",
       "      <td>2.65</td>\n",
       "      <td>14.0</td>\n",
       "      <td>85.6</td>\n",
       "      <td>9</td>\n",
       "      <td>False</td>\n",
       "      <td>...</td>\n",
       "      <td>84.0</td>\n",
       "      <td>3.0</td>\n",
       "      <td>234.0</td>\n",
       "      <td>424.0</td>\n",
       "      <td>большая</td>\n",
       "      <td>408176.100629</td>\n",
       "      <td>4</td>\n",
       "      <td>7</td>\n",
       "      <td>2015</td>\n",
       "      <td>Другой</td>\n",
       "    </tr>\n",
       "    <tr>\n",
       "      <td>4</td>\n",
       "      <td>2</td>\n",
       "      <td>10000000.0</td>\n",
       "      <td>100.00</td>\n",
       "      <td>2018-06-19T00:00:00</td>\n",
       "      <td>2</td>\n",
       "      <td>3.03</td>\n",
       "      <td>14.0</td>\n",
       "      <td>32.0</td>\n",
       "      <td>13</td>\n",
       "      <td>False</td>\n",
       "      <td>...</td>\n",
       "      <td>112.0</td>\n",
       "      <td>1.0</td>\n",
       "      <td>48.0</td>\n",
       "      <td>121.0</td>\n",
       "      <td>большая</td>\n",
       "      <td>100000.000000</td>\n",
       "      <td>1</td>\n",
       "      <td>6</td>\n",
       "      <td>2018</td>\n",
       "      <td>Другой</td>\n",
       "    </tr>\n",
       "    <tr>\n",
       "      <td>...</td>\n",
       "      <td>...</td>\n",
       "      <td>...</td>\n",
       "      <td>...</td>\n",
       "      <td>...</td>\n",
       "      <td>...</td>\n",
       "      <td>...</td>\n",
       "      <td>...</td>\n",
       "      <td>...</td>\n",
       "      <td>...</td>\n",
       "      <td>...</td>\n",
       "      <td>...</td>\n",
       "      <td>...</td>\n",
       "      <td>...</td>\n",
       "      <td>...</td>\n",
       "      <td>...</td>\n",
       "      <td>...</td>\n",
       "      <td>...</td>\n",
       "      <td>...</td>\n",
       "      <td>...</td>\n",
       "      <td>...</td>\n",
       "      <td>...</td>\n",
       "    </tr>\n",
       "    <tr>\n",
       "      <td>23694</td>\n",
       "      <td>9</td>\n",
       "      <td>9700000.0</td>\n",
       "      <td>133.81</td>\n",
       "      <td>2017-03-21T00:00:00</td>\n",
       "      <td>3</td>\n",
       "      <td>3.70</td>\n",
       "      <td>5.0</td>\n",
       "      <td>73.3</td>\n",
       "      <td>3</td>\n",
       "      <td>False</td>\n",
       "      <td>...</td>\n",
       "      <td>796.0</td>\n",
       "      <td>3.0</td>\n",
       "      <td>381.0</td>\n",
       "      <td>NaN</td>\n",
       "      <td>большая</td>\n",
       "      <td>72490.845228</td>\n",
       "      <td>1</td>\n",
       "      <td>3</td>\n",
       "      <td>2017</td>\n",
       "      <td>Другой</td>\n",
       "    </tr>\n",
       "    <tr>\n",
       "      <td>23695</td>\n",
       "      <td>14</td>\n",
       "      <td>3100000.0</td>\n",
       "      <td>59.00</td>\n",
       "      <td>2018-01-15T00:00:00</td>\n",
       "      <td>3</td>\n",
       "      <td>2.65</td>\n",
       "      <td>5.0</td>\n",
       "      <td>38.0</td>\n",
       "      <td>4</td>\n",
       "      <td>False</td>\n",
       "      <td>...</td>\n",
       "      <td>455.0</td>\n",
       "      <td>1.0</td>\n",
       "      <td>503.0</td>\n",
       "      <td>45.0</td>\n",
       "      <td>средняя</td>\n",
       "      <td>52542.372881</td>\n",
       "      <td>0</td>\n",
       "      <td>1</td>\n",
       "      <td>2018</td>\n",
       "      <td>Другой</td>\n",
       "    </tr>\n",
       "    <tr>\n",
       "      <td>23696</td>\n",
       "      <td>18</td>\n",
       "      <td>2500000.0</td>\n",
       "      <td>56.70</td>\n",
       "      <td>2018-02-11T00:00:00</td>\n",
       "      <td>2</td>\n",
       "      <td>2.65</td>\n",
       "      <td>3.0</td>\n",
       "      <td>29.7</td>\n",
       "      <td>1</td>\n",
       "      <td>False</td>\n",
       "      <td>...</td>\n",
       "      <td>455.0</td>\n",
       "      <td>1.0</td>\n",
       "      <td>503.0</td>\n",
       "      <td>NaN</td>\n",
       "      <td>средняя</td>\n",
       "      <td>44091.710758</td>\n",
       "      <td>6</td>\n",
       "      <td>2</td>\n",
       "      <td>2018</td>\n",
       "      <td>Первый</td>\n",
       "    </tr>\n",
       "    <tr>\n",
       "      <td>23697</td>\n",
       "      <td>13</td>\n",
       "      <td>11475000.0</td>\n",
       "      <td>76.75</td>\n",
       "      <td>2017-03-28T00:00:00</td>\n",
       "      <td>2</td>\n",
       "      <td>3.00</td>\n",
       "      <td>17.0</td>\n",
       "      <td>85.6</td>\n",
       "      <td>12</td>\n",
       "      <td>False</td>\n",
       "      <td>...</td>\n",
       "      <td>173.0</td>\n",
       "      <td>3.0</td>\n",
       "      <td>196.0</td>\n",
       "      <td>602.0</td>\n",
       "      <td>большая</td>\n",
       "      <td>149511.400651</td>\n",
       "      <td>1</td>\n",
       "      <td>3</td>\n",
       "      <td>2017</td>\n",
       "      <td>Другой</td>\n",
       "    </tr>\n",
       "    <tr>\n",
       "      <td>23698</td>\n",
       "      <td>4</td>\n",
       "      <td>1350000.0</td>\n",
       "      <td>32.30</td>\n",
       "      <td>2017-07-21T00:00:00</td>\n",
       "      <td>1</td>\n",
       "      <td>2.50</td>\n",
       "      <td>5.0</td>\n",
       "      <td>12.3</td>\n",
       "      <td>1</td>\n",
       "      <td>False</td>\n",
       "      <td>...</td>\n",
       "      <td>455.0</td>\n",
       "      <td>1.0</td>\n",
       "      <td>503.0</td>\n",
       "      <td>NaN</td>\n",
       "      <td>очень маленькая</td>\n",
       "      <td>41795.665635</td>\n",
       "      <td>4</td>\n",
       "      <td>7</td>\n",
       "      <td>2017</td>\n",
       "      <td>Первый</td>\n",
       "    </tr>\n",
       "  </tbody>\n",
       "</table>\n",
       "<p>23565 rows × 28 columns</p>\n",
       "</div>"
      ],
      "text/plain": [
       "       total_images  last_price  total_area first_day_exposition  rooms  \\\n",
       "0                20  13000000.0      108.00  2019-03-07T00:00:00      3   \n",
       "1                 7   3350000.0       40.40  2018-12-04T00:00:00      1   \n",
       "2                10   5196000.0       56.00  2015-08-20T00:00:00      2   \n",
       "3                 0  64900000.0      159.00  2015-07-24T00:00:00      3   \n",
       "4                 2  10000000.0      100.00  2018-06-19T00:00:00      2   \n",
       "...             ...         ...         ...                  ...    ...   \n",
       "23694             9   9700000.0      133.81  2017-03-21T00:00:00      3   \n",
       "23695            14   3100000.0       59.00  2018-01-15T00:00:00      3   \n",
       "23696            18   2500000.0       56.70  2018-02-11T00:00:00      2   \n",
       "23697            13  11475000.0       76.75  2017-03-28T00:00:00      2   \n",
       "23698             4   1350000.0       32.30  2017-07-21T00:00:00      1   \n",
       "\n",
       "       ceiling_height  floors_total  living_area  floor  is_apartment  ...  \\\n",
       "0                2.70          16.0         51.0      8         False  ...   \n",
       "1                2.65          11.0         18.6      1         False  ...   \n",
       "2                2.65           5.0         34.3      4         False  ...   \n",
       "3                2.65          14.0         85.6      9         False  ...   \n",
       "4                3.03          14.0         32.0     13         False  ...   \n",
       "...               ...           ...          ...    ...           ...  ...   \n",
       "23694            3.70           5.0         73.3      3         False  ...   \n",
       "23695            2.65           5.0         38.0      4         False  ...   \n",
       "23696            2.65           3.0         29.7      1         False  ...   \n",
       "23697            3.00          17.0         85.6     12         False  ...   \n",
       "23698            2.50           5.0         12.3      1         False  ...   \n",
       "\n",
       "       parks_nearest  ponds_around3000  ponds_nearest  days_exposition  \\\n",
       "0              482.0               2.0          755.0              NaN   \n",
       "1              455.0               0.0          503.0             81.0   \n",
       "2               90.0               2.0          574.0            558.0   \n",
       "3               84.0               3.0          234.0            424.0   \n",
       "4              112.0               1.0           48.0            121.0   \n",
       "...              ...               ...            ...              ...   \n",
       "23694          796.0               3.0          381.0              NaN   \n",
       "23695          455.0               1.0          503.0             45.0   \n",
       "23696          455.0               1.0          503.0              NaN   \n",
       "23697          173.0               3.0          196.0            602.0   \n",
       "23698          455.0               1.0          503.0              NaN   \n",
       "\n",
       "        total_area_cat        m_price  weekday  month  year  floor_type  \n",
       "0              большая  120370.370370        3      3  2019      Другой  \n",
       "1            маленькая   82920.792079        1     12  2018      Первый  \n",
       "2              средняя   92785.714286        3      8  2015      Другой  \n",
       "3              большая  408176.100629        4      7  2015      Другой  \n",
       "4              большая  100000.000000        1      6  2018      Другой  \n",
       "...                ...            ...      ...    ...   ...         ...  \n",
       "23694          большая   72490.845228        1      3  2017      Другой  \n",
       "23695          средняя   52542.372881        0      1  2018      Другой  \n",
       "23696          средняя   44091.710758        6      2  2018      Первый  \n",
       "23697          большая  149511.400651        1      3  2017      Другой  \n",
       "23698  очень маленькая   41795.665635        4      7  2017      Первый  \n",
       "\n",
       "[23565 rows x 28 columns]"
      ]
     },
     "execution_count": 27,
     "metadata": {},
     "output_type": "execute_result"
    }
   ],
   "source": [
    "def floor_type(row):\n",
    "    floor = row['floor']         \n",
    "    total = row['floors_total']  \n",
    "    if floor == 1:               \n",
    "        floor = 'Первый'    \n",
    "        return floor             \n",
    "    elif floor == total:         \n",
    "        floor = 'Последний' \n",
    "        return floor             \n",
    "    else:                        \n",
    "        floor = 'Другой'    \n",
    "        return floor            \n",
    "\n",
    "data['floor_type'] = data.apply(floor_type, axis=1)\n",
    "\n",
    "data"
   ]
  },
  {
   "cell_type": "markdown",
   "metadata": {},
   "source": [
    "Найдем и добавим в таблицу соотношение жилой и общей площади, а также отношение площади кухни к общей:"
   ]
  },
  {
   "cell_type": "code",
   "execution_count": 28,
   "metadata": {},
   "outputs": [],
   "source": [
    "data['living_ratio'] = data['living_area'] / data['total_area']"
   ]
  },
  {
   "cell_type": "code",
   "execution_count": 29,
   "metadata": {},
   "outputs": [],
   "source": [
    "data['kitchen_ratio'] = data['kitchen_area'] / data['total_area']"
   ]
  },
  {
   "cell_type": "markdown",
   "metadata": {},
   "source": [
    "### Шаг 4. Проведите исследовательский анализ данных и выполните инструкции:"
   ]
  },
  {
   "cell_type": "markdown",
   "metadata": {},
   "source": [
    "Построим гистрограммы для следующих параметров: площадь, цена, число комнат, высотка потолков."
   ]
  },
  {
   "cell_type": "code",
   "execution_count": 30,
   "metadata": {},
   "outputs": [
    {
     "data": {
      "text/plain": [
       "count    23565.000000\n",
       "mean        60.322824\n",
       "std         35.657060\n",
       "min         12.000000\n",
       "25%         40.000000\n",
       "50%         52.000000\n",
       "75%         69.700000\n",
       "max        900.000000\n",
       "Name: total_area, dtype: float64"
      ]
     },
     "execution_count": 30,
     "metadata": {},
     "output_type": "execute_result"
    },
    {
     "data": {
      "image/png": "[encoded data removed]",
      "text/plain": [
       "<Figure size 360x360 with 1 Axes>"
      ]
     },
     "metadata": {
      "needs_background": "light"
     },
     "output_type": "display_data"
    }
   ],
   "source": [
    "import matplotlib.pyplot as plt\n",
    "import numpy as np\n",
    "#гистограмма по данным об общей площади жилья\n",
    "data['total_area'].hist(range = (12, 300), bins=30, figsize=(5,5))\n",
    "data['total_area'].describe()"
   ]
  },
  {
   "cell_type": "markdown",
   "metadata": {},
   "source": [
    "Обратим внимание на пиковые значения в районе 50 кв.м. Это наиболее часто встречающиеся показатели общей площади. Значения > 150 кв.м. встречаются крайне редко."
   ]
  },
  {
   "cell_type": "code",
   "execution_count": 31,
   "metadata": {},
   "outputs": [
    {
     "data": {
      "text/plain": [
       "<matplotlib.axes._subplots.AxesSubplot at 0x7ffa5d7125d0>"
      ]
     },
     "execution_count": 31,
     "metadata": {},
     "output_type": "execute_result"
    },
    {
     "data": {
      "image/png": "[encoded data removed]",
      "text/plain": [
       "<Figure size 360x360 with 1 Axes>"
      ]
     },
     "metadata": {
      "needs_background": "light"
     },
     "output_type": "display_data"
    }
   ],
   "source": [
    "#гистограмма цены\n",
    "data['last_price'].hist(figsize=(5, 5), range=(1200000,82000000), bins=10)"
   ]
  },
  {
   "cell_type": "code",
   "execution_count": 32,
   "metadata": {},
   "outputs": [
    {
     "data": {
      "text/plain": [
       "<matplotlib.axes._subplots.AxesSubplot at 0x7ffa5cfebbd0>"
      ]
     },
     "execution_count": 32,
     "metadata": {},
     "output_type": "execute_result"
    },
    {
     "data": {
      "image/png": "[encoded data removed]",
      "text/plain": [
       "<Figure size 432x288 with 1 Axes>"
      ]
     },
     "metadata": {
      "needs_background": "light"
     },
     "output_type": "display_data"
    }
   ],
   "source": [
    "data.boxplot(column=['last_price'])"
   ]
  },
  {
   "cell_type": "code",
   "execution_count": 33,
   "metadata": {},
   "outputs": [
    {
     "data": {
      "text/plain": [
       "count    2.356500e+04\n",
       "mean     6.540058e+06\n",
       "std      1.091093e+07\n",
       "min      1.219000e+04\n",
       "25%      3.400000e+06\n",
       "50%      4.646000e+06\n",
       "75%      6.790000e+06\n",
       "max      7.630000e+08\n",
       "Name: last_price, dtype: float64"
      ]
     },
     "execution_count": 33,
     "metadata": {},
     "output_type": "execute_result"
    }
   ],
   "source": [
    "data['last_price'].describe()"
   ]
  },
  {
   "cell_type": "markdown",
   "metadata": {},
   "source": [
    "Значения больше 20000000 млн.руб. встречаются очень редко и стремятся к нулю."
   ]
  },
  {
   "cell_type": "code",
   "execution_count": 34,
   "metadata": {},
   "outputs": [
    {
     "data": {
      "text/plain": [
       "count    23565.000000\n",
       "mean         2.070656\n",
       "std          1.078591\n",
       "min          0.000000\n",
       "25%          1.000000\n",
       "50%          2.000000\n",
       "75%          3.000000\n",
       "max         19.000000\n",
       "Name: rooms, dtype: float64"
      ]
     },
     "execution_count": 34,
     "metadata": {},
     "output_type": "execute_result"
    },
    {
     "data": {
      "image/png": "[encoded data removed]",
      "text/plain": [
       "<Figure size 360x360 with 1 Axes>"
      ]
     },
     "metadata": {
      "needs_background": "light"
     },
     "output_type": "display_data"
    }
   ],
   "source": [
    "#гистограмма по данным о количестве комнат\n",
    "data['rooms'].hist(bins=8, figsize=(5, 5), range = (0, 8))\n",
    "data['rooms'].describe()"
   ]
  },
  {
   "cell_type": "markdown",
   "metadata": {},
   "source": [
    "Данные, которые мы можем ислледовать, относятся к диапазону от 1 до 5 комнат. Это наиболее часто встречающиеся значения. "
   ]
  },
  {
   "cell_type": "code",
   "execution_count": 35,
   "metadata": {},
   "outputs": [
    {
     "data": {
      "text/plain": [
       "count    23565.000000\n",
       "mean         2.724530\n",
       "std          0.991026\n",
       "min          1.000000\n",
       "25%          2.600000\n",
       "50%          2.650000\n",
       "75%          2.700000\n",
       "max        100.000000\n",
       "Name: ceiling_height, dtype: float64"
      ]
     },
     "execution_count": 35,
     "metadata": {},
     "output_type": "execute_result"
    },
    {
     "data": {
      "image/png": "[encoded data removed]",
      "text/plain": [
       "<Figure size 432x288 with 1 Axes>"
      ]
     },
     "metadata": {
      "needs_background": "light"
     },
     "output_type": "display_data"
    }
   ],
   "source": [
    "#гистограмма по данным о высоте потолков\n",
    "data['ceiling_height'].hist(range=(2.5,4), bins=10)\n",
    "data['ceiling_height'].describe()"
   ]
  },
  {
   "cell_type": "markdown",
   "metadata": {},
   "source": [
    "Потолки больше 3 метров и меньше 2 - это определенно эксклюзивные предложения, которые слабо учавствуют в общей картине. "
   ]
  },
  {
   "cell_type": "markdown",
   "metadata": {},
   "source": [
    "ВРЕМЯ ПРОДАЖИ."
   ]
  },
  {
   "cell_type": "markdown",
   "metadata": {},
   "source": [
    "Изучим данные о времени продажи квартир."
   ]
  },
  {
   "cell_type": "code",
   "execution_count": 36,
   "metadata": {},
   "outputs": [
    {
     "data": {
      "text/plain": [
       "<matplotlib.axes._subplots.AxesSubplot at 0x7ffa5ce8c790>"
      ]
     },
     "execution_count": 36,
     "metadata": {},
     "output_type": "execute_result"
    },
    {
     "data": {
      "image/png": "[encoded data removed]",
      "text/plain": [
       "<Figure size 432x288 with 1 Axes>"
      ]
     },
     "metadata": {
      "needs_background": "light"
     },
     "output_type": "display_data"
    }
   ],
   "source": [
    "data.boxplot(column=['days_exposition'])"
   ]
  },
  {
   "cell_type": "code",
   "execution_count": 37,
   "metadata": {},
   "outputs": [
    {
     "data": {
      "text/plain": [
       "count    20394.000000\n",
       "mean       180.741395\n",
       "std        219.732782\n",
       "min          1.000000\n",
       "25%         45.000000\n",
       "50%         95.000000\n",
       "75%        231.000000\n",
       "max       1580.000000\n",
       "Name: days_exposition, dtype: float64"
      ]
     },
     "execution_count": 37,
     "metadata": {},
     "output_type": "execute_result"
    }
   ],
   "source": [
    "data['days_exposition'].describe()"
   ]
  },
  {
   "cell_type": "code",
   "execution_count": 38,
   "metadata": {},
   "outputs": [
    {
     "data": {
      "text/plain": [
       "95.0"
      ]
     },
     "execution_count": 38,
     "metadata": {},
     "output_type": "execute_result"
    }
   ],
   "source": [
    "data['days_exposition'].median()"
   ]
  },
  {
   "cell_type": "markdown",
   "metadata": {},
   "source": [
    "Как мы видим, в среднем, продажа занимает 180 дней. При этом продажа, совершенная больше, чем через 500 дней после публикации объявления, встречается уже гораздо реже - такие продажи можно считать слишком долгими, так как в boxplot они относятся к очевидным выбросам. \n",
    "\n",
    "Объявления же, которые были закрыты в сроки до 100 дней, можно отнести к быстрым продажам, так как они попадают в диапазоны 30/60/90 дней - это сроки размещения бесплатных объявлений. "
   ]
  },
  {
   "cell_type": "code",
   "execution_count": 39,
   "metadata": {},
   "outputs": [
    {
     "data": {
      "text/plain": [
       "<matplotlib.axes._subplots.AxesSubplot at 0x7ffa5cdb00d0>"
      ]
     },
     "execution_count": 39,
     "metadata": {},
     "output_type": "execute_result"
    },
    {
     "data": {
      "image/png": "[encoded data removed]",
      "text/plain": [
       "<Figure size 432x288 with 1 Axes>"
      ]
     },
     "metadata": {
      "needs_background": "light"
     },
     "output_type": "display_data"
    }
   ],
   "source": [
    "data['days_exposition'].hist(range=(1,500),bins=50)"
   ]
  },
  {
   "cell_type": "code",
   "execution_count": 40,
   "metadata": {},
   "outputs": [
    {
     "data": {
      "text/plain": [
       "<matplotlib.axes._subplots.AxesSubplot at 0x7ffa5cd143d0>"
      ]
     },
     "execution_count": 40,
     "metadata": {},
     "output_type": "execute_result"
    },
    {
     "data": {
      "image/png": "[encoded data removed]",
      "text/plain": [
       "<Figure size 432x288 with 1 Axes>"
      ]
     },
     "metadata": {
      "needs_background": "light"
     },
     "output_type": "display_data"
    }
   ],
   "source": [
    "data['days_exposition'].hist(range=(1,100),bins=50)"
   ]
  },
  {
   "cell_type": "markdown",
   "metadata": {},
   "source": [
    "Также мы можем обратить наше внимание на пиковые значения на отметках 45/60/90 дней. Предположим, что в эти сроки предоставляется бесплатное размещение объявлений, поэтому по истечении 45/60/90 дней соответственно объявления закрываются наиболее часто. "
   ]
  },
  {
   "cell_type": "markdown",
   "metadata": {},
   "source": [
    "РЕДКИЕ И ВЫБИВАЮЩИЕСЯ ЗНАЧЕНИЯ"
   ]
  },
  {
   "cell_type": "markdown",
   "metadata": {},
   "source": [
    "Избавимся от редких значений в общей площади. Как мы заметили ранее, значения больше 150 кв/м можно считать выбросами. "
   ]
  },
  {
   "cell_type": "code",
   "execution_count": 41,
   "metadata": {},
   "outputs": [],
   "source": [
    "data=data.query('20 < total_area < 150')"
   ]
  },
  {
   "cell_type": "code",
   "execution_count": 42,
   "metadata": {},
   "outputs": [
    {
     "data": {
      "text/plain": [
       "<matplotlib.axes._subplots.AxesSubplot at 0x7ffa5cbda410>"
      ]
     },
     "execution_count": 42,
     "metadata": {},
     "output_type": "execute_result"
    },
    {
     "data": {
      "image/png": "[encoded data removed]",
      "text/plain": [
       "<Figure size 432x288 with 1 Axes>"
      ]
     },
     "metadata": {
      "needs_background": "light"
     },
     "output_type": "display_data"
    }
   ],
   "source": [
    "data['total_area'].hist()"
   ]
  },
  {
   "cell_type": "markdown",
   "metadata": {},
   "source": [
    "Пиковые значения сконцентрированы в районе 30-50 кв.м. Это значит, что подавляющая часть объявлений о продаже недвижимости на рынке - это 1-кмн. квартиры или студии. "
   ]
  },
  {
   "cell_type": "markdown",
   "metadata": {},
   "source": [
    "Цена недвижимости более 20000000 млн/руб можно считать выбросом. Уберем эти значения из таблицы с нашими данными. "
   ]
  },
  {
   "cell_type": "code",
   "execution_count": 43,
   "metadata": {},
   "outputs": [],
   "source": [
    "data = data.query('last_price < 20000000')"
   ]
  },
  {
   "cell_type": "code",
   "execution_count": 44,
   "metadata": {},
   "outputs": [
    {
     "data": {
      "text/plain": [
       "<matplotlib.axes._subplots.AxesSubplot at 0x7ffa5cb33e90>"
      ]
     },
     "execution_count": 44,
     "metadata": {},
     "output_type": "execute_result"
    },
    {
     "data": {
      "image/png": "[encoded data removed]",
      "text/plain": [
       "<Figure size 432x288 with 1 Axes>"
      ]
     },
     "metadata": {
      "needs_background": "light"
     },
     "output_type": "display_data"
    }
   ],
   "source": [
    "data['last_price'].hist()"
   ]
  },
  {
   "cell_type": "markdown",
   "metadata": {},
   "source": [
    "Теперь мы видим ценовые тенденции. Основная часть недвижимости входит в ценовой диапазон от 2 до 5 миллионов рублей. "
   ]
  },
  {
   "cell_type": "markdown",
   "metadata": {},
   "source": [
    "Уберем данные с количеством комнат > 5."
   ]
  },
  {
   "cell_type": "code",
   "execution_count": 45,
   "metadata": {},
   "outputs": [
    {
     "data": {
      "text/plain": [
       "<matplotlib.axes._subplots.AxesSubplot at 0x7ffa5ca29790>"
      ]
     },
     "execution_count": 45,
     "metadata": {},
     "output_type": "execute_result"
    },
    {
     "data": {
      "image/png": "[encoded data removed]",
      "text/plain": [
       "<Figure size 432x288 with 1 Axes>"
      ]
     },
     "metadata": {
      "needs_background": "light"
     },
     "output_type": "display_data"
    }
   ],
   "source": [
    "data= data.query('0 < rooms < 5')\n",
    "data['rooms'].hist()"
   ]
  },
  {
   "cell_type": "markdown",
   "metadata": {},
   "source": [
    "Здесь очень плавное распределение. Наибольший отрыв в количестве заметен только лишь у 4-кмн. квартир - тут предложение резко падает."
   ]
  },
  {
   "cell_type": "markdown",
   "metadata": {},
   "source": [
    "Опустим потолки в наших данных до 3 метров"
   ]
  },
  {
   "cell_type": "code",
   "execution_count": 46,
   "metadata": {},
   "outputs": [
    {
     "data": {
      "text/plain": [
       "<matplotlib.axes._subplots.AxesSubplot at 0x7ffa5c98fb10>"
      ]
     },
     "execution_count": 46,
     "metadata": {},
     "output_type": "execute_result"
    },
    {
     "data": {
      "image/png": "[encoded data removed]",
      "text/plain": [
       "<Figure size 432x288 with 1 Axes>"
      ]
     },
     "metadata": {
      "needs_background": "light"
     },
     "output_type": "display_data"
    }
   ],
   "source": [
    "data= data.query('2.5 < ceiling_height < 3')\n",
    "data['ceiling_height'].hist()"
   ]
  },
  {
   "cell_type": "markdown",
   "metadata": {},
   "source": [
    "Тут распредление вполне обосновано и легко объяснимо: согласно нормативам минимальная высота потолка в квартирах - это 2.5 метра. Высота больше 2.7-3 метров - редкие исключения, так как нормативом уже предусмотрен определенный диапазон. "
   ]
  },
  {
   "cell_type": "markdown",
   "metadata": {},
   "source": [
    "ФАКТОРЫ, ВЛИЯЮЩИЕ НА СТОИМОСТЬ КВАРТИР"
   ]
  },
  {
   "cell_type": "markdown",
   "metadata": {},
   "source": [
    "ЗАВИСИМОСТЬ ОТ ПЛОЩАДИ/КОМНАТ/БЛИЗОСТИ К ЦЕНТРУ"
   ]
  },
  {
   "cell_type": "code",
   "execution_count": 47,
   "metadata": {
    "scrolled": false
   },
   "outputs": [
    {
     "data": {
      "text/plain": [
       "<matplotlib.axes._subplots.AxesSubplot at 0x7ffa5c6bbb50>"
      ]
     },
     "execution_count": 47,
     "metadata": {},
     "output_type": "execute_result"
    },
    {
     "data": {
      "image/png": "[encoded data removed]",
      "text/plain": [
       "<Figure size 432x288 with 1 Axes>"
      ]
     },
     "metadata": {
      "needs_background": "light"
     },
     "output_type": "display_data"
    },
    {
     "data": {
      "image/png": "[encoded data removed]",
      "text/plain": [
       "<Figure size 432x288 with 1 Axes>"
      ]
     },
     "metadata": {
      "needs_background": "light"
     },
     "output_type": "display_data"
    },
    {
     "data": {
      "image/png": "[encoded data removed]",
      "text/plain": [
       "<Figure size 432x288 with 1 Axes>"
      ]
     },
     "metadata": {
      "needs_background": "light"
     },
     "output_type": "display_data"
    },
    {
     "data": {
      "image/png": "[encoded data removed]",
      "text/plain": [
       "<Figure size 360x360 with 1 Axes>"
      ]
     },
     "metadata": {
      "needs_background": "light"
     },
     "output_type": "display_data"
    }
   ],
   "source": [
    "data.plot(x='last_price', y='total_area', kind='scatter', alpha=1, title='Зависимость цены от площади')\n",
    "data.plot(x='last_price', y='rooms', kind='scatter', alpha=0.02, title='Зависимость цены от количества комнат')\n",
    "data.plot(x='last_price', y='cityCenters_nearest', kind='scatter', alpha=0.8, title='Зависимость цены от удаленности от центра')\n",
    "data.plot(x='last_price', y='floor', kind='scatter', alpha=0.7, figsize=(5,5), title='Зависимость цены от этажа')"
   ]
  },
  {
   "cell_type": "code",
   "execution_count": 48,
   "metadata": {},
   "outputs": [
    {
     "data": {
      "text/html": [
       "<div>\n",
       "<style scoped>\n",
       "    .dataframe tbody tr th:only-of-type {\n",
       "        vertical-align: middle;\n",
       "    }\n",
       "\n",
       "    .dataframe tbody tr th {\n",
       "        vertical-align: top;\n",
       "    }\n",
       "\n",
       "    .dataframe thead th {\n",
       "        text-align: right;\n",
       "    }\n",
       "</style>\n",
       "<table border=\"1\" class=\"dataframe\">\n",
       "  <thead>\n",
       "    <tr style=\"text-align: right;\">\n",
       "      <th></th>\n",
       "      <th>m_price</th>\n",
       "    </tr>\n",
       "    <tr>\n",
       "      <th>floor_type</th>\n",
       "      <th></th>\n",
       "    </tr>\n",
       "  </thead>\n",
       "  <tbody>\n",
       "    <tr>\n",
       "      <td>Другой</td>\n",
       "      <td>98606.259694</td>\n",
       "    </tr>\n",
       "    <tr>\n",
       "      <td>Первый</td>\n",
       "      <td>78215.579064</td>\n",
       "    </tr>\n",
       "    <tr>\n",
       "      <td>Последний</td>\n",
       "      <td>84378.658098</td>\n",
       "    </tr>\n",
       "  </tbody>\n",
       "</table>\n",
       "</div>"
      ],
      "text/plain": [
       "                 m_price\n",
       "floor_type              \n",
       "Другой      98606.259694\n",
       "Первый      78215.579064\n",
       "Последний   84378.658098"
      ]
     },
     "execution_count": 48,
     "metadata": {},
     "output_type": "execute_result"
    }
   ],
   "source": [
    "data.pivot_table(index='floor_type', values='m_price', aggfunc='mean')"
   ]
  },
  {
   "cell_type": "markdown",
   "metadata": {},
   "source": [
    "Средняя стоимость квадратного метра на первом этаже ниже, чем на всех остальных, так как первый этаж помимо отсутствия необходимости в использовании лифта в себе никаких преимуществ особо не содержит: это шум с улицы (тем более если дом находится у дороги), отсуствие какой-либо панорамы, холод и отсутсвие солнечного света, а также некоторые вопросы к безопасности. \n",
    "\n",
    "Все последующие этажи стоят дороже, но стоимость неочевидно кореллирует с этажом, так как средняя цена кв.м. последнего этажа уже ниже, чем любого другого. \n",
    "\n",
    "Таким образом, мы видим следующую зависимость цены от типа этажа: от первого этажа цена начинает повышаться с каждым последующим этажом наверх, но в какой-то момент начинает снова падать и немного опускается к последнему этажу. "
   ]
  },
  {
   "cell_type": "markdown",
   "metadata": {},
   "source": [
    "Влияние площади на стоимость: чем больше площадь, тем больше стоимость квартиры. Вполне очевидная закономерность. Практически прямая зависимость указывает на то, что увеличение площади всегда приводит к увеличению стоимости недвижимости. Наиболее "
   ]
  },
  {
   "cell_type": "markdown",
   "metadata": {},
   "source": [
    "Влияние количества комнат на стоимость: график указывает на схожую с площадью тенденцию. Увеличение количества комнат - это увеличение площади и логичная корелляция со стоимостью квартиры. "
   ]
  },
  {
   "cell_type": "markdown",
   "metadata": {},
   "source": [
    "Удаленность от центра. Можно сказать о том, что если квартира удалена от центра более, чем на 20км, то стоимость недвижимости > 10млн.руб. встречается крайне редко. Подавляющая часть дорогой недвижимости сосредоточена в радиусе 10-20 км от центра Санкт-Петербурга."
   ]
  },
  {
   "cell_type": "markdown",
   "metadata": {},
   "source": [
    "Этажность: мы видим, что при стоимости более 10 млн.руб. этажность > 10 встречается крайне редко. Более дорогая недвижимость чаще всего находится ниже."
   ]
  },
  {
   "cell_type": "markdown",
   "metadata": {},
   "source": [
    "ЗАВИСИМОСТЬ СТОИМОСТИ КВАРТИРЫ ОТ ДАТЫ РАЗМЕЩЕНИЯ"
   ]
  },
  {
   "cell_type": "code",
   "execution_count": 49,
   "metadata": {
    "scrolled": false
   },
   "outputs": [
    {
     "data": {
      "text/plain": [
       "<matplotlib.axes._subplots.AxesSubplot at 0x7ffa5cec5a90>"
      ]
     },
     "execution_count": 49,
     "metadata": {},
     "output_type": "execute_result"
    },
    {
     "data": {
      "image/png": "[encoded data removed]",
      "text/plain": [
       "<Figure size 720x720 with 1 Axes>"
      ]
     },
     "metadata": {
      "needs_background": "light"
     },
     "output_type": "display_data"
    }
   ],
   "source": [
    "data.plot(x='last_price', y='year', kind='scatter', alpha=1, figsize=(10,10))"
   ]
  },
  {
   "cell_type": "markdown",
   "metadata": {},
   "source": [
    "Начиная с 2014 года количество объявлений росло, а вместе с количеством - рос диапазон цен. Таким образом, мы видим, что недвижимость стоимостью более 12 млн.руб. была слабо представлена на рынке первые три года, а достигла пика предложения в 2018 году, но затем вновь пошла на убыль. Квартиры стоимостью до 12 млн.руб. на рынке были в достаточном количестве весь период наблюдений, кроме 2014 года, но тогда и общее количество объявлений было ниже. "
   ]
  },
  {
   "cell_type": "code",
   "execution_count": 50,
   "metadata": {},
   "outputs": [
    {
     "data": {
      "text/plain": [
       "<matplotlib.axes._subplots.AxesSubplot at 0x7ffa5c896e90>"
      ]
     },
     "execution_count": 50,
     "metadata": {},
     "output_type": "execute_result"
    },
    {
     "data": {
      "image/png": "[encoded data removed]",
      "text/plain": [
       "<Figure size 720x720 with 1 Axes>"
      ]
     },
     "metadata": {
      "needs_background": "light"
     },
     "output_type": "display_data"
    }
   ],
   "source": [
    "data.plot(x='last_price', y='month', kind='scatter', alpha=1, figsize=(10,10))"
   ]
  },
  {
   "cell_type": "markdown",
   "metadata": {},
   "source": [
    "Единственные тенденции, которые можно проследить на этом графике, это опять те, которые касаются более дорогой недвижимости (>12млн.руб). Построим график, где посмотрим только на недвижимость стоимостью более 10 милн.руб. для большей наглядности. "
   ]
  },
  {
   "cell_type": "code",
   "execution_count": 51,
   "metadata": {},
   "outputs": [],
   "source": [
    "data_price_for_month=data.query('last_price > 10000000')"
   ]
  },
  {
   "cell_type": "code",
   "execution_count": 52,
   "metadata": {},
   "outputs": [
    {
     "data": {
      "text/plain": [
       "<matplotlib.axes._subplots.AxesSubplot at 0x7ffa5c86d410>"
      ]
     },
     "execution_count": 52,
     "metadata": {},
     "output_type": "execute_result"
    },
    {
     "data": {
      "image/png": "[encoded data removed]",
      "text/plain": [
       "<Figure size 360x360 with 1 Axes>"
      ]
     },
     "metadata": {
      "needs_background": "light"
     },
     "output_type": "display_data"
    }
   ],
   "source": [
    "data_price_for_month.plot(x='last_price', y='month', kind='scatter', alpha=0.7, figsize=(5,5))"
   ]
  },
  {
   "cell_type": "markdown",
   "metadata": {},
   "source": [
    "Даже при детальном рассмотрении достаточно сложно выявить какие-либо закономерности. Можно увидеть, что в летние месяцы есть незначительное понижение предложения в сегменте недвижимости стоимостью более 14 млн. Наиболее активными являются весенние и осенние периоды (апрель, сентябрь). Думаю, что это связано с тем, что в летний и зимний периоды из-за праздников люди не спешат заниматься вопросами, связанными с недвижимостью и предпочитают уделить время отпускам/хобби/личной жизни. \n",
    "\n",
    "Также, можно предположить, что в летний и зимний периоды люди выставляют недвижимость по более низкйо цене, так как из-за летних отпусков/зимних каникул находятся в более хорошем настроении :)\n",
    "\n",
    "В целом, нет достаточно очевидной корелляции между месяцами и стоимостью недвижимости, которая в эти месяцы была выставлена на продажу. "
   ]
  },
  {
   "cell_type": "markdown",
   "metadata": {},
   "source": []
  },
  {
   "cell_type": "code",
   "execution_count": 53,
   "metadata": {},
   "outputs": [
    {
     "data": {
      "text/plain": [
       "<matplotlib.axes._subplots.AxesSubplot at 0x7ffa5c7f7d10>"
      ]
     },
     "execution_count": 53,
     "metadata": {},
     "output_type": "execute_result"
    },
    {
     "data": {
      "image/png": "[encoded data removed]",
      "text/plain": [
       "<Figure size 720x720 with 1 Axes>"
      ]
     },
     "metadata": {
      "needs_background": "light"
     },
     "output_type": "display_data"
    }
   ],
   "source": [
    "data.plot(x='last_price', y='weekday', kind='scatter', alpha=1, figsize=(10,10))"
   ]
  },
  {
   "cell_type": "markdown",
   "metadata": {},
   "source": [
    "Очевидно, что в ср/чт/пт выкладывается больше объявлений, так как это разгар рабочей недели. В выходные и первые дни после выходных (пн/вт) люди не готовы заниматься этими вопросами. Аналогично, как и в случае с месяцами, я могу предположить, что более низкая цена на недвижимость также зависит от эмоционального фона человека: в выходные он склонен назначать более низкую цену, чем в середине рабочей недели, а тем более в ее конце (наибольшая цена в пятницу). "
   ]
  },
  {
   "cell_type": "markdown",
   "metadata": {},
   "source": [
    "10 НАСЕЛЕННЫХ ПУНКТОВ С НАИБОЛЬШИМ КОЛИЧЕСТВОМ ОБЪЯВЛЕНИЙ"
   ]
  },
  {
   "cell_type": "markdown",
   "metadata": {},
   "source": [
    "Выберем 10 населённых пунктов с наибольшим числом объявлений. \n",
    "Посчитаем среднюю цену квадратного метра в этих населённых пунктах."
   ]
  },
  {
   "cell_type": "code",
   "execution_count": 54,
   "metadata": {},
   "outputs": [],
   "source": [
    "data_top10 = data.pivot_table(index='locality_name', values='m_price', aggfunc=('mean','count'))"
   ]
  },
  {
   "cell_type": "code",
   "execution_count": 55,
   "metadata": {},
   "outputs": [
    {
     "data": {
      "text/html": [
       "<div>\n",
       "<style scoped>\n",
       "    .dataframe tbody tr th:only-of-type {\n",
       "        vertical-align: middle;\n",
       "    }\n",
       "\n",
       "    .dataframe tbody tr th {\n",
       "        vertical-align: top;\n",
       "    }\n",
       "\n",
       "    .dataframe thead th {\n",
       "        text-align: right;\n",
       "    }\n",
       "</style>\n",
       "<table border=\"1\" class=\"dataframe\">\n",
       "  <thead>\n",
       "    <tr style=\"text-align: right;\">\n",
       "      <th></th>\n",
       "      <th>count</th>\n",
       "      <th>mean</th>\n",
       "    </tr>\n",
       "    <tr>\n",
       "      <th>locality_name</th>\n",
       "      <th></th>\n",
       "      <th></th>\n",
       "    </tr>\n",
       "  </thead>\n",
       "  <tbody>\n",
       "    <tr>\n",
       "      <td>Санкт-Петербург</td>\n",
       "      <td>10630</td>\n",
       "      <td>108253.067552</td>\n",
       "    </tr>\n",
       "    <tr>\n",
       "      <td>Мурино</td>\n",
       "      <td>541</td>\n",
       "      <td>85410.414148</td>\n",
       "    </tr>\n",
       "    <tr>\n",
       "      <td>Кудрово</td>\n",
       "      <td>442</td>\n",
       "      <td>94988.710635</td>\n",
       "    </tr>\n",
       "    <tr>\n",
       "      <td>Шушары</td>\n",
       "      <td>402</td>\n",
       "      <td>78225.207412</td>\n",
       "    </tr>\n",
       "    <tr>\n",
       "      <td>Всеволожск</td>\n",
       "      <td>349</td>\n",
       "      <td>67200.398737</td>\n",
       "    </tr>\n",
       "    <tr>\n",
       "      <td>Парголово</td>\n",
       "      <td>307</td>\n",
       "      <td>90394.027059</td>\n",
       "    </tr>\n",
       "    <tr>\n",
       "      <td>Пушкин</td>\n",
       "      <td>239</td>\n",
       "      <td>102956.146271</td>\n",
       "    </tr>\n",
       "    <tr>\n",
       "      <td>Гатчина</td>\n",
       "      <td>216</td>\n",
       "      <td>68694.056402</td>\n",
       "    </tr>\n",
       "    <tr>\n",
       "      <td>Колпино</td>\n",
       "      <td>214</td>\n",
       "      <td>75424.900149</td>\n",
       "    </tr>\n",
       "    <tr>\n",
       "      <td>Выборг</td>\n",
       "      <td>170</td>\n",
       "      <td>57806.323749</td>\n",
       "    </tr>\n",
       "  </tbody>\n",
       "</table>\n",
       "</div>"
      ],
      "text/plain": [
       "                 count           mean\n",
       "locality_name                        \n",
       "Санкт-Петербург  10630  108253.067552\n",
       "Мурино             541   85410.414148\n",
       "Кудрово            442   94988.710635\n",
       "Шушары             402   78225.207412\n",
       "Всеволожск         349   67200.398737\n",
       "Парголово          307   90394.027059\n",
       "Пушкин             239  102956.146271\n",
       "Гатчина            216   68694.056402\n",
       "Колпино            214   75424.900149\n",
       "Выборг             170   57806.323749"
      ]
     },
     "execution_count": 55,
     "metadata": {},
     "output_type": "execute_result"
    }
   ],
   "source": [
    "data_top10.sort_values(by=['count', 'mean'], ascending=False).head(10)"
   ]
  },
  {
   "cell_type": "markdown",
   "metadata": {},
   "source": [
    "Выделим населённые пункты с самой высокой и низкой стоимостью жилья."
   ]
  },
  {
   "cell_type": "code",
   "execution_count": 56,
   "metadata": {},
   "outputs": [],
   "source": [
    "data_top10_price = data.pivot_table(index='locality_name', values='last_price', aggfunc=('mean','count'))"
   ]
  },
  {
   "cell_type": "code",
   "execution_count": 57,
   "metadata": {},
   "outputs": [],
   "source": [
    "data_top10_groupby_price = data_top10_price.sort_values(by=['count', 'mean'], ascending=False).head(10)"
   ]
  },
  {
   "cell_type": "code",
   "execution_count": 58,
   "metadata": {},
   "outputs": [
    {
     "data": {
      "text/html": [
       "<div>\n",
       "<style scoped>\n",
       "    .dataframe tbody tr th:only-of-type {\n",
       "        vertical-align: middle;\n",
       "    }\n",
       "\n",
       "    .dataframe tbody tr th {\n",
       "        vertical-align: top;\n",
       "    }\n",
       "\n",
       "    .dataframe thead th {\n",
       "        text-align: right;\n",
       "    }\n",
       "</style>\n",
       "<table border=\"1\" class=\"dataframe\">\n",
       "  <thead>\n",
       "    <tr style=\"text-align: right;\">\n",
       "      <th></th>\n",
       "      <th>count</th>\n",
       "      <th>mean</th>\n",
       "    </tr>\n",
       "    <tr>\n",
       "      <th>locality_name</th>\n",
       "      <th></th>\n",
       "      <th></th>\n",
       "    </tr>\n",
       "  </thead>\n",
       "  <tbody>\n",
       "    <tr>\n",
       "      <td>Выборг</td>\n",
       "      <td>170</td>\n",
       "      <td>3.045041e+06</td>\n",
       "    </tr>\n",
       "    <tr>\n",
       "      <td>Гатчина</td>\n",
       "      <td>216</td>\n",
       "      <td>3.529261e+06</td>\n",
       "    </tr>\n",
       "    <tr>\n",
       "      <td>Мурино</td>\n",
       "      <td>541</td>\n",
       "      <td>3.747288e+06</td>\n",
       "    </tr>\n",
       "    <tr>\n",
       "      <td>Всеволожск</td>\n",
       "      <td>349</td>\n",
       "      <td>3.760826e+06</td>\n",
       "    </tr>\n",
       "    <tr>\n",
       "      <td>Колпино</td>\n",
       "      <td>214</td>\n",
       "      <td>3.857076e+06</td>\n",
       "    </tr>\n",
       "    <tr>\n",
       "      <td>Шушары</td>\n",
       "      <td>402</td>\n",
       "      <td>4.153905e+06</td>\n",
       "    </tr>\n",
       "    <tr>\n",
       "      <td>Кудрово</td>\n",
       "      <td>442</td>\n",
       "      <td>4.437995e+06</td>\n",
       "    </tr>\n",
       "    <tr>\n",
       "      <td>Парголово</td>\n",
       "      <td>307</td>\n",
       "      <td>4.518588e+06</td>\n",
       "    </tr>\n",
       "    <tr>\n",
       "      <td>Пушкин</td>\n",
       "      <td>239</td>\n",
       "      <td>5.856468e+06</td>\n",
       "    </tr>\n",
       "    <tr>\n",
       "      <td>Санкт-Петербург</td>\n",
       "      <td>10630</td>\n",
       "      <td>6.139267e+06</td>\n",
       "    </tr>\n",
       "  </tbody>\n",
       "</table>\n",
       "</div>"
      ],
      "text/plain": [
       "                 count          mean\n",
       "locality_name                       \n",
       "Выборг             170  3.045041e+06\n",
       "Гатчина            216  3.529261e+06\n",
       "Мурино             541  3.747288e+06\n",
       "Всеволожск         349  3.760826e+06\n",
       "Колпино            214  3.857076e+06\n",
       "Шушары             402  4.153905e+06\n",
       "Кудрово            442  4.437995e+06\n",
       "Парголово          307  4.518588e+06\n",
       "Пушкин             239  5.856468e+06\n",
       "Санкт-Петербург  10630  6.139267e+06"
      ]
     },
     "execution_count": 58,
     "metadata": {},
     "output_type": "execute_result"
    }
   ],
   "source": [
    "#самая низкая стоимость жилья среди топ-10 самых популярных городов\n",
    "data_top10_groupby_price.sort_values(by='mean')"
   ]
  },
  {
   "cell_type": "code",
   "execution_count": 59,
   "metadata": {},
   "outputs": [
    {
     "data": {
      "text/html": [
       "<div>\n",
       "<style scoped>\n",
       "    .dataframe tbody tr th:only-of-type {\n",
       "        vertical-align: middle;\n",
       "    }\n",
       "\n",
       "    .dataframe tbody tr th {\n",
       "        vertical-align: top;\n",
       "    }\n",
       "\n",
       "    .dataframe thead th {\n",
       "        text-align: right;\n",
       "    }\n",
       "</style>\n",
       "<table border=\"1\" class=\"dataframe\">\n",
       "  <thead>\n",
       "    <tr style=\"text-align: right;\">\n",
       "      <th></th>\n",
       "      <th>count</th>\n",
       "      <th>mean</th>\n",
       "    </tr>\n",
       "    <tr>\n",
       "      <th>locality_name</th>\n",
       "      <th></th>\n",
       "      <th></th>\n",
       "    </tr>\n",
       "  </thead>\n",
       "  <tbody>\n",
       "    <tr>\n",
       "      <td>Санкт-Петербург</td>\n",
       "      <td>10630</td>\n",
       "      <td>6.139267e+06</td>\n",
       "    </tr>\n",
       "    <tr>\n",
       "      <td>Пушкин</td>\n",
       "      <td>239</td>\n",
       "      <td>5.856468e+06</td>\n",
       "    </tr>\n",
       "    <tr>\n",
       "      <td>Парголово</td>\n",
       "      <td>307</td>\n",
       "      <td>4.518588e+06</td>\n",
       "    </tr>\n",
       "    <tr>\n",
       "      <td>Кудрово</td>\n",
       "      <td>442</td>\n",
       "      <td>4.437995e+06</td>\n",
       "    </tr>\n",
       "    <tr>\n",
       "      <td>Шушары</td>\n",
       "      <td>402</td>\n",
       "      <td>4.153905e+06</td>\n",
       "    </tr>\n",
       "    <tr>\n",
       "      <td>Колпино</td>\n",
       "      <td>214</td>\n",
       "      <td>3.857076e+06</td>\n",
       "    </tr>\n",
       "    <tr>\n",
       "      <td>Всеволожск</td>\n",
       "      <td>349</td>\n",
       "      <td>3.760826e+06</td>\n",
       "    </tr>\n",
       "    <tr>\n",
       "      <td>Мурино</td>\n",
       "      <td>541</td>\n",
       "      <td>3.747288e+06</td>\n",
       "    </tr>\n",
       "    <tr>\n",
       "      <td>Гатчина</td>\n",
       "      <td>216</td>\n",
       "      <td>3.529261e+06</td>\n",
       "    </tr>\n",
       "    <tr>\n",
       "      <td>Выборг</td>\n",
       "      <td>170</td>\n",
       "      <td>3.045041e+06</td>\n",
       "    </tr>\n",
       "  </tbody>\n",
       "</table>\n",
       "</div>"
      ],
      "text/plain": [
       "                 count          mean\n",
       "locality_name                       \n",
       "Санкт-Петербург  10630  6.139267e+06\n",
       "Пушкин             239  5.856468e+06\n",
       "Парголово          307  4.518588e+06\n",
       "Кудрово            442  4.437995e+06\n",
       "Шушары             402  4.153905e+06\n",
       "Колпино            214  3.857076e+06\n",
       "Всеволожск         349  3.760826e+06\n",
       "Мурино             541  3.747288e+06\n",
       "Гатчина            216  3.529261e+06\n",
       "Выборг             170  3.045041e+06"
      ]
     },
     "execution_count": 59,
     "metadata": {},
     "output_type": "execute_result"
    }
   ],
   "source": [
    "#самая высокая стоимость жилья среди топ-10 самых популярных городов\n",
    "data_top10_groupby_price.sort_values(by='mean', ascending=False)"
   ]
  },
  {
   "cell_type": "markdown",
   "metadata": {},
   "source": [
    "Создадим столбец для Санкт-Петербурга с расстоянием до центра в километрах: округлим до целых значений."
   ]
  },
  {
   "cell_type": "code",
   "execution_count": 60,
   "metadata": {},
   "outputs": [],
   "source": [
    "data_center = data.query('locality_name == \"Санкт-Петербург\"')"
   ]
  },
  {
   "cell_type": "code",
   "execution_count": 61,
   "metadata": {},
   "outputs": [
    {
     "name": "stderr",
     "output_type": "stream",
     "text": [
      "/opt/conda/lib/python3.7/site-packages/ipykernel_launcher.py:1: SettingWithCopyWarning: \n",
      "A value is trying to be set on a copy of a slice from a DataFrame.\n",
      "Try using .loc[row_indexer,col_indexer] = value instead\n",
      "\n",
      "See the caveats in the documentation: http://pandas.pydata.org/pandas-docs/stable/user_guide/indexing.html#returning-a-view-versus-a-copy\n",
      "  \"\"\"Entry point for launching an IPython kernel.\n",
      "/opt/conda/lib/python3.7/site-packages/ipykernel_launcher.py:2: SettingWithCopyWarning: \n",
      "A value is trying to be set on a copy of a slice from a DataFrame.\n",
      "Try using .loc[row_indexer,col_indexer] = value instead\n",
      "\n",
      "See the caveats in the documentation: http://pandas.pydata.org/pandas-docs/stable/user_guide/indexing.html#returning-a-view-versus-a-copy\n",
      "  \n"
     ]
    }
   ],
   "source": [
    "data_center['center_saint'] = data_center['cityCenters_nearest']/1000\n",
    "data_center['center_saint'] = data_center['center_saint'].round()"
   ]
  },
  {
   "cell_type": "markdown",
   "metadata": {},
   "source": [
    "Посчитаем среднюю цену для каждого километра и построим график: он должен показывать, как цена зависит от удалённости от центра. \n",
    "Определим границу, где график сильно меняется — это и будет центральная зона."
   ]
  },
  {
   "cell_type": "code",
   "execution_count": 62,
   "metadata": {
    "scrolled": true
   },
   "outputs": [],
   "source": [
    "data_center_new = data_center.pivot_table(index='center_saint', values='last_price', aggfunc='mean')"
   ]
  },
  {
   "cell_type": "code",
   "execution_count": 63,
   "metadata": {},
   "outputs": [
    {
     "data": {
      "text/plain": [
       "<matplotlib.axes._subplots.AxesSubplot at 0x7ffa5c721110>"
      ]
     },
     "execution_count": 63,
     "metadata": {},
     "output_type": "execute_result"
    },
    {
     "data": {
      "image/png": "[encoded data removed]",
      "text/plain": [
       "<Figure size 432x288 with 1 Axes>"
      ]
     },
     "metadata": {
      "needs_background": "light"
     },
     "output_type": "display_data"
    }
   ],
   "source": [
    "data_center_new.plot.bar()"
   ]
  },
  {
   "cell_type": "markdown",
   "metadata": {},
   "source": [
    "Мы видим, что после границы в 8 км. средняя цена сильно падает. Выделим этот диапазон (1-8км), как относящийся к центру города."
   ]
  },
  {
   "cell_type": "markdown",
   "metadata": {},
   "source": [
    "ВЫДЕЛИМ СЕГМЕНТ КВАРТИР В ЦЕНТРЕ"
   ]
  },
  {
   "cell_type": "code",
   "execution_count": 64,
   "metadata": {},
   "outputs": [],
   "source": [
    "data_center_analyse = data_center.query('center_saint < 9')"
   ]
  },
  {
   "cell_type": "markdown",
   "metadata": {},
   "source": [
    "Проанализируем эту территорию и изучим следующие параметры: площадь, цена, число комнат, высота потолков."
   ]
  },
  {
   "cell_type": "code",
   "execution_count": 65,
   "metadata": {},
   "outputs": [
    {
     "data": {
      "text/plain": [
       "<matplotlib.axes._subplots.AxesSubplot at 0x7ffa5c5e6f10>"
      ]
     },
     "execution_count": 65,
     "metadata": {},
     "output_type": "execute_result"
    },
    {
     "data": {
      "image/png": "[encoded data removed]",
      "text/plain": [
       "<Figure size 432x288 with 1 Axes>"
      ]
     },
     "metadata": {
      "needs_background": "light"
     },
     "output_type": "display_data"
    }
   ],
   "source": [
    "data_center_analyse['total_area'].hist()"
   ]
  },
  {
   "cell_type": "markdown",
   "metadata": {},
   "source": [
    "В случае с аналитикой по всему городу мы видели, что пиковые значения в площади находятся в диапазоне 30-50кв.м. В центре этот дипапазон шире в большую сторону: 35-70 кв.м."
   ]
  },
  {
   "cell_type": "code",
   "execution_count": 66,
   "metadata": {},
   "outputs": [
    {
     "data": {
      "text/plain": [
       "<matplotlib.axes._subplots.AxesSubplot at 0x7ffa5c556910>"
      ]
     },
     "execution_count": 66,
     "metadata": {},
     "output_type": "execute_result"
    },
    {
     "data": {
      "image/png": "[encoded data removed]",
      "text/plain": [
       "<Figure size 432x288 with 1 Axes>"
      ]
     },
     "metadata": {
      "needs_background": "light"
     },
     "output_type": "display_data"
    }
   ],
   "source": [
    "data_center_analyse['last_price'].hist()"
   ]
  },
  {
   "cell_type": "markdown",
   "metadata": {},
   "source": [
    "Если в общей статистике мы выделяли большую долю недвижимости в ценовом диапазон 2-5млн, то в центре этот диапазон составляет 5-10 млн.руб. Чем к ближе к центру, тем больше средняя площадь и выше цена."
   ]
  },
  {
   "cell_type": "code",
   "execution_count": 67,
   "metadata": {},
   "outputs": [
    {
     "data": {
      "text/plain": [
       "<matplotlib.axes._subplots.AxesSubplot at 0x7ffa5cf30c10>"
      ]
     },
     "execution_count": 67,
     "metadata": {},
     "output_type": "execute_result"
    },
    {
     "data": {
      "image/png": "[encoded data removed]",
      "text/plain": [
       "<Figure size 432x288 with 1 Axes>"
      ]
     },
     "metadata": {
      "needs_background": "light"
     },
     "output_type": "display_data"
    }
   ],
   "source": [
    "data_center_analyse['rooms'].hist(bins=4)"
   ]
  },
  {
   "cell_type": "markdown",
   "metadata": {},
   "source": [
    "Аналогичный рост сопровождает количество комнат. В общей статистике лидировали 1 и 2 комн.квартиры, тогда как в центре мы видим, что больше всего объявлений тут с 2 и 3 кмн. квартирами. "
   ]
  },
  {
   "cell_type": "code",
   "execution_count": 68,
   "metadata": {},
   "outputs": [
    {
     "data": {
      "text/plain": [
       "<matplotlib.axes._subplots.AxesSubplot at 0x7ffa5c844c50>"
      ]
     },
     "execution_count": 68,
     "metadata": {},
     "output_type": "execute_result"
    },
    {
     "data": {
      "image/png": "[encoded data removed]",
      "text/plain": [
       "<Figure size 432x288 with 1 Axes>"
      ]
     },
     "metadata": {
      "needs_background": "light"
     },
     "output_type": "display_data"
    }
   ],
   "source": [
    "data_center_analyse['ceiling_height'].hist()"
   ]
  },
  {
   "cell_type": "markdown",
   "metadata": {},
   "source": [
    "Цифры по высоте потолков практически не изменились. Стандарты везде одинаковые и нетипичные показатели (2.8/2.9м) тоже встречаются практически с одинаковой частотой. "
   ]
  },
  {
   "cell_type": "markdown",
   "metadata": {},
   "source": [
    "Также выделим факторы, которые влияют на стоимость квартиры (число комнат, этаж, удалённость от центра, дата размещения объявления). Сделаем выводы. Найдем отличия от общих показателей по городу."
   ]
  },
  {
   "cell_type": "code",
   "execution_count": 69,
   "metadata": {},
   "outputs": [
    {
     "data": {
      "text/plain": [
       "<matplotlib.axes._subplots.AxesSubplot at 0x7ffa5c975890>"
      ]
     },
     "execution_count": 69,
     "metadata": {},
     "output_type": "execute_result"
    },
    {
     "data": {
      "image/png": "[encoded data removed]",
      "text/plain": [
       "<Figure size 360x360 with 1 Axes>"
      ]
     },
     "metadata": {
      "needs_background": "light"
     },
     "output_type": "display_data"
    }
   ],
   "source": [
    "data_center_analyse.plot(x='last_price', y='rooms', kind='scatter', alpha=0.7, figsize=(5,5))"
   ]
  },
  {
   "cell_type": "markdown",
   "metadata": {},
   "source": [
    "Вывод: комнатность имеет слабовыраженную связь с ценой. При цене более 12 млн.руб. реже встречаются однокомнатные квартиры. Основную массу в более дорогой недвижимости составляют 3-комн. квартиры. \n",
    "Отличие от общих показателей: мы видим, что в центре присутствует бóльшая концентрация 2-х, 3-х и 4-х комнатных квартир. Это логично: основная масса студий и 1-кмн квартир сосредоточена в спальных районах города: Кудрово, Мурино и т.п. "
   ]
  },
  {
   "cell_type": "code",
   "execution_count": 70,
   "metadata": {},
   "outputs": [
    {
     "data": {
      "text/plain": [
       "<matplotlib.axes._subplots.AxesSubplot at 0x7ffa5c4f3290>"
      ]
     },
     "execution_count": 70,
     "metadata": {},
     "output_type": "execute_result"
    },
    {
     "data": {
      "image/png": "[encoded data removed]",
      "text/plain": [
       "<Figure size 360x360 with 1 Axes>"
      ]
     },
     "metadata": {
      "needs_background": "light"
     },
     "output_type": "display_data"
    }
   ],
   "source": [
    "data_center_analyse.plot(x='last_price', y='floor', kind='scatter', alpha=0.7, figsize=(5,5))"
   ]
  },
  {
   "cell_type": "markdown",
   "metadata": {},
   "source": [
    "Аналогично, как и в случае с остальными данными по городу, в центре наиболее часто встречающийся этаж квартиры - до 10 этажа. "
   ]
  },
  {
   "cell_type": "code",
   "execution_count": 71,
   "metadata": {},
   "outputs": [
    {
     "data": {
      "text/plain": [
       "<matplotlib.axes._subplots.AxesSubplot at 0x7ffa5c44bc10>"
      ]
     },
     "execution_count": 71,
     "metadata": {},
     "output_type": "execute_result"
    },
    {
     "data": {
      "image/png": "[encoded data removed]",
      "text/plain": [
       "<Figure size 360x360 with 1 Axes>"
      ]
     },
     "metadata": {
      "needs_background": "light"
     },
     "output_type": "display_data"
    }
   ],
   "source": [
    "data_center_analyse.plot(x='last_price', y='cityCenters_nearest', kind='scatter', alpha=1, figsize=(5,5))"
   ]
  },
  {
   "cell_type": "markdown",
   "metadata": {},
   "source": [
    "Незначительная зависимость в границах центра наблюдается у цены и удаленности от центра. Можно заметить, что недвижимость, расположенная в радиусе до 4км от центра чаще всего стóит не менее 5 млн.руб. Примерно в равной степени распределена удаленность дорогой недвижимости (более 10 млн.руб), но все таки более сконцентрирована в радиусе от 3 до 6 км от центра. "
   ]
  },
  {
   "cell_type": "code",
   "execution_count": 72,
   "metadata": {},
   "outputs": [
    {
     "data": {
      "text/plain": [
       "<matplotlib.axes._subplots.AxesSubplot at 0x7ffa5c3c9210>"
      ]
     },
     "execution_count": 72,
     "metadata": {},
     "output_type": "execute_result"
    },
    {
     "data": {
      "image/png": "[encoded data removed]",
      "text/plain": [
       "<Figure size 360x360 with 1 Axes>"
      ]
     },
     "metadata": {
      "needs_background": "light"
     },
     "output_type": "display_data"
    }
   ],
   "source": [
    "data_center_analyse.plot(x='last_price', y='weekday', kind='scatter', alpha=1, figsize=(5,5))"
   ]
  },
  {
   "cell_type": "markdown",
   "metadata": {},
   "source": [
    "Аналогичная с выводами по всей недвижимости зависимость цены от дня размещения объявления. Размещенная в выходные, понедельник и вторник недвижимость стоит дешевле, чем размещенная на сайте в середине недели (ср/чт/пт). "
   ]
  },
  {
   "cell_type": "code",
   "execution_count": 73,
   "metadata": {},
   "outputs": [
    {
     "data": {
      "text/plain": [
       "<matplotlib.axes._subplots.AxesSubplot at 0x7ffa5c3b9e50>"
      ]
     },
     "execution_count": 73,
     "metadata": {},
     "output_type": "execute_result"
    },
    {
     "data": {
      "image/png": "[encoded data removed]",
      "text/plain": [
       "<Figure size 360x360 with 1 Axes>"
      ]
     },
     "metadata": {
      "needs_background": "light"
     },
     "output_type": "display_data"
    }
   ],
   "source": [
    "data_center_analyse.plot(x='last_price', y='year', kind='scatter', alpha=1, figsize=(5,5))"
   ]
  },
  {
   "cell_type": "markdown",
   "metadata": {},
   "source": [
    "Похожая история и с годом размещения объявления. Начиная с 14 года росло общее количество объявлений, а вместе с ним  и объявления о более дорогой недвижимости: пик таких объявлений приходится на 2017/2018 год. "
   ]
  },
  {
   "cell_type": "code",
   "execution_count": 74,
   "metadata": {},
   "outputs": [
    {
     "data": {
      "text/plain": [
       "<matplotlib.axes._subplots.AxesSubplot at 0x7ffa5c31f910>"
      ]
     },
     "execution_count": 74,
     "metadata": {},
     "output_type": "execute_result"
    },
    {
     "data": {
      "image/png": "[encoded data removed]",
      "text/plain": [
       "<Figure size 360x360 with 1 Axes>"
      ]
     },
     "metadata": {
      "needs_background": "light"
     },
     "output_type": "display_data"
    }
   ],
   "source": [
    "data_center_analyse.plot(x='last_price', y='month', kind='scatter', alpha=1, figsize=(5,5))"
   ]
  },
  {
   "cell_type": "markdown",
   "metadata": {},
   "source": [
    "Посмотрим ближе: оставим только объявления о продаже недвижимости более 10 млн.руб. "
   ]
  },
  {
   "cell_type": "code",
   "execution_count": 75,
   "metadata": {},
   "outputs": [
    {
     "data": {
      "text/plain": [
       "<matplotlib.axes._subplots.AxesSubplot at 0x7ffa5c306bd0>"
      ]
     },
     "execution_count": 75,
     "metadata": {},
     "output_type": "execute_result"
    },
    {
     "data": {
      "image/png": "[encoded data removed]",
      "text/plain": [
       "<Figure size 360x360 with 1 Axes>"
      ]
     },
     "metadata": {
      "needs_background": "light"
     },
     "output_type": "display_data"
    }
   ],
   "source": [
    "data_center_analyse.query('last_price > 10000000').plot(x='last_price', y='month', kind='scatter', alpha=1, figsize=(5,5))"
   ]
  },
  {
   "cell_type": "markdown",
   "metadata": {},
   "source": [
    "Так же, как и в случае с общей аналитикой, в центре наиболее активно продажа дорогой недвижимости начинается в весенние/осенние месяцы. "
   ]
  },
  {
   "cell_type": "markdown",
   "metadata": {},
   "source": [
    "### Шаг 5. Общий вывод"
   ]
  },
  {
   "cell_type": "markdown",
   "metadata": {},
   "source": [
    "По итогам проведенного исследования мы можем выделить несколько наиболее очевидных тенденций и зависимостей: \n",
    "\n",
    "- ПЛОЩАДЬ: цена за недвижимость зависит от площади квартиры (с площадью, чаще всего, повышается и комнатность квартиры)\n",
    "- КОЛИЧЕСТВО КОМНАТ: в общей статистике наиболее выделяется сегмент предложения 1 и 2-х комнатных квартир, но чем ближе мы к центру, тем больше комнат становится: 2-х и 3-х комнатные квартиры лидируют по количеству объявлений в центре Санкт-Петербурга\n",
    "- ВЫСОТА ПОТОЛКОВ: как либо категоризировать эти данные или найти у высоты потолков высокую корелляцию с каким-либо показателем не представляется возможным, так как эта характеристика имеет общепринятые стандарты в строительстве: потолки не могут быть ниже 2.5 метров, где бы не находилась ваша квартира (больше можно, меньше нельзя)\n",
    "- ДАТА: зависимость цены от года/месяца/дня недели. ГОД: мы видим всплеск объявлений недвижимости в 2017/2018 году, а в частности более дорогой недвижимости. Думаю, что это не в последнюю очередь связано с финансовым кризисом 18-ого года, когда сильно вырос курс доллара и евро - люди начали продавать недвижимости больше, чем покупать. МЕСЯЦ: Наиболее очевидны всплески предложения в весенние и осенние месяцы. Думаю, что это связано с тем, что в зимние и летние месяцы люди чаще находятся в отпусках/заняты личными делами. Возможно, также, что низкое количество объявлений о продаже дорогой недвижимости также неслучайно кореллирует с сезоном зима/лето: летние месяцы и периоды новогодних каникул распологают! :) ДЕНЬ: мы видим, что в выходные дни и следующие за ними пн и вт люди склонны выкладывать меньше объявлений о продаже недвижимости и ставить более низкую цену в эти дни. Количество объявлений можно объяснить тем, что в выходные люди заняты другими делами, а те кто выкладывают в эти дни объявления - склонны поставить более низкую цену из-за эмоционального фона, который можеть быть более положительным, когда ты выходной :)\n",
    "- ЭТАЖ: основная масса квартир сконцентрирована до 5-ого этажа. Все, что выше - стоит уже немного дороже и попадается реже. Четкой зависимости нет. \n",
    "- БЛИЗОСТЬ К ЦЕНТРУ: чем ближе мы подбираемся к центру, тем: больше площадь квартир, больше комнат, выше стоимость недвижимости. Это вполне объяснимая закономерность, ведь близость к центру всегда сильно влияет на стоимость недвижимости. Что касается комнат и площади, то можно отметить, что в спальных районах города (типа Мурино, Кудрово) строится больше бюджетного жилья - это буквально целые кварталы из студий и \"однушек\" (если вы из Питера,то у вас наверняка есть минимум пара друзей, которые купили там однушку или студию в ипотеку - уже сильная статистика!). В центре сосредоточен в основном старый фонд, где большая площадь квартир исторически обусловлена, также, как и количество комнат и высота потолков. "
   ]
  }
 ],
 "metadata": {
  "ExecuteTimeLog": [
   {
    "duration": 877,
    "start_time": "2021-07-15T09:40:48.106Z"
   },
   {
    "duration": 934,
    "start_time": "2021-07-15T09:40:49.383Z"
   },
   {
    "duration": 256,
    "start_time": "2021-07-15T09:40:54.735Z"
   },
   {
    "duration": 39,
    "start_time": "2021-07-15T09:41:01.583Z"
   },
   {
    "duration": 970,
    "start_time": "2021-07-15T09:41:07.146Z"
   },
   {
    "duration": 798,
    "start_time": "2021-07-15T09:41:08.119Z"
   },
   {
    "duration": 272,
    "start_time": "2021-07-15T09:41:08.921Z"
   },
   {
    "duration": 32,
    "start_time": "2021-07-15T09:41:09.195Z"
   },
   {
    "duration": 38,
    "start_time": "2021-07-15T09:41:09.230Z"
   },
   {
    "duration": 6,
    "start_time": "2021-07-15T09:41:09.271Z"
   },
   {
    "duration": 11,
    "start_time": "2021-07-15T09:41:09.279Z"
   },
   {
    "duration": 8,
    "start_time": "2021-07-15T09:41:09.294Z"
   },
   {
    "duration": 10,
    "start_time": "2021-07-15T09:41:09.305Z"
   },
   {
    "duration": 55,
    "start_time": "2021-07-15T09:41:09.317Z"
   },
   {
    "duration": 13,
    "start_time": "2021-07-15T09:41:09.375Z"
   },
   {
    "duration": 17,
    "start_time": "2021-07-15T09:41:09.390Z"
   },
   {
    "duration": 12,
    "start_time": "2021-07-15T09:41:09.409Z"
   },
   {
    "duration": 45,
    "start_time": "2021-07-15T09:41:09.424Z"
   },
   {
    "duration": 34,
    "start_time": "2021-07-15T09:41:09.471Z"
   },
   {
    "duration": 9,
    "start_time": "2021-07-15T09:41:09.508Z"
   },
   {
    "duration": 5,
    "start_time": "2021-07-15T09:41:09.520Z"
   },
   {
    "duration": 66,
    "start_time": "2021-07-15T09:41:09.527Z"
   },
   {
    "duration": 8,
    "start_time": "2021-07-15T09:41:09.596Z"
   },
   {
    "duration": 15,
    "start_time": "2021-07-15T09:41:09.607Z"
   },
   {
    "duration": 63,
    "start_time": "2021-07-15T09:41:09.625Z"
   },
   {
    "duration": 10,
    "start_time": "2021-07-15T09:41:09.691Z"
   },
   {
    "duration": 21,
    "start_time": "2021-07-15T09:41:09.707Z"
   },
   {
    "duration": 46,
    "start_time": "2021-07-15T09:41:09.732Z"
   },
   {
    "duration": 5,
    "start_time": "2021-07-15T09:41:09.781Z"
   },
   {
    "duration": 37,
    "start_time": "2021-07-15T09:41:09.788Z"
   },
   {
    "duration": 800,
    "start_time": "2021-07-15T09:41:09.828Z"
   },
   {
    "duration": 5,
    "start_time": "2021-07-15T09:41:10.631Z"
   },
   {
    "duration": 7,
    "start_time": "2021-07-15T09:41:10.639Z"
   },
   {
    "duration": 452,
    "start_time": "2021-07-15T09:41:10.648Z"
   },
   {
    "duration": 345,
    "start_time": "2021-07-15T09:41:11.102Z"
   },
   {
    "duration": 293,
    "start_time": "2021-07-15T09:41:11.449Z"
   },
   {
    "duration": 25,
    "start_time": "2021-07-15T09:41:11.745Z"
   },
   {
    "duration": 339,
    "start_time": "2021-07-15T09:41:11.772Z"
   },
   {
    "duration": 333,
    "start_time": "2021-07-15T09:41:12.113Z"
   },
   {
    "duration": 268,
    "start_time": "2021-07-15T09:41:12.448Z"
   },
   {
    "duration": 12,
    "start_time": "2021-07-15T09:41:12.718Z"
   },
   {
    "duration": 6,
    "start_time": "2021-07-15T09:41:12.732Z"
   },
   {
    "duration": 425,
    "start_time": "2021-07-15T09:41:12.768Z"
   },
   {
    "duration": 413,
    "start_time": "2021-07-15T09:41:13.196Z"
   },
   {
    "duration": 15,
    "start_time": "2021-07-15T09:41:13.611Z"
   },
   {
    "duration": 327,
    "start_time": "2021-07-15T09:41:13.629Z"
   },
   {
    "duration": 20,
    "start_time": "2021-07-15T09:41:13.959Z"
   },
   {
    "duration": 338,
    "start_time": "2021-07-15T09:41:13.981Z"
   },
   {
    "duration": 333,
    "start_time": "2021-07-15T09:41:14.321Z"
   },
   {
    "duration": 390,
    "start_time": "2021-07-15T09:41:14.656Z"
   },
   {
    "duration": 2825,
    "start_time": "2021-07-15T09:41:15.048Z"
   },
   {
    "duration": 22,
    "start_time": "2021-07-15T09:41:17.875Z"
   },
   {
    "duration": 933,
    "start_time": "2021-07-15T09:41:17.899Z"
   },
   {
    "duration": 847,
    "start_time": "2021-07-15T09:41:18.836Z"
   },
   {
    "duration": 11,
    "start_time": "2021-07-15T09:41:19.686Z"
   },
   {
    "duration": 457,
    "start_time": "2021-07-15T09:41:19.699Z"
   },
   {
    "duration": 773,
    "start_time": "2021-07-15T09:41:20.166Z"
   },
   {
    "duration": 47,
    "start_time": "2021-07-15T09:41:20.943Z"
   },
   {
    "duration": 19,
    "start_time": "2021-07-15T09:41:20.994Z"
   },
   {
    "duration": 59,
    "start_time": "2021-07-15T09:41:21.016Z"
   },
   {
    "duration": 10,
    "start_time": "2021-07-15T09:41:21.078Z"
   },
   {
    "duration": 21,
    "start_time": "2021-07-15T09:41:21.091Z"
   },
   {
    "duration": 27,
    "start_time": "2021-07-15T09:41:21.115Z"
   },
   {
    "duration": 28,
    "start_time": "2021-07-15T09:41:21.145Z"
   },
   {
    "duration": 10,
    "start_time": "2021-07-15T09:41:21.175Z"
   },
   {
    "duration": 22,
    "start_time": "2021-07-15T09:41:21.187Z"
   },
   {
    "duration": 490,
    "start_time": "2021-07-15T09:41:21.211Z"
   },
   {
    "duration": 9,
    "start_time": "2021-07-15T09:41:21.703Z"
   },
   {
    "duration": 323,
    "start_time": "2021-07-15T09:41:21.715Z"
   },
   {
    "duration": 392,
    "start_time": "2021-07-15T09:41:22.041Z"
   },
   {
    "duration": 412,
    "start_time": "2021-07-15T09:41:22.435Z"
   },
   {
    "duration": 422,
    "start_time": "2021-07-15T09:41:22.854Z"
   },
   {
    "duration": 428,
    "start_time": "2021-07-15T09:41:23.279Z"
   },
   {
    "duration": 464,
    "start_time": "2021-07-15T09:41:23.710Z"
   },
   {
    "duration": 657,
    "start_time": "2021-07-15T09:41:24.177Z"
   },
   {
    "duration": 641,
    "start_time": "2021-07-15T09:41:24.837Z"
   },
   {
    "duration": 643,
    "start_time": "2021-07-15T09:41:25.482Z"
   },
   {
    "duration": 453,
    "start_time": "2021-07-15T09:41:26.128Z"
   },
   {
    "duration": 386,
    "start_time": "2021-07-15T09:41:26.584Z"
   }
  ],
  "kernelspec": {
   "display_name": "Python 3",
   "language": "python",
   "name": "python3"
  },
  "language_info": {
   "codemirror_mode": {
    "name": "ipython",
    "version": 3
   },
   "file_extension": ".py",
   "mimetype": "text/x-python",
   "name": "python",
   "nbconvert_exporter": "python",
   "pygments_lexer": "ipython3",
   "version": "3.7.8"
  },
  "toc": {
   "base_numbering": 1,
   "nav_menu": {},
   "number_sections": true,
   "sideBar": true,
   "skip_h1_title": true,
   "title_cell": "Table of Contents",
   "title_sidebar": "Contents",
   "toc_cell": false,
   "toc_position": {
    "height": "calc(100% - 180px)",
    "left": "10px",
    "top": "150px",
    "width": "383.184px"
   },
   "toc_section_display": true,
   "toc_window_display": false
  }
 },
 "nbformat": 4,
 "nbformat_minor": 2
}
